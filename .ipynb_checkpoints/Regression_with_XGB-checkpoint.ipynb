{
 "cells": [
  {
   "cell_type": "code",
   "execution_count": 1,
   "metadata": {},
   "outputs": [
    {
     "name": "stderr",
     "output_type": "stream",
     "text": [
      "/Users/leobix/anaconda3/lib/python3.6/site-packages/h5py/__init__.py:34: FutureWarning: Conversion of the second argument of issubdtype from `float` to `np.floating` is deprecated. In future, it will be treated as `np.float64 == np.dtype(float).type`.\n",
      "  from ._conv import register_converters as _register_converters\n",
      "/Users/leobix/anaconda3/lib/python3.6/site-packages/tensorboard/compat/tensorflow_stub/dtypes.py:541: FutureWarning: Passing (type, 1) or '1type' as a synonym of type is deprecated; in a future version of numpy, it will be understood as (type, (1,)) / '(1,)type'.\n",
      "  _np_qint8 = np.dtype([(\"qint8\", np.int8, 1)])\n",
      "/Users/leobix/anaconda3/lib/python3.6/site-packages/tensorboard/compat/tensorflow_stub/dtypes.py:542: FutureWarning: Passing (type, 1) or '1type' as a synonym of type is deprecated; in a future version of numpy, it will be understood as (type, (1,)) / '(1,)type'.\n",
      "  _np_quint8 = np.dtype([(\"quint8\", np.uint8, 1)])\n",
      "/Users/leobix/anaconda3/lib/python3.6/site-packages/tensorboard/compat/tensorflow_stub/dtypes.py:543: FutureWarning: Passing (type, 1) or '1type' as a synonym of type is deprecated; in a future version of numpy, it will be understood as (type, (1,)) / '(1,)type'.\n",
      "  _np_qint16 = np.dtype([(\"qint16\", np.int16, 1)])\n",
      "/Users/leobix/anaconda3/lib/python3.6/site-packages/tensorboard/compat/tensorflow_stub/dtypes.py:544: FutureWarning: Passing (type, 1) or '1type' as a synonym of type is deprecated; in a future version of numpy, it will be understood as (type, (1,)) / '(1,)type'.\n",
      "  _np_quint16 = np.dtype([(\"quint16\", np.uint16, 1)])\n",
      "/Users/leobix/anaconda3/lib/python3.6/site-packages/tensorboard/compat/tensorflow_stub/dtypes.py:545: FutureWarning: Passing (type, 1) or '1type' as a synonym of type is deprecated; in a future version of numpy, it will be understood as (type, (1,)) / '(1,)type'.\n",
      "  _np_qint32 = np.dtype([(\"qint32\", np.int32, 1)])\n",
      "/Users/leobix/anaconda3/lib/python3.6/site-packages/tensorboard/compat/tensorflow_stub/dtypes.py:550: FutureWarning: Passing (type, 1) or '1type' as a synonym of type is deprecated; in a future version of numpy, it will be understood as (type, (1,)) / '(1,)type'.\n",
      "  np_resource = np.dtype([(\"resource\", np.ubyte, 1)])\n"
     ]
    }
   ],
   "source": [
    "import pandas as pd\n",
    "import numpy as np\n",
    "from pandas import read_csv\n",
    "from pandas import DataFrame\n",
    "from pandas import concat\n",
    "from datetime import date, datetime, timedelta\n",
    "from sklearn.metrics import mean_squared_error\n",
    "from sklearn.metrics import mean_absolute_error\n",
    "from xgboost import XGBRegressor\n",
    "from utils import *\n",
    "from data_preperation import * \n",
    "from utils import *"
   ]
  },
  {
   "cell_type": "code",
   "execution_count": 2,
   "metadata": {},
   "outputs": [
    {
     "name": "stdout",
     "output_type": "stream",
     "text": [
      "read csv semester csv files from 2015s2 to 2019s2\n",
      "smooth wind direction\n",
      "smooth hour\n",
      "smooth day\n",
      "generate daily features: ['daily_min_speed', 'daily_min_hour', 'daily_max_speed', 'daily_max_hour']\n",
      "generate seasonality categorical feature\n",
      "generate day/night categorical feature\n"
     ]
    }
   ],
   "source": [
    "#STEP 1: Read and Process Masurement Data\n",
    "# Read 1 file per semester\n",
    "def get_data():\n",
    "    df0 = pd.read_csv(\"2015_S2.csv\", sep = \";\")\n",
    "    df1 = pd.read_csv(\"2016_S1.csv\", sep = \";\")\n",
    "    df2 = pd.read_csv(\"2016_S2.csv\", sep = \";\")\n",
    "    df3 = pd.read_csv(\"2017_S1.csv\", sep = \";\")\n",
    "    df4 = pd.read_csv(\"2017_S2.csv\", sep = \";\")\n",
    "    df5 = pd.read_csv(\"2018_S1.csv\", sep = \";\")\n",
    "    df6 = pd.read_csv(\"2018_S2.csv\", sep = \";\")\n",
    "    df7 = pd.read_csv(\"2019_S1.csv\", sep = \";\")\n",
    "    df8 = pd.read_csv(\"2019_S2.csv\", sep = \";\")\n",
    "\n",
    "    data0 = pd.concat([df0, df1, df2, df3, df4, df5, df6, df7, df8], ignore_index=True)\n",
    "    print('read csv semester csv files from 2015s2 to 2019s2')\n",
    "    return data0\n",
    "\n",
    "\n",
    "# Functions\n",
    "# Convert scenario to one_hot\n",
    "def scenario_one_hot(data, one_hot=False):\n",
    "    # extract numeric data from scenario 'S1' to '1'\n",
    "    data['scenario_num'] = (data['scenario'].str.extract('(\\d+)')).astype(int)\n",
    "    data.drop(['scenario'], axis=1, inplace=True)\n",
    "\n",
    "    # add one-hot encoding to scenario:\n",
    "    if one_hot:\n",
    "        scenario = pd.get_dummies(data['scenario_num'], prefix='scenario', dummy_na=True)\n",
    "        data1 = pd.concat([data, scenario], axis=1)\n",
    "        return data1\n",
    "    return data\n",
    "\n",
    "\n",
    "# Make cyclical data into continuous data using cos & sin\n",
    "def smooth_wind_dir(data):\n",
    "    data['cos_wind_dir'] = np.cos(2 * np.pi * data['wind_dir'] / 360)\n",
    "    data['sin_wind_dir'] = np.sin(2 * np.pi * data['wind_dir'] / 360)\n",
    "    print('smooth wind direction')\n",
    "    return data\n",
    "\n",
    "\n",
    "def smooth_hour(data):\n",
    "    # split '00h00' to two columns of numeric values\n",
    "    hour = data['hour'].str.split(pat='h', expand=True)\n",
    "    hour = hour.apply(pd.to_numeric, errors='coerce')\n",
    "\n",
    "    # calculate minutes passed since 00h00\n",
    "    hour['minutes'] = 60 * hour[0] + hour[1]\n",
    "    hour['cos_hour'] = np.cos(2 * np.pi * hour['minutes'] / (60 * 24))\n",
    "    hour['sin_hour'] = np.sin(2 * np.pi * hour['minutes'] / (60 * 24))\n",
    "\n",
    "    # concat and update dataframe\n",
    "    data = pd.concat([data, hour[['cos_hour', 'sin_hour']]], axis=1)\n",
    "    print('smooth hour')\n",
    "    return data\n",
    "\n",
    "\n",
    "# Smooth date\n",
    "def smooth_day(data):\n",
    "    # Convert day & hour to date-time format\n",
    "    data['datetime'] = data['day'].str.cat(data['hour'], sep=' ')\n",
    "    data['datetime'] = pd.to_datetime(data['datetime'], format='%d/%m/%Y %Hh%M')\n",
    "    data['day'] = pd.to_datetime(data['day'], format='%d/%m/%Y')\n",
    "    data['hour'] = data['hour'].str.extract('(\\d+)')\n",
    "    data['hour'] = pd.to_numeric(data['hour'])\n",
    "\n",
    "    # Calculate time delta since 1st entry\n",
    "    data['day_delta'] = pd.to_numeric(data['day'] - data['day'][0])\n",
    "    data['cos_day'] = np.cos(2 * np.pi * data['day_delta'] / (365))\n",
    "    data['sin_day'] = np.sin(2 * np.pi * data['day_delta'] / (365))\n",
    "    data.drop(['day_delta', 'day'], axis=1, inplace=True)\n",
    "\n",
    "    print('smooth day')\n",
    "    return data\n",
    "\n",
    "\n",
    "# Generate new features:\n",
    "# Generate daily features: daily min, max\n",
    "def generate_daily(df):\n",
    "    # group data into daily batches\n",
    "    grouped = df.resample('D')\n",
    "    min_speed = []\n",
    "    max_speed = []\n",
    "    min_hour = []\n",
    "    max_hour = []\n",
    "\n",
    "    for datetime, group in grouped:\n",
    "        # find daily min & max\n",
    "        s1 = group['speed'].min()\n",
    "        s2 = group['speed'].max()\n",
    "        # find the time of min & max speed\n",
    "        h1 = group.loc[group['speed'] == s1]['hour'].values[0]\n",
    "        h2 = group.loc[group['speed'] == s2]['hour'].values[0]\n",
    "\n",
    "        min_speed.append(s1)\n",
    "        max_speed.append(s2)\n",
    "        min_hour.append(h1)\n",
    "        max_hour.append(h2)\n",
    "\n",
    "    # output new features as a dataframe\n",
    "    start = df.index[0].date()\n",
    "    end = df.index[-1].date()\n",
    "    date_range = pd.date_range(start, end, freq='D')\n",
    "    daily = pd.concat([pd.Series(min_speed), pd.Series(min_hour), pd.Series(max_speed), pd.Series(max_hour)], axis=1,\n",
    "                      keys=['daily_min_speed', 'daily_min_hour', 'daily_max_speed', 'daily_max_hour'])\n",
    "    daily.set_index(date_range, inplace=True)\n",
    "\n",
    "    # #merge new features into dataframe: match with date\n",
    "    df_out = pd.merge(df, daily, how='outer', left_index=True, right_index=True)\n",
    "    # fill NaN values with same daily values\n",
    "    df_out = df_out.fillna(method='ffill')\n",
    "\n",
    "    print('generate daily features: %s' % (daily.columns.to_list()))\n",
    "    return df_out\n",
    "\n",
    "\n",
    "# Categorical features\n",
    "def generate_season(df):\n",
    "    df['season'] = 0\n",
    "    df['month'] = df.index.month\n",
    "    df.loc[df['month'].isin([12, 1, 2]), 'season'] = 1\n",
    "    df.loc[df['month'].isin([3, 4, 5]), 'season'] = 2\n",
    "    df.loc[df['month'].isin([6, 7, 8]), 'season'] = 3\n",
    "    df.loc[df['month'].isin([9, 10, 11]), 'season'] = 4\n",
    "    df.drop(['month'], axis=1, inplace=True)\n",
    "    print('generate seasonality categorical feature')\n",
    "    return df\n",
    "\n",
    "\n",
    "def generate_day_night(df):\n",
    "    df['day'] = 0\n",
    "    df['night'] = 0\n",
    "    df.loc[df['hour'].isin([8, 9, 10, 11, 12, 13, 14, 15, 16, 17, 18]), 'day'] = 1\n",
    "    df.loc[df['hour'].isin([0, 1, 2, 3, 4, 5, 6, 7, 19, 20, 21, 22, 23]), 'night'] = 1\n",
    "    print('generate day/night categorical feature')\n",
    "    return df\n",
    "\n",
    "\n",
    "# Function to prepare data using above functions\n",
    "def prepare_data(one_hot=False):\n",
    "    # Interpolate missing values\n",
    "    data0 = get_data()\n",
    "    data = data0.interpolate()\n",
    "    data = data.fillna(method='ffill')\n",
    "\n",
    "    # scenario to one-hot encoding\n",
    "    data = scenario_one_hot(data, one_hot)\n",
    "\n",
    "    # smooth wind_dir, hour, and day using cos & sin function\n",
    "    data = smooth_wind_dir(data)\n",
    "    data = smooth_hour(data)\n",
    "    data = smooth_day(data)\n",
    "    data.drop(['details'], axis=1, inplace=True)\n",
    "    data.index = data['datetime']\n",
    "    data = data.interpolate()\n",
    "\n",
    "    # averaging 15min data to hourly\n",
    "    data = data.resample('H').mean()\n",
    "    data = data.round({'scenario_num': 0})\n",
    "\n",
    "    # generate daily max & min wind speed features\n",
    "    data = generate_daily(data)\n",
    "\n",
    "    # generate seasonal, day/night categorical features\n",
    "    data = generate_season(data)\n",
    "    data = generate_day_night(data)\n",
    "\n",
    "    return data\n",
    "\n",
    "data = prepare_data()"
   ]
  },
  {
   "cell_type": "code",
   "execution_count": 3,
   "metadata": {
    "collapsed": true
   },
   "outputs": [],
   "source": [
    "#STEP 2: Merge with forecast \n",
    "#read csv: \n",
    "def get_forecast():\n",
    "    df= pd.read_csv('weather_forecast_data_for_cynthia.csv', sep = \";\")\n",
    "    print('reading forecast data')\n",
    "    return df \n",
    "\n",
    "#convert to datetime index\n",
    "def convert_datetime(df):\n",
    "    df['f_date'] = pd.to_datetime(df['date'], format='%d/%m/%Y %H:%M') #future_date\n",
    "    df['cycle']=df['cycle'].str.replace('h', ':00', regex=True)\n",
    "    df['p_date'] = pd.to_datetime(df['cycle'], format='%d/%m/%Y %H:%M') #present_date\n",
    "    df.drop(['date', 'cycle'], axis=1, inplace=True)\n",
    "    return df\n",
    "\n",
    "def keep_last_forecast (df0):\n",
    "    df= df0.copy()\n",
    "    df.sort_values(by=['f_date', 'p_date'], inplace=True)\n",
    "    df.drop_duplicates(subset = \"f_date\", keep = 'last', inplace=True)\n",
    "    print('keep last forecast, duplicates dropped = ', (df0.shape[0] - df.shape[0]))\n",
    "    return df \n",
    "\n",
    "#rename columns\n",
    "def rename_cols(df):\n",
    "    df = df.rename(columns={\"Wind direction\": \"wind_dir\", \"Wind speed (m/s)\": \"speed\"}) # additional features\"temperature (ｰC)\": \"temp\", \"rayonnement (W/m2)\": \"radiation\",\"precip (mm/h)\":\"precip\"\n",
    "    #keep just wind_dir and speed features\n",
    "    df = df[['wind_dir','speed','f_date']]\n",
    "    #index with future date\n",
    "    df.set_index('f_date', inplace=True) \n",
    "    return df\n",
    "\n",
    "\n",
    "#merge data with forecast data\n",
    "def prepare_data_with_forecast(data):\n",
    "    #get prepared measurement data\n",
    "    data_merge = data.copy()\n",
    "    forecast = get_forecast()\n",
    "    df= convert_datetime(forecast)\n",
    "    df = keep_last_forecast (df)\n",
    "    df= rename_cols(df)\n",
    "    df = smooth_wind_dir(df)\n",
    "    data_merge = data_merge.join(df, how='inner', rsuffix='_forecast')\n",
    "    \n",
    "    print('merge with forecast data')\n",
    "    return data_merge, data, forecast \n",
    "\n",
    "\n",
    "# data=prepare_data(one_hot=False)\n",
    "# data_merge, data, forecast  = prepare_data_with_forecast(data)"
   ]
  },
  {
   "cell_type": "code",
   "execution_count": 150,
   "metadata": {},
   "outputs": [
    {
     "data": {
      "text/html": [
       "<div>\n",
       "<style scoped>\n",
       "    .dataframe tbody tr th:only-of-type {\n",
       "        vertical-align: middle;\n",
       "    }\n",
       "\n",
       "    .dataframe tbody tr th {\n",
       "        vertical-align: top;\n",
       "    }\n",
       "\n",
       "    .dataframe thead th {\n",
       "        text-align: right;\n",
       "    }\n",
       "</style>\n",
       "<table border=\"1\" class=\"dataframe\">\n",
       "  <thead>\n",
       "    <tr style=\"text-align: right;\">\n",
       "      <th></th>\n",
       "      <th>wind_dir</th>\n",
       "    </tr>\n",
       "  </thead>\n",
       "  <tbody>\n",
       "    <tr>\n",
       "      <th>2015-07-01 00:00:00</th>\n",
       "      <td>193.75</td>\n",
       "    </tr>\n",
       "    <tr>\n",
       "      <th>2015-07-01 01:00:00</th>\n",
       "      <td>328.75</td>\n",
       "    </tr>\n",
       "    <tr>\n",
       "      <th>2015-07-01 02:00:00</th>\n",
       "      <td>162.00</td>\n",
       "    </tr>\n",
       "    <tr>\n",
       "      <th>2015-07-01 03:00:00</th>\n",
       "      <td>116.00</td>\n",
       "    </tr>\n",
       "    <tr>\n",
       "      <th>2015-07-01 04:00:00</th>\n",
       "      <td>61.75</td>\n",
       "    </tr>\n",
       "    <tr>\n",
       "      <th>...</th>\n",
       "      <td>...</td>\n",
       "    </tr>\n",
       "    <tr>\n",
       "      <th>2019-10-31 19:00:00</th>\n",
       "      <td>44.00</td>\n",
       "    </tr>\n",
       "    <tr>\n",
       "      <th>2019-10-31 20:00:00</th>\n",
       "      <td>59.25</td>\n",
       "    </tr>\n",
       "    <tr>\n",
       "      <th>2019-10-31 21:00:00</th>\n",
       "      <td>60.25</td>\n",
       "    </tr>\n",
       "    <tr>\n",
       "      <th>2019-10-31 22:00:00</th>\n",
       "      <td>58.00</td>\n",
       "    </tr>\n",
       "    <tr>\n",
       "      <th>2019-10-31 23:00:00</th>\n",
       "      <td>56.25</td>\n",
       "    </tr>\n",
       "  </tbody>\n",
       "</table>\n",
       "<p>37876 rows × 1 columns</p>\n",
       "</div>"
      ],
      "text/plain": [
       "                     wind_dir\n",
       "2015-07-01 00:00:00    193.75\n",
       "2015-07-01 01:00:00    328.75\n",
       "2015-07-01 02:00:00    162.00\n",
       "2015-07-01 03:00:00    116.00\n",
       "2015-07-01 04:00:00     61.75\n",
       "...                       ...\n",
       "2019-10-31 19:00:00     44.00\n",
       "2019-10-31 20:00:00     59.25\n",
       "2019-10-31 21:00:00     60.25\n",
       "2019-10-31 22:00:00     58.00\n",
       "2019-10-31 23:00:00     56.25\n",
       "\n",
       "[37876 rows x 1 columns]"
      ]
     },
     "execution_count": 150,
     "metadata": {},
     "output_type": "execute_result"
    }
   ],
   "source": [
    "data_merge[['wind_dir']]"
   ]
  },
  {
   "cell_type": "code",
   "execution_count": 190,
   "metadata": {},
   "outputs": [
    {
     "name": "stdout",
     "output_type": "stream",
     "text": [
      "read csv semester csv files from 2015s2 to 2019s2\n",
      "smooth wind direction\n",
      "smooth hour\n",
      "smooth day\n",
      "generate daily features: ['daily_min_speed', 'daily_min_hour', 'daily_max_speed', 'daily_max_hour']\n",
      "generate seasonality categorical feature\n",
      "generate day/night categorical feature\n",
      "reading forecast data\n"
     ]
    },
    {
     "name": "stderr",
     "output_type": "stream",
     "text": [
      "/Users/leobix/anaconda3/lib/python3.6/site-packages/IPython/core/interactiveshell.py:2862: DtypeWarning: Columns (6) have mixed types. Specify dtype option on import or set low_memory=False.\n",
      "  exec(code_obj, self.user_global_ns, self.user_ns)\n"
     ]
    },
    {
     "name": "stdout",
     "output_type": "stream",
     "text": [
      "keep last forecast, duplicates dropped =  96574\n",
      "smooth wind direction\n",
      "merge with forecast data\n"
     ]
    }
   ],
   "source": [
    "data = prepare_data(one_hot=False)\n",
    "data_merge, data, forecast  = prepare_data_with_forecast(data)\n",
    "df = data_merge[['speed', 'cos_wind_dir', 'sin_wind_dir', 'temp', 'radiation', 'scenario_num', 'cos_hour', 'sin_hour', 'cos_day', 'sin_day', 'daily_min_speed', 'daily_min_hour', 'daily_max_speed', 'daily_max_hour']]#, 'speed_forecast', 'cos_wind_dir_forecast', 'sin_wind_dir_forecast']]"
   ]
  },
  {
   "cell_type": "code",
   "execution_count": 26,
   "metadata": {},
   "outputs": [
    {
     "data": {
      "text/html": [
       "<div>\n",
       "<style scoped>\n",
       "    .dataframe tbody tr th:only-of-type {\n",
       "        vertical-align: middle;\n",
       "    }\n",
       "\n",
       "    .dataframe tbody tr th {\n",
       "        vertical-align: top;\n",
       "    }\n",
       "\n",
       "    .dataframe thead th {\n",
       "        text-align: right;\n",
       "    }\n",
       "</style>\n",
       "<table border=\"1\" class=\"dataframe\">\n",
       "  <thead>\n",
       "    <tr style=\"text-align: right;\">\n",
       "      <th></th>\n",
       "      <th>speed</th>\n",
       "      <th>cos_wind_dir</th>\n",
       "      <th>sin_wind_dir</th>\n",
       "      <th>temp</th>\n",
       "      <th>radiation</th>\n",
       "      <th>scenario_num</th>\n",
       "      <th>cos_hour</th>\n",
       "      <th>sin_hour</th>\n",
       "      <th>cos_day</th>\n",
       "      <th>sin_day</th>\n",
       "      <th>daily_min_speed</th>\n",
       "      <th>daily_min_hour</th>\n",
       "      <th>daily_max_speed</th>\n",
       "      <th>daily_max_hour</th>\n",
       "      <th>speed_forecast</th>\n",
       "      <th>cos_wind_dir_forecast</th>\n",
       "      <th>sin_wind_dir_forecast</th>\n",
       "    </tr>\n",
       "  </thead>\n",
       "  <tbody>\n",
       "    <tr>\n",
       "      <th>2015-07-01 00:00:00</th>\n",
       "      <td>2.225</td>\n",
       "      <td>0.854881</td>\n",
       "      <td>0.212812</td>\n",
       "      <td>20.725</td>\n",
       "      <td>0.0</td>\n",
       "      <td>1.0</td>\n",
       "      <td>0.992522</td>\n",
       "      <td>0.097755</td>\n",
       "      <td>1.000000</td>\n",
       "      <td>0.000000</td>\n",
       "      <td>0.850</td>\n",
       "      <td>6.0</td>\n",
       "      <td>8.85</td>\n",
       "      <td>14.0</td>\n",
       "      <td>1.710672</td>\n",
       "      <td>0.925475</td>\n",
       "      <td>0.378808</td>\n",
       "    </tr>\n",
       "    <tr>\n",
       "      <th>2015-07-01 01:00:00</th>\n",
       "      <td>2.900</td>\n",
       "      <td>0.848673</td>\n",
       "      <td>-0.514652</td>\n",
       "      <td>20.500</td>\n",
       "      <td>0.0</td>\n",
       "      <td>1.0</td>\n",
       "      <td>0.933402</td>\n",
       "      <td>0.351308</td>\n",
       "      <td>1.000000</td>\n",
       "      <td>0.000000</td>\n",
       "      <td>0.850</td>\n",
       "      <td>6.0</td>\n",
       "      <td>8.85</td>\n",
       "      <td>14.0</td>\n",
       "      <td>1.553615</td>\n",
       "      <td>0.920130</td>\n",
       "      <td>0.391614</td>\n",
       "    </tr>\n",
       "    <tr>\n",
       "      <th>2015-07-01 02:00:00</th>\n",
       "      <td>1.600</td>\n",
       "      <td>0.806157</td>\n",
       "      <td>-0.237230</td>\n",
       "      <td>20.675</td>\n",
       "      <td>0.0</td>\n",
       "      <td>2.0</td>\n",
       "      <td>0.810672</td>\n",
       "      <td>0.580919</td>\n",
       "      <td>1.000000</td>\n",
       "      <td>0.000000</td>\n",
       "      <td>0.850</td>\n",
       "      <td>6.0</td>\n",
       "      <td>8.85</td>\n",
       "      <td>14.0</td>\n",
       "      <td>1.135592</td>\n",
       "      <td>0.862629</td>\n",
       "      <td>0.505837</td>\n",
       "    </tr>\n",
       "    <tr>\n",
       "      <th>2015-07-01 03:00:00</th>\n",
       "      <td>2.175</td>\n",
       "      <td>0.815514</td>\n",
       "      <td>0.407457</td>\n",
       "      <td>20.850</td>\n",
       "      <td>0.0</td>\n",
       "      <td>1.0</td>\n",
       "      <td>0.632696</td>\n",
       "      <td>0.770942</td>\n",
       "      <td>1.000000</td>\n",
       "      <td>0.000000</td>\n",
       "      <td>0.850</td>\n",
       "      <td>6.0</td>\n",
       "      <td>8.85</td>\n",
       "      <td>14.0</td>\n",
       "      <td>0.753942</td>\n",
       "      <td>0.867008</td>\n",
       "      <td>0.498295</td>\n",
       "    </tr>\n",
       "    <tr>\n",
       "      <th>2015-07-01 04:00:00</th>\n",
       "      <td>2.625</td>\n",
       "      <td>0.460721</td>\n",
       "      <td>0.860460</td>\n",
       "      <td>20.800</td>\n",
       "      <td>0.0</td>\n",
       "      <td>1.0</td>\n",
       "      <td>0.411603</td>\n",
       "      <td>0.908427</td>\n",
       "      <td>1.000000</td>\n",
       "      <td>0.000000</td>\n",
       "      <td>0.850</td>\n",
       "      <td>6.0</td>\n",
       "      <td>8.85</td>\n",
       "      <td>14.0</td>\n",
       "      <td>0.768373</td>\n",
       "      <td>0.982435</td>\n",
       "      <td>0.186607</td>\n",
       "    </tr>\n",
       "    <tr>\n",
       "      <th>...</th>\n",
       "      <td>...</td>\n",
       "      <td>...</td>\n",
       "      <td>...</td>\n",
       "      <td>...</td>\n",
       "      <td>...</td>\n",
       "      <td>...</td>\n",
       "      <td>...</td>\n",
       "      <td>...</td>\n",
       "      <td>...</td>\n",
       "      <td>...</td>\n",
       "      <td>...</td>\n",
       "      <td>...</td>\n",
       "      <td>...</td>\n",
       "      <td>...</td>\n",
       "      <td>...</td>\n",
       "      <td>...</td>\n",
       "      <td>...</td>\n",
       "    </tr>\n",
       "    <tr>\n",
       "      <th>2019-10-31 19:00:00</th>\n",
       "      <td>5.800</td>\n",
       "      <td>0.717855</td>\n",
       "      <td>0.693237</td>\n",
       "      <td>23.625</td>\n",
       "      <td>0.0</td>\n",
       "      <td>1.0</td>\n",
       "      <td>0.351308</td>\n",
       "      <td>-0.933402</td>\n",
       "      <td>0.495697</td>\n",
       "      <td>0.868496</td>\n",
       "      <td>3.075</td>\n",
       "      <td>4.0</td>\n",
       "      <td>5.80</td>\n",
       "      <td>19.0</td>\n",
       "      <td>6.827862</td>\n",
       "      <td>0.804887</td>\n",
       "      <td>0.593428</td>\n",
       "    </tr>\n",
       "    <tr>\n",
       "      <th>2019-10-31 20:00:00</th>\n",
       "      <td>5.350</td>\n",
       "      <td>0.511087</td>\n",
       "      <td>0.859053</td>\n",
       "      <td>23.500</td>\n",
       "      <td>0.0</td>\n",
       "      <td>1.0</td>\n",
       "      <td>0.580919</td>\n",
       "      <td>-0.810672</td>\n",
       "      <td>0.495697</td>\n",
       "      <td>0.868496</td>\n",
       "      <td>3.075</td>\n",
       "      <td>4.0</td>\n",
       "      <td>5.80</td>\n",
       "      <td>19.0</td>\n",
       "      <td>6.560536</td>\n",
       "      <td>0.734074</td>\n",
       "      <td>0.679069</td>\n",
       "    </tr>\n",
       "    <tr>\n",
       "      <th>2019-10-31 21:00:00</th>\n",
       "      <td>5.125</td>\n",
       "      <td>0.495896</td>\n",
       "      <td>0.867648</td>\n",
       "      <td>23.050</td>\n",
       "      <td>0.0</td>\n",
       "      <td>1.0</td>\n",
       "      <td>0.770942</td>\n",
       "      <td>-0.632696</td>\n",
       "      <td>0.495697</td>\n",
       "      <td>0.868496</td>\n",
       "      <td>3.075</td>\n",
       "      <td>4.0</td>\n",
       "      <td>5.80</td>\n",
       "      <td>19.0</td>\n",
       "      <td>6.472386</td>\n",
       "      <td>0.684310</td>\n",
       "      <td>0.729191</td>\n",
       "    </tr>\n",
       "    <tr>\n",
       "      <th>2019-10-31 22:00:00</th>\n",
       "      <td>5.025</td>\n",
       "      <td>0.528096</td>\n",
       "      <td>0.844972</td>\n",
       "      <td>22.675</td>\n",
       "      <td>0.0</td>\n",
       "      <td>1.0</td>\n",
       "      <td>0.908427</td>\n",
       "      <td>-0.411603</td>\n",
       "      <td>0.495697</td>\n",
       "      <td>0.868496</td>\n",
       "      <td>3.075</td>\n",
       "      <td>4.0</td>\n",
       "      <td>5.80</td>\n",
       "      <td>19.0</td>\n",
       "      <td>6.507449</td>\n",
       "      <td>0.658095</td>\n",
       "      <td>0.752935</td>\n",
       "    </tr>\n",
       "    <tr>\n",
       "      <th>2019-10-31 23:00:00</th>\n",
       "      <td>5.575</td>\n",
       "      <td>0.554406</td>\n",
       "      <td>0.829741</td>\n",
       "      <td>22.425</td>\n",
       "      <td>0.0</td>\n",
       "      <td>1.0</td>\n",
       "      <td>0.984004</td>\n",
       "      <td>-0.162460</td>\n",
       "      <td>0.495697</td>\n",
       "      <td>0.868496</td>\n",
       "      <td>3.075</td>\n",
       "      <td>4.0</td>\n",
       "      <td>5.80</td>\n",
       "      <td>19.0</td>\n",
       "      <td>6.384562</td>\n",
       "      <td>0.617141</td>\n",
       "      <td>0.786853</td>\n",
       "    </tr>\n",
       "  </tbody>\n",
       "</table>\n",
       "<p>38016 rows × 17 columns</p>\n",
       "</div>"
      ],
      "text/plain": [
       "                     speed  cos_wind_dir  sin_wind_dir    temp  radiation  \\\n",
       "2015-07-01 00:00:00  2.225      0.854881      0.212812  20.725        0.0   \n",
       "2015-07-01 01:00:00  2.900      0.848673     -0.514652  20.500        0.0   \n",
       "2015-07-01 02:00:00  1.600      0.806157     -0.237230  20.675        0.0   \n",
       "2015-07-01 03:00:00  2.175      0.815514      0.407457  20.850        0.0   \n",
       "2015-07-01 04:00:00  2.625      0.460721      0.860460  20.800        0.0   \n",
       "...                    ...           ...           ...     ...        ...   \n",
       "2019-10-31 19:00:00  5.800      0.717855      0.693237  23.625        0.0   \n",
       "2019-10-31 20:00:00  5.350      0.511087      0.859053  23.500        0.0   \n",
       "2019-10-31 21:00:00  5.125      0.495896      0.867648  23.050        0.0   \n",
       "2019-10-31 22:00:00  5.025      0.528096      0.844972  22.675        0.0   \n",
       "2019-10-31 23:00:00  5.575      0.554406      0.829741  22.425        0.0   \n",
       "\n",
       "                     scenario_num  cos_hour  sin_hour   cos_day   sin_day  \\\n",
       "2015-07-01 00:00:00           1.0  0.992522  0.097755  1.000000  0.000000   \n",
       "2015-07-01 01:00:00           1.0  0.933402  0.351308  1.000000  0.000000   \n",
       "2015-07-01 02:00:00           2.0  0.810672  0.580919  1.000000  0.000000   \n",
       "2015-07-01 03:00:00           1.0  0.632696  0.770942  1.000000  0.000000   \n",
       "2015-07-01 04:00:00           1.0  0.411603  0.908427  1.000000  0.000000   \n",
       "...                           ...       ...       ...       ...       ...   \n",
       "2019-10-31 19:00:00           1.0  0.351308 -0.933402  0.495697  0.868496   \n",
       "2019-10-31 20:00:00           1.0  0.580919 -0.810672  0.495697  0.868496   \n",
       "2019-10-31 21:00:00           1.0  0.770942 -0.632696  0.495697  0.868496   \n",
       "2019-10-31 22:00:00           1.0  0.908427 -0.411603  0.495697  0.868496   \n",
       "2019-10-31 23:00:00           1.0  0.984004 -0.162460  0.495697  0.868496   \n",
       "\n",
       "                     daily_min_speed  daily_min_hour  daily_max_speed  \\\n",
       "2015-07-01 00:00:00            0.850             6.0             8.85   \n",
       "2015-07-01 01:00:00            0.850             6.0             8.85   \n",
       "2015-07-01 02:00:00            0.850             6.0             8.85   \n",
       "2015-07-01 03:00:00            0.850             6.0             8.85   \n",
       "2015-07-01 04:00:00            0.850             6.0             8.85   \n",
       "...                              ...             ...              ...   \n",
       "2019-10-31 19:00:00            3.075             4.0             5.80   \n",
       "2019-10-31 20:00:00            3.075             4.0             5.80   \n",
       "2019-10-31 21:00:00            3.075             4.0             5.80   \n",
       "2019-10-31 22:00:00            3.075             4.0             5.80   \n",
       "2019-10-31 23:00:00            3.075             4.0             5.80   \n",
       "\n",
       "                     daily_max_hour  speed_forecast  cos_wind_dir_forecast  \\\n",
       "2015-07-01 00:00:00            14.0        1.710672               0.925475   \n",
       "2015-07-01 01:00:00            14.0        1.553615               0.920130   \n",
       "2015-07-01 02:00:00            14.0        1.135592               0.862629   \n",
       "2015-07-01 03:00:00            14.0        0.753942               0.867008   \n",
       "2015-07-01 04:00:00            14.0        0.768373               0.982435   \n",
       "...                             ...             ...                    ...   \n",
       "2019-10-31 19:00:00            19.0        6.827862               0.804887   \n",
       "2019-10-31 20:00:00            19.0        6.560536               0.734074   \n",
       "2019-10-31 21:00:00            19.0        6.472386               0.684310   \n",
       "2019-10-31 22:00:00            19.0        6.507449               0.658095   \n",
       "2019-10-31 23:00:00            19.0        6.384562               0.617141   \n",
       "\n",
       "                     sin_wind_dir_forecast  \n",
       "2015-07-01 00:00:00               0.378808  \n",
       "2015-07-01 01:00:00               0.391614  \n",
       "2015-07-01 02:00:00               0.505837  \n",
       "2015-07-01 03:00:00               0.498295  \n",
       "2015-07-01 04:00:00               0.186607  \n",
       "...                                    ...  \n",
       "2019-10-31 19:00:00               0.593428  \n",
       "2019-10-31 20:00:00               0.679069  \n",
       "2019-10-31 21:00:00               0.729191  \n",
       "2019-10-31 22:00:00               0.752935  \n",
       "2019-10-31 23:00:00               0.786853  \n",
       "\n",
       "[38016 rows x 17 columns]"
      ]
     },
     "execution_count": 26,
     "metadata": {},
     "output_type": "execute_result"
    }
   ],
   "source": [
    "df"
   ]
  },
  {
   "cell_type": "code",
   "execution_count": 5,
   "metadata": {},
   "outputs": [
    {
     "name": "stderr",
     "output_type": "stream",
     "text": [
      "/Users/leobix/anaconda3/lib/python3.6/site-packages/pandas/plotting/_matplotlib/converter.py:103: FutureWarning: Using an implicitly registered datetime converter for a matplotlib plotting method. The converter was registered by pandas on import. Future versions of pandas will require you to explicitly register matplotlib converters.\n",
      "\n",
      "To register the converters:\n",
      "\t>>> from pandas.plotting import register_matplotlib_converters\n",
      "\t>>> register_matplotlib_converters()\n",
      "  warnings.warn(msg, FutureWarning)\n"
     ]
    },
    {
     "data": {
      "image/png": "[encoded data removed]",
      "text/plain": [
       "<matplotlib.figure.Figure at 0x13d897e10>"
      ]
     },
     "metadata": {},
     "output_type": "display_data"
    }
   ],
   "source": [
    "import matplotlib.pyplot as plt\n",
    "plt.plot(data_merge['speed'][:200])\n",
    "plt.plot(data_merge['speed_forecast'][:200])\n",
    "plt.show()"
   ]
  },
  {
   "cell_type": "code",
   "execution_count": 6,
   "metadata": {},
   "outputs": [
    {
     "name": "stdout",
     "output_type": "stream",
     "text": [
      "2.126697291028455\n",
      "1.1226851826585609\n"
     ]
    }
   ],
   "source": [
    "print(mean_squared_error(data_merge['speed'], data_merge['speed_forecast']))\n",
    "print(mean_absolute_error(data_merge['speed'], data_merge['speed_forecast']))"
   ]
  },
  {
   "cell_type": "code",
   "execution_count": 191,
   "metadata": {
    "collapsed": true
   },
   "outputs": [],
   "source": [
    "X_train, X_test, y_train, y_test, X_train_unscaled, X_test_unscaled, y_train_unscaled, y_test_unscaled, sc_X, sc_y = scale_data_RNN(48, 48, df, 0.1, speed_only = True)"
   ]
  },
  {
   "cell_type": "code",
   "execution_count": 212,
   "metadata": {},
   "outputs": [
    {
     "data": {
      "text/plain": [
       "(array([6.475, 5.775, 5.5  , 5.3  , 6.725, 4.95 , 3.9  , 4.05 , 5.225,\n",
       "        4.9  , 5.525, 5.375, 4.6  , 3.725, 4.8  , 5.75 , 5.175, 4.7  ,\n",
       "        4.975, 5.025, 5.6  , 6.425, 6.2  , 5.9  , 5.475, 5.45 , 5.875,\n",
       "        5.275, 4.65 , 4.95 , 4.425, 4.3  , 5.075, 4.4  , 4.35 , 4.425,\n",
       "        4.1  , 3.3  , 4.275, 5.2  , 4.625, 4.875, 4.775, 5.275, 5.6  ,\n",
       "        5.35 , 5.175, 4.6  ]),\n",
       " array([6.475, 6.475, 5.775, 5.5  , 5.3  , 6.725, 4.95 , 3.9  , 4.05 ,\n",
       "        5.225, 4.9  , 5.525, 5.375, 4.6  , 3.725, 4.8  , 5.75 , 5.175,\n",
       "        4.7  , 4.975, 5.025, 5.6  , 6.425, 6.2  , 5.9  , 5.475, 5.45 ,\n",
       "        5.875, 5.275, 4.65 , 4.95 , 4.425, 4.3  , 5.075, 4.4  , 4.35 ,\n",
       "        4.425, 4.1  , 3.3  , 4.275, 5.2  , 4.625, 4.875, 4.775, 5.275,\n",
       "        5.6  , 5.35 , 5.175]),\n",
       " array([4.6  , 5.05 , 5.   , 4.5  , 4.45 , 4.45 , 4.85 , 4.3  , 3.55 ,\n",
       "        3.55 , 4.45 , 4.225, 3.65 , 3.85 , 4.1  , 5.15 , 4.975, 4.025,\n",
       "        4.   , 4.125, 4.725, 5.925, 5.35 , 5.275, 4.85 , 4.9  , 4.35 ,\n",
       "        4.5  , 4.2  , 3.8  , 3.225, 2.475, 2.1  , 2.15 , 1.925, 1.875,\n",
       "        1.675, 1.925, 2.   , 2.325, 3.05 , 2.85 , 3.55 , 6.25 , 7.15 ,\n",
       "        8.175, 8.575, 8.625]))"
      ]
     },
     "execution_count": 212,
     "metadata": {},
     "output_type": "execute_result"
    }
   ],
   "source": [
    "X_train_unscaled[-1,:,0], X_train_unscaled[-2,:,0], y_train_unscaled[-2, :, 0]"
   ]
  },
  {
   "cell_type": "code",
   "execution_count": 192,
   "metadata": {
    "collapsed": true
   },
   "outputs": [],
   "source": [
    "def get_X_y(X_train, X_test, y_train, y_test, step2predict):\n",
    "    X_t = X_train.reshape(X_train.shape[0],-1)\n",
    "    X_te = X_test.reshape(X_test.shape[0],-1)\n",
    "    \n",
    "    y_t_speed = y_train[:,step2predict,0]\n",
    "    y_te_speed = y_test[:,step2predict,0]\n",
    "    y_t_cos = y_train[:,step2predict,1]\n",
    "    y_te_cos = y_test[:,step2predict,1]\n",
    "    y_t_sin = y_train[:,step2predict,2]\n",
    "    y_te_sin = y_test[:,step2predict,2]\n",
    "    return X_t, X_te, y_t_speed, y_te_speed, y_t_cos, y_te_cos, y_t_sin, y_te_sin"
   ]
  },
  {
   "cell_type": "code",
   "execution_count": 193,
   "metadata": {},
   "outputs": [],
   "source": [
    "X_t, X_te, y_t_speed, y_te_speed, y_t_cos, y_te_cos, y_t_sin, y_te_sin = get_X_y(X_train_unscaled, X_test_unscaled, y_train_unscaled, y_test_unscaled, 12)"
   ]
  },
  {
   "cell_type": "code",
   "execution_count": 227,
   "metadata": {},
   "outputs": [],
   "source": [
    "y_scenario_train = X_train_unscaled[:,0,5]\n",
    "y_scenario_test = X_test_unscaled[:,0,5]"
   ]
  },
  {
   "cell_type": "code",
   "execution_count": 221,
   "metadata": {},
   "outputs": [
    {
     "data": {
      "image/png": "[encoded data removed]",
      "text/plain": [
       "<matplotlib.figure.Figure at 0x140554240>"
      ]
     },
     "metadata": {},
     "output_type": "display_data"
    }
   ],
   "source": [
    "plt.plot(np.array(df['speed'].head(200)))\n",
    "plt.plot(X_t[:200,0])\n",
    "plt.show()\n",
    "y_scenario = np.array(df['scenario_num'][:]"
   ]
  },
  {
   "cell_type": "code",
   "execution_count": 151,
   "metadata": {},
   "outputs": [],
   "source": [
    "#baseline = np.array(df['speed_forecast'][34144:])\n",
    "#IMPORTANT TO CHECK THAT SPEED FORECAST IS ALIGNED!!!!\n",
    "baseline_speed = np.array(df['speed_forecast'][34018:])\n",
    "baseline_speed = baseline_speed[:y_te_speed.shape[0]]\n",
    "\n",
    "baseline_cos = np.array(df['cos_wind_dir_forecast'][34018:])\n",
    "baseline_cos = baseline_cos[:y_te_sin.shape[0]]\n",
    "\n",
    "baseline_sin = np.array(df['sin_wind_dir_forecast'][34018:])\n",
    "baseline_sin = baseline_sin[:y_te_sin.shape[0]]\n",
    "\n",
    "baseline_wind_dir = np.array(data_merge['wind_dir'][34018:])\n",
    "baseline_wind_dir = baseline_wind_dir[:y_te_sin.shape[0]]\n",
    "\n",
    "true_scenario = np.array(df['scenario_num'][34018:])\n",
    "true_scenario = true_scenario[:y_te_sin.shape[0]]"
   ]
  },
  {
   "cell_type": "code",
   "execution_count": 53,
   "metadata": {},
   "outputs": [
    {
     "data": {
      "image/png": "[encoded data removed]",
      "text/plain": [
       "<matplotlib.figure.Figure at 0x13ea6f908>"
      ]
     },
     "metadata": {},
     "output_type": "display_data"
    }
   ],
   "source": [
    "plt.plot(y_te[:500], label = 'predicted')\n",
    "plt.plot(baseline[:500], label = 'true')\n",
    "plt.legend()\n",
    "plt.show()"
   ]
  },
  {
   "cell_type": "code",
   "execution_count": 62,
   "metadata": {
    "collapsed": true
   },
   "outputs": [],
   "source": [
    "y_hat_speed = xg_speed.predict(X_te)"
   ]
  },
  {
   "cell_type": "code",
   "execution_count": 64,
   "metadata": {},
   "outputs": [
    {
     "name": "stderr",
     "output_type": "stream",
     "text": [
      "/Users/leobix/anaconda3/lib/python3.6/site-packages/xgboost/core.py:614: UserWarning: Use subset (sliced data) of np.ndarray is not recommended because it will generate extra copies and increase memory consumption\n",
      "  \"because it will generate extra copies and increase memory consumption\")\n"
     ]
    },
    {
     "name": "stdout",
     "output_type": "stream",
     "text": [
      "[23:41:24] WARNING: src/objective/regression_obj.cu:152: reg:linear is now deprecated in favor of reg:squarederror.\n"
     ]
    },
    {
     "name": "stderr",
     "output_type": "stream",
     "text": [
      "/Users/leobix/anaconda3/lib/python3.6/site-packages/xgboost/core.py:614: UserWarning: Use subset (sliced data) of np.ndarray is not recommended because it will generate extra copies and increase memory consumption\n",
      "  \"because it will generate extra copies and increase memory consumption\")\n"
     ]
    },
    {
     "name": "stdout",
     "output_type": "stream",
     "text": [
      "[23:43:23] WARNING: src/objective/regression_obj.cu:152: reg:linear is now deprecated in favor of reg:squarederror.\n"
     ]
    }
   ],
   "source": [
    "#xg_speed = XGBRegressor(max_depth = 5)\n",
    "#xg_speed.fit(X_t, y_t_speed)\n",
    "#y_hat_speed = xg_speed.predict(X_te)\n",
    "\n",
    "xg_cos = XGBRegressor(max_depth = 3)\n",
    "xg_cos.fit(X_t, y_t_cos)\n",
    "y_hat_cos = xg_cos.predict(X_te)\n",
    "\n",
    "xg_sin = XGBRegressor(max_depth = 3)\n",
    "xg_sin.fit(X_t, y_t_sin)\n",
    "y_hat_sin = xg_sin.predict(X_te)"
   ]
  },
  {
   "cell_type": "markdown",
   "metadata": {},
   "source": [
    "2 max depth\n",
    "1.0514130180673609\n",
    "0.8285229944924967\n",
    "\n",
    "3 max depth\n",
    "0.9467532367134287\n",
    "0.7795769491617314\n",
    "\n",
    "4 max depth\n",
    "0.9334842664915324\n",
    "0.7690010867590146\n",
    "\n",
    "5 max depth\n",
    "0.9047207047514756\n",
    "0.7525807462812547"
   ]
  },
  {
   "cell_type": "code",
   "execution_count": 71,
   "metadata": {},
   "outputs": [
    {
     "name": "stdout",
     "output_type": "stream",
     "text": [
      "MSE speed is:  0.8935162796467029\n",
      "MAE speed is:  0.7480319089235391\n",
      "MSE baseline speed is:  1.8262258681751449\n",
      "MAE baseline speed is:  1.0580653457643292\n",
      "MSE cos is:  0.11507747372018454\n",
      "MAE cos is:  0.24154751090348284\n",
      "MSE baseline cos is:  0.12860639479869762\n",
      "MAE baseline cos is:  0.23815420760118175\n",
      "MSE sin is:  0.17248622659229257\n",
      "MAE sin is:  0.3021705153693407\n",
      "MSE baseline sin is:  0.19777549533387118\n",
      "MAE baseline sin is:  0.29556977092421505\n"
     ]
    }
   ],
   "source": [
    "print(\"MSE speed is: \", mean_squared_error(y_te_speed, y_hat_speed))\n",
    "print(\"MAE speed is: \", mean_absolute_error(y_te_speed, y_hat_speed))\n",
    "print(\"MSE baseline speed is: \", mean_squared_error(y_te_speed, baseline_speed))\n",
    "print(\"MAE baseline speed is: \", mean_absolute_error(y_te_speed, baseline_speed))\n",
    "\n",
    "print(\"MSE cos is: \", mean_squared_error(y_te_cos, y_hat_cos))\n",
    "print(\"MAE cos is: \", mean_absolute_error(y_te_cos, y_hat_cos))\n",
    "print(\"MSE baseline cos is: \", mean_squared_error(y_te_cos, baseline_cos))\n",
    "print(\"MAE baseline cos is: \", mean_absolute_error(y_te_cos, baseline_cos))\n",
    "\n",
    "print(\"MSE sin is: \", mean_squared_error(y_te_sin, y_hat_sin))\n",
    "print(\"MAE sin is: \", mean_absolute_error(y_te_sin, y_hat_sin))\n",
    "print(\"MSE baseline sin is: \", mean_squared_error(y_te_sin, baseline_sin))\n",
    "print(\"MAE baseline sin is: \", mean_absolute_error(y_te_sin, baseline_sin))"
   ]
  },
  {
   "cell_type": "code",
   "execution_count": 77,
   "metadata": {
    "collapsed": true
   },
   "outputs": [],
   "source": [
    "def get_all_prediction_models(steps_out):\n",
    "    models = []\n",
    "    maes = []\n",
    "    mses = []\n",
    "    y_hats = []\n",
    "    X_train, X_test, y_train, y_test, X_train_unscaled, X_test_unscaled, y_train_unscaled, y_test_unscaled, sc_X, sc_y = scale_data_RNN(48, steps_out, df, 0.1, speed_only = True)\n",
    "    for i in range(steps_out):\n",
    "        X_t, X_te, y_t, y_te = get_X_y(X_train_unscaled, X_test_unscaled, y_train_unscaled, y_test_unscaled, i)\n",
    "        xg = XGBRegressor(max_depth=5)\n",
    "        xg.fit(X_t, y_t)\n",
    "        y_hat = xg.predict(X_te)\n",
    "        mse, mae = mean_squared_error(y_te, y_hat), mean_absolute_error(y_te, y_hat)\n",
    "        print(\"MSE error for step \", i, \" is: \", mse)\n",
    "        print(\"MAE error for step \", i, \" is: \", mae)\n",
    "        maes.append(mae)\n",
    "        mses.append(mse)\n",
    "        models.append(xg)\n",
    "        y_hats.append(y_hat)\n",
    "    return models, maes, mses, y_hats"
   ]
  },
  {
   "cell_type": "code",
   "execution_count": 80,
   "metadata": {},
   "outputs": [
    {
     "name": "stderr",
     "output_type": "stream",
     "text": [
      "/Users/leobix/anaconda3/lib/python3.6/site-packages/xgboost/core.py:614: UserWarning: Use subset (sliced data) of np.ndarray is not recommended because it will generate extra copies and increase memory consumption\n",
      "  \"because it will generate extra copies and increase memory consumption\")\n"
     ]
    },
    {
     "name": "stdout",
     "output_type": "stream",
     "text": [
      "[13:12:46] WARNING: src/objective/regression_obj.cu:152: reg:linear is now deprecated in favor of reg:squarederror.\n",
      "MSE error for step  0  is:  0.2949883505507611\n",
      "MAE error for step  0  is:  0.4185583241256529\n"
     ]
    },
    {
     "name": "stderr",
     "output_type": "stream",
     "text": [
      "/Users/leobix/anaconda3/lib/python3.6/site-packages/xgboost/core.py:614: UserWarning: Use subset (sliced data) of np.ndarray is not recommended because it will generate extra copies and increase memory consumption\n",
      "  \"because it will generate extra copies and increase memory consumption\")\n"
     ]
    },
    {
     "name": "stdout",
     "output_type": "stream",
     "text": [
      "[13:15:50] WARNING: src/objective/regression_obj.cu:152: reg:linear is now deprecated in favor of reg:squarederror.\n",
      "MSE error for step  1  is:  0.4761080842992472\n",
      "MAE error for step  1  is:  0.5482447603656712\n"
     ]
    },
    {
     "name": "stderr",
     "output_type": "stream",
     "text": [
      "/Users/leobix/anaconda3/lib/python3.6/site-packages/xgboost/core.py:614: UserWarning: Use subset (sliced data) of np.ndarray is not recommended because it will generate extra copies and increase memory consumption\n",
      "  \"because it will generate extra copies and increase memory consumption\")\n"
     ]
    },
    {
     "name": "stdout",
     "output_type": "stream",
     "text": [
      "[13:19:01] WARNING: src/objective/regression_obj.cu:152: reg:linear is now deprecated in favor of reg:squarederror.\n",
      "MSE error for step  2  is:  0.5713083349276342\n",
      "MAE error for step  2  is:  0.6045320443090013\n"
     ]
    },
    {
     "name": "stderr",
     "output_type": "stream",
     "text": [
      "/Users/leobix/anaconda3/lib/python3.6/site-packages/xgboost/core.py:614: UserWarning: Use subset (sliced data) of np.ndarray is not recommended because it will generate extra copies and increase memory consumption\n",
      "  \"because it will generate extra copies and increase memory consumption\")\n"
     ]
    },
    {
     "name": "stdout",
     "output_type": "stream",
     "text": [
      "[13:22:07] WARNING: src/objective/regression_obj.cu:152: reg:linear is now deprecated in favor of reg:squarederror.\n",
      "MSE error for step  3  is:  0.6334330167710857\n",
      "MAE error for step  3  is:  0.6376694523148819\n"
     ]
    },
    {
     "name": "stderr",
     "output_type": "stream",
     "text": [
      "/Users/leobix/anaconda3/lib/python3.6/site-packages/xgboost/core.py:614: UserWarning: Use subset (sliced data) of np.ndarray is not recommended because it will generate extra copies and increase memory consumption\n",
      "  \"because it will generate extra copies and increase memory consumption\")\n"
     ]
    },
    {
     "name": "stdout",
     "output_type": "stream",
     "text": [
      "[13:25:14] WARNING: src/objective/regression_obj.cu:152: reg:linear is now deprecated in favor of reg:squarederror.\n",
      "MSE error for step  4  is:  0.6778575119549028\n",
      "MAE error for step  4  is:  0.6572384806204452\n"
     ]
    },
    {
     "name": "stderr",
     "output_type": "stream",
     "text": [
      "/Users/leobix/anaconda3/lib/python3.6/site-packages/xgboost/core.py:614: UserWarning: Use subset (sliced data) of np.ndarray is not recommended because it will generate extra copies and increase memory consumption\n",
      "  \"because it will generate extra copies and increase memory consumption\")\n"
     ]
    },
    {
     "name": "stdout",
     "output_type": "stream",
     "text": [
      "[13:28:20] WARNING: src/objective/regression_obj.cu:152: reg:linear is now deprecated in favor of reg:squarederror.\n",
      "MSE error for step  5  is:  0.7203678002420696\n",
      "MAE error for step  5  is:  0.6774967491904449\n"
     ]
    },
    {
     "name": "stderr",
     "output_type": "stream",
     "text": [
      "/Users/leobix/anaconda3/lib/python3.6/site-packages/xgboost/core.py:614: UserWarning: Use subset (sliced data) of np.ndarray is not recommended because it will generate extra copies and increase memory consumption\n",
      "  \"because it will generate extra copies and increase memory consumption\")\n"
     ]
    },
    {
     "name": "stdout",
     "output_type": "stream",
     "text": [
      "[13:31:29] WARNING: src/objective/regression_obj.cu:152: reg:linear is now deprecated in favor of reg:squarederror.\n",
      "MSE error for step  6  is:  0.7519038057356864\n",
      "MAE error for step  6  is:  0.6936767916222631\n"
     ]
    },
    {
     "name": "stderr",
     "output_type": "stream",
     "text": [
      "/Users/leobix/anaconda3/lib/python3.6/site-packages/xgboost/core.py:614: UserWarning: Use subset (sliced data) of np.ndarray is not recommended because it will generate extra copies and increase memory consumption\n",
      "  \"because it will generate extra copies and increase memory consumption\")\n"
     ]
    },
    {
     "name": "stdout",
     "output_type": "stream",
     "text": [
      "[13:34:34] WARNING: src/objective/regression_obj.cu:152: reg:linear is now deprecated in favor of reg:squarederror.\n",
      "MSE error for step  7  is:  0.7698781913854775\n",
      "MAE error for step  7  is:  0.7003953435929503\n"
     ]
    },
    {
     "name": "stderr",
     "output_type": "stream",
     "text": [
      "/Users/leobix/anaconda3/lib/python3.6/site-packages/xgboost/core.py:614: UserWarning: Use subset (sliced data) of np.ndarray is not recommended because it will generate extra copies and increase memory consumption\n",
      "  \"because it will generate extra copies and increase memory consumption\")\n"
     ]
    },
    {
     "name": "stdout",
     "output_type": "stream",
     "text": [
      "[13:37:40] WARNING: src/objective/regression_obj.cu:152: reg:linear is now deprecated in favor of reg:squarederror.\n",
      "MSE error for step  8  is:  0.7939379194223072\n",
      "MAE error for step  8  is:  0.7094229149033728\n"
     ]
    },
    {
     "name": "stderr",
     "output_type": "stream",
     "text": [
      "/Users/leobix/anaconda3/lib/python3.6/site-packages/xgboost/core.py:614: UserWarning: Use subset (sliced data) of np.ndarray is not recommended because it will generate extra copies and increase memory consumption\n",
      "  \"because it will generate extra copies and increase memory consumption\")\n"
     ]
    },
    {
     "name": "stdout",
     "output_type": "stream",
     "text": [
      "[13:40:44] WARNING: src/objective/regression_obj.cu:152: reg:linear is now deprecated in favor of reg:squarederror.\n",
      "MSE error for step  9  is:  0.8088375800693048\n",
      "MAE error for step  9  is:  0.7149404857838981\n"
     ]
    },
    {
     "name": "stderr",
     "output_type": "stream",
     "text": [
      "/Users/leobix/anaconda3/lib/python3.6/site-packages/xgboost/core.py:614: UserWarning: Use subset (sliced data) of np.ndarray is not recommended because it will generate extra copies and increase memory consumption\n",
      "  \"because it will generate extra copies and increase memory consumption\")\n"
     ]
    },
    {
     "name": "stdout",
     "output_type": "stream",
     "text": [
      "[13:43:51] WARNING: src/objective/regression_obj.cu:152: reg:linear is now deprecated in favor of reg:squarederror.\n",
      "MSE error for step  10  is:  0.8168700119983605\n",
      "MAE error for step  10  is:  0.7166729290828939\n"
     ]
    },
    {
     "name": "stderr",
     "output_type": "stream",
     "text": [
      "/Users/leobix/anaconda3/lib/python3.6/site-packages/xgboost/core.py:614: UserWarning: Use subset (sliced data) of np.ndarray is not recommended because it will generate extra copies and increase memory consumption\n",
      "  \"because it will generate extra copies and increase memory consumption\")\n"
     ]
    },
    {
     "name": "stdout",
     "output_type": "stream",
     "text": [
      "[13:47:03] WARNING: src/objective/regression_obj.cu:152: reg:linear is now deprecated in favor of reg:squarederror.\n",
      "MSE error for step  11  is:  0.842869615025888\n",
      "MAE error for step  11  is:  0.7286025241355122\n"
     ]
    },
    {
     "name": "stderr",
     "output_type": "stream",
     "text": [
      "/Users/leobix/anaconda3/lib/python3.6/site-packages/xgboost/core.py:614: UserWarning: Use subset (sliced data) of np.ndarray is not recommended because it will generate extra copies and increase memory consumption\n",
      "  \"because it will generate extra copies and increase memory consumption\")\n"
     ]
    },
    {
     "name": "stdout",
     "output_type": "stream",
     "text": [
      "[13:50:10] WARNING: src/objective/regression_obj.cu:152: reg:linear is now deprecated in favor of reg:squarederror.\n",
      "MSE error for step  12  is:  0.9047207047514756\n",
      "MAE error for step  12  is:  0.7525807462812547\n"
     ]
    },
    {
     "name": "stderr",
     "output_type": "stream",
     "text": [
      "/Users/leobix/anaconda3/lib/python3.6/site-packages/xgboost/core.py:614: UserWarning: Use subset (sliced data) of np.ndarray is not recommended because it will generate extra copies and increase memory consumption\n",
      "  \"because it will generate extra copies and increase memory consumption\")\n"
     ]
    },
    {
     "name": "stdout",
     "output_type": "stream",
     "text": [
      "[13:53:18] WARNING: src/objective/regression_obj.cu:152: reg:linear is now deprecated in favor of reg:squarederror.\n",
      "MSE error for step  13  is:  0.9620073571252663\n",
      "MAE error for step  13  is:  0.7771868290531846\n"
     ]
    },
    {
     "name": "stderr",
     "output_type": "stream",
     "text": [
      "/Users/leobix/anaconda3/lib/python3.6/site-packages/xgboost/core.py:614: UserWarning: Use subset (sliced data) of np.ndarray is not recommended because it will generate extra copies and increase memory consumption\n",
      "  \"because it will generate extra copies and increase memory consumption\")\n"
     ]
    },
    {
     "name": "stdout",
     "output_type": "stream",
     "text": [
      "[13:56:22] WARNING: src/objective/regression_obj.cu:152: reg:linear is now deprecated in favor of reg:squarederror.\n",
      "MSE error for step  14  is:  1.0505351956568103\n",
      "MAE error for step  14  is:  0.8138837493129738\n"
     ]
    },
    {
     "name": "stderr",
     "output_type": "stream",
     "text": [
      "/Users/leobix/anaconda3/lib/python3.6/site-packages/xgboost/core.py:614: UserWarning: Use subset (sliced data) of np.ndarray is not recommended because it will generate extra copies and increase memory consumption\n",
      "  \"because it will generate extra copies and increase memory consumption\")\n"
     ]
    },
    {
     "name": "stdout",
     "output_type": "stream",
     "text": [
      "[13:59:26] WARNING: src/objective/regression_obj.cu:152: reg:linear is now deprecated in favor of reg:squarederror.\n",
      "MSE error for step  15  is:  1.104166004154921\n",
      "MAE error for step  15  is:  0.8307688325552274\n"
     ]
    },
    {
     "name": "stderr",
     "output_type": "stream",
     "text": [
      "/Users/leobix/anaconda3/lib/python3.6/site-packages/xgboost/core.py:614: UserWarning: Use subset (sliced data) of np.ndarray is not recommended because it will generate extra copies and increase memory consumption\n",
      "  \"because it will generate extra copies and increase memory consumption\")\n"
     ]
    },
    {
     "name": "stdout",
     "output_type": "stream",
     "text": [
      "[14:02:28] WARNING: src/objective/regression_obj.cu:152: reg:linear is now deprecated in favor of reg:squarederror.\n",
      "MSE error for step  16  is:  1.1362407080018841\n",
      "MAE error for step  16  is:  0.8482478243504694\n"
     ]
    },
    {
     "name": "stderr",
     "output_type": "stream",
     "text": [
      "/Users/leobix/anaconda3/lib/python3.6/site-packages/xgboost/core.py:614: UserWarning: Use subset (sliced data) of np.ndarray is not recommended because it will generate extra copies and increase memory consumption\n",
      "  \"because it will generate extra copies and increase memory consumption\")\n"
     ]
    },
    {
     "name": "stdout",
     "output_type": "stream",
     "text": [
      "[14:05:33] WARNING: src/objective/regression_obj.cu:152: reg:linear is now deprecated in favor of reg:squarederror.\n",
      "MSE error for step  17  is:  1.1241950164481749\n",
      "MAE error for step  17  is:  0.8469406491956772\n"
     ]
    },
    {
     "name": "stderr",
     "output_type": "stream",
     "text": [
      "/Users/leobix/anaconda3/lib/python3.6/site-packages/xgboost/core.py:614: UserWarning: Use subset (sliced data) of np.ndarray is not recommended because it will generate extra copies and increase memory consumption\n",
      "  \"because it will generate extra copies and increase memory consumption\")\n"
     ]
    },
    {
     "name": "stdout",
     "output_type": "stream",
     "text": [
      "[14:08:37] WARNING: src/objective/regression_obj.cu:152: reg:linear is now deprecated in favor of reg:squarederror.\n",
      "MSE error for step  18  is:  1.1680044730966959\n",
      "MAE error for step  18  is:  0.8624021903068112\n"
     ]
    },
    {
     "name": "stderr",
     "output_type": "stream",
     "text": [
      "/Users/leobix/anaconda3/lib/python3.6/site-packages/xgboost/core.py:614: UserWarning: Use subset (sliced data) of np.ndarray is not recommended because it will generate extra copies and increase memory consumption\n",
      "  \"because it will generate extra copies and increase memory consumption\")\n"
     ]
    },
    {
     "name": "stdout",
     "output_type": "stream",
     "text": [
      "[14:11:57] WARNING: src/objective/regression_obj.cu:152: reg:linear is now deprecated in favor of reg:squarederror.\n",
      "MSE error for step  19  is:  1.2061651975853627\n",
      "MAE error for step  19  is:  0.8742153328923199\n"
     ]
    },
    {
     "name": "stderr",
     "output_type": "stream",
     "text": [
      "/Users/leobix/anaconda3/lib/python3.6/site-packages/xgboost/core.py:614: UserWarning: Use subset (sliced data) of np.ndarray is not recommended because it will generate extra copies and increase memory consumption\n",
      "  \"because it will generate extra copies and increase memory consumption\")\n"
     ]
    },
    {
     "name": "stdout",
     "output_type": "stream",
     "text": [
      "[14:14:59] WARNING: src/objective/regression_obj.cu:152: reg:linear is now deprecated in favor of reg:squarederror.\n",
      "MSE error for step  20  is:  1.2234985279950195\n",
      "MAE error for step  20  is:  0.8758574977008922\n"
     ]
    },
    {
     "name": "stderr",
     "output_type": "stream",
     "text": [
      "/Users/leobix/anaconda3/lib/python3.6/site-packages/xgboost/core.py:614: UserWarning: Use subset (sliced data) of np.ndarray is not recommended because it will generate extra copies and increase memory consumption\n",
      "  \"because it will generate extra copies and increase memory consumption\")\n"
     ]
    },
    {
     "name": "stdout",
     "output_type": "stream",
     "text": [
      "[14:18:04] WARNING: src/objective/regression_obj.cu:152: reg:linear is now deprecated in favor of reg:squarederror.\n",
      "MSE error for step  21  is:  1.2651144936760703\n",
      "MAE error for step  21  is:  0.8909954188251304\n"
     ]
    },
    {
     "name": "stderr",
     "output_type": "stream",
     "text": [
      "/Users/leobix/anaconda3/lib/python3.6/site-packages/xgboost/core.py:614: UserWarning: Use subset (sliced data) of np.ndarray is not recommended because it will generate extra copies and increase memory consumption\n",
      "  \"because it will generate extra copies and increase memory consumption\")\n"
     ]
    },
    {
     "name": "stdout",
     "output_type": "stream",
     "text": [
      "[14:21:05] WARNING: src/objective/regression_obj.cu:152: reg:linear is now deprecated in favor of reg:squarederror.\n",
      "MSE error for step  22  is:  1.2497204111570357\n",
      "MAE error for step  22  is:  0.8925628184669019\n"
     ]
    },
    {
     "name": "stderr",
     "output_type": "stream",
     "text": [
      "/Users/leobix/anaconda3/lib/python3.6/site-packages/xgboost/core.py:614: UserWarning: Use subset (sliced data) of np.ndarray is not recommended because it will generate extra copies and increase memory consumption\n",
      "  \"because it will generate extra copies and increase memory consumption\")\n"
     ]
    },
    {
     "name": "stdout",
     "output_type": "stream",
     "text": [
      "[14:24:07] WARNING: src/objective/regression_obj.cu:152: reg:linear is now deprecated in favor of reg:squarederror.\n",
      "MSE error for step  23  is:  1.3339885104930764\n",
      "MAE error for step  23  is:  0.9189566591881413\n"
     ]
    },
    {
     "name": "stderr",
     "output_type": "stream",
     "text": [
      "/Users/leobix/anaconda3/lib/python3.6/site-packages/xgboost/core.py:614: UserWarning: Use subset (sliced data) of np.ndarray is not recommended because it will generate extra copies and increase memory consumption\n",
      "  \"because it will generate extra copies and increase memory consumption\")\n"
     ]
    },
    {
     "name": "stdout",
     "output_type": "stream",
     "text": [
      "[14:27:11] WARNING: src/objective/regression_obj.cu:152: reg:linear is now deprecated in favor of reg:squarederror.\n",
      "MSE error for step  24  is:  1.3809946522266012\n",
      "MAE error for step  24  is:  0.9343316151753331\n"
     ]
    },
    {
     "name": "stderr",
     "output_type": "stream",
     "text": [
      "/Users/leobix/anaconda3/lib/python3.6/site-packages/xgboost/core.py:614: UserWarning: Use subset (sliced data) of np.ndarray is not recommended because it will generate extra copies and increase memory consumption\n",
      "  \"because it will generate extra copies and increase memory consumption\")\n"
     ]
    },
    {
     "name": "stdout",
     "output_type": "stream",
     "text": [
      "[14:30:11] WARNING: src/objective/regression_obj.cu:152: reg:linear is now deprecated in favor of reg:squarederror.\n",
      "MSE error for step  25  is:  1.419479533668145\n",
      "MAE error for step  25  is:  0.9474810328674346\n"
     ]
    },
    {
     "name": "stderr",
     "output_type": "stream",
     "text": [
      "/Users/leobix/anaconda3/lib/python3.6/site-packages/xgboost/core.py:614: UserWarning: Use subset (sliced data) of np.ndarray is not recommended because it will generate extra copies and increase memory consumption\n",
      "  \"because it will generate extra copies and increase memory consumption\")\n"
     ]
    },
    {
     "name": "stdout",
     "output_type": "stream",
     "text": [
      "[14:33:14] WARNING: src/objective/regression_obj.cu:152: reg:linear is now deprecated in favor of reg:squarederror.\n",
      "MSE error for step  26  is:  1.4090006100572918\n",
      "MAE error for step  26  is:  0.9456102996726953\n"
     ]
    },
    {
     "name": "stderr",
     "output_type": "stream",
     "text": [
      "/Users/leobix/anaconda3/lib/python3.6/site-packages/xgboost/core.py:614: UserWarning: Use subset (sliced data) of np.ndarray is not recommended because it will generate extra copies and increase memory consumption\n",
      "  \"because it will generate extra copies and increase memory consumption\")\n"
     ]
    },
    {
     "name": "stdout",
     "output_type": "stream",
     "text": [
      "[14:36:17] WARNING: src/objective/regression_obj.cu:152: reg:linear is now deprecated in favor of reg:squarederror.\n",
      "MSE error for step  27  is:  1.4487556201244094\n",
      "MAE error for step  27  is:  0.963158417557133\n"
     ]
    },
    {
     "name": "stderr",
     "output_type": "stream",
     "text": [
      "/Users/leobix/anaconda3/lib/python3.6/site-packages/xgboost/core.py:614: UserWarning: Use subset (sliced data) of np.ndarray is not recommended because it will generate extra copies and increase memory consumption\n",
      "  \"because it will generate extra copies and increase memory consumption\")\n"
     ]
    },
    {
     "name": "stdout",
     "output_type": "stream",
     "text": [
      "[14:39:22] WARNING: src/objective/regression_obj.cu:152: reg:linear is now deprecated in favor of reg:squarederror.\n",
      "MSE error for step  28  is:  1.4972525020315017\n",
      "MAE error for step  28  is:  0.9800066163535962\n"
     ]
    },
    {
     "name": "stderr",
     "output_type": "stream",
     "text": [
      "/Users/leobix/anaconda3/lib/python3.6/site-packages/xgboost/core.py:614: UserWarning: Use subset (sliced data) of np.ndarray is not recommended because it will generate extra copies and increase memory consumption\n",
      "  \"because it will generate extra copies and increase memory consumption\")\n"
     ]
    },
    {
     "name": "stdout",
     "output_type": "stream",
     "text": [
      "[14:42:25] WARNING: src/objective/regression_obj.cu:152: reg:linear is now deprecated in favor of reg:squarederror.\n",
      "MSE error for step  29  is:  1.471850514319492\n",
      "MAE error for step  29  is:  0.9743700888686518\n"
     ]
    },
    {
     "name": "stderr",
     "output_type": "stream",
     "text": [
      "/Users/leobix/anaconda3/lib/python3.6/site-packages/xgboost/core.py:614: UserWarning: Use subset (sliced data) of np.ndarray is not recommended because it will generate extra copies and increase memory consumption\n",
      "  \"because it will generate extra copies and increase memory consumption\")\n"
     ]
    },
    {
     "name": "stdout",
     "output_type": "stream",
     "text": [
      "[14:45:30] WARNING: src/objective/regression_obj.cu:152: reg:linear is now deprecated in favor of reg:squarederror.\n",
      "MSE error for step  30  is:  1.4828178734208868\n",
      "MAE error for step  30  is:  0.9803699965054142\n"
     ]
    },
    {
     "name": "stderr",
     "output_type": "stream",
     "text": [
      "/Users/leobix/anaconda3/lib/python3.6/site-packages/xgboost/core.py:614: UserWarning: Use subset (sliced data) of np.ndarray is not recommended because it will generate extra copies and increase memory consumption\n",
      "  \"because it will generate extra copies and increase memory consumption\")\n"
     ]
    },
    {
     "name": "stdout",
     "output_type": "stream",
     "text": [
      "[14:48:44] WARNING: src/objective/regression_obj.cu:152: reg:linear is now deprecated in favor of reg:squarederror.\n",
      "MSE error for step  31  is:  1.5424145203016104\n",
      "MAE error for step  31  is:  1.0018483576609594\n"
     ]
    },
    {
     "name": "stderr",
     "output_type": "stream",
     "text": [
      "/Users/leobix/anaconda3/lib/python3.6/site-packages/xgboost/core.py:614: UserWarning: Use subset (sliced data) of np.ndarray is not recommended because it will generate extra copies and increase memory consumption\n",
      "  \"because it will generate extra copies and increase memory consumption\")\n"
     ]
    },
    {
     "name": "stdout",
     "output_type": "stream",
     "text": [
      "[14:51:53] WARNING: src/objective/regression_obj.cu:152: reg:linear is now deprecated in favor of reg:squarederror.\n",
      "MSE error for step  32  is:  1.548837176396926\n",
      "MAE error for step  32  is:  1.0049384211076204\n"
     ]
    },
    {
     "name": "stderr",
     "output_type": "stream",
     "text": [
      "/Users/leobix/anaconda3/lib/python3.6/site-packages/xgboost/core.py:614: UserWarning: Use subset (sliced data) of np.ndarray is not recommended because it will generate extra copies and increase memory consumption\n",
      "  \"because it will generate extra copies and increase memory consumption\")\n"
     ]
    },
    {
     "name": "stdout",
     "output_type": "stream",
     "text": [
      "[14:55:02] WARNING: src/objective/regression_obj.cu:152: reg:linear is now deprecated in favor of reg:squarederror.\n",
      "MSE error for step  33  is:  1.546746909109885\n",
      "MAE error for step  33  is:  1.0030070521216592\n"
     ]
    },
    {
     "name": "stderr",
     "output_type": "stream",
     "text": [
      "/Users/leobix/anaconda3/lib/python3.6/site-packages/xgboost/core.py:614: UserWarning: Use subset (sliced data) of np.ndarray is not recommended because it will generate extra copies and increase memory consumption\n",
      "  \"because it will generate extra copies and increase memory consumption\")\n"
     ]
    },
    {
     "name": "stdout",
     "output_type": "stream",
     "text": [
      "[14:58:18] WARNING: src/objective/regression_obj.cu:152: reg:linear is now deprecated in favor of reg:squarederror.\n",
      "MSE error for step  34  is:  1.5588944880782893\n",
      "MAE error for step  34  is:  1.0068654559593693\n"
     ]
    },
    {
     "name": "stderr",
     "output_type": "stream",
     "text": [
      "/Users/leobix/anaconda3/lib/python3.6/site-packages/xgboost/core.py:614: UserWarning: Use subset (sliced data) of np.ndarray is not recommended because it will generate extra copies and increase memory consumption\n",
      "  \"because it will generate extra copies and increase memory consumption\")\n"
     ]
    },
    {
     "name": "stdout",
     "output_type": "stream",
     "text": [
      "[15:01:42] WARNING: src/objective/regression_obj.cu:152: reg:linear is now deprecated in favor of reg:squarederror.\n",
      "MSE error for step  35  is:  1.6095260700735463\n",
      "MAE error for step  35  is:  1.0167521629099157\n"
     ]
    },
    {
     "name": "stderr",
     "output_type": "stream",
     "text": [
      "/Users/leobix/anaconda3/lib/python3.6/site-packages/xgboost/core.py:614: UserWarning: Use subset (sliced data) of np.ndarray is not recommended because it will generate extra copies and increase memory consumption\n",
      "  \"because it will generate extra copies and increase memory consumption\")\n"
     ]
    },
    {
     "name": "stdout",
     "output_type": "stream",
     "text": [
      "[15:08:38] WARNING: src/objective/regression_obj.cu:152: reg:linear is now deprecated in favor of reg:squarederror.\n",
      "MSE error for step  36  is:  1.6803094841375237\n",
      "MAE error for step  36  is:  1.032239249932061\n"
     ]
    },
    {
     "name": "stderr",
     "output_type": "stream",
     "text": [
      "/Users/leobix/anaconda3/lib/python3.6/site-packages/xgboost/core.py:614: UserWarning: Use subset (sliced data) of np.ndarray is not recommended because it will generate extra copies and increase memory consumption\n",
      "  \"because it will generate extra copies and increase memory consumption\")\n"
     ]
    },
    {
     "name": "stdout",
     "output_type": "stream",
     "text": [
      "[15:22:37] WARNING: src/objective/regression_obj.cu:152: reg:linear is now deprecated in favor of reg:squarederror.\n",
      "MSE error for step  37  is:  1.650000803190019\n",
      "MAE error for step  37  is:  1.0262071059630318\n"
     ]
    },
    {
     "name": "stderr",
     "output_type": "stream",
     "text": [
      "/Users/leobix/anaconda3/lib/python3.6/site-packages/xgboost/core.py:614: UserWarning: Use subset (sliced data) of np.ndarray is not recommended because it will generate extra copies and increase memory consumption\n",
      "  \"because it will generate extra copies and increase memory consumption\")\n"
     ]
    },
    {
     "name": "stdout",
     "output_type": "stream",
     "text": [
      "[15:31:17] WARNING: src/objective/regression_obj.cu:152: reg:linear is now deprecated in favor of reg:squarederror.\n",
      "MSE error for step  38  is:  1.6773531119780367\n",
      "MAE error for step  38  is:  1.0317339230293552\n"
     ]
    },
    {
     "name": "stderr",
     "output_type": "stream",
     "text": [
      "/Users/leobix/anaconda3/lib/python3.6/site-packages/xgboost/core.py:614: UserWarning: Use subset (sliced data) of np.ndarray is not recommended because it will generate extra copies and increase memory consumption\n",
      "  \"because it will generate extra copies and increase memory consumption\")\n"
     ]
    },
    {
     "name": "stdout",
     "output_type": "stream",
     "text": [
      "[15:35:11] WARNING: src/objective/regression_obj.cu:152: reg:linear is now deprecated in favor of reg:squarederror.\n",
      "MSE error for step  39  is:  1.6802720851004036\n",
      "MAE error for step  39  is:  1.0317502620890757\n"
     ]
    },
    {
     "name": "stderr",
     "output_type": "stream",
     "text": [
      "/Users/leobix/anaconda3/lib/python3.6/site-packages/xgboost/core.py:614: UserWarning: Use subset (sliced data) of np.ndarray is not recommended because it will generate extra copies and increase memory consumption\n",
      "  \"because it will generate extra copies and increase memory consumption\")\n"
     ]
    },
    {
     "name": "stdout",
     "output_type": "stream",
     "text": [
      "[15:38:12] WARNING: src/objective/regression_obj.cu:152: reg:linear is now deprecated in favor of reg:squarederror.\n",
      "MSE error for step  40  is:  1.7272811238530859\n",
      "MAE error for step  40  is:  1.0437861142226388\n"
     ]
    },
    {
     "name": "stderr",
     "output_type": "stream",
     "text": [
      "/Users/leobix/anaconda3/lib/python3.6/site-packages/xgboost/core.py:614: UserWarning: Use subset (sliced data) of np.ndarray is not recommended because it will generate extra copies and increase memory consumption\n",
      "  \"because it will generate extra copies and increase memory consumption\")\n"
     ]
    },
    {
     "name": "stdout",
     "output_type": "stream",
     "text": [
      "[15:40:56] WARNING: src/objective/regression_obj.cu:152: reg:linear is now deprecated in favor of reg:squarederror.\n",
      "MSE error for step  41  is:  1.7721396207398918\n",
      "MAE error for step  41  is:  1.050237959921624\n"
     ]
    },
    {
     "name": "stderr",
     "output_type": "stream",
     "text": [
      "/Users/leobix/anaconda3/lib/python3.6/site-packages/xgboost/core.py:614: UserWarning: Use subset (sliced data) of np.ndarray is not recommended because it will generate extra copies and increase memory consumption\n",
      "  \"because it will generate extra copies and increase memory consumption\")\n"
     ]
    },
    {
     "name": "stdout",
     "output_type": "stream",
     "text": [
      "[15:43:41] WARNING: src/objective/regression_obj.cu:152: reg:linear is now deprecated in favor of reg:squarederror.\n",
      "MSE error for step  42  is:  1.767826026998671\n",
      "MAE error for step  42  is:  1.0532537637519925\n"
     ]
    },
    {
     "name": "stderr",
     "output_type": "stream",
     "text": [
      "/Users/leobix/anaconda3/lib/python3.6/site-packages/xgboost/core.py:614: UserWarning: Use subset (sliced data) of np.ndarray is not recommended because it will generate extra copies and increase memory consumption\n",
      "  \"because it will generate extra copies and increase memory consumption\")\n"
     ]
    },
    {
     "name": "stdout",
     "output_type": "stream",
     "text": [
      "[15:46:27] WARNING: src/objective/regression_obj.cu:152: reg:linear is now deprecated in favor of reg:squarederror.\n",
      "MSE error for step  43  is:  1.7607122054022646\n",
      "MAE error for step  43  is:  1.0558203207248325\n"
     ]
    },
    {
     "name": "stderr",
     "output_type": "stream",
     "text": [
      "/Users/leobix/anaconda3/lib/python3.6/site-packages/xgboost/core.py:614: UserWarning: Use subset (sliced data) of np.ndarray is not recommended because it will generate extra copies and increase memory consumption\n",
      "  \"because it will generate extra copies and increase memory consumption\")\n"
     ]
    },
    {
     "name": "stdout",
     "output_type": "stream",
     "text": [
      "[15:49:12] WARNING: src/objective/regression_obj.cu:152: reg:linear is now deprecated in favor of reg:squarederror.\n",
      "MSE error for step  44  is:  1.8033847852332208\n",
      "MAE error for step  44  is:  1.0636473242083582\n"
     ]
    },
    {
     "name": "stderr",
     "output_type": "stream",
     "text": [
      "/Users/leobix/anaconda3/lib/python3.6/site-packages/xgboost/core.py:614: UserWarning: Use subset (sliced data) of np.ndarray is not recommended because it will generate extra copies and increase memory consumption\n",
      "  \"because it will generate extra copies and increase memory consumption\")\n"
     ]
    },
    {
     "name": "stdout",
     "output_type": "stream",
     "text": [
      "[15:51:57] WARNING: src/objective/regression_obj.cu:152: reg:linear is now deprecated in favor of reg:squarederror.\n",
      "MSE error for step  45  is:  1.817950938125923\n",
      "MAE error for step  45  is:  1.0722649080316757\n"
     ]
    },
    {
     "name": "stderr",
     "output_type": "stream",
     "text": [
      "/Users/leobix/anaconda3/lib/python3.6/site-packages/xgboost/core.py:614: UserWarning: Use subset (sliced data) of np.ndarray is not recommended because it will generate extra copies and increase memory consumption\n",
      "  \"because it will generate extra copies and increase memory consumption\")\n"
     ]
    },
    {
     "name": "stdout",
     "output_type": "stream",
     "text": [
      "[15:54:45] WARNING: src/objective/regression_obj.cu:152: reg:linear is now deprecated in favor of reg:squarederror.\n",
      "MSE error for step  46  is:  1.8298620648237496\n",
      "MAE error for step  46  is:  1.0733401322876406\n"
     ]
    },
    {
     "name": "stderr",
     "output_type": "stream",
     "text": [
      "/Users/leobix/anaconda3/lib/python3.6/site-packages/xgboost/core.py:614: UserWarning: Use subset (sliced data) of np.ndarray is not recommended because it will generate extra copies and increase memory consumption\n",
      "  \"because it will generate extra copies and increase memory consumption\")\n"
     ]
    },
    {
     "name": "stdout",
     "output_type": "stream",
     "text": [
      "[15:57:42] WARNING: src/objective/regression_obj.cu:152: reg:linear is now deprecated in favor of reg:squarederror.\n",
      "MSE error for step  47  is:  1.9124879371616736\n",
      "MAE error for step  47  is:  1.0862594779487416\n"
     ]
    }
   ],
   "source": [
    "models, maes, mses, y_hats = get_all_prediction_models(48)"
   ]
  },
  {
   "cell_type": "code",
   "execution_count": 91,
   "metadata": {
    "collapsed": true
   },
   "outputs": [],
   "source": [
    "def get_forecasts(y_hats, y_te):\n",
    "    forecasts = np.zeros((len(y_hats[0]), len(y_hats)))\n",
    "    for i in range(len(y_hats[0])):\n",
    "        for t in range(len(y_hats)):\n",
    "            forecasts[i,t] = y_hats[t][i]\n",
    "    return forecasts, y_te[:,:,0]"
   ]
  },
  {
   "cell_type": "code",
   "execution_count": 93,
   "metadata": {},
   "outputs": [
    {
     "data": {
      "text/plain": [
       "(3788,)"
      ]
     },
     "execution_count": 93,
     "metadata": {},
     "output_type": "execute_result"
    }
   ],
   "source": [
    "y_te.shape"
   ]
  },
  {
   "cell_type": "code",
   "execution_count": 94,
   "metadata": {
    "collapsed": true
   },
   "outputs": [],
   "source": [
    "forecasts, y_true = get_forecasts(y_hats, y_test_unscaled)"
   ]
  },
  {
   "cell_type": "code",
   "execution_count": 100,
   "metadata": {},
   "outputs": [
    {
     "data": {
      "image/png": "[encoded data removed]",
      "text/plain": [
       "<matplotlib.figure.Figure at 0x148d8af28>"
      ]
     },
     "metadata": {},
     "output_type": "display_data"
    }
   ],
   "source": [
    "plt.plot(forecasts[2500], label = 'predicted')\n",
    "plt.plot(y_true[2500], label = 'true')\n",
    "plt.legend()\n",
    "plt.show()"
   ]
  },
  {
   "cell_type": "code",
   "execution_count": 119,
   "metadata": {
    "collapsed": true
   },
   "outputs": [],
   "source": [
    "def get_angle_in_degree(cos, sin):\n",
    "    angle = 360*np.arccos(cos)/(2*np.pi)\n",
    "    if sin >=0:\n",
    "        angle +=180\n",
    "    return (angle + 180) % 360\n",
    "\n",
    "def test_angle(cos, sin):\n",
    "    angle_cos = 360*np.arccos(cos)/(2*np.pi)\n",
    "    if sin <=0:\n",
    "        angle_cos +=180\n",
    "    angle_sin = 360*np.arcsin(sin)/(2*np.pi)\n",
    "    if cos <=0:\n",
    "        angle_sin +=180\n",
    "    return angle_cos, angle_sin   \n",
    "    \n",
    "def is_favorable(cos, sin):\n",
    "    #angle is between NO and E\n",
    "    angle = get_angle_in_degree(cos, sin)\n",
    "    #NO\n",
    "    if angle > 303.75:\n",
    "        return True\n",
    "    #under E\n",
    "    elif angle < 101.25:\n",
    "        return True\n",
    "    return False\n",
    "\n",
    "def is_South(cos, sin):\n",
    "    angle = get_angle_in_degree(cos, sin)\n",
    "    #Direction S, SSO, SSE\n",
    "    if 146.25 <= angle <= 213.75:\n",
    "        return True\n",
    "    return False"
   ]
  },
  {
   "cell_type": "code",
   "execution_count": 120,
   "metadata": {},
   "outputs": [],
   "source": [
    "def is_S1(speed, cos, sin):\n",
    "    if speed >= 4:\n",
    "        return True\n",
    "    elif speed > 1 and is_favorable(cos, sin):\n",
    "        return True\n",
    "    return False\n",
    "    \n",
    "def is_S2(speed, cos, sin):\n",
    "    if 2 <= speed < 4 and not is_favorable(cos, sin):\n",
    "        return True\n",
    "    elif 0.5 <= speed <= 1 and is_favorable(cos, sin):\n",
    "        return True\n",
    "    return False\n",
    "    \n",
    "def is_S2b(speed, cos, sin):\n",
    "    if 1<= speed <=2 and not is_favorable(cos, sin) and not is_South(cos, sin):\n",
    "        return True\n",
    "    return False\n",
    "\n",
    "def is_S3(speed, cos, sin):\n",
    "    if 0.5 <= speed < 1 and not is_favorable(cos, sin) and not is_South(cos, sin):\n",
    "        return True\n",
    "    elif speed < 0.5 and is_favorable(cos, sin):\n",
    "        return True\n",
    "    return False\n",
    "\n",
    "def is_S3b(speed, cos, sin):\n",
    "    if speed < 2 and is_South(cos, sin):\n",
    "        return True\n",
    "    return False\n",
    "\n",
    "def is_S4(speed, cos, sin):\n",
    "    if speed < 0.5 and not is_favorable(cos, sin):\n",
    "        return True\n",
    "    return False\n",
    "\n",
    "def get_scenario(speed, cos, sin):\n",
    "    if is_S1(speed, cos, sin):\n",
    "        return 1\n",
    "    elif is_S2(speed, cos, sin):\n",
    "        return 2\n",
    "    elif is_S2b(speed, cos, sin):\n",
    "        return 2\n",
    "    elif is_S3(speed, cos, sin):\n",
    "        return 3\n",
    "    elif is_S3b(speed, cos, sin):\n",
    "        return 3\n",
    "    elif is_S4(speed, cos, sin):\n",
    "        return 4\n",
    "    print(\"There is a problem.\")\n",
    "    print(\"speed: \", speed, \" cos: \", cos, \" sin: \", sin)"
   ]
  },
  {
   "cell_type": "code",
   "execution_count": 121,
   "metadata": {},
   "outputs": [],
   "source": [
    "def get_all_scenarios(y_speed, y_cos, y_sin):\n",
    "    y = []\n",
    "    for i in range(len(y_speed)):\n",
    "        y.append(get_scenario(y_speed[i], y_cos[i], y_sin[i]))\n",
    "    return np.array(y)"
   ]
  },
  {
   "cell_type": "code",
   "execution_count": 176,
   "metadata": {
    "collapsed": true
   },
   "outputs": [],
   "source": [
    "y_t_class = get_all_scenarios(y_t_speed, y_t_cos, y_t_sin)"
   ]
  },
  {
   "cell_type": "code",
   "execution_count": 198,
   "metadata": {},
   "outputs": [
    {
     "data": {
      "text/plain": [
       "array([ 6.47500000e+00,  9.97032085e-01,  6.97232715e-02,  2.67750000e+01,\n",
       "        3.48750000e+02,  1.00000000e+00, -1.62459672e-01, -9.84003723e-01,\n",
       "        9.78880109e-01,  2.04435153e-01,  3.30000000e+00,  1.00000000e+00,\n",
       "        6.85000000e+00,  1.50000000e+01,  5.77500000e+00,  9.44506746e-01,\n",
       "        2.76239757e-01,  2.55000000e+01,  1.26000000e+02,  1.00000000e+00,\n",
       "        9.77549109e-02, -9.92522266e-01,  9.78880109e-01,  2.04435153e-01,\n",
       "        3.30000000e+00,  1.00000000e+00,  6.85000000e+00,  1.50000000e+01,\n",
       "        5.50000000e+00,  9.31779656e-01,  3.48420634e-01,  2.36750000e+01,\n",
       "        1.12500000e+01,  1.00000000e+00,  3.51307658e-01, -9.33402057e-01,\n",
       "        9.78880109e-01,  2.04435153e-01,  3.30000000e+00,  1.00000000e+00,\n",
       "        6.85000000e+00,  1.50000000e+01,  5.30000000e+00,  9.41052927e-01,\n",
       "        3.19277128e-01,  2.26750000e+01,  0.00000000e+00,  1.00000000e+00,\n",
       "        5.80919369e-01, -8.10672041e-01,  9.78880109e-01,  2.04435153e-01,\n",
       "        3.30000000e+00,  1.00000000e+00,  6.85000000e+00,  1.50000000e+01,\n",
       "        6.72500000e+00,  8.36724589e-01,  5.38206144e-01,  2.21750000e+01,\n",
       "        0.00000000e+00,  1.00000000e+00,  7.70942385e-01, -6.32696065e-01,\n",
       "        9.78880109e-01,  2.04435153e-01,  3.30000000e+00,  1.00000000e+00,\n",
       "        6.85000000e+00,  1.50000000e+01,  4.95000000e+00,  7.37026503e-01,\n",
       "        6.75356756e-01,  2.18750000e+01,  0.00000000e+00,  1.00000000e+00,\n",
       "        9.08426952e-01, -4.11602897e-01,  9.78880109e-01,  2.04435153e-01,\n",
       "        3.30000000e+00,  1.00000000e+00,  6.85000000e+00,  1.50000000e+01,\n",
       "        3.90000000e+00,  6.31366224e-01,  7.72796303e-01,  2.15000000e+01,\n",
       "        0.00000000e+00,  1.00000000e+00,  9.84003723e-01, -1.62459672e-01,\n",
       "        9.78880109e-01,  2.04435153e-01,  3.30000000e+00,  1.00000000e+00,\n",
       "        6.85000000e+00,  1.50000000e+01,  4.05000000e+00,  5.35970738e-01,\n",
       "        8.41305538e-01,  2.12500000e+01,  0.00000000e+00,  1.00000000e+00,\n",
       "        9.92522266e-01,  9.77549109e-02,  1.91872091e-01,  9.81419941e-01,\n",
       "        3.72500000e+00,  6.00000000e+00,  6.42500000e+00,  1.40000000e+01,\n",
       "        5.22500000e+00,  4.69152190e-01,  8.82341280e-01,  2.14000000e+01,\n",
       "        0.00000000e+00,  1.00000000e+00,  9.33402057e-01,  3.51307658e-01,\n",
       "        1.91872091e-01,  9.81419941e-01,  3.72500000e+00,  6.00000000e+00,\n",
       "        6.42500000e+00,  1.40000000e+01,  4.90000000e+00,  4.65390347e-01,\n",
       "        8.84557094e-01,  2.08250000e+01,  0.00000000e+00,  1.00000000e+00,\n",
       "        8.10672041e-01,  5.80919369e-01,  1.91872091e-01,  9.81419941e-01,\n",
       "        3.72500000e+00,  6.00000000e+00,  6.42500000e+00,  1.40000000e+01,\n",
       "        5.52500000e+00,  4.76704677e-01,  8.77980796e-01,  2.07250000e+01,\n",
       "        0.00000000e+00,  1.00000000e+00,  6.32696065e-01,  7.70942385e-01,\n",
       "        1.91872091e-01,  9.81419941e-01,  3.72500000e+00,  6.00000000e+00,\n",
       "        6.42500000e+00,  1.40000000e+01,  5.37500000e+00,  3.86257424e-01,\n",
       "        9.21121769e-01,  2.03500000e+01,  0.00000000e+00,  1.00000000e+00,\n",
       "        4.11602897e-01,  9.08426952e-01,  1.91872091e-01,  9.81419941e-01,\n",
       "        3.72500000e+00,  6.00000000e+00,  6.42500000e+00,  1.40000000e+01,\n",
       "        4.60000000e+00,  4.90841734e-01,  8.67710827e-01,  2.02000000e+01,\n",
       "        3.25000000e+00,  1.00000000e+00,  1.62459672e-01,  9.84003723e-01,\n",
       "        1.91872091e-01,  9.81419941e-01,  3.72500000e+00,  6.00000000e+00,\n",
       "        6.42500000e+00,  1.40000000e+01,  3.72500000e+00,  5.62353170e-01,\n",
       "        8.25941748e-01,  2.03250000e+01,  2.95000000e+01,  1.00000000e+00,\n",
       "       -9.77549109e-02,  9.92522266e-01,  1.91872091e-01,  9.81419941e-01,\n",
       "        3.72500000e+00,  6.00000000e+00,  6.42500000e+00,  1.40000000e+01,\n",
       "        4.80000000e+00,  5.09810674e-01,  8.56889867e-01,  2.08250000e+01,\n",
       "        1.17500000e+02,  1.00000000e+00, -3.51307658e-01,  9.33402057e-01,\n",
       "        1.91872091e-01,  9.81419941e-01,  3.72500000e+00,  6.00000000e+00,\n",
       "        6.42500000e+00,  1.40000000e+01,  5.75000000e+00,  6.21977590e-01,\n",
       "        7.75017681e-01,  2.27750000e+01,  4.01000000e+02,  1.00000000e+00,\n",
       "       -5.80919369e-01,  8.10672041e-01,  1.91872091e-01,  9.81419941e-01,\n",
       "        3.72500000e+00,  6.00000000e+00,  6.42500000e+00,  1.40000000e+01,\n",
       "        5.17500000e+00,  7.18255121e-01,  6.81028914e-01,  2.46000000e+01,\n",
       "        5.76500000e+02,  1.00000000e+00, -7.70942385e-01,  6.32696065e-01,\n",
       "        1.91872091e-01,  9.81419941e-01,  3.72500000e+00,  6.00000000e+00,\n",
       "        6.42500000e+00,  1.40000000e+01,  4.70000000e+00,  7.82869999e-01,\n",
       "        6.06133503e-01,  2.62750000e+01,  7.20750000e+02,  1.00000000e+00,\n",
       "       -9.08426952e-01,  4.11602897e-01,  1.91872091e-01,  9.81419941e-01,\n",
       "        3.72500000e+00,  6.00000000e+00,  6.42500000e+00,  1.40000000e+01,\n",
       "        4.97500000e+00,  8.78425106e-01,  4.24057337e-01,  2.80000000e+01,\n",
       "        8.50000000e+02,  1.00000000e+00, -9.84003723e-01,  1.62459672e-01,\n",
       "        1.91872091e-01,  9.81419941e-01,  3.72500000e+00,  6.00000000e+00,\n",
       "        6.42500000e+00,  1.40000000e+01,  5.02500000e+00,  9.79842530e-01,\n",
       "        1.24804083e-01,  2.90500000e+01,  8.93250000e+02,  1.00000000e+00,\n",
       "       -9.92522266e-01, -9.77549109e-02,  1.91872091e-01,  9.81419941e-01,\n",
       "        3.72500000e+00,  6.00000000e+00,  6.42500000e+00,  1.40000000e+01,\n",
       "        5.60000000e+00,  9.97224401e-01, -2.17092862e-02,  2.94000000e+01,\n",
       "        8.79500000e+02,  1.00000000e+00, -9.33402057e-01, -3.51307658e-01,\n",
       "        1.91872091e-01,  9.81419941e-01,  3.72500000e+00,  6.00000000e+00,\n",
       "        6.42500000e+00,  1.40000000e+01,  6.42500000e+00,  9.74221664e-01,\n",
       "       -2.24916793e-01,  2.86250000e+01,  7.98500000e+02,  1.00000000e+00,\n",
       "       -8.10672041e-01, -5.80919369e-01,  1.91872091e-01,  9.81419941e-01,\n",
       "        3.72500000e+00,  6.00000000e+00,  6.42500000e+00,  1.40000000e+01,\n",
       "        6.20000000e+00,  9.74949141e-01, -2.07219621e-01,  2.81000000e+01,\n",
       "        6.68500000e+02,  1.00000000e+00, -6.32696065e-01, -7.70942385e-01,\n",
       "        1.91872091e-01,  9.81419941e-01,  3.72500000e+00,  6.00000000e+00,\n",
       "        6.42500000e+00,  1.40000000e+01,  5.90000000e+00,  9.70831688e-01,\n",
       "        8.92885467e-02,  2.72250000e+01,  5.07000000e+02,  1.00000000e+00,\n",
       "       -4.11602897e-01, -9.08426952e-01,  1.91872091e-01,  9.81419941e-01,\n",
       "        3.72500000e+00,  6.00000000e+00,  6.42500000e+00,  1.40000000e+01,\n",
       "        5.47500000e+00,  9.31199862e-01,  3.62126227e-01,  2.63250000e+01,\n",
       "        3.26250000e+02,  1.00000000e+00, -1.62459672e-01, -9.84003723e-01,\n",
       "        1.91872091e-01,  9.81419941e-01,  3.72500000e+00,  6.00000000e+00,\n",
       "        6.42500000e+00,  1.40000000e+01,  5.45000000e+00,  8.57945789e-01,\n",
       "        5.05322480e-01,  2.54750000e+01,  1.31500000e+02,  1.00000000e+00,\n",
       "        9.77549109e-02, -9.92522266e-01,  1.91872091e-01,  9.81419941e-01,\n",
       "        3.72500000e+00,  6.00000000e+00,  6.42500000e+00,  1.40000000e+01,\n",
       "        5.87500000e+00,  8.53789323e-01,  5.18073722e-01,  2.43250000e+01,\n",
       "        1.47500000e+01,  1.00000000e+00,  3.51307658e-01, -9.33402057e-01,\n",
       "        1.91872091e-01,  9.81419941e-01,  3.72500000e+00,  6.00000000e+00,\n",
       "        6.42500000e+00,  1.40000000e+01,  5.27500000e+00,  7.62457713e-01,\n",
       "        6.45463203e-01,  2.31750000e+01,  0.00000000e+00,  1.00000000e+00,\n",
       "        5.80919369e-01, -8.10672041e-01,  1.91872091e-01,  9.81419941e-01,\n",
       "        3.72500000e+00,  6.00000000e+00,  6.42500000e+00,  1.40000000e+01,\n",
       "        4.65000000e+00,  7.32562686e-01,  6.77187206e-01,  2.27500000e+01,\n",
       "        0.00000000e+00,  1.00000000e+00,  7.70942385e-01, -6.32696065e-01,\n",
       "        1.91872091e-01,  9.81419941e-01,  3.72500000e+00,  6.00000000e+00,\n",
       "        6.42500000e+00,  1.40000000e+01,  4.95000000e+00,  6.04718344e-01,\n",
       "        7.95256106e-01,  2.23750000e+01,  0.00000000e+00,  1.00000000e+00,\n",
       "        9.08426952e-01, -4.11602897e-01,  1.91872091e-01,  9.81419941e-01,\n",
       "        3.72500000e+00,  6.00000000e+00,  6.42500000e+00,  1.40000000e+01,\n",
       "        4.42500000e+00,  6.21469411e-01,  7.81251449e-01,  2.21000000e+01,\n",
       "        0.00000000e+00,  1.00000000e+00,  9.84003723e-01, -1.62459672e-01,\n",
       "        1.91872091e-01,  9.81419941e-01,  3.72500000e+00,  6.00000000e+00,\n",
       "        6.42500000e+00,  1.40000000e+01,  4.30000000e+00,  6.11085626e-01,\n",
       "        7.89219208e-01,  2.18000000e+01,  0.00000000e+00,  1.00000000e+00,\n",
       "        9.92522266e-01,  9.77549109e-02, -4.60688744e-01,  8.87561762e-01,\n",
       "        3.30000000e+00,  6.00000000e+00,  5.60000000e+00,  1.30000000e+01,\n",
       "        5.07500000e+00,  5.75196847e-01,  8.13699687e-01,  2.18000000e+01,\n",
       "        0.00000000e+00,  1.00000000e+00,  9.33402057e-01,  3.51307658e-01,\n",
       "       -4.60688744e-01,  8.87561762e-01,  3.30000000e+00,  6.00000000e+00,\n",
       "        5.60000000e+00,  1.30000000e+01,  4.40000000e+00,  6.94771217e-01,\n",
       "        7.13364878e-01,  2.19250000e+01,  0.00000000e+00,  1.00000000e+00,\n",
       "        8.10672041e-01,  5.80919369e-01, -4.60688744e-01,  8.87561762e-01,\n",
       "        3.30000000e+00,  6.00000000e+00,  5.60000000e+00,  1.30000000e+01,\n",
       "        4.35000000e+00,  5.26069818e-01,  8.42300592e-01,  2.19000000e+01,\n",
       "        0.00000000e+00,  1.00000000e+00,  6.32696065e-01,  7.70942385e-01,\n",
       "       -4.60688744e-01,  8.87561762e-01,  3.30000000e+00,  6.00000000e+00,\n",
       "        5.60000000e+00,  1.30000000e+01,  4.42500000e+00,  5.73267463e-01,\n",
       "        8.18717735e-01,  2.22250000e+01,  0.00000000e+00,  1.00000000e+00,\n",
       "        4.11602897e-01,  9.08426952e-01, -4.60688744e-01,  8.87561762e-01,\n",
       "        3.30000000e+00,  6.00000000e+00,  5.60000000e+00,  1.30000000e+01,\n",
       "        4.10000000e+00,  5.23381694e-01,  8.45811795e-01,  2.20000000e+01,\n",
       "        1.25000000e+00,  1.00000000e+00,  1.62459672e-01,  9.84003723e-01,\n",
       "       -4.60688744e-01,  8.87561762e-01,  3.30000000e+00,  6.00000000e+00,\n",
       "        5.60000000e+00,  1.30000000e+01,  3.30000000e+00,  3.25124262e-01,\n",
       "        9.44302871e-01,  2.18500000e+01,  3.70000000e+01,  1.00000000e+00,\n",
       "       -9.77549109e-02,  9.92522266e-01, -4.60688744e-01,  8.87561762e-01,\n",
       "        3.30000000e+00,  6.00000000e+00,  5.60000000e+00,  1.30000000e+01,\n",
       "        4.27500000e+00,  4.95323736e-01,  8.66572381e-01,  2.28500000e+01,\n",
       "        1.73000000e+02,  1.00000000e+00, -3.51307658e-01,  9.33402057e-01,\n",
       "       -4.60688744e-01,  8.87561762e-01,  3.30000000e+00,  6.00000000e+00,\n",
       "        5.60000000e+00,  1.30000000e+01,  5.20000000e+00,  5.48956847e-01,\n",
       "        8.29614105e-01,  2.43250000e+01,  3.75250000e+02,  1.00000000e+00,\n",
       "       -5.80919369e-01,  8.10672041e-01, -4.60688744e-01,  8.87561762e-01,\n",
       "        3.30000000e+00,  6.00000000e+00,  5.60000000e+00,  1.30000000e+01,\n",
       "        4.62500000e+00,  7.07071565e-01,  7.00850532e-01,  2.63500000e+01,\n",
       "        5.55250000e+02,  1.00000000e+00, -7.70942385e-01,  6.32696065e-01,\n",
       "       -4.60688744e-01,  8.87561762e-01,  3.30000000e+00,  6.00000000e+00,\n",
       "        5.60000000e+00,  1.30000000e+01,  4.87500000e+00,  7.02100994e-01,\n",
       "        7.08292008e-01,  2.83750000e+01,  7.09500000e+02,  1.00000000e+00,\n",
       "       -9.08426952e-01,  4.11602897e-01, -4.60688744e-01,  8.87561762e-01,\n",
       "        3.30000000e+00,  6.00000000e+00,  5.60000000e+00,  1.30000000e+01,\n",
       "        4.77500000e+00,  8.54875528e-01,  1.79353474e-01,  2.96750000e+01,\n",
       "        8.21250000e+02,  1.00000000e+00, -9.84003723e-01,  1.62459672e-01,\n",
       "       -4.60688744e-01,  8.87561762e-01,  3.30000000e+00,  6.00000000e+00,\n",
       "        5.60000000e+00,  1.30000000e+01,  5.27500000e+00,  8.03011631e-01,\n",
       "       -5.88739720e-01,  2.83000000e+01,  8.72500000e+02,  1.00000000e+00,\n",
       "       -9.92522266e-01, -9.77549109e-02, -4.60688744e-01,  8.87561762e-01,\n",
       "        3.30000000e+00,  6.00000000e+00,  5.60000000e+00,  1.30000000e+01,\n",
       "        5.60000000e+00,  9.54098204e-01, -2.46377705e-01,  2.99250000e+01,\n",
       "        8.69500000e+02,  1.00000000e+00, -9.33402057e-01, -3.51307658e-01,\n",
       "       -4.60688744e-01,  8.87561762e-01,  3.30000000e+00,  6.00000000e+00,\n",
       "        5.60000000e+00,  1.30000000e+01,  5.35000000e+00,  8.85092858e-01,\n",
       "       -4.17406891e-01,  2.95750000e+01,  7.95000000e+02,  1.00000000e+00,\n",
       "       -8.10672041e-01, -5.80919369e-01, -4.60688744e-01,  8.87561762e-01,\n",
       "        3.30000000e+00,  6.00000000e+00,  5.60000000e+00,  1.30000000e+01,\n",
       "        5.17500000e+00,  9.46075730e-01,  3.11917884e-01,  3.04250000e+01,\n",
       "        6.70500000e+02,  1.00000000e+00, -6.32696065e-01, -7.70942385e-01,\n",
       "       -4.60688744e-01,  8.87561762e-01,  3.30000000e+00,  6.00000000e+00,\n",
       "        5.60000000e+00,  1.30000000e+01,  4.60000000e+00,  9.15682191e-01,\n",
       "        3.65129750e-01,  3.05250000e+01,  5.10250000e+02,  1.00000000e+00,\n",
       "       -4.11602897e-01, -9.08426952e-01, -4.60688744e-01,  8.87561762e-01,\n",
       "        3.30000000e+00,  6.00000000e+00,  5.60000000e+00,  1.30000000e+01])"
      ]
     },
     "execution_count": 198,
     "metadata": {},
     "output_type": "execute_result"
    }
   ],
   "source": [
    "X_t[-1]"
   ]
  },
  {
   "cell_type": "code",
   "execution_count": 228,
   "metadata": {},
   "outputs": [
    {
     "name": "stderr",
     "output_type": "stream",
     "text": [
      "/Users/leobix/anaconda3/lib/python3.6/site-packages/sklearn/preprocessing/label.py:151: DeprecationWarning: The truth value of an empty array is ambiguous. Returning False, but in future this will result in an error. Use `array.size > 0` to check that an array is not empty.\n",
      "  if diff:\n"
     ]
    }
   ],
   "source": [
    "from xgboost import XGBClassifier\n",
    "xg_class = XGBClassifier(max_depth = 3)\n",
    "xg_class.fit(X_t, y_scenario_train)\n",
    "y_hat_class = xg_class.predict(X_te)"
   ]
  },
  {
   "cell_type": "code",
   "execution_count": 229,
   "metadata": {},
   "outputs": [
    {
     "name": "stdout",
     "output_type": "stream",
     "text": [
      "Accuracy for classification based prediction is: 1.0\n",
      "Accuracy for classification based prediction is: 0.7657657657657657\n"
     ]
    }
   ],
   "source": [
    "print(\"Accuracy for classification based prediction is:\", accuracy_score(y_scenario_test, y_hat_class))\n",
    "print(\"Accuracy for classification based prediction is:\", accuracy_score(y_scenario_test, true_scenario))"
   ]
  },
  {
   "cell_type": "code",
   "execution_count": 122,
   "metadata": {},
   "outputs": [],
   "source": [
    "y_pred_scenario = get_all_scenarios(y_hat_speed, y_hat_cos, y_hat_sin)\n",
    "y_baseline_scenario = get_all_scenarios(baseline_speed, baseline_cos, baseline_sin)\n",
    "y_true_scenario = get_all_scenarios(y_te_speed, y_te_cos, y_te_sin)"
   ]
  },
  {
   "cell_type": "code",
   "execution_count": 183,
   "metadata": {},
   "outputs": [
    {
     "name": "stdout",
     "output_type": "stream",
     "text": [
      "Accuracy for prediction from regression is: 0.8661897191308956\n",
      "Accuracy for baseline is: 0.8447270800211977\n",
      "Accuracy for classification based prediction is: 0.8672496025437202\n",
      "Accuracy for obtained forecast is: 0.8945416004239534\n"
     ]
    }
   ],
   "source": [
    "from sklearn.metrics import confusion_matrix\n",
    "\n",
    "from sklearn.metrics import accuracy_score\n",
    "confusion_matrix(y_true_scenario, y_pred_scenario)\n",
    "print(\"Accuracy for prediction from regression is:\", accuracy_score(true_scenario, y_pred_scenario))\n",
    "print(\"Accuracy for baseline is:\", accuracy_score(true_scenario, y_baseline_scenario))\n",
    "print(\"Accuracy for classification based prediction is:\", accuracy_score(true_scenario, y_hat_class))\n",
    "print(\"Accuracy for obtained forecast is:\", accuracy_score(true_scenario, y_true_scenario))"
   ]
  },
  {
   "cell_type": "code",
   "execution_count": 186,
   "metadata": {},
   "outputs": [
    {
     "data": {
      "text/plain": [
       "[array([ True, False,  True,  True,  True, False, False, False,  True,\n",
       "         True,  True,  True,  True,  True,  True,  True,  True,  True,\n",
       "         True,  True,  True, False, False,  True, False,  True,  True,\n",
       "         True, False,  True,  True, False, False, False, False,  True,\n",
       "        False,  True, False, False, False, False, False,  True,  True,\n",
       "         True,  True,  True, False, False, False, False,  True,  True,\n",
       "         True,  True, False, False, False,  True, False,  True,  True,\n",
       "         True, False,  True, False,  True,  True,  True,  True, False,\n",
       "         True, False, False, False,  True,  True,  True,  True,  True,\n",
       "        False,  True, False, False,  True,  True,  True,  True,  True,\n",
       "        False, False, False,  True,  True,  True, False,  True,  True,\n",
       "        False,  True, False,  True,  True, False,  True,  True, False,\n",
       "        False, False,  True, False, False,  True,  True, False, False,\n",
       "         True, False,  True,  True,  True, False,  True, False, False,\n",
       "         True,  True,  True, False, False,  True,  True, False,  True,\n",
       "         True,  True,  True, False, False,  True, False, False,  True,\n",
       "         True,  True, False, False,  True, False, False,  True, False,\n",
       "        False, False, False,  True,  True, False, False,  True,  True,\n",
       "         True,  True, False, False, False,  True,  True,  True, False,\n",
       "         True,  True,  True,  True, False, False, False,  True,  True,\n",
       "         True, False, False, False, False,  True,  True, False,  True,\n",
       "         True,  True,  True,  True, False, False,  True, False,  True,\n",
       "        False, False, False, False,  True,  True,  True,  True,  True,\n",
       "         True,  True,  True, False, False, False,  True,  True, False,\n",
       "         True,  True, False,  True,  True, False,  True,  True,  True,\n",
       "         True,  True, False, False, False,  True, False, False,  True,\n",
       "        False, False,  True,  True, False,  True,  True,  True, False,\n",
       "         True, False, False, False, False,  True, False, False,  True,\n",
       "         True,  True,  True,  True,  True, False,  True, False,  True,\n",
       "        False, False,  True, False, False,  True,  True,  True,  True,\n",
       "         True,  True, False,  True,  True,  True, False, False, False,\n",
       "        False,  True,  True, False,  True, False, False, False,  True,\n",
       "         True, False, False,  True, False, False, False, False, False,\n",
       "         True,  True,  True,  True,  True, False, False,  True, False,\n",
       "        False,  True,  True, False, False, False, False, False,  True,\n",
       "         True,  True,  True, False,  True, False,  True,  True, False,\n",
       "         True,  True,  True,  True, False, False, False,  True, False,\n",
       "         True, False, False, False, False, False, False,  True,  True,\n",
       "         True, False,  True, False, False,  True, False,  True,  True,\n",
       "        False,  True,  True,  True,  True, False,  True,  True, False,\n",
       "        False,  True, False, False,  True,  True, False, False,  True,\n",
       "         True, False,  True,  True, False, False,  True, False,  True,\n",
       "        False, False, False, False, False, False,  True,  True, False,\n",
       "         True,  True,  True, False,  True,  True,  True, False,  True,\n",
       "        False, False, False,  True,  True,  True, False,  True, False,\n",
       "         True,  True,  True,  True,  True,  True,  True, False, False,\n",
       "        False, False,  True,  True, False,  True,  True,  True,  True,\n",
       "         True, False,  True,  True,  True,  True,  True, False, False,\n",
       "        False, False,  True, False, False,  True,  True,  True, False,\n",
       "        False,  True,  True, False,  True,  True, False, False, False,\n",
       "         True, False,  True,  True,  True,  True,  True,  True, False,\n",
       "         True,  True,  True,  True, False, False, False, False,  True,\n",
       "         True,  True, False,  True,  True,  True,  True,  True,  True,\n",
       "         True, False,  True, False, False, False, False,  True,  True,\n",
       "         True,  True,  True, False,  True, False, False, False,  True,\n",
       "         True, False, False, False, False, False,  True,  True,  True,\n",
       "        False, False, False,  True,  True,  True,  True, False,  True,\n",
       "        False,  True, False, False, False,  True, False, False, False,\n",
       "        False, False, False,  True,  True,  True,  True,  True, False,\n",
       "        False, False, False,  True, False, False,  True, False,  True,\n",
       "        False,  True, False,  True, False,  True,  True, False,  True,\n",
       "        False, False,  True,  True, False,  True,  True,  True,  True,\n",
       "        False, False,  True, False,  True,  True,  True,  True,  True,\n",
       "        False,  True, False,  True,  True, False, False,  True, False,\n",
       "         True, False,  True,  True,  True,  True,  True,  True, False,\n",
       "        False,  True,  True,  True,  True,  True, False,  True,  True,\n",
       "         True,  True,  True,  True,  True,  True,  True, False, False,\n",
       "        False, False, False, False,  True, False, False, False,  True,\n",
       "         True,  True,  True,  True,  True,  True, False, False,  True,\n",
       "         True,  True, False,  True, False,  True,  True,  True,  True,\n",
       "         True,  True,  True,  True,  True, False, False, False,  True,\n",
       "         True,  True,  True,  True,  True,  True,  True,  True,  True,\n",
       "         True,  True,  True,  True, False, False, False,  True, False,\n",
       "         True,  True, False,  True,  True,  True, False,  True, False,\n",
       "         True, False, False, False, False,  True,  True,  True,  True,\n",
       "        False, False,  True, False,  True,  True,  True,  True,  True,\n",
       "        False, False, False,  True,  True, False, False,  True, False,\n",
       "        False, False, False,  True, False,  True, False,  True, False,\n",
       "        False, False, False,  True, False,  True,  True,  True, False,\n",
       "         True, False,  True,  True,  True,  True,  True, False, False,\n",
       "        False, False,  True, False,  True,  True,  True,  True,  True,\n",
       "         True,  True, False,  True,  True,  True, False, False, False,\n",
       "         True,  True,  True,  True,  True,  True,  True,  True, False,\n",
       "         True, False,  True,  True,  True,  True, False, False, False,\n",
       "         True,  True,  True,  True,  True,  True, False, False,  True,\n",
       "         True,  True,  True,  True, False, False,  True,  True,  True,\n",
       "        False,  True,  True,  True,  True,  True, False,  True, False,\n",
       "         True,  True, False,  True, False,  True, False,  True, False,\n",
       "         True,  True,  True,  True,  True,  True,  True,  True,  True,\n",
       "         True,  True, False, False, False, False,  True,  True,  True,\n",
       "         True,  True,  True,  True,  True,  True])]"
      ]
     },
     "execution_count": 186,
     "metadata": {},
     "output_type": "execute_result"
    }
   ],
   "source": [
    "[xg_class.feature_importances_ > 5e-4]"
   ]
  },
  {
   "cell_type": "code",
   "execution_count": 189,
   "metadata": {},
   "outputs": [
    {
     "data": {
      "text/plain": [
       "17.0"
      ]
     },
     "execution_count": 189,
     "metadata": {},
     "output_type": "execute_result"
    }
   ],
   "source": [
    "816/48"
   ]
  },
  {
   "cell_type": "code",
   "execution_count": 181,
   "metadata": {},
   "outputs": [
    {
     "data": {
      "text/plain": [
       "array([[2959,  158,    0,    0],\n",
       "       [ 223,  296,    4,    1],\n",
       "       [  56,   44,   14,    1],\n",
       "       [  11,    3,    4,    0]])"
      ]
     },
     "execution_count": 181,
     "metadata": {},
     "output_type": "execute_result"
    }
   ],
   "source": [
    "confusion_matrix(true_scenario, y_pred_scenario)"
   ]
  },
  {
   "cell_type": "code",
   "execution_count": 143,
   "metadata": {},
   "outputs": [
    {
     "data": {
      "text/plain": [
       "True"
      ]
     },
     "execution_count": 143,
     "metadata": {},
     "output_type": "execute_result"
    }
   ],
   "source": [
    "a = [true_scenario == y_true_scenario]\n",
    "a[0][-2]"
   ]
  },
  {
   "cell_type": "code",
   "execution_count": 147,
   "metadata": {},
   "outputs": [
    {
     "data": {
      "text/plain": [
       "False"
      ]
     },
     "execution_count": 147,
     "metadata": {},
     "output_type": "execute_result"
    }
   ],
   "source": [
    "a[0][-3]"
   ]
  },
  {
   "cell_type": "code",
   "execution_count": 160,
   "metadata": {},
   "outputs": [
    {
     "data": {
      "text/plain": [
       "(1.625, 261.56788751911876)"
      ]
     },
     "execution_count": 160,
     "metadata": {},
     "output_type": "execute_result"
    }
   ],
   "source": [
    "y_te_speed[-3], get_angle_in_degree(y_te_cos[-2], y_te_sin[-2])"
   ]
  },
  {
   "cell_type": "code",
   "execution_count": 175,
   "metadata": {},
   "outputs": [
    {
     "data": {
      "text/plain": [
       "(0.8660254037844386, 0.8650331043851032)"
      ]
     },
     "execution_count": 175,
     "metadata": {},
     "output_type": "execute_result"
    }
   ],
   "source": [
    "np.sin(2*np.pi/360*baseline_wind_dir[1]), y_te_sin[1]"
   ]
  },
  {
   "cell_type": "code",
   "execution_count": 148,
   "metadata": {},
   "outputs": [
    {
     "data": {
      "text/plain": [
       "True"
      ]
     },
     "execution_count": 148,
     "metadata": {},
     "output_type": "execute_result"
    }
   ],
   "source": [
    "is_favorable(y_te_cos[-3], y_te_sin[-3])"
   ]
  },
  {
   "cell_type": "code",
   "execution_count": 135,
   "metadata": {},
   "outputs": [
    {
     "data": {
      "text/plain": [
       "True"
      ]
     },
     "execution_count": 135,
     "metadata": {},
     "output_type": "execute_result"
    }
   ],
   "source": [
    "is_S2(y_te_speed[-2], y_te_cos[-2], y_te_sin[-2])"
   ]
  },
  {
   "cell_type": "code",
   "execution_count": 140,
   "metadata": {},
   "outputs": [
    {
     "data": {
      "text/plain": [
       "True"
      ]
     },
     "execution_count": 140,
     "metadata": {},
     "output_type": "execute_result"
    }
   ],
   "source": [
    "true_scenario[-2] == y_true_scenario[-2]"
   ]
  },
  {
   "cell_type": "code",
   "execution_count": 152,
   "metadata": {},
   "outputs": [
    {
     "data": {
      "text/plain": [
       "array([ 67.25,  60.  ,  50.75, ...,  76.25, 278.5 , 273.5 ])"
      ]
     },
     "execution_count": 152,
     "metadata": {},
     "output_type": "execute_result"
    }
   ],
   "source": [
    "baseline_wind_dir"
   ]
  },
  {
   "cell_type": "code",
   "execution_count": 19,
   "metadata": {},
   "outputs": [
    {
     "data": {
      "image/png": "[encoded data removed]",
      "text/plain": [
       "<matplotlib.figure.Figure at 0x13dfe8ac8>"
      ]
     },
     "metadata": {},
     "output_type": "display_data"
    }
   ],
   "source": [
    "import matplotlib.pyplot as plt\n",
    "plt.plot(y_te[:200])\n",
    "#plt.plot(y_hat[:200])\n",
    "plt.plot(baseline[:200])\n",
    "plt.show()"
   ]
  },
  {
   "cell_type": "code",
   "execution_count": 41,
   "metadata": {
    "collapsed": true
   },
   "outputs": [],
   "source": [
    "def create_data_RNN(steps_in, steps_out, df):\n",
    "    X, y = get_past_n_steps(df, steps_in), get_future_n_steps(df, steps_out)\n",
    "    print(y)\n",
    "    X2, y2 = np.array(X), np.array(y)\n",
    "    X3, y3 = X2.reshape(-1, steps_in, X2.shape[1]//(steps_in)), y2.reshape(-1, steps_out, y2.shape[1]//(steps_out))\n",
    "    y_from_X = X3[steps_in:-2*steps_in,:steps_out,:3]\n",
    "    return y, X3[:y_from_X.shape[0]], y_from_X"
   ]
  },
  {
   "cell_type": "code",
   "execution_count": 46,
   "metadata": {
    "collapsed": true
   },
   "outputs": [],
   "source": [
    "e = t[['speed_t', 'cos_wind_dir_t', 'sin_wind_dir_t']]"
   ]
  },
  {
   "cell_type": "code",
   "execution_count": 30,
   "metadata": {
    "collapsed": true
   },
   "outputs": [],
   "source": [
    "def scale_data_RNN2(steps_in, steps_out, df, test_size = 0.2, speed_only = False):\n",
    "    X, y = create_data_RNN(steps_in, steps_out, df)\n",
    "    #y = y[:,:,:3]\n",
    "    X_train, X_test, y_train, y_test = train_test_split(X, y, test_size=test_size, shuffle = False)\n",
    "    scaler_X = MinMaxScaler(feature_range=(0, 1))\n",
    "    scaler_y = MinMaxScaler(feature_range=(0, 1))\n",
    "    \n",
    "    X_train2 = X_train.reshape(X_train.shape[0]*X_train.shape[1], X_train.shape[2])\n",
    "    X_test2 = X_test.reshape(X_test.shape[0]*X_test.shape[1], X_test.shape[2])\n",
    "    y_train2 = y_train.reshape(y_train.shape[0]*y_train.shape[1], y_train.shape[2])\n",
    "    y_test2 = y_test.reshape(y_test.shape[0]*y_test.shape[1], y_test.shape[2])\n",
    "    \n",
    "    X_train_scaled = scaler_X.fit_transform(X_train2)\n",
    "    X_test_scaled = scaler_X.transform(X_test2)\n",
    "    y_train_scaled = scaler_y.fit_transform(y_train2)\n",
    "    y_test_scaled = scaler_y.transform(y_test2)\n",
    "    \n",
    "    X_train_scaled = X_train_scaled.reshape(X_train.shape[0], X_train.shape[1], X_train.shape[2])\n",
    "    X_test_scaled = X_test_scaled.reshape(X_test.shape[0], X_test.shape[1], X_test.shape[2])\n",
    "    y_train_scaled = y_train_scaled.reshape(y_train.shape[0], y_train.shape[1], y_train.shape[2])\n",
    "    y_test_scaled = y_test_scaled.reshape(y_test.shape[0], y_test.shape[1], y_test.shape[2])\n",
    "    \n",
    "    X_train_final = X_train_scaled.transpose(0,1,2)\n",
    "    X_test_final = X_test_scaled.transpose(0,1,2)\n",
    "    y_train_final = y_train_scaled.transpose(0,1,2)\n",
    "    y_test_final = y_test_scaled.transpose(0,1,2)\n",
    "\n",
    "    if speed_only:\n",
    "        print(y_train_final.shape)\n",
    "        y_train_final = y_train_scaled[:,:,0]\n",
    "        y_test_final = y_test_scaled[:,:,0]\n",
    "    \n",
    "    return y, X_train_final, X_test_final, y_train_final, y_test_final, y_train, y_test, scaler_X, scaler_y"
   ]
  },
  {
   "cell_type": "code",
   "execution_count": 31,
   "metadata": {},
   "outputs": [
    {
     "name": "stdout",
     "output_type": "stream",
     "text": [
      "(37732, 48, 3)\n",
      "(33958, 48, 3)\n"
     ]
    }
   ],
   "source": [
    "y, X_train, X_test, y_train, y_test, y_train_unscaled, y_test_unscaled, sc_X, sc_y = scale_data_RNN2(48, 48, data_merge, 0.1, speed_only = True)"
   ]
  },
  {
   "cell_type": "code",
   "execution_count": 32,
   "metadata": {},
   "outputs": [
    {
     "data": {
      "text/plain": [
       "array([[[  0.   ,  44.25 ,   3.7  ],\n",
       "        [  1.   ,  32.   ,   2.75 ],\n",
       "        [  2.   ,  47.25 ,   2.85 ],\n",
       "        ...,\n",
       "        [ 21.   ,  28.5  ,   4.525],\n",
       "        [ 22.   , 106.5  ,   5.175],\n",
       "        [ 23.   ,  47.5  ,   4.525]],\n",
       "\n",
       "       [[  1.   ,  32.   ,   2.75 ],\n",
       "        [  2.   ,  47.25 ,   2.85 ],\n",
       "        [  3.   ,  44.75 ,   2.55 ],\n",
       "        ...,\n",
       "        [ 22.   , 106.5  ,   5.175],\n",
       "        [ 23.   ,  47.5  ,   4.525],\n",
       "        [  0.   ,  60.25 ,   3.925]],\n",
       "\n",
       "       [[  2.   ,  47.25 ,   2.85 ],\n",
       "        [  3.   ,  44.75 ,   2.55 ],\n",
       "        [  4.   ,  44.75 ,   3.275],\n",
       "        ...,\n",
       "        [ 23.   ,  47.5  ,   4.525],\n",
       "        [  0.   ,  60.25 ,   3.925],\n",
       "        [  1.   ,  41.   ,   3.6  ]],\n",
       "\n",
       "       ...,\n",
       "\n",
       "       [[ 21.   ,  93.25 ,   1.975],\n",
       "        [ 22.   ,  94.25 ,   2.1  ],\n",
       "        [ 23.   ,  99.   ,   1.4  ],\n",
       "        ...,\n",
       "        [ 18.   ,  39.75 ,   2.375],\n",
       "        [ 19.   ,  75.   ,   2.75 ],\n",
       "        [ 20.   ,  78.5  ,   3.1  ]],\n",
       "\n",
       "       [[ 22.   ,  94.25 ,   2.1  ],\n",
       "        [ 23.   ,  99.   ,   1.4  ],\n",
       "        [  0.   , 156.25 ,   0.5  ],\n",
       "        ...,\n",
       "        [ 19.   ,  75.   ,   2.75 ],\n",
       "        [ 20.   ,  78.5  ,   3.1  ],\n",
       "        [ 21.   ,  83.   ,   3.15 ]],\n",
       "\n",
       "       [[ 23.   ,  99.   ,   1.4  ],\n",
       "        [  0.   , 156.25 ,   0.5  ],\n",
       "        [  1.   ,  84.75 ,   1.4  ],\n",
       "        ...,\n",
       "        [ 20.   ,  78.5  ,   3.1  ],\n",
       "        [ 21.   ,  83.   ,   3.15 ],\n",
       "        [ 22.   ,  81.   ,   3.575]]])"
      ]
     },
     "execution_count": 32,
     "metadata": {},
     "output_type": "execute_result"
    }
   ],
   "source": [
    "y"
   ]
  },
  {
   "cell_type": "code",
   "execution_count": 18,
   "metadata": {},
   "outputs": [
    {
     "data": {
      "image/png": "[encoded data removed]",
      "text/plain": [
       "<matplotlib.figure.Figure at 0x1203e4f98>"
      ]
     },
     "metadata": {},
     "output_type": "display_data"
    }
   ],
   "source": [
    "plt.plot(y_test_unscaled[:100,12,0])\n",
    "#plt.plot(y_hat[:100])\n",
    "plt.show()"
   ]
  },
  {
   "cell_type": "code",
   "execution_count": 7,
   "metadata": {
    "collapsed": true
   },
   "outputs": [],
   "source": [
    "steps_in = 48\n",
    "steps_out = 48\n",
    "test_size = 0.1"
   ]
  },
  {
   "cell_type": "code",
   "execution_count": 8,
   "metadata": {},
   "outputs": [
    {
     "name": "stdout",
     "output_type": "stream",
     "text": [
      "read csv semester csv files from 2015s2 to 2019s2\n",
      "smooth wind direction\n",
      "smooth hour\n",
      "smooth day\n",
      "generate daily features: ['daily_min_speed', 'daily_min_hour', 'daily_max_speed', 'daily_max_hour']\n",
      "generate seasonality categorical feature\n",
      "generate day/night categorical feature\n",
      "reading forecast data\n"
     ]
    },
    {
     "name": "stderr",
     "output_type": "stream",
     "text": [
      "/Users/leobix/anaconda3/lib/python3.6/site-packages/IPython/core/interactiveshell.py:2862: DtypeWarning: Columns (6) have mixed types. Specify dtype option on import or set low_memory=False.\n",
      "  exec(code_obj, self.user_global_ns, self.user_ns)\n"
     ]
    },
    {
     "name": "stdout",
     "output_type": "stream",
     "text": [
      "keep last forecast, duplicates dropped =  96574\n",
      "smooth wind direction\n",
      "merge with forecast data\n",
      "Data has been processed and merged.\n"
     ]
    }
   ],
   "source": [
    "data=prepare_data(one_hot=False)\n",
    "#data_merge = prepare_data_with_forecast(data)\n",
    "data_merge, data, forecast  = prepare_data_with_forecast(data)\n",
    "   #data_merge.to_csv('training_data.csv', index = True)\n",
    "   #data_merge = read_csv(\"training_data.csv\", index_col=0)\n",
    "   #print(data_merge)\n",
    "df = data_merge[['speed', 'cos_wind_dir', 'sin_wind_dir', 'temp', 'radiation', 'scenario_num', 'cos_hour', 'sin_hour', 'cos_day', 'sin_day', 'daily_min_speed', 'daily_min_hour', 'daily_max_speed', 'daily_max_hour', 'speed_forecast', 'cos_wind_dir_forecast', 'sin_wind_dir_forecast']]\n",
    "\n",
    "print(\"Data has been processed and merged.\")\n",
    "X_train, X_test, y_train, y_test, X_train_unscaled, X_test_unscaled, y_train_unscaled, y_test_unscaled, sc_X, sc_y = scale_data_RNN(steps_in, steps_out, df, test_size=test_size, speed_only = True)"
   ]
  },
  {
   "cell_type": "code",
   "execution_count": 10,
   "metadata": {},
   "outputs": [
    {
     "data": {
      "text/plain": [
       "array([[[3.7       , 0.7127612 , 0.69452034],\n",
       "        [2.75      , 0.8465571 , 0.52900168],\n",
       "        [2.85      , 0.66830943, 0.72344977],\n",
       "        ...,\n",
       "        [4.525     , 0.87250044, 0.47343036],\n",
       "        [5.175     , 0.92945321, 0.27531659],\n",
       "        [4.525     , 0.6606555 , 0.72165574]],\n",
       "\n",
       "       [[2.75      , 0.8465571 , 0.52900168],\n",
       "        [2.85      , 0.66830943, 0.72344977],\n",
       "        [2.55      , 0.70554391, 0.69947487],\n",
       "        ...,\n",
       "        [5.175     , 0.92945321, 0.27531659],\n",
       "        [4.525     , 0.6606555 , 0.72165574],\n",
       "        [3.925     , 0.48275046, 0.84469968]],\n",
       "\n",
       "       [[2.85      , 0.66830943, 0.72344977],\n",
       "        [2.55      , 0.70554391, 0.69947487],\n",
       "        [3.275     , 0.7065119 , 0.70022896],\n",
       "        ...,\n",
       "        [4.525     , 0.6606555 , 0.72165574],\n",
       "        [3.925     , 0.48275046, 0.84469968],\n",
       "        [3.6       , 0.75153837, 0.65332872]],\n",
       "\n",
       "       ...,\n",
       "\n",
       "       [[5.075     , 0.57519685, 0.81369969],\n",
       "        [4.4       , 0.69477122, 0.71336488],\n",
       "        [4.35      , 0.52606982, 0.84230059],\n",
       "        ...,\n",
       "        [3.225     , 0.71123171, 0.69889287],\n",
       "        [2.475     , 0.5635944 , 0.81293943],\n",
       "        [2.1       , 0.19484033, 0.97948634]],\n",
       "\n",
       "       [[4.4       , 0.69477122, 0.71336488],\n",
       "        [4.35      , 0.52606982, 0.84230059],\n",
       "        [4.425     , 0.57326746, 0.81871773],\n",
       "        ...,\n",
       "        [2.475     , 0.5635944 , 0.81293943],\n",
       "        [2.1       , 0.19484033, 0.97948634],\n",
       "        [2.15      , 0.45486215, 0.85464779]],\n",
       "\n",
       "       [[4.35      , 0.52606982, 0.84230059],\n",
       "        [4.425     , 0.57326746, 0.81871773],\n",
       "        [4.1       , 0.52338169, 0.8458118 ],\n",
       "        ...,\n",
       "        [2.1       , 0.19484033, 0.97948634],\n",
       "        [2.15      , 0.45486215, 0.85464779],\n",
       "        [1.925     , 0.13421799, 0.98516928]]])"
      ]
     },
     "execution_count": 10,
     "metadata": {},
     "output_type": "execute_result"
    }
   ],
   "source": [
    "y_train_unscaled"
   ]
  }
 ],
 "metadata": {
  "kernelspec": {
   "display_name": "Python 3",
   "language": "python",
   "name": "python3"
  },
  "language_info": {
   "codemirror_mode": {
    "name": "ipython",
    "version": 3
   },
   "file_extension": ".py",
   "mimetype": "text/x-python",
   "name": "python",
   "nbconvert_exporter": "python",
   "pygments_lexer": "ipython3",
   "version": "3.7.3"
  }
 },
 "nbformat": 4,
 "nbformat_minor": 2
}
