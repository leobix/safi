{
 "cells": [
  {
   "cell_type": "code",
   "execution_count": 1,
   "metadata": {},
   "outputs": [],
   "source": [
    "using JuMP\n",
    "using Gurobi\n",
    "using DataFrames\n",
    "using CSV\n",
    "using LinearAlgebra\n",
    "using Plots\n",
    "using Statistics"
   ]
  },
  {
   "cell_type": "code",
   "execution_count": 11,
   "metadata": {},
   "outputs": [
    {
     "data": {
      "text/plain": [
       "ridge (generic function with 1 method)"
      ]
     },
     "execution_count": 11,
     "metadata": {},
     "output_type": "execute_result"
    }
   ],
   "source": [
    "function ridge(X, y, T)\n",
    "    # extract problem dimensions from distance matrix and verify coherence of input data\n",
    "    N,P  = size(X)\n",
    "    model = Model(Gurobi.Optimizer)\n",
    "    set_optimizer_attribute(model, \"TimeLimit\", 30)\n",
    "    # VARIABLES\n",
    "    # Coefficients\n",
    "    @variable(model, B[1:P])\n",
    "    @variable(model, A[1:N-T,1:P])\n",
    "    \n",
    "    #Resource allocation constraint\n",
    "    #@constraint(model, enough_employees[t=1:T, d=1:M],\n",
    "            #sum(A[t, j]*x[d,j]  for j = 1:J) >= D[d, t])\n",
    "    \n",
    "    # OBJECTIVE\n",
    "    @objective(\n",
    "        model, Min, sum(sum((y[i]-sum(X[i,p]*(B[j]+A[i,p] for p=1:P))^2 for i=s:s+T) for s=1:N-T))\n",
    "    )\n",
    "    \n",
    "    optimize!(model)\n",
    "    \n",
    "    return model, objective_value(model), B, A\n",
    "end"
   ]
  },
  {
   "cell_type": "code",
   "execution_count": 9,
   "metadata": {},
   "outputs": [],
   "source": [
    "X = convert(Matrix,CSV.File(\"X_test_adaptive.csv\"; header=true) |> DataFrame!)[:,2:8];\n",
    "y = convert(Matrix,CSV.File(\"y_test_speed.csv\"; header=true) |> DataFrame!)[:,2];\n",
    "#X = D1[:,1:4:72]"
   ]
  },
  {
   "cell_type": "code",
   "execution_count": 10,
   "metadata": {},
   "outputs": [
    {
     "data": {
      "text/plain": [
       "8494-element Array{Float64,1}:\n",
       " 6.174999999999999\n",
       " 6.2749999999999995\n",
       " 6.15\n",
       " 5.5\n",
       " 6.575000000000001\n",
       " 6.55\n",
       " 5.9\n",
       " 5.15\n",
       " 3.7249999999999996\n",
       " 3.175\n",
       " 2.55\n",
       " 2.475\n",
       " 2.45\n",
       " ⋮\n",
       " 3.9716666666666662\n",
       " 3.651666666666667\n",
       " 4.571666666666667\n",
       " 5.156666666666668\n",
       " 6.586666666666669\n",
       " 6.991666666666666\n",
       " 5.9433333333333325\n",
       " 5.066666666666666\n",
       " 5.308333333333333\n",
       " 5.326666666666669\n",
       " 6.835000000000002\n",
       " 6.477419354838708"
      ]
     },
     "execution_count": 10,
     "metadata": {},
     "output_type": "execute_result"
    }
   ],
   "source": [
    "y"
   ]
  },
  {
   "cell_type": "code",
   "execution_count": 12,
   "metadata": {},
   "outputs": [
    {
     "ename": "LoadError",
     "evalue": "\u001b[91mGurobi Error 10009: Failed to obtain a valid license\u001b[39m",
     "output_type": "error",
     "traceback": [
      "\u001b[91mGurobi Error 10009: Failed to obtain a valid license\u001b[39m",
      "",
      "Stacktrace:",
      " [1] error(::String) at ./error.jl:33",
      " [2] Gurobi.Env() at /Users/leonardboussioux/.julia/packages/Gurobi/qk7lG/src/MOI_wrapper.jl:89",
      " [3] Gurobi.Optimizer(::Nothing; kwargs::Base.Iterators.Pairs{Union{},Union{},Tuple{},NamedTuple{(),Tuple{}}}) at /Users/leonardboussioux/.julia/packages/Gurobi/qk7lG/src/MOI_wrapper.jl:227",
      " [4] Optimizer at /Users/leonardboussioux/.julia/packages/Gurobi/qk7lG/src/MOI_wrapper.jl:225 [inlined] (repeats 2 times)",
      " [5] _instantiate_and_check(::Type{T} where T) at /Users/leonardboussioux/.julia/packages/MathOptInterface/5WwpK/src/instantiate.jl:60",
      " [6] instantiate(::Type{T} where T; with_bridge_type::Type{Float64}, with_names::Bool) at /Users/leonardboussioux/.julia/packages/MathOptInterface/5WwpK/src/instantiate.jl:116",
      " [7] set_optimizer(::Model, ::Type{T} where T; bridge_constraints::Bool) at /Users/leonardboussioux/.julia/packages/JuMP/y5vgk/src/optimizer_interface.jl:75",
      " [8] Model(::Type{T} where T; bridge_constraints::Bool, kwargs::Base.Iterators.Pairs{Union{},Union{},Tuple{},NamedTuple{(),Tuple{}}}) at /Users/leonardboussioux/.julia/packages/JuMP/y5vgk/src/JuMP.jl:235",
      " [9] Model at /Users/leonardboussioux/.julia/packages/JuMP/y5vgk/src/JuMP.jl:234 [inlined]",
      " [10] ridge(::Array{Float64,2}, ::Array{Float64,1}, ::Int64) at ./In[11]:4",
      " [11] top-level scope at In[12]:1",
      " [12] include_string(::Function, ::Module, ::String, ::String) at ./loading.jl:1091"
     ]
    }
   ],
   "source": [
    "m, o, B, A = ridge(X, y, 3)"
   ]
  }
 ],
 "metadata": {
  "kernelspec": {
   "display_name": "Julia 1.5.3",
   "language": "julia",
   "name": "julia-1.5"
  },
  "language_info": {
   "file_extension": ".jl",
   "mimetype": "application/julia",
   "name": "julia",
   "version": "1.5.3"
  },
  "latex_envs": {
   "LaTeX_envs_menu_present": true,
   "autoclose": false,
   "autocomplete": true,
   "bibliofile": "biblio.bib",
   "cite_by": "apalike",
   "current_citInitial": 1,
   "eqLabelWithNumbers": true,
   "eqNumInitial": 1,
   "hotkeys": {
    "equation": "Ctrl-E",
    "itemize": "Ctrl-I"
   },
   "labels_anchors": false,
   "latex_user_defs": false,
   "report_style_numbering": false,
   "user_envs_cfg": false
  },
  "toc": {
   "base_numbering": 1,
   "nav_menu": {},
   "number_sections": true,
   "sideBar": true,
   "skip_h1_title": false,
   "title_cell": "Table of Contents",
   "title_sidebar": "Contents",
   "toc_cell": false,
   "toc_position": {},
   "toc_section_display": true,
   "toc_window_display": false
  },
  "varInspector": {
   "cols": {
    "lenName": 16,
    "lenType": 16,
    "lenVar": 40
   },
   "kernels_config": {
    "python": {
     "delete_cmd_postfix": "",
     "delete_cmd_prefix": "del ",
     "library": "var_list.py",
     "varRefreshCmd": "print(var_dic_list())"
    },
    "r": {
     "delete_cmd_postfix": ") ",
     "delete_cmd_prefix": "rm(",
     "library": "var_list.r",
     "varRefreshCmd": "cat(var_dic_list()) "
    }
   },
   "types_to_exclude": [
    "module",
    "function",
    "builtin_function_or_method",
    "instance",
    "_Feature"
   ],
   "window_display": false
  }
 },
 "nbformat": 4,
 "nbformat_minor": 4
}
