{
 "cells": [
  {
   "cell_type": "code",
   "execution_count": 5,
   "metadata": {},
   "outputs": [],
   "source": [
    "import pandas as pd\n",
    "import numpy as np\n",
    "from pandas import read_csv\n",
    "from pandas import DataFrame\n",
    "from pandas import concat\n",
    "from datetime import date, datetime, timedelta\n",
    "from sklearn.metrics import mean_squared_error\n",
    "from sklearn.metrics import mean_absolute_error\n",
    "from xgboost import XGBRegressor\n",
    "from utils import *\n",
    "from data_preperation import * \n",
    "from utils import *"
   ]
  },
  {
   "cell_type": "code",
   "execution_count": 2,
   "metadata": {},
   "outputs": [
    {
     "name": "stdout",
     "output_type": "stream",
     "text": [
      "read csv semester csv files from 2015s2 to 2019s2\n",
      "smooth wind direction\n",
      "smooth hour\n",
      "smooth day\n",
      "generate daily features: ['daily_min_speed', 'daily_min_hour', 'daily_max_speed', 'daily_max_hour']\n",
      "generate seasonality categorical feature\n",
      "generate day/night categorical feature\n"
     ]
    }
   ],
   "source": [
    "#STEP 1: Read and Process Masurement Data\n",
    "# Read 1 file per semester\n",
    "def get_data():\n",
    "    df0 = pd.read_csv(\"2015_S2.csv\", sep = \";\")\n",
    "    df1 = pd.read_csv(\"2016_S1.csv\", sep = \";\")\n",
    "    df2 = pd.read_csv(\"2016_S2.csv\", sep = \";\")\n",
    "    df3 = pd.read_csv(\"2017_S1.csv\", sep = \";\")\n",
    "    df4 = pd.read_csv(\"2017_S2.csv\", sep = \";\")\n",
    "    df5 = pd.read_csv(\"2018_S1.csv\", sep = \";\")\n",
    "    df6 = pd.read_csv(\"2018_S2.csv\", sep = \";\")\n",
    "    df7 = pd.read_csv(\"2019_S1.csv\", sep = \";\")\n",
    "    df8 = pd.read_csv(\"2019_S2.csv\", sep = \";\")\n",
    "\n",
    "    data0 = pd.concat([df0, df1, df2, df3, df4, df5, df6, df7, df8], ignore_index=True)\n",
    "    print('read csv semester csv files from 2015s2 to 2019s2')\n",
    "    return data0\n",
    "\n",
    "\n",
    "# Functions\n",
    "# Convert scenario to one_hot\n",
    "def scenario_one_hot(data, one_hot=False):\n",
    "    # extract numeric data from scenario 'S1' to '1'\n",
    "    data['scenario_num'] = (data['scenario'].str.extract('(\\d+)')).astype(int)\n",
    "    data.drop(['scenario'], axis=1, inplace=True)\n",
    "\n",
    "    # add one-hot encoding to scenario:\n",
    "    if one_hot:\n",
    "        scenario = pd.get_dummies(data['scenario_num'], prefix='scenario', dummy_na=True)\n",
    "        data1 = pd.concat([data, scenario], axis=1)\n",
    "        return data1\n",
    "    return data\n",
    "\n",
    "\n",
    "# Make cyclical data into continuous data using cos & sin\n",
    "def smooth_wind_dir(data):\n",
    "    data['cos_wind_dir'] = np.cos(2 * np.pi * data['wind_dir'] / 360)\n",
    "    data['sin_wind_dir'] = np.sin(2 * np.pi * data['wind_dir'] / 360)\n",
    "    print('smooth wind direction')\n",
    "    return data\n",
    "\n",
    "\n",
    "def smooth_hour(data):\n",
    "    # split '00h00' to two columns of numeric values\n",
    "    hour = data['hour'].str.split(pat='h', expand=True)\n",
    "    hour = hour.apply(pd.to_numeric, errors='coerce')\n",
    "\n",
    "    # calculate minutes passed since 00h00\n",
    "    hour['minutes'] = 60 * hour[0] + hour[1]\n",
    "    hour['cos_hour'] = np.cos(2 * np.pi * hour['minutes'] / (60 * 24))\n",
    "    hour['sin_hour'] = np.sin(2 * np.pi * hour['minutes'] / (60 * 24))\n",
    "\n",
    "    # concat and update dataframe\n",
    "    data = pd.concat([data, hour[['cos_hour', 'sin_hour']]], axis=1)\n",
    "    print('smooth hour')\n",
    "    return data\n",
    "\n",
    "\n",
    "# Smooth date\n",
    "def smooth_day(data):\n",
    "    # Convert day & hour to date-time format\n",
    "    data['datetime'] = data['day'].str.cat(data['hour'], sep=' ')\n",
    "    data['datetime'] = pd.to_datetime(data['datetime'], format='%d/%m/%Y %Hh%M')\n",
    "    data['day'] = pd.to_datetime(data['day'], format='%d/%m/%Y')\n",
    "    data['hour'] = data['hour'].str.extract('(\\d+)')\n",
    "    data['hour'] = pd.to_numeric(data['hour'])\n",
    "\n",
    "    # Calculate time delta since 1st entry\n",
    "    data['day_delta'] = pd.to_numeric(data['day'] - data['day'][0])\n",
    "    data['cos_day'] = np.cos(2 * np.pi * data['day_delta'] / (365))\n",
    "    data['sin_day'] = np.sin(2 * np.pi * data['day_delta'] / (365))\n",
    "    data.drop(['day_delta', 'day'], axis=1, inplace=True)\n",
    "\n",
    "    print('smooth day')\n",
    "    return data\n",
    "\n",
    "\n",
    "# Generate new features:\n",
    "# Generate daily features: daily min, max\n",
    "def generate_daily(df):\n",
    "    # group data into daily batches\n",
    "    grouped = df.resample('D')\n",
    "    min_speed = []\n",
    "    max_speed = []\n",
    "    min_hour = []\n",
    "    max_hour = []\n",
    "\n",
    "    for datetime, group in grouped:\n",
    "        # find daily min & max\n",
    "        s1 = group['speed'].min()\n",
    "        s2 = group['speed'].max()\n",
    "        # find the time of min & max speed\n",
    "        h1 = group.loc[group['speed'] == s1]['hour'].values[0]\n",
    "        h2 = group.loc[group['speed'] == s2]['hour'].values[0]\n",
    "\n",
    "        min_speed.append(s1)\n",
    "        max_speed.append(s2)\n",
    "        min_hour.append(h1)\n",
    "        max_hour.append(h2)\n",
    "\n",
    "    # output new features as a dataframe\n",
    "    start = df.index[0].date()\n",
    "    end = df.index[-1].date()\n",
    "    date_range = pd.date_range(start, end, freq='D')\n",
    "    daily = pd.concat([pd.Series(min_speed), pd.Series(min_hour), pd.Series(max_speed), pd.Series(max_hour)], axis=1,\n",
    "                      keys=['daily_min_speed', 'daily_min_hour', 'daily_max_speed', 'daily_max_hour'])\n",
    "    daily.set_index(date_range, inplace=True)\n",
    "\n",
    "    # #merge new features into dataframe: match with date\n",
    "    df_out = pd.merge(df, daily, how='outer', left_index=True, right_index=True)\n",
    "    # fill NaN values with same daily values\n",
    "    df_out = df_out.fillna(method='ffill')\n",
    "\n",
    "    print('generate daily features: %s' % (daily.columns.to_list()))\n",
    "    return df_out\n",
    "\n",
    "\n",
    "# Categorical features\n",
    "def generate_season(df):\n",
    "    df['season'] = 0\n",
    "    df['month'] = df.index.month\n",
    "    df.loc[df['month'].isin([12, 1, 2]), 'season'] = 1\n",
    "    df.loc[df['month'].isin([3, 4, 5]), 'season'] = 2\n",
    "    df.loc[df['month'].isin([6, 7, 8]), 'season'] = 3\n",
    "    df.loc[df['month'].isin([9, 10, 11]), 'season'] = 4\n",
    "    df.drop(['month'], axis=1, inplace=True)\n",
    "    print('generate seasonality categorical feature')\n",
    "    return df\n",
    "\n",
    "\n",
    "def generate_day_night(df):\n",
    "    df['day'] = 0\n",
    "    df['night'] = 0\n",
    "    df.loc[df['hour'].isin([8, 9, 10, 11, 12, 13, 14, 15, 16, 17, 18]), 'day'] = 1\n",
    "    df.loc[df['hour'].isin([0, 1, 2, 3, 4, 5, 6, 7, 19, 20, 21, 22, 23]), 'night'] = 1\n",
    "    print('generate day/night categorical feature')\n",
    "    return df\n",
    "\n",
    "\n",
    "# Function to prepare data using above functions\n",
    "def prepare_data(one_hot=False):\n",
    "    # Interpolate missing values\n",
    "    data0 = get_data()\n",
    "    data = data0.interpolate()\n",
    "    data = data.fillna(method='ffill')\n",
    "\n",
    "    # scenario to one-hot encoding\n",
    "    data = scenario_one_hot(data, one_hot)\n",
    "\n",
    "    # smooth wind_dir, hour, and day using cos & sin function\n",
    "    data = smooth_wind_dir(data)\n",
    "    data = smooth_hour(data)\n",
    "    data = smooth_day(data)\n",
    "    data.drop(['details'], axis=1, inplace=True)\n",
    "    data.index = data['datetime']\n",
    "    data = data.interpolate()\n",
    "\n",
    "    # averaging 15min data to hourly\n",
    "    data = data.resample('H').mean()\n",
    "    data = data.round({'scenario_num': 0})\n",
    "\n",
    "    # generate daily max & min wind speed features\n",
    "    data = generate_daily(data)\n",
    "\n",
    "    # generate seasonal, day/night categorical features\n",
    "    data = generate_season(data)\n",
    "    data = generate_day_night(data)\n",
    "\n",
    "    return data\n",
    "\n",
    "data = prepare_data()"
   ]
  },
  {
   "cell_type": "code",
   "execution_count": 4,
   "metadata": {
    "collapsed": true
   },
   "outputs": [],
   "source": [
    "#STEP 2: Merge with forecast \n",
    "#read csv: \n",
    "def get_forecast():\n",
    "    df= pd.read_csv('weather_forecast_data_for_cynthia.csv', sep = \";\")\n",
    "    print('reading forecast data')\n",
    "    return df \n",
    "\n",
    "#convert to datetime index\n",
    "def convert_datetime(df):\n",
    "    df['f_date'] = pd.to_datetime(df['date'], format='%d/%m/%Y %H:%M') #future_date\n",
    "    df['cycle']=df['cycle'].str.replace('h', ':00', regex=True)\n",
    "    df['p_date'] = pd.to_datetime(df['cycle'], format='%d/%m/%Y %H:%M') #present_date\n",
    "    df.drop(['date', 'cycle'], axis=1, inplace=True)\n",
    "    return df\n",
    "\n",
    "def keep_last_forecast (df0):\n",
    "    df= df0.copy()\n",
    "    df.sort_values(by=['f_date', 'p_date'], inplace=True)\n",
    "    df.drop_duplicates(subset = \"f_date\", keep = 'last', inplace=True)\n",
    "    print('keep last forecast, duplicates dropped = ', (df0.shape[0] - df.shape[0]))\n",
    "    return df \n",
    "\n",
    "#rename columns\n",
    "def rename_cols(df):\n",
    "    df = df.rename(columns={\"Wind direction\": \"wind_dir\", \"Wind speed (m/s)\": \"speed\"}) # additional features\"temperature (ｰC)\": \"temp\", \"rayonnement (W/m2)\": \"radiation\",\"precip (mm/h)\":\"precip\"\n",
    "    #keep just wind_dir and speed features\n",
    "    df = df[['wind_dir','speed','f_date']]\n",
    "    #index with future date\n",
    "    df.set_index('f_date', inplace=True) \n",
    "    return df\n",
    "\n",
    "\n",
    "#merge data with forecast data\n",
    "def prepare_data_with_forecast(data):\n",
    "    #get prepared measurement data\n",
    "    data_merge = data.copy()\n",
    "    forecast = get_forecast()\n",
    "    df= convert_datetime(forecast)\n",
    "    df = keep_last_forecast (df)\n",
    "    df= rename_cols(df)\n",
    "    df = smooth_wind_dir(df)\n",
    "    data_merge = data_merge.join(df, how='inner', rsuffix='_forecast')\n",
    "    \n",
    "    print('merge with forecast data')\n",
    "    return data_merge, data, forecast \n",
    "\n",
    "\n",
    "# data=prepare_data(one_hot=False)\n",
    "# data_merge, data, forecast  = prepare_data_with_forecast(data)"
   ]
  },
  {
   "cell_type": "code",
   "execution_count": 25,
   "metadata": {},
   "outputs": [
    {
     "name": "stdout",
     "output_type": "stream",
     "text": [
      "read csv semester csv files from 2015s2 to 2019s2\n",
      "smooth wind direction\n",
      "smooth hour\n",
      "smooth day\n",
      "generate daily features: ['daily_min_speed', 'daily_min_hour', 'daily_max_speed', 'daily_max_hour']\n",
      "generate seasonality categorical feature\n",
      "generate day/night categorical feature\n",
      "reading forecast data\n"
     ]
    },
    {
     "name": "stderr",
     "output_type": "stream",
     "text": [
      "/Users/leobix/anaconda3/lib/python3.6/site-packages/IPython/core/interactiveshell.py:2862: DtypeWarning: Columns (6) have mixed types. Specify dtype option on import or set low_memory=False.\n",
      "  exec(code_obj, self.user_global_ns, self.user_ns)\n"
     ]
    },
    {
     "name": "stdout",
     "output_type": "stream",
     "text": [
      "keep last forecast, duplicates dropped =  96574\n",
      "smooth wind direction\n",
      "merge with forecast data\n"
     ]
    }
   ],
   "source": [
    "data = prepare_data(one_hot=False)\n",
    "data_merge, data, forecast  = prepare_data_with_forecast(data)\n",
    "df = data_merge[['speed', 'cos_wind_dir', 'sin_wind_dir', 'temp', 'radiation', 'scenario_num', 'cos_hour', 'sin_hour', 'cos_day', 'sin_day', 'daily_min_speed', 'daily_min_hour', 'daily_max_speed', 'daily_max_hour', 'speed_forecast', 'cos_wind_dir_forecast', 'sin_wind_dir_forecast']]"
   ]
  },
  {
   "cell_type": "code",
   "execution_count": 26,
   "metadata": {},
   "outputs": [
    {
     "data": {
      "text/html": [
       "<div>\n",
       "<style scoped>\n",
       "    .dataframe tbody tr th:only-of-type {\n",
       "        vertical-align: middle;\n",
       "    }\n",
       "\n",
       "    .dataframe tbody tr th {\n",
       "        vertical-align: top;\n",
       "    }\n",
       "\n",
       "    .dataframe thead th {\n",
       "        text-align: right;\n",
       "    }\n",
       "</style>\n",
       "<table border=\"1\" class=\"dataframe\">\n",
       "  <thead>\n",
       "    <tr style=\"text-align: right;\">\n",
       "      <th></th>\n",
       "      <th>speed</th>\n",
       "      <th>cos_wind_dir</th>\n",
       "      <th>sin_wind_dir</th>\n",
       "      <th>temp</th>\n",
       "      <th>radiation</th>\n",
       "      <th>scenario_num</th>\n",
       "      <th>cos_hour</th>\n",
       "      <th>sin_hour</th>\n",
       "      <th>cos_day</th>\n",
       "      <th>sin_day</th>\n",
       "      <th>daily_min_speed</th>\n",
       "      <th>daily_min_hour</th>\n",
       "      <th>daily_max_speed</th>\n",
       "      <th>daily_max_hour</th>\n",
       "      <th>speed_forecast</th>\n",
       "      <th>cos_wind_dir_forecast</th>\n",
       "      <th>sin_wind_dir_forecast</th>\n",
       "    </tr>\n",
       "  </thead>\n",
       "  <tbody>\n",
       "    <tr>\n",
       "      <th>2015-07-01 00:00:00</th>\n",
       "      <td>2.225</td>\n",
       "      <td>0.854881</td>\n",
       "      <td>0.212812</td>\n",
       "      <td>20.725</td>\n",
       "      <td>0.0</td>\n",
       "      <td>1.0</td>\n",
       "      <td>0.992522</td>\n",
       "      <td>0.097755</td>\n",
       "      <td>1.000000</td>\n",
       "      <td>0.000000</td>\n",
       "      <td>0.850</td>\n",
       "      <td>6.0</td>\n",
       "      <td>8.85</td>\n",
       "      <td>14.0</td>\n",
       "      <td>1.710672</td>\n",
       "      <td>0.925475</td>\n",
       "      <td>0.378808</td>\n",
       "    </tr>\n",
       "    <tr>\n",
       "      <th>2015-07-01 01:00:00</th>\n",
       "      <td>2.900</td>\n",
       "      <td>0.848673</td>\n",
       "      <td>-0.514652</td>\n",
       "      <td>20.500</td>\n",
       "      <td>0.0</td>\n",
       "      <td>1.0</td>\n",
       "      <td>0.933402</td>\n",
       "      <td>0.351308</td>\n",
       "      <td>1.000000</td>\n",
       "      <td>0.000000</td>\n",
       "      <td>0.850</td>\n",
       "      <td>6.0</td>\n",
       "      <td>8.85</td>\n",
       "      <td>14.0</td>\n",
       "      <td>1.553615</td>\n",
       "      <td>0.920130</td>\n",
       "      <td>0.391614</td>\n",
       "    </tr>\n",
       "    <tr>\n",
       "      <th>2015-07-01 02:00:00</th>\n",
       "      <td>1.600</td>\n",
       "      <td>0.806157</td>\n",
       "      <td>-0.237230</td>\n",
       "      <td>20.675</td>\n",
       "      <td>0.0</td>\n",
       "      <td>2.0</td>\n",
       "      <td>0.810672</td>\n",
       "      <td>0.580919</td>\n",
       "      <td>1.000000</td>\n",
       "      <td>0.000000</td>\n",
       "      <td>0.850</td>\n",
       "      <td>6.0</td>\n",
       "      <td>8.85</td>\n",
       "      <td>14.0</td>\n",
       "      <td>1.135592</td>\n",
       "      <td>0.862629</td>\n",
       "      <td>0.505837</td>\n",
       "    </tr>\n",
       "    <tr>\n",
       "      <th>2015-07-01 03:00:00</th>\n",
       "      <td>2.175</td>\n",
       "      <td>0.815514</td>\n",
       "      <td>0.407457</td>\n",
       "      <td>20.850</td>\n",
       "      <td>0.0</td>\n",
       "      <td>1.0</td>\n",
       "      <td>0.632696</td>\n",
       "      <td>0.770942</td>\n",
       "      <td>1.000000</td>\n",
       "      <td>0.000000</td>\n",
       "      <td>0.850</td>\n",
       "      <td>6.0</td>\n",
       "      <td>8.85</td>\n",
       "      <td>14.0</td>\n",
       "      <td>0.753942</td>\n",
       "      <td>0.867008</td>\n",
       "      <td>0.498295</td>\n",
       "    </tr>\n",
       "    <tr>\n",
       "      <th>2015-07-01 04:00:00</th>\n",
       "      <td>2.625</td>\n",
       "      <td>0.460721</td>\n",
       "      <td>0.860460</td>\n",
       "      <td>20.800</td>\n",
       "      <td>0.0</td>\n",
       "      <td>1.0</td>\n",
       "      <td>0.411603</td>\n",
       "      <td>0.908427</td>\n",
       "      <td>1.000000</td>\n",
       "      <td>0.000000</td>\n",
       "      <td>0.850</td>\n",
       "      <td>6.0</td>\n",
       "      <td>8.85</td>\n",
       "      <td>14.0</td>\n",
       "      <td>0.768373</td>\n",
       "      <td>0.982435</td>\n",
       "      <td>0.186607</td>\n",
       "    </tr>\n",
       "    <tr>\n",
       "      <th>...</th>\n",
       "      <td>...</td>\n",
       "      <td>...</td>\n",
       "      <td>...</td>\n",
       "      <td>...</td>\n",
       "      <td>...</td>\n",
       "      <td>...</td>\n",
       "      <td>...</td>\n",
       "      <td>...</td>\n",
       "      <td>...</td>\n",
       "      <td>...</td>\n",
       "      <td>...</td>\n",
       "      <td>...</td>\n",
       "      <td>...</td>\n",
       "      <td>...</td>\n",
       "      <td>...</td>\n",
       "      <td>...</td>\n",
       "      <td>...</td>\n",
       "    </tr>\n",
       "    <tr>\n",
       "      <th>2019-10-31 19:00:00</th>\n",
       "      <td>5.800</td>\n",
       "      <td>0.717855</td>\n",
       "      <td>0.693237</td>\n",
       "      <td>23.625</td>\n",
       "      <td>0.0</td>\n",
       "      <td>1.0</td>\n",
       "      <td>0.351308</td>\n",
       "      <td>-0.933402</td>\n",
       "      <td>0.495697</td>\n",
       "      <td>0.868496</td>\n",
       "      <td>3.075</td>\n",
       "      <td>4.0</td>\n",
       "      <td>5.80</td>\n",
       "      <td>19.0</td>\n",
       "      <td>6.827862</td>\n",
       "      <td>0.804887</td>\n",
       "      <td>0.593428</td>\n",
       "    </tr>\n",
       "    <tr>\n",
       "      <th>2019-10-31 20:00:00</th>\n",
       "      <td>5.350</td>\n",
       "      <td>0.511087</td>\n",
       "      <td>0.859053</td>\n",
       "      <td>23.500</td>\n",
       "      <td>0.0</td>\n",
       "      <td>1.0</td>\n",
       "      <td>0.580919</td>\n",
       "      <td>-0.810672</td>\n",
       "      <td>0.495697</td>\n",
       "      <td>0.868496</td>\n",
       "      <td>3.075</td>\n",
       "      <td>4.0</td>\n",
       "      <td>5.80</td>\n",
       "      <td>19.0</td>\n",
       "      <td>6.560536</td>\n",
       "      <td>0.734074</td>\n",
       "      <td>0.679069</td>\n",
       "    </tr>\n",
       "    <tr>\n",
       "      <th>2019-10-31 21:00:00</th>\n",
       "      <td>5.125</td>\n",
       "      <td>0.495896</td>\n",
       "      <td>0.867648</td>\n",
       "      <td>23.050</td>\n",
       "      <td>0.0</td>\n",
       "      <td>1.0</td>\n",
       "      <td>0.770942</td>\n",
       "      <td>-0.632696</td>\n",
       "      <td>0.495697</td>\n",
       "      <td>0.868496</td>\n",
       "      <td>3.075</td>\n",
       "      <td>4.0</td>\n",
       "      <td>5.80</td>\n",
       "      <td>19.0</td>\n",
       "      <td>6.472386</td>\n",
       "      <td>0.684310</td>\n",
       "      <td>0.729191</td>\n",
       "    </tr>\n",
       "    <tr>\n",
       "      <th>2019-10-31 22:00:00</th>\n",
       "      <td>5.025</td>\n",
       "      <td>0.528096</td>\n",
       "      <td>0.844972</td>\n",
       "      <td>22.675</td>\n",
       "      <td>0.0</td>\n",
       "      <td>1.0</td>\n",
       "      <td>0.908427</td>\n",
       "      <td>-0.411603</td>\n",
       "      <td>0.495697</td>\n",
       "      <td>0.868496</td>\n",
       "      <td>3.075</td>\n",
       "      <td>4.0</td>\n",
       "      <td>5.80</td>\n",
       "      <td>19.0</td>\n",
       "      <td>6.507449</td>\n",
       "      <td>0.658095</td>\n",
       "      <td>0.752935</td>\n",
       "    </tr>\n",
       "    <tr>\n",
       "      <th>2019-10-31 23:00:00</th>\n",
       "      <td>5.575</td>\n",
       "      <td>0.554406</td>\n",
       "      <td>0.829741</td>\n",
       "      <td>22.425</td>\n",
       "      <td>0.0</td>\n",
       "      <td>1.0</td>\n",
       "      <td>0.984004</td>\n",
       "      <td>-0.162460</td>\n",
       "      <td>0.495697</td>\n",
       "      <td>0.868496</td>\n",
       "      <td>3.075</td>\n",
       "      <td>4.0</td>\n",
       "      <td>5.80</td>\n",
       "      <td>19.0</td>\n",
       "      <td>6.384562</td>\n",
       "      <td>0.617141</td>\n",
       "      <td>0.786853</td>\n",
       "    </tr>\n",
       "  </tbody>\n",
       "</table>\n",
       "<p>38016 rows × 17 columns</p>\n",
       "</div>"
      ],
      "text/plain": [
       "                     speed  cos_wind_dir  sin_wind_dir    temp  radiation  \\\n",
       "2015-07-01 00:00:00  2.225      0.854881      0.212812  20.725        0.0   \n",
       "2015-07-01 01:00:00  2.900      0.848673     -0.514652  20.500        0.0   \n",
       "2015-07-01 02:00:00  1.600      0.806157     -0.237230  20.675        0.0   \n",
       "2015-07-01 03:00:00  2.175      0.815514      0.407457  20.850        0.0   \n",
       "2015-07-01 04:00:00  2.625      0.460721      0.860460  20.800        0.0   \n",
       "...                    ...           ...           ...     ...        ...   \n",
       "2019-10-31 19:00:00  5.800      0.717855      0.693237  23.625        0.0   \n",
       "2019-10-31 20:00:00  5.350      0.511087      0.859053  23.500        0.0   \n",
       "2019-10-31 21:00:00  5.125      0.495896      0.867648  23.050        0.0   \n",
       "2019-10-31 22:00:00  5.025      0.528096      0.844972  22.675        0.0   \n",
       "2019-10-31 23:00:00  5.575      0.554406      0.829741  22.425        0.0   \n",
       "\n",
       "                     scenario_num  cos_hour  sin_hour   cos_day   sin_day  \\\n",
       "2015-07-01 00:00:00           1.0  0.992522  0.097755  1.000000  0.000000   \n",
       "2015-07-01 01:00:00           1.0  0.933402  0.351308  1.000000  0.000000   \n",
       "2015-07-01 02:00:00           2.0  0.810672  0.580919  1.000000  0.000000   \n",
       "2015-07-01 03:00:00           1.0  0.632696  0.770942  1.000000  0.000000   \n",
       "2015-07-01 04:00:00           1.0  0.411603  0.908427  1.000000  0.000000   \n",
       "...                           ...       ...       ...       ...       ...   \n",
       "2019-10-31 19:00:00           1.0  0.351308 -0.933402  0.495697  0.868496   \n",
       "2019-10-31 20:00:00           1.0  0.580919 -0.810672  0.495697  0.868496   \n",
       "2019-10-31 21:00:00           1.0  0.770942 -0.632696  0.495697  0.868496   \n",
       "2019-10-31 22:00:00           1.0  0.908427 -0.411603  0.495697  0.868496   \n",
       "2019-10-31 23:00:00           1.0  0.984004 -0.162460  0.495697  0.868496   \n",
       "\n",
       "                     daily_min_speed  daily_min_hour  daily_max_speed  \\\n",
       "2015-07-01 00:00:00            0.850             6.0             8.85   \n",
       "2015-07-01 01:00:00            0.850             6.0             8.85   \n",
       "2015-07-01 02:00:00            0.850             6.0             8.85   \n",
       "2015-07-01 03:00:00            0.850             6.0             8.85   \n",
       "2015-07-01 04:00:00            0.850             6.0             8.85   \n",
       "...                              ...             ...              ...   \n",
       "2019-10-31 19:00:00            3.075             4.0             5.80   \n",
       "2019-10-31 20:00:00            3.075             4.0             5.80   \n",
       "2019-10-31 21:00:00            3.075             4.0             5.80   \n",
       "2019-10-31 22:00:00            3.075             4.0             5.80   \n",
       "2019-10-31 23:00:00            3.075             4.0             5.80   \n",
       "\n",
       "                     daily_max_hour  speed_forecast  cos_wind_dir_forecast  \\\n",
       "2015-07-01 00:00:00            14.0        1.710672               0.925475   \n",
       "2015-07-01 01:00:00            14.0        1.553615               0.920130   \n",
       "2015-07-01 02:00:00            14.0        1.135592               0.862629   \n",
       "2015-07-01 03:00:00            14.0        0.753942               0.867008   \n",
       "2015-07-01 04:00:00            14.0        0.768373               0.982435   \n",
       "...                             ...             ...                    ...   \n",
       "2019-10-31 19:00:00            19.0        6.827862               0.804887   \n",
       "2019-10-31 20:00:00            19.0        6.560536               0.734074   \n",
       "2019-10-31 21:00:00            19.0        6.472386               0.684310   \n",
       "2019-10-31 22:00:00            19.0        6.507449               0.658095   \n",
       "2019-10-31 23:00:00            19.0        6.384562               0.617141   \n",
       "\n",
       "                     sin_wind_dir_forecast  \n",
       "2015-07-01 00:00:00               0.378808  \n",
       "2015-07-01 01:00:00               0.391614  \n",
       "2015-07-01 02:00:00               0.505837  \n",
       "2015-07-01 03:00:00               0.498295  \n",
       "2015-07-01 04:00:00               0.186607  \n",
       "...                                    ...  \n",
       "2019-10-31 19:00:00               0.593428  \n",
       "2019-10-31 20:00:00               0.679069  \n",
       "2019-10-31 21:00:00               0.729191  \n",
       "2019-10-31 22:00:00               0.752935  \n",
       "2019-10-31 23:00:00               0.786853  \n",
       "\n",
       "[38016 rows x 17 columns]"
      ]
     },
     "execution_count": 26,
     "metadata": {},
     "output_type": "execute_result"
    }
   ],
   "source": [
    "df"
   ]
  },
  {
   "cell_type": "code",
   "execution_count": 9,
   "metadata": {},
   "outputs": [
    {
     "data": {
      "image/png": "[encoded data removed]",
      "text/plain": [
       "<matplotlib.figure.Figure at 0x1410e09e8>"
      ]
     },
     "metadata": {},
     "output_type": "display_data"
    }
   ],
   "source": [
    "import matplotlib.pyplot as plt\n",
    "plt.plot(data_merge['speed'][:200])\n",
    "plt.plot(data_merge['speed_forecast'][:200])\n",
    "plt.show()"
   ]
  },
  {
   "cell_type": "code",
   "execution_count": 8,
   "metadata": {},
   "outputs": [
    {
     "ename": "ValueError",
     "evalue": "Input contains NaN, infinity or a value too large for dtype('float64').",
     "output_type": "error",
     "traceback": [
      "\u001b[0;31m---------------------------------------------------------------------------\u001b[0m",
      "\u001b[0;31mValueError\u001b[0m                                Traceback (most recent call last)",
      "\u001b[0;32m<ipython-input-8-eb5eb2435ae5>\u001b[0m in \u001b[0;36m<module>\u001b[0;34m()\u001b[0m\n\u001b[0;32m----> 1\u001b[0;31m \u001b[0mprint\u001b[0m\u001b[0;34m(\u001b[0m\u001b[0mmean_squared_error\u001b[0m\u001b[0;34m(\u001b[0m\u001b[0mdata_merge\u001b[0m\u001b[0;34m[\u001b[0m\u001b[0;34m'speed'\u001b[0m\u001b[0;34m]\u001b[0m\u001b[0;34m,\u001b[0m \u001b[0mdata_merge\u001b[0m\u001b[0;34m[\u001b[0m\u001b[0;34m'speed_forecast'\u001b[0m\u001b[0;34m]\u001b[0m\u001b[0;34m)\u001b[0m\u001b[0;34m)\u001b[0m\u001b[0;34m\u001b[0m\u001b[0;34m\u001b[0m\u001b[0m\n\u001b[0m\u001b[1;32m      2\u001b[0m \u001b[0mprint\u001b[0m\u001b[0;34m(\u001b[0m\u001b[0mmean_absolute_error\u001b[0m\u001b[0;34m(\u001b[0m\u001b[0mdata_merge\u001b[0m\u001b[0;34m[\u001b[0m\u001b[0;34m'speed'\u001b[0m\u001b[0;34m]\u001b[0m\u001b[0;34m,\u001b[0m \u001b[0mdata_merge\u001b[0m\u001b[0;34m[\u001b[0m\u001b[0;34m'speed_forecast'\u001b[0m\u001b[0;34m]\u001b[0m\u001b[0;34m)\u001b[0m\u001b[0;34m)\u001b[0m\u001b[0;34m\u001b[0m\u001b[0;34m\u001b[0m\u001b[0m\n",
      "\u001b[0;32m~/anaconda3/lib/python3.6/site-packages/sklearn/metrics/regression.py\u001b[0m in \u001b[0;36mmean_squared_error\u001b[0;34m(y_true, y_pred, sample_weight, multioutput)\u001b[0m\n\u001b[1;32m    236\u001b[0m     \"\"\"\n\u001b[1;32m    237\u001b[0m     y_type, y_true, y_pred, multioutput = _check_reg_targets(\n\u001b[0;32m--> 238\u001b[0;31m         y_true, y_pred, multioutput)\n\u001b[0m\u001b[1;32m    239\u001b[0m     output_errors = np.average((y_true - y_pred) ** 2, axis=0,\n\u001b[1;32m    240\u001b[0m                                weights=sample_weight)\n",
      "\u001b[0;32m~/anaconda3/lib/python3.6/site-packages/sklearn/metrics/regression.py\u001b[0m in \u001b[0;36m_check_reg_targets\u001b[0;34m(y_true, y_pred, multioutput)\u001b[0m\n\u001b[1;32m     75\u001b[0m     \u001b[0mcheck_consistent_length\u001b[0m\u001b[0;34m(\u001b[0m\u001b[0my_true\u001b[0m\u001b[0;34m,\u001b[0m \u001b[0my_pred\u001b[0m\u001b[0;34m)\u001b[0m\u001b[0;34m\u001b[0m\u001b[0;34m\u001b[0m\u001b[0m\n\u001b[1;32m     76\u001b[0m     \u001b[0my_true\u001b[0m \u001b[0;34m=\u001b[0m \u001b[0mcheck_array\u001b[0m\u001b[0;34m(\u001b[0m\u001b[0my_true\u001b[0m\u001b[0;34m,\u001b[0m \u001b[0mensure_2d\u001b[0m\u001b[0;34m=\u001b[0m\u001b[0;32mFalse\u001b[0m\u001b[0;34m)\u001b[0m\u001b[0;34m\u001b[0m\u001b[0;34m\u001b[0m\u001b[0m\n\u001b[0;32m---> 77\u001b[0;31m     \u001b[0my_pred\u001b[0m \u001b[0;34m=\u001b[0m \u001b[0mcheck_array\u001b[0m\u001b[0;34m(\u001b[0m\u001b[0my_pred\u001b[0m\u001b[0;34m,\u001b[0m \u001b[0mensure_2d\u001b[0m\u001b[0;34m=\u001b[0m\u001b[0;32mFalse\u001b[0m\u001b[0;34m)\u001b[0m\u001b[0;34m\u001b[0m\u001b[0;34m\u001b[0m\u001b[0m\n\u001b[0m\u001b[1;32m     78\u001b[0m \u001b[0;34m\u001b[0m\u001b[0m\n\u001b[1;32m     79\u001b[0m     \u001b[0;32mif\u001b[0m \u001b[0my_true\u001b[0m\u001b[0;34m.\u001b[0m\u001b[0mndim\u001b[0m \u001b[0;34m==\u001b[0m \u001b[0;36m1\u001b[0m\u001b[0;34m:\u001b[0m\u001b[0;34m\u001b[0m\u001b[0;34m\u001b[0m\u001b[0m\n",
      "\u001b[0;32m~/anaconda3/lib/python3.6/site-packages/sklearn/utils/validation.py\u001b[0m in \u001b[0;36mcheck_array\u001b[0;34m(array, accept_sparse, dtype, order, copy, force_all_finite, ensure_2d, allow_nd, ensure_min_samples, ensure_min_features, warn_on_dtype, estimator)\u001b[0m\n\u001b[1;32m    451\u001b[0m                              % (array.ndim, estimator_name))\n\u001b[1;32m    452\u001b[0m         \u001b[0;32mif\u001b[0m \u001b[0mforce_all_finite\u001b[0m\u001b[0;34m:\u001b[0m\u001b[0;34m\u001b[0m\u001b[0;34m\u001b[0m\u001b[0m\n\u001b[0;32m--> 453\u001b[0;31m             \u001b[0m_assert_all_finite\u001b[0m\u001b[0;34m(\u001b[0m\u001b[0marray\u001b[0m\u001b[0;34m)\u001b[0m\u001b[0;34m\u001b[0m\u001b[0;34m\u001b[0m\u001b[0m\n\u001b[0m\u001b[1;32m    454\u001b[0m \u001b[0;34m\u001b[0m\u001b[0m\n\u001b[1;32m    455\u001b[0m     \u001b[0mshape_repr\u001b[0m \u001b[0;34m=\u001b[0m \u001b[0m_shape_repr\u001b[0m\u001b[0;34m(\u001b[0m\u001b[0marray\u001b[0m\u001b[0;34m.\u001b[0m\u001b[0mshape\u001b[0m\u001b[0;34m)\u001b[0m\u001b[0;34m\u001b[0m\u001b[0;34m\u001b[0m\u001b[0m\n",
      "\u001b[0;32m~/anaconda3/lib/python3.6/site-packages/sklearn/utils/validation.py\u001b[0m in \u001b[0;36m_assert_all_finite\u001b[0;34m(X)\u001b[0m\n\u001b[1;32m     42\u001b[0m             and not np.isfinite(X).all()):\n\u001b[1;32m     43\u001b[0m         raise ValueError(\"Input contains NaN, infinity\"\n\u001b[0;32m---> 44\u001b[0;31m                          \" or a value too large for %r.\" % X.dtype)\n\u001b[0m\u001b[1;32m     45\u001b[0m \u001b[0;34m\u001b[0m\u001b[0m\n\u001b[1;32m     46\u001b[0m \u001b[0;34m\u001b[0m\u001b[0m\n",
      "\u001b[0;31mValueError\u001b[0m: Input contains NaN, infinity or a value too large for dtype('float64')."
     ]
    }
   ],
   "source": [
    "print(mean_squared_error(data_merge['speed'], data_merge['speed_forecast']))\n",
    "print(mean_absolute_error(data_merge['speed'], data_merge['speed_forecast']))"
   ]
  },
  {
   "cell_type": "code",
   "execution_count": 27,
   "metadata": {},
   "outputs": [],
   "source": [
    "X_train, X_test, y_train, y_test, X_train_unscaled, X_test_unscaled, y_train_unscaled, y_test_unscaled, sc_X, sc_y = scale_data_RNN(48, 48, df, 0.1, speed_only = True)"
   ]
  },
  {
   "cell_type": "code",
   "execution_count": 55,
   "metadata": {},
   "outputs": [],
   "source": [
    "baseline = np.array(df['speed_forecast'][34144:])\n",
    "baseline = baseline[:y_te.shape[0]]"
   ]
  },
  {
   "cell_type": "code",
   "execution_count": 56,
   "metadata": {},
   "outputs": [
    {
     "data": {
      "text/plain": [
       "(3788,)"
      ]
     },
     "execution_count": 56,
     "metadata": {},
     "output_type": "execute_result"
    }
   ],
   "source": [
    "baseline.shape"
   ]
  },
  {
   "cell_type": "code",
   "execution_count": 44,
   "metadata": {},
   "outputs": [
    {
     "data": {
      "text/plain": [
       "array([1.71067229, 1.55361507, 1.13559172, ..., 6.47238627, 6.50744853,\n",
       "       6.38456234])"
      ]
     },
     "execution_count": 44,
     "metadata": {},
     "output_type": "execute_result"
    }
   ],
   "source": [
    "np.array(df['speed_forecast'])"
   ]
  },
  {
   "cell_type": "code",
   "execution_count": 29,
   "metadata": {
    "collapsed": true
   },
   "outputs": [],
   "source": [
    "def get_X_y(X_train, X_test, y_train, y_test, step2predict):\n",
    "    X_t = X_train.reshape(X_train.shape[0],-1)\n",
    "    X_te = X_test.reshape(X_test.shape[0],-1)\n",
    "    #change 0 to 1 or 2 for cos_wind_dir or sin_wind_dir\n",
    "    y_t = y_train[:,step2predict,0]\n",
    "    y_te = y_test[:,step2predict,0]\n",
    "    return X_t, X_te, y_t, y_te"
   ]
  },
  {
   "cell_type": "code",
   "execution_count": 30,
   "metadata": {
    "collapsed": true
   },
   "outputs": [],
   "source": [
    "X_t, X_te, y_t, y_te = get_X_y(X_train_unscaled, X_test_unscaled, y_train_unscaled, y_test_unscaled, 12)"
   ]
  },
  {
   "cell_type": "code",
   "execution_count": 70,
   "metadata": {},
   "outputs": [
    {
     "name": "stderr",
     "output_type": "stream",
     "text": [
      "/Users/leobix/anaconda3/lib/python3.6/site-packages/xgboost/core.py:614: UserWarning: Use subset (sliced data) of np.ndarray is not recommended because it will generate extra copies and increase memory consumption\n",
      "  \"because it will generate extra copies and increase memory consumption\")\n"
     ]
    },
    {
     "name": "stdout",
     "output_type": "stream",
     "text": [
      "[12:15:11] WARNING: src/objective/regression_obj.cu:152: reg:linear is now deprecated in favor of reg:squarederror.\n",
      "0.9047207047514756\n",
      "0.7525807462812547\n"
     ]
    }
   ],
   "source": [
    "xg = XGBRegressor(max_depth = 5)\n",
    "xg.fit(X_t, y_t)\n",
    "y_hat = xg.predict(X_te)\n",
    "print(mean_squared_error(y_te, y_hat))\n",
    "print(mean_absolute_error(y_te, y_hat))"
   ]
  },
  {
   "cell_type": "code",
   "execution_count": 73,
   "metadata": {},
   "outputs": [
    {
     "data": {
      "image/png": "[encoded data removed]",
      "text/plain": [
       "<matplotlib.figure.Figure at 0x118a3a8d0>"
      ]
     },
     "metadata": {},
     "output_type": "display_data"
    }
   ],
   "source": [
    "plt.hist(xg.feature_importances_)\n",
    "plt.show()"
   ]
  },
  {
   "cell_type": "markdown",
   "metadata": {},
   "source": [
    "2 max depth\n",
    "1.0514130180673609\n",
    "0.8285229944924967\n",
    "\n",
    "3 max depth\n",
    "0.9467532367134287\n",
    "0.7795769491617314\n",
    "\n",
    "4 max depth\n",
    "0.9334842664915324\n",
    "0.7690010867590146\n",
    "\n",
    "5 max depth\n",
    "0.9047207047514756\n",
    "0.7525807462812547"
   ]
  },
  {
   "cell_type": "code",
   "execution_count": 66,
   "metadata": {},
   "outputs": [
    {
     "data": {
      "text/plain": [
       "3"
      ]
     },
     "execution_count": 66,
     "metadata": {},
     "output_type": "execute_result"
    }
   ],
   "source": [
    "xg.max_depth"
   ]
  },
  {
   "cell_type": "code",
   "execution_count": 58,
   "metadata": {},
   "outputs": [
    {
     "name": "stdout",
     "output_type": "stream",
     "text": [
      "0.9467532367134287\n",
      "0.7795769491617314\n",
      "1.8340037322247849\n",
      "1.060940779149615\n"
     ]
    }
   ],
   "source": [
    "print(mean_squared_error(y_te, y_hat))\n",
    "print(mean_absolute_error(y_te, y_hat))\n",
    "print(mean_squared_error(y_te, baseline))\n",
    "print(mean_absolute_error(y_te, baseline))"
   ]
  },
  {
   "cell_type": "code",
   "execution_count": 77,
   "metadata": {
    "collapsed": true
   },
   "outputs": [],
   "source": [
    "def get_all_prediction_models(steps_out):\n",
    "    models = []\n",
    "    maes = []\n",
    "    mses = []\n",
    "    y_hats = []\n",
    "    X_train, X_test, y_train, y_test, X_train_unscaled, X_test_unscaled, y_train_unscaled, y_test_unscaled, sc_X, sc_y = scale_data_RNN(48, steps_out, df, 0.1, speed_only = True)\n",
    "    for i in range(steps_out):\n",
    "        X_t, X_te, y_t, y_te = get_X_y(X_train_unscaled, X_test_unscaled, y_train_unscaled, y_test_unscaled, i)\n",
    "        xg = XGBRegressor(max_depth=5)\n",
    "        xg.fit(X_t, y_t)\n",
    "        y_hat = xg.predict(X_te)\n",
    "        mse, mae = mean_squared_error(y_te, y_hat), mean_absolute_error(y_te, y_hat)\n",
    "        print(\"MSE error for step \", i, \" is: \", mse)\n",
    "        print(\"MAE error for step \", i, \" is: \", mae)\n",
    "        maes.append(mae)\n",
    "        mses.append(mse)\n",
    "        models.append(xg)\n",
    "        y_hats.append(y_hat)\n",
    "    return models, maes, mses, y_hats"
   ]
  },
  {
   "cell_type": "code",
   "execution_count": null,
   "metadata": {},
   "outputs": [
    {
     "name": "stderr",
     "output_type": "stream",
     "text": [
      "/Users/leobix/anaconda3/lib/python3.6/site-packages/xgboost/core.py:614: UserWarning: Use subset (sliced data) of np.ndarray is not recommended because it will generate extra copies and increase memory consumption\n",
      "  \"because it will generate extra copies and increase memory consumption\")\n"
     ]
    },
    {
     "name": "stdout",
     "output_type": "stream",
     "text": [
      "[12:21:49] WARNING: src/objective/regression_obj.cu:152: reg:linear is now deprecated in favor of reg:squarederror.\n"
     ]
    }
   ],
   "source": [
    "models, maes, mses, y_hats = get_all_prediction_models(3)"
   ]
  },
  {
   "cell_type": "code",
   "execution_count": 76,
   "metadata": {},
   "outputs": [
    {
     "data": {
      "image/png": "[encoded data removed]",
      "text/plain": [
       "<matplotlib.figure.Figure at 0x14412be80>"
      ]
     },
     "metadata": {},
     "output_type": "display_data"
    }
   ],
   "source": [
    "plt.plot(y_te[:200])\n",
    "plt.plot(y_hat[:200])\n",
    "#plt.plot(baseline[:200])\n",
    "plt.show()"
   ]
  },
  {
   "cell_type": "code",
   "execution_count": 41,
   "metadata": {
    "collapsed": true
   },
   "outputs": [],
   "source": [
    "def create_data_RNN(steps_in, steps_out, df):\n",
    "    X, y = get_past_n_steps(df, steps_in), get_future_n_steps(df, steps_out)\n",
    "    print(y)\n",
    "    X2, y2 = np.array(X), np.array(y)\n",
    "    X3, y3 = X2.reshape(-1, steps_in, X2.shape[1]//(steps_in)), y2.reshape(-1, steps_out, y2.shape[1]//(steps_out))\n",
    "    y_from_X = X3[steps_in:-2*steps_in,:steps_out,:3]\n",
    "    return y, X3[:y_from_X.shape[0]], y_from_X"
   ]
  },
  {
   "cell_type": "code",
   "execution_count": 46,
   "metadata": {
    "collapsed": true
   },
   "outputs": [],
   "source": [
    "e = t[['speed_t', 'cos_wind_dir_t', 'sin_wind_dir_t']]"
   ]
  },
  {
   "cell_type": "code",
   "execution_count": 30,
   "metadata": {
    "collapsed": true
   },
   "outputs": [],
   "source": [
    "def scale_data_RNN2(steps_in, steps_out, df, test_size = 0.2, speed_only = False):\n",
    "    X, y = create_data_RNN(steps_in, steps_out, df)\n",
    "    #y = y[:,:,:3]\n",
    "    X_train, X_test, y_train, y_test = train_test_split(X, y, test_size=test_size, shuffle = False)\n",
    "    scaler_X = MinMaxScaler(feature_range=(0, 1))\n",
    "    scaler_y = MinMaxScaler(feature_range=(0, 1))\n",
    "    \n",
    "    X_train2 = X_train.reshape(X_train.shape[0]*X_train.shape[1], X_train.shape[2])\n",
    "    X_test2 = X_test.reshape(X_test.shape[0]*X_test.shape[1], X_test.shape[2])\n",
    "    y_train2 = y_train.reshape(y_train.shape[0]*y_train.shape[1], y_train.shape[2])\n",
    "    y_test2 = y_test.reshape(y_test.shape[0]*y_test.shape[1], y_test.shape[2])\n",
    "    \n",
    "    X_train_scaled = scaler_X.fit_transform(X_train2)\n",
    "    X_test_scaled = scaler_X.transform(X_test2)\n",
    "    y_train_scaled = scaler_y.fit_transform(y_train2)\n",
    "    y_test_scaled = scaler_y.transform(y_test2)\n",
    "    \n",
    "    X_train_scaled = X_train_scaled.reshape(X_train.shape[0], X_train.shape[1], X_train.shape[2])\n",
    "    X_test_scaled = X_test_scaled.reshape(X_test.shape[0], X_test.shape[1], X_test.shape[2])\n",
    "    y_train_scaled = y_train_scaled.reshape(y_train.shape[0], y_train.shape[1], y_train.shape[2])\n",
    "    y_test_scaled = y_test_scaled.reshape(y_test.shape[0], y_test.shape[1], y_test.shape[2])\n",
    "    \n",
    "    X_train_final = X_train_scaled.transpose(0,1,2)\n",
    "    X_test_final = X_test_scaled.transpose(0,1,2)\n",
    "    y_train_final = y_train_scaled.transpose(0,1,2)\n",
    "    y_test_final = y_test_scaled.transpose(0,1,2)\n",
    "\n",
    "    if speed_only:\n",
    "        print(y_train_final.shape)\n",
    "        y_train_final = y_train_scaled[:,:,0]\n",
    "        y_test_final = y_test_scaled[:,:,0]\n",
    "    \n",
    "    return y, X_train_final, X_test_final, y_train_final, y_test_final, y_train, y_test, scaler_X, scaler_y"
   ]
  },
  {
   "cell_type": "code",
   "execution_count": 31,
   "metadata": {},
   "outputs": [
    {
     "name": "stdout",
     "output_type": "stream",
     "text": [
      "(37732, 48, 3)\n",
      "(33958, 48, 3)\n"
     ]
    }
   ],
   "source": [
    "y, X_train, X_test, y_train, y_test, y_train_unscaled, y_test_unscaled, sc_X, sc_y = scale_data_RNN2(48, 48, data_merge, 0.1, speed_only = True)"
   ]
  },
  {
   "cell_type": "code",
   "execution_count": 32,
   "metadata": {},
   "outputs": [
    {
     "data": {
      "text/plain": [
       "array([[[  0.   ,  44.25 ,   3.7  ],\n",
       "        [  1.   ,  32.   ,   2.75 ],\n",
       "        [  2.   ,  47.25 ,   2.85 ],\n",
       "        ...,\n",
       "        [ 21.   ,  28.5  ,   4.525],\n",
       "        [ 22.   , 106.5  ,   5.175],\n",
       "        [ 23.   ,  47.5  ,   4.525]],\n",
       "\n",
       "       [[  1.   ,  32.   ,   2.75 ],\n",
       "        [  2.   ,  47.25 ,   2.85 ],\n",
       "        [  3.   ,  44.75 ,   2.55 ],\n",
       "        ...,\n",
       "        [ 22.   , 106.5  ,   5.175],\n",
       "        [ 23.   ,  47.5  ,   4.525],\n",
       "        [  0.   ,  60.25 ,   3.925]],\n",
       "\n",
       "       [[  2.   ,  47.25 ,   2.85 ],\n",
       "        [  3.   ,  44.75 ,   2.55 ],\n",
       "        [  4.   ,  44.75 ,   3.275],\n",
       "        ...,\n",
       "        [ 23.   ,  47.5  ,   4.525],\n",
       "        [  0.   ,  60.25 ,   3.925],\n",
       "        [  1.   ,  41.   ,   3.6  ]],\n",
       "\n",
       "       ...,\n",
       "\n",
       "       [[ 21.   ,  93.25 ,   1.975],\n",
       "        [ 22.   ,  94.25 ,   2.1  ],\n",
       "        [ 23.   ,  99.   ,   1.4  ],\n",
       "        ...,\n",
       "        [ 18.   ,  39.75 ,   2.375],\n",
       "        [ 19.   ,  75.   ,   2.75 ],\n",
       "        [ 20.   ,  78.5  ,   3.1  ]],\n",
       "\n",
       "       [[ 22.   ,  94.25 ,   2.1  ],\n",
       "        [ 23.   ,  99.   ,   1.4  ],\n",
       "        [  0.   , 156.25 ,   0.5  ],\n",
       "        ...,\n",
       "        [ 19.   ,  75.   ,   2.75 ],\n",
       "        [ 20.   ,  78.5  ,   3.1  ],\n",
       "        [ 21.   ,  83.   ,   3.15 ]],\n",
       "\n",
       "       [[ 23.   ,  99.   ,   1.4  ],\n",
       "        [  0.   , 156.25 ,   0.5  ],\n",
       "        [  1.   ,  84.75 ,   1.4  ],\n",
       "        ...,\n",
       "        [ 20.   ,  78.5  ,   3.1  ],\n",
       "        [ 21.   ,  83.   ,   3.15 ],\n",
       "        [ 22.   ,  81.   ,   3.575]]])"
      ]
     },
     "execution_count": 32,
     "metadata": {},
     "output_type": "execute_result"
    }
   ],
   "source": [
    "y"
   ]
  },
  {
   "cell_type": "code",
   "execution_count": 18,
   "metadata": {},
   "outputs": [
    {
     "data": {
      "image/png": "[encoded data removed]",
      "text/plain": [
       "<matplotlib.figure.Figure at 0x1203e4f98>"
      ]
     },
     "metadata": {},
     "output_type": "display_data"
    }
   ],
   "source": [
    "plt.plot(y_test_unscaled[:100,12,0])\n",
    "#plt.plot(y_hat[:100])\n",
    "plt.show()"
   ]
  },
  {
   "cell_type": "code",
   "execution_count": 7,
   "metadata": {
    "collapsed": true
   },
   "outputs": [],
   "source": [
    "steps_in = 48\n",
    "steps_out = 48\n",
    "test_size = 0.1"
   ]
  },
  {
   "cell_type": "code",
   "execution_count": 8,
   "metadata": {},
   "outputs": [
    {
     "name": "stdout",
     "output_type": "stream",
     "text": [
      "read csv semester csv files from 2015s2 to 2019s2\n",
      "smooth wind direction\n",
      "smooth hour\n",
      "smooth day\n",
      "generate daily features: ['daily_min_speed', 'daily_min_hour', 'daily_max_speed', 'daily_max_hour']\n",
      "generate seasonality categorical feature\n",
      "generate day/night categorical feature\n",
      "reading forecast data\n"
     ]
    },
    {
     "name": "stderr",
     "output_type": "stream",
     "text": [
      "/Users/leobix/anaconda3/lib/python3.6/site-packages/IPython/core/interactiveshell.py:2862: DtypeWarning: Columns (6) have mixed types. Specify dtype option on import or set low_memory=False.\n",
      "  exec(code_obj, self.user_global_ns, self.user_ns)\n"
     ]
    },
    {
     "name": "stdout",
     "output_type": "stream",
     "text": [
      "keep last forecast, duplicates dropped =  96574\n",
      "smooth wind direction\n",
      "merge with forecast data\n",
      "Data has been processed and merged.\n"
     ]
    }
   ],
   "source": [
    "data=prepare_data(one_hot=False)\n",
    "#data_merge = prepare_data_with_forecast(data)\n",
    "data_merge, data, forecast  = prepare_data_with_forecast(data)\n",
    "   #data_merge.to_csv('training_data.csv', index = True)\n",
    "   #data_merge = read_csv(\"training_data.csv\", index_col=0)\n",
    "   #print(data_merge)\n",
    "df = data_merge[['speed', 'cos_wind_dir', 'sin_wind_dir', 'temp', 'radiation', 'scenario_num', 'cos_hour', 'sin_hour', 'cos_day', 'sin_day', 'daily_min_speed', 'daily_min_hour', 'daily_max_speed', 'daily_max_hour', 'speed_forecast', 'cos_wind_dir_forecast', 'sin_wind_dir_forecast']]\n",
    "\n",
    "print(\"Data has been processed and merged.\")\n",
    "X_train, X_test, y_train, y_test, X_train_unscaled, X_test_unscaled, y_train_unscaled, y_test_unscaled, sc_X, sc_y = scale_data_RNN(steps_in, steps_out, df, test_size=test_size, speed_only = True)"
   ]
  },
  {
   "cell_type": "code",
   "execution_count": 10,
   "metadata": {},
   "outputs": [
    {
     "data": {
      "text/plain": [
       "array([[[3.7       , 0.7127612 , 0.69452034],\n",
       "        [2.75      , 0.8465571 , 0.52900168],\n",
       "        [2.85      , 0.66830943, 0.72344977],\n",
       "        ...,\n",
       "        [4.525     , 0.87250044, 0.47343036],\n",
       "        [5.175     , 0.92945321, 0.27531659],\n",
       "        [4.525     , 0.6606555 , 0.72165574]],\n",
       "\n",
       "       [[2.75      , 0.8465571 , 0.52900168],\n",
       "        [2.85      , 0.66830943, 0.72344977],\n",
       "        [2.55      , 0.70554391, 0.69947487],\n",
       "        ...,\n",
       "        [5.175     , 0.92945321, 0.27531659],\n",
       "        [4.525     , 0.6606555 , 0.72165574],\n",
       "        [3.925     , 0.48275046, 0.84469968]],\n",
       "\n",
       "       [[2.85      , 0.66830943, 0.72344977],\n",
       "        [2.55      , 0.70554391, 0.69947487],\n",
       "        [3.275     , 0.7065119 , 0.70022896],\n",
       "        ...,\n",
       "        [4.525     , 0.6606555 , 0.72165574],\n",
       "        [3.925     , 0.48275046, 0.84469968],\n",
       "        [3.6       , 0.75153837, 0.65332872]],\n",
       "\n",
       "       ...,\n",
       "\n",
       "       [[5.075     , 0.57519685, 0.81369969],\n",
       "        [4.4       , 0.69477122, 0.71336488],\n",
       "        [4.35      , 0.52606982, 0.84230059],\n",
       "        ...,\n",
       "        [3.225     , 0.71123171, 0.69889287],\n",
       "        [2.475     , 0.5635944 , 0.81293943],\n",
       "        [2.1       , 0.19484033, 0.97948634]],\n",
       "\n",
       "       [[4.4       , 0.69477122, 0.71336488],\n",
       "        [4.35      , 0.52606982, 0.84230059],\n",
       "        [4.425     , 0.57326746, 0.81871773],\n",
       "        ...,\n",
       "        [2.475     , 0.5635944 , 0.81293943],\n",
       "        [2.1       , 0.19484033, 0.97948634],\n",
       "        [2.15      , 0.45486215, 0.85464779]],\n",
       "\n",
       "       [[4.35      , 0.52606982, 0.84230059],\n",
       "        [4.425     , 0.57326746, 0.81871773],\n",
       "        [4.1       , 0.52338169, 0.8458118 ],\n",
       "        ...,\n",
       "        [2.1       , 0.19484033, 0.97948634],\n",
       "        [2.15      , 0.45486215, 0.85464779],\n",
       "        [1.925     , 0.13421799, 0.98516928]]])"
      ]
     },
     "execution_count": 10,
     "metadata": {},
     "output_type": "execute_result"
    }
   ],
   "source": [
    "y_train_unscaled"
   ]
  }
 ],
 "metadata": {
  "kernelspec": {
   "display_name": "Python 3",
   "language": "python",
   "name": "python3"
  },
  "language_info": {
   "codemirror_mode": {
    "name": "ipython",
    "version": 3
   },
   "file_extension": ".py",
   "mimetype": "text/x-python",
   "name": "python",
   "nbconvert_exporter": "python",
   "pygments_lexer": "ipython3",
   "version": "3.6.8"
  }
 },
 "nbformat": 4,
 "nbformat_minor": 2
}
