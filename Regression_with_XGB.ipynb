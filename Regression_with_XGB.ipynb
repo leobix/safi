{
 "cells": [
  {
   "cell_type": "code",
   "execution_count": 1,
   "metadata": {},
   "outputs": [
    {
     "name": "stderr",
     "output_type": "stream",
     "text": [
      "ERROR:root:Internal Python error in the inspect module.\n",
      "Below is the traceback from this internal error.\n",
      "\n",
      "ERROR:root:Internal Python error in the inspect module.\n",
      "Below is the traceback from this internal error.\n",
      "\n"
     ]
    },
    {
     "name": "stdout",
     "output_type": "stream",
     "text": [
      "Traceback (most recent call last):\n",
      "  File \"/Users/cynthiazeng/anaconda3/lib/python3.7/site-packages/tensorflow_core/python/pywrap_tensorflow.py\", line 58, in <module>\n",
      "    from tensorflow.python.pywrap_tensorflow_internal import *\n",
      "  File \"/Users/cynthiazeng/anaconda3/lib/python3.7/site-packages/tensorflow_core/python/pywrap_tensorflow_internal.py\", line 28, in <module>\n",
      "    _pywrap_tensorflow_internal = swig_import_helper()\n",
      "  File \"/Users/cynthiazeng/anaconda3/lib/python3.7/site-packages/tensorflow_core/python/pywrap_tensorflow_internal.py\", line 24, in swig_import_helper\n",
      "    _mod = imp.load_module('_pywrap_tensorflow_internal', fp, pathname, description)\n",
      "  File \"/Users/cynthiazeng/anaconda3/lib/python3.7/imp.py\", line 242, in load_module\n",
      "    return load_dynamic(name, filename, file)\n",
      "  File \"/Users/cynthiazeng/anaconda3/lib/python3.7/imp.py\", line 342, in load_dynamic\n",
      "    return _load(spec)\n",
      "ImportError: dlopen(/Users/cynthiazeng/anaconda3/lib/python3.7/site-packages/tensorflow_core/python/_pywrap_tensorflow_internal.so, 6): Symbol not found: _SecKeyCopyExternalRepresentation\n",
      "  Referenced from: /Users/cynthiazeng/anaconda3/lib/python3.7/site-packages/tensorflow_core/python/../libtensorflow_framework.2.dylib\n",
      "  Expected in: /System/Library/Frameworks/Security.framework/Versions/A/Security\n",
      " in /Users/cynthiazeng/anaconda3/lib/python3.7/site-packages/tensorflow_core/python/../libtensorflow_framework.2.dylib\n",
      "\n",
      "During handling of the above exception, another exception occurred:\n",
      "\n",
      "Traceback (most recent call last):\n",
      "  File \"/Users/cynthiazeng/anaconda3/lib/python3.7/site-packages/IPython/core/interactiveshell.py\", line 3325, in run_code\n",
      "    exec(code_obj, self.user_global_ns, self.user_ns)\n",
      "  File \"<ipython-input-1-aebf4a7a607a>\", line 10, in <module>\n",
      "    from utils import *\n",
      "  File \"/Users/cynthiazeng/safi/utils.py\", line 16, in <module>\n",
      "    from tensorflow.keras.models import Sequential\n",
      "  File \"/Users/cynthiazeng/anaconda3/lib/python3.7/site-packages/tensorflow/__init__.py\", line 98, in <module>\n",
      "    from tensorflow_core import *\n",
      "  File \"/Users/cynthiazeng/anaconda3/lib/python3.7/site-packages/tensorflow_core/__init__.py\", line 40, in <module>\n",
      "    from tensorflow.python.tools import module_util as _module_util\n",
      "  File \"/Users/cynthiazeng/anaconda3/lib/python3.7/site-packages/tensorflow/__init__.py\", line 50, in __getattr__\n",
      "    module = self._load()\n",
      "  File \"/Users/cynthiazeng/anaconda3/lib/python3.7/site-packages/tensorflow/__init__.py\", line 44, in _load\n",
      "    module = _importlib.import_module(self.__name__)\n",
      "  File \"/Users/cynthiazeng/anaconda3/lib/python3.7/importlib/__init__.py\", line 127, in import_module\n",
      "    return _bootstrap._gcd_import(name[level:], package, level)\n",
      "  File \"/Users/cynthiazeng/anaconda3/lib/python3.7/site-packages/tensorflow_core/python/__init__.py\", line 49, in <module>\n",
      "    from tensorflow.python import pywrap_tensorflow\n",
      "  File \"/Users/cynthiazeng/anaconda3/lib/python3.7/site-packages/tensorflow_core/python/pywrap_tensorflow.py\", line 74, in <module>\n",
      "    raise ImportError(msg)\n",
      "ImportError: Traceback (most recent call last):\n",
      "  File \"/Users/cynthiazeng/anaconda3/lib/python3.7/site-packages/tensorflow_core/python/pywrap_tensorflow.py\", line 58, in <module>\n",
      "    from tensorflow.python.pywrap_tensorflow_internal import *\n",
      "  File \"/Users/cynthiazeng/anaconda3/lib/python3.7/site-packages/tensorflow_core/python/pywrap_tensorflow_internal.py\", line 28, in <module>\n",
      "    _pywrap_tensorflow_internal = swig_import_helper()\n",
      "  File \"/Users/cynthiazeng/anaconda3/lib/python3.7/site-packages/tensorflow_core/python/pywrap_tensorflow_internal.py\", line 24, in swig_import_helper\n",
      "    _mod = imp.load_module('_pywrap_tensorflow_internal', fp, pathname, description)\n",
      "  File \"/Users/cynthiazeng/anaconda3/lib/python3.7/imp.py\", line 242, in load_module\n",
      "    return load_dynamic(name, filename, file)\n",
      "  File \"/Users/cynthiazeng/anaconda3/lib/python3.7/imp.py\", line 342, in load_dynamic\n",
      "    return _load(spec)\n",
      "ImportError: dlopen(/Users/cynthiazeng/anaconda3/lib/python3.7/site-packages/tensorflow_core/python/_pywrap_tensorflow_internal.so, 6): Symbol not found: _SecKeyCopyExternalRepresentation\n",
      "  Referenced from: /Users/cynthiazeng/anaconda3/lib/python3.7/site-packages/tensorflow_core/python/../libtensorflow_framework.2.dylib\n",
      "  Expected in: /System/Library/Frameworks/Security.framework/Versions/A/Security\n",
      " in /Users/cynthiazeng/anaconda3/lib/python3.7/site-packages/tensorflow_core/python/../libtensorflow_framework.2.dylib\n",
      "\n",
      "\n",
      "Failed to load the native TensorFlow runtime.\n",
      "\n",
      "See https://www.tensorflow.org/install/errors\n",
      "\n",
      "for some common reasons and solutions.  Include the entire stack trace\n",
      "above this error message when asking for help.\n",
      "\n",
      "During handling of the above exception, another exception occurred:\n",
      "\n",
      "Traceback (most recent call last):\n",
      "  File \"/Users/cynthiazeng/anaconda3/lib/python3.7/site-packages/IPython/core/interactiveshell.py\", line 2039, in showtraceback\n",
      "    stb = value._render_traceback_()\n",
      "AttributeError: 'ImportError' object has no attribute '_render_traceback_'\n",
      "\n",
      "During handling of the above exception, another exception occurred:\n",
      "\n",
      "Traceback (most recent call last):\n",
      "  File \"/Users/cynthiazeng/anaconda3/lib/python3.7/site-packages/tensorflow_core/python/pywrap_tensorflow.py\", line 58, in <module>\n",
      "    from tensorflow.python.pywrap_tensorflow_internal import *\n",
      "  File \"/Users/cynthiazeng/anaconda3/lib/python3.7/site-packages/tensorflow_core/python/pywrap_tensorflow_internal.py\", line 28, in <module>\n",
      "    _pywrap_tensorflow_internal = swig_import_helper()\n",
      "  File \"/Users/cynthiazeng/anaconda3/lib/python3.7/site-packages/tensorflow_core/python/pywrap_tensorflow_internal.py\", line 24, in swig_import_helper\n",
      "    _mod = imp.load_module('_pywrap_tensorflow_internal', fp, pathname, description)\n",
      "  File \"/Users/cynthiazeng/anaconda3/lib/python3.7/imp.py\", line 242, in load_module\n",
      "    return load_dynamic(name, filename, file)\n",
      "  File \"/Users/cynthiazeng/anaconda3/lib/python3.7/imp.py\", line 342, in load_dynamic\n",
      "    return _load(spec)\n",
      "ImportError: dlopen(/Users/cynthiazeng/anaconda3/lib/python3.7/site-packages/tensorflow_core/python/_pywrap_tensorflow_internal.so, 6): Symbol not found: _SecKeyCopyExternalRepresentation\n",
      "  Referenced from: /Users/cynthiazeng/anaconda3/lib/python3.7/site-packages/tensorflow_core/python/../libtensorflow_framework.2.dylib\n",
      "  Expected in: /System/Library/Frameworks/Security.framework/Versions/A/Security\n",
      " in /Users/cynthiazeng/anaconda3/lib/python3.7/site-packages/tensorflow_core/python/../libtensorflow_framework.2.dylib\n",
      "\n",
      "During handling of the above exception, another exception occurred:\n",
      "\n",
      "Traceback (most recent call last):\n",
      "  File \"/Users/cynthiazeng/anaconda3/lib/python3.7/site-packages/IPython/core/ultratb.py\", line 1101, in get_records\n",
      "    return _fixed_getinnerframes(etb, number_of_lines_of_context, tb_offset)\n",
      "  File \"/Users/cynthiazeng/anaconda3/lib/python3.7/site-packages/IPython/core/ultratb.py\", line 319, in wrapped\n",
      "    return f(*args, **kwargs)\n",
      "  File \"/Users/cynthiazeng/anaconda3/lib/python3.7/site-packages/IPython/core/ultratb.py\", line 353, in _fixed_getinnerframes\n",
      "    records = fix_frame_records_filenames(inspect.getinnerframes(etb, context))\n",
      "  File \"/Users/cynthiazeng/anaconda3/lib/python3.7/inspect.py\", line 1502, in getinnerframes\n",
      "    frameinfo = (tb.tb_frame,) + getframeinfo(tb, context)\n",
      "  File \"/Users/cynthiazeng/anaconda3/lib/python3.7/inspect.py\", line 1460, in getframeinfo\n",
      "    filename = getsourcefile(frame) or getfile(frame)\n",
      "  File \"/Users/cynthiazeng/anaconda3/lib/python3.7/inspect.py\", line 696, in getsourcefile\n",
      "    if getattr(getmodule(object, filename), '__loader__', None) is not None:\n",
      "  File \"/Users/cynthiazeng/anaconda3/lib/python3.7/inspect.py\", line 733, in getmodule\n",
      "    if ismodule(module) and hasattr(module, '__file__'):\n",
      "  File \"/Users/cynthiazeng/anaconda3/lib/python3.7/site-packages/tensorflow/__init__.py\", line 50, in __getattr__\n",
      "    module = self._load()\n",
      "  File \"/Users/cynthiazeng/anaconda3/lib/python3.7/site-packages/tensorflow/__init__.py\", line 44, in _load\n",
      "    module = _importlib.import_module(self.__name__)\n",
      "  File \"/Users/cynthiazeng/anaconda3/lib/python3.7/importlib/__init__.py\", line 127, in import_module\n",
      "    return _bootstrap._gcd_import(name[level:], package, level)\n",
      "  File \"<frozen importlib._bootstrap>\", line 1006, in _gcd_import\n",
      "  File \"<frozen importlib._bootstrap>\", line 983, in _find_and_load\n",
      "  File \"<frozen importlib._bootstrap>\", line 953, in _find_and_load_unlocked\n",
      "  File \"<frozen importlib._bootstrap>\", line 219, in _call_with_frames_removed\n",
      "  File \"<frozen importlib._bootstrap>\", line 1006, in _gcd_import\n",
      "  File \"<frozen importlib._bootstrap>\", line 983, in _find_and_load\n",
      "  File \"<frozen importlib._bootstrap>\", line 967, in _find_and_load_unlocked\n",
      "  File \"<frozen importlib._bootstrap>\", line 677, in _load_unlocked\n",
      "  File \"<frozen importlib._bootstrap_external>\", line 728, in exec_module\n",
      "  File \"<frozen importlib._bootstrap>\", line 219, in _call_with_frames_removed\n",
      "  File \"/Users/cynthiazeng/anaconda3/lib/python3.7/site-packages/tensorflow_core/__init__.py\", line 42, in <module>\n",
      "    from . _api.v2 import audio\n",
      "  File \"/Users/cynthiazeng/anaconda3/lib/python3.7/site-packages/tensorflow_core/_api/v2/audio/__init__.py\", line 10, in <module>\n",
      "    from tensorflow.python.ops.gen_audio_ops import decode_wav\n",
      "  File \"/Users/cynthiazeng/anaconda3/lib/python3.7/site-packages/tensorflow_core/python/ops/gen_audio_ops.py\", line 10, in <module>\n",
      "    from tensorflow.python import pywrap_tensorflow as _pywrap_tensorflow\n",
      "  File \"/Users/cynthiazeng/anaconda3/lib/python3.7/site-packages/tensorflow/__init__.py\", line 50, in __getattr__\n",
      "    module = self._load()\n",
      "  File \"/Users/cynthiazeng/anaconda3/lib/python3.7/site-packages/tensorflow/__init__.py\", line 44, in _load\n",
      "    module = _importlib.import_module(self.__name__)\n",
      "  File \"/Users/cynthiazeng/anaconda3/lib/python3.7/importlib/__init__.py\", line 127, in import_module\n",
      "    return _bootstrap._gcd_import(name[level:], package, level)\n",
      "  File \"/Users/cynthiazeng/anaconda3/lib/python3.7/site-packages/tensorflow_core/python/__init__.py\", line 49, in <module>\n",
      "    from tensorflow.python import pywrap_tensorflow\n",
      "  File \"/Users/cynthiazeng/anaconda3/lib/python3.7/site-packages/tensorflow_core/python/pywrap_tensorflow.py\", line 74, in <module>\n",
      "    raise ImportError(msg)\n",
      "ImportError: Traceback (most recent call last):\n",
      "  File \"/Users/cynthiazeng/anaconda3/lib/python3.7/site-packages/tensorflow_core/python/pywrap_tensorflow.py\", line 58, in <module>\n",
      "    from tensorflow.python.pywrap_tensorflow_internal import *\n",
      "  File \"/Users/cynthiazeng/anaconda3/lib/python3.7/site-packages/tensorflow_core/python/pywrap_tensorflow_internal.py\", line 28, in <module>\n",
      "    _pywrap_tensorflow_internal = swig_import_helper()\n",
      "  File \"/Users/cynthiazeng/anaconda3/lib/python3.7/site-packages/tensorflow_core/python/pywrap_tensorflow_internal.py\", line 24, in swig_import_helper\n",
      "    _mod = imp.load_module('_pywrap_tensorflow_internal', fp, pathname, description)\n",
      "  File \"/Users/cynthiazeng/anaconda3/lib/python3.7/imp.py\", line 242, in load_module\n",
      "    return load_dynamic(name, filename, file)\n",
      "  File \"/Users/cynthiazeng/anaconda3/lib/python3.7/imp.py\", line 342, in load_dynamic\n",
      "    return _load(spec)\n",
      "ImportError: dlopen(/Users/cynthiazeng/anaconda3/lib/python3.7/site-packages/tensorflow_core/python/_pywrap_tensorflow_internal.so, 6): Symbol not found: _SecKeyCopyExternalRepresentation\n",
      "  Referenced from: /Users/cynthiazeng/anaconda3/lib/python3.7/site-packages/tensorflow_core/python/../libtensorflow_framework.2.dylib\n",
      "  Expected in: /System/Library/Frameworks/Security.framework/Versions/A/Security\n",
      " in /Users/cynthiazeng/anaconda3/lib/python3.7/site-packages/tensorflow_core/python/../libtensorflow_framework.2.dylib\n",
      "\n",
      "During handling of the above exception, another exception occurred:\n",
      "\n",
      "Traceback (most recent call last):\n",
      "  File \"/Users/cynthiazeng/anaconda3/lib/python3.7/site-packages/IPython/core/interactiveshell.py\", line 3325, in run_code\n",
      "    exec(code_obj, self.user_global_ns, self.user_ns)\n",
      "  File \"<ipython-input-1-aebf4a7a607a>\", line 10, in <module>\n",
      "    from utils import *\n",
      "  File \"/Users/cynthiazeng/safi/utils.py\", line 16, in <module>\n",
      "    from tensorflow.keras.models import Sequential\n",
      "  File \"/Users/cynthiazeng/anaconda3/lib/python3.7/site-packages/tensorflow/__init__.py\", line 98, in <module>\n",
      "    from tensorflow_core import *\n",
      "  File \"/Users/cynthiazeng/anaconda3/lib/python3.7/site-packages/tensorflow_core/__init__.py\", line 40, in <module>\n",
      "    from tensorflow.python.tools import module_util as _module_util\n",
      "  File \"/Users/cynthiazeng/anaconda3/lib/python3.7/site-packages/tensorflow/__init__.py\", line 50, in __getattr__\n",
      "    module = self._load()\n",
      "  File \"/Users/cynthiazeng/anaconda3/lib/python3.7/site-packages/tensorflow/__init__.py\", line 44, in _load\n",
      "    module = _importlib.import_module(self.__name__)\n",
      "  File \"/Users/cynthiazeng/anaconda3/lib/python3.7/importlib/__init__.py\", line 127, in import_module\n",
      "    return _bootstrap._gcd_import(name[level:], package, level)\n",
      "  File \"/Users/cynthiazeng/anaconda3/lib/python3.7/site-packages/tensorflow_core/python/__init__.py\", line 49, in <module>\n",
      "    from tensorflow.python import pywrap_tensorflow\n",
      "  File \"/Users/cynthiazeng/anaconda3/lib/python3.7/site-packages/tensorflow_core/python/pywrap_tensorflow.py\", line 74, in <module>\n",
      "    raise ImportError(msg)\n",
      "ImportError: Traceback (most recent call last):\n",
      "  File \"/Users/cynthiazeng/anaconda3/lib/python3.7/site-packages/tensorflow_core/python/pywrap_tensorflow.py\", line 58, in <module>\n",
      "    from tensorflow.python.pywrap_tensorflow_internal import *\n",
      "  File \"/Users/cynthiazeng/anaconda3/lib/python3.7/site-packages/tensorflow_core/python/pywrap_tensorflow_internal.py\", line 28, in <module>\n",
      "    _pywrap_tensorflow_internal = swig_import_helper()\n",
      "  File \"/Users/cynthiazeng/anaconda3/lib/python3.7/site-packages/tensorflow_core/python/pywrap_tensorflow_internal.py\", line 24, in swig_import_helper\n",
      "    _mod = imp.load_module('_pywrap_tensorflow_internal', fp, pathname, description)\n",
      "  File \"/Users/cynthiazeng/anaconda3/lib/python3.7/imp.py\", line 242, in load_module\n",
      "    return load_dynamic(name, filename, file)\n",
      "  File \"/Users/cynthiazeng/anaconda3/lib/python3.7/imp.py\", line 342, in load_dynamic\n",
      "    return _load(spec)\n",
      "ImportError: dlopen(/Users/cynthiazeng/anaconda3/lib/python3.7/site-packages/tensorflow_core/python/_pywrap_tensorflow_internal.so, 6): Symbol not found: _SecKeyCopyExternalRepresentation\n",
      "  Referenced from: /Users/cynthiazeng/anaconda3/lib/python3.7/site-packages/tensorflow_core/python/../libtensorflow_framework.2.dylib\n",
      "  Expected in: /System/Library/Frameworks/Security.framework/Versions/A/Security\n",
      " in /Users/cynthiazeng/anaconda3/lib/python3.7/site-packages/tensorflow_core/python/../libtensorflow_framework.2.dylib\n",
      "\n",
      "\n",
      "Failed to load the native TensorFlow runtime.\n",
      "\n",
      "See https://www.tensorflow.org/install/errors\n",
      "\n",
      "for some common reasons and solutions.  Include the entire stack trace\n",
      "above this error message when asking for help.\n",
      "\n",
      "During handling of the above exception, another exception occurred:\n",
      "\n",
      "Traceback (most recent call last):\n",
      "  File \"/Users/cynthiazeng/anaconda3/lib/python3.7/site-packages/IPython/core/interactiveshell.py\", line 2039, in showtraceback\n",
      "    stb = value._render_traceback_()\n",
      "AttributeError: 'ImportError' object has no attribute '_render_traceback_'\n",
      "\n",
      "During handling of the above exception, another exception occurred:\n",
      "\n",
      "Traceback (most recent call last):\n",
      "  File \"/Users/cynthiazeng/anaconda3/lib/python3.7/site-packages/tensorflow_core/python/pywrap_tensorflow.py\", line 58, in <module>\n",
      "    from tensorflow.python.pywrap_tensorflow_internal import *\n",
      "  File \"/Users/cynthiazeng/anaconda3/lib/python3.7/site-packages/tensorflow_core/python/pywrap_tensorflow_internal.py\", line 28, in <module>\n",
      "    _pywrap_tensorflow_internal = swig_import_helper()\n",
      "  File \"/Users/cynthiazeng/anaconda3/lib/python3.7/site-packages/tensorflow_core/python/pywrap_tensorflow_internal.py\", line 24, in swig_import_helper\n",
      "    _mod = imp.load_module('_pywrap_tensorflow_internal', fp, pathname, description)\n",
      "  File \"/Users/cynthiazeng/anaconda3/lib/python3.7/imp.py\", line 242, in load_module\n",
      "    return load_dynamic(name, filename, file)\n",
      "  File \"/Users/cynthiazeng/anaconda3/lib/python3.7/imp.py\", line 342, in load_dynamic\n",
      "    return _load(spec)\n",
      "ImportError: dlopen(/Users/cynthiazeng/anaconda3/lib/python3.7/site-packages/tensorflow_core/python/_pywrap_tensorflow_internal.so, 6): Symbol not found: _SecKeyCopyExternalRepresentation\n",
      "  Referenced from: /Users/cynthiazeng/anaconda3/lib/python3.7/site-packages/tensorflow_core/python/../libtensorflow_framework.2.dylib\n",
      "  Expected in: /System/Library/Frameworks/Security.framework/Versions/A/Security\n",
      " in /Users/cynthiazeng/anaconda3/lib/python3.7/site-packages/tensorflow_core/python/../libtensorflow_framework.2.dylib\n",
      "\n",
      "\n",
      "Failed to load the native TensorFlow runtime.\n",
      "\n",
      "See https://www.tensorflow.org/install/errors\n",
      "\n",
      "for some common reasons and solutions.  Include the entire stack trace\n",
      "above this error message when asking for help.\n",
      "Traceback (most recent call last):\n",
      "  File \"/Users/cynthiazeng/anaconda3/lib/python3.7/site-packages/tensorflow_core/python/pywrap_tensorflow.py\", line 58, in <module>\n",
      "    from tensorflow.python.pywrap_tensorflow_internal import *\n",
      "  File \"/Users/cynthiazeng/anaconda3/lib/python3.7/site-packages/tensorflow_core/python/pywrap_tensorflow_internal.py\", line 28, in <module>\n",
      "    _pywrap_tensorflow_internal = swig_import_helper()\n",
      "  File \"/Users/cynthiazeng/anaconda3/lib/python3.7/site-packages/tensorflow_core/python/pywrap_tensorflow_internal.py\", line 24, in swig_import_helper\n",
      "    _mod = imp.load_module('_pywrap_tensorflow_internal', fp, pathname, description)\n",
      "  File \"/Users/cynthiazeng/anaconda3/lib/python3.7/imp.py\", line 242, in load_module\n",
      "    return load_dynamic(name, filename, file)\n",
      "  File \"/Users/cynthiazeng/anaconda3/lib/python3.7/imp.py\", line 342, in load_dynamic\n",
      "    return _load(spec)\n",
      "ImportError: dlopen(/Users/cynthiazeng/anaconda3/lib/python3.7/site-packages/tensorflow_core/python/_pywrap_tensorflow_internal.so, 6): Symbol not found: _SecKeyCopyExternalRepresentation\n",
      "  Referenced from: /Users/cynthiazeng/anaconda3/lib/python3.7/site-packages/tensorflow_core/python/../libtensorflow_framework.2.dylib\n",
      "  Expected in: /System/Library/Frameworks/Security.framework/Versions/A/Security\n",
      " in /Users/cynthiazeng/anaconda3/lib/python3.7/site-packages/tensorflow_core/python/../libtensorflow_framework.2.dylib\n",
      "\n",
      "During handling of the above exception, another exception occurred:\n",
      "\n",
      "Traceback (most recent call last):\n",
      "  File \"/Users/cynthiazeng/anaconda3/lib/python3.7/site-packages/IPython/core/interactiveshell.py\", line 3325, in run_code\n",
      "    exec(code_obj, self.user_global_ns, self.user_ns)\n",
      "  File \"<ipython-input-1-aebf4a7a607a>\", line 10, in <module>\n",
      "    from utils import *\n",
      "  File \"/Users/cynthiazeng/safi/utils.py\", line 16, in <module>\n",
      "    from tensorflow.keras.models import Sequential\n",
      "  File \"/Users/cynthiazeng/anaconda3/lib/python3.7/site-packages/tensorflow/__init__.py\", line 98, in <module>\n",
      "    from tensorflow_core import *\n",
      "  File \"/Users/cynthiazeng/anaconda3/lib/python3.7/site-packages/tensorflow_core/__init__.py\", line 40, in <module>\n",
      "    from tensorflow.python.tools import module_util as _module_util\n",
      "  File \"/Users/cynthiazeng/anaconda3/lib/python3.7/site-packages/tensorflow/__init__.py\", line 50, in __getattr__\n",
      "    module = self._load()\n",
      "  File \"/Users/cynthiazeng/anaconda3/lib/python3.7/site-packages/tensorflow/__init__.py\", line 44, in _load\n",
      "    module = _importlib.import_module(self.__name__)\n",
      "  File \"/Users/cynthiazeng/anaconda3/lib/python3.7/importlib/__init__.py\", line 127, in import_module\n",
      "    return _bootstrap._gcd_import(name[level:], package, level)\n",
      "  File \"/Users/cynthiazeng/anaconda3/lib/python3.7/site-packages/tensorflow_core/python/__init__.py\", line 49, in <module>\n",
      "    from tensorflow.python import pywrap_tensorflow\n",
      "  File \"/Users/cynthiazeng/anaconda3/lib/python3.7/site-packages/tensorflow_core/python/pywrap_tensorflow.py\", line 74, in <module>\n",
      "    raise ImportError(msg)\n",
      "ImportError: Traceback (most recent call last):\n",
      "  File \"/Users/cynthiazeng/anaconda3/lib/python3.7/site-packages/tensorflow_core/python/pywrap_tensorflow.py\", line 58, in <module>\n",
      "    from tensorflow.python.pywrap_tensorflow_internal import *\n",
      "  File \"/Users/cynthiazeng/anaconda3/lib/python3.7/site-packages/tensorflow_core/python/pywrap_tensorflow_internal.py\", line 28, in <module>\n",
      "    _pywrap_tensorflow_internal = swig_import_helper()\n",
      "  File \"/Users/cynthiazeng/anaconda3/lib/python3.7/site-packages/tensorflow_core/python/pywrap_tensorflow_internal.py\", line 24, in swig_import_helper\n",
      "    _mod = imp.load_module('_pywrap_tensorflow_internal', fp, pathname, description)\n",
      "  File \"/Users/cynthiazeng/anaconda3/lib/python3.7/imp.py\", line 242, in load_module\n",
      "    return load_dynamic(name, filename, file)\n",
      "  File \"/Users/cynthiazeng/anaconda3/lib/python3.7/imp.py\", line 342, in load_dynamic\n",
      "    return _load(spec)\n",
      "ImportError: dlopen(/Users/cynthiazeng/anaconda3/lib/python3.7/site-packages/tensorflow_core/python/_pywrap_tensorflow_internal.so, 6): Symbol not found: _SecKeyCopyExternalRepresentation\n",
      "  Referenced from: /Users/cynthiazeng/anaconda3/lib/python3.7/site-packages/tensorflow_core/python/../libtensorflow_framework.2.dylib\n",
      "  Expected in: /System/Library/Frameworks/Security.framework/Versions/A/Security\n",
      " in /Users/cynthiazeng/anaconda3/lib/python3.7/site-packages/tensorflow_core/python/../libtensorflow_framework.2.dylib\n",
      "\n",
      "\n",
      "Failed to load the native TensorFlow runtime.\n",
      "\n",
      "See https://www.tensorflow.org/install/errors\n",
      "\n",
      "for some common reasons and solutions.  Include the entire stack trace\n",
      "above this error message when asking for help.\n",
      "\n",
      "During handling of the above exception, another exception occurred:\n",
      "\n",
      "Traceback (most recent call last):\n",
      "  File \"/Users/cynthiazeng/anaconda3/lib/python3.7/site-packages/IPython/core/interactiveshell.py\", line 2039, in showtraceback\n",
      "    stb = value._render_traceback_()\n",
      "AttributeError: 'ImportError' object has no attribute '_render_traceback_'\n",
      "\n",
      "During handling of the above exception, another exception occurred:\n",
      "\n",
      "Traceback (most recent call last):\n",
      "  File \"/Users/cynthiazeng/anaconda3/lib/python3.7/site-packages/IPython/core/interactiveshell.py\", line 3248, in run_ast_nodes\n",
      "    if (await self.run_code(code, result,  async_=asy)):\n",
      "  File \"/Users/cynthiazeng/anaconda3/lib/python3.7/site-packages/IPython/core/interactiveshell.py\", line 3342, in run_code\n",
      "    self.showtraceback(running_compiled_code=True)\n",
      "  File \"/Users/cynthiazeng/anaconda3/lib/python3.7/site-packages/IPython/core/interactiveshell.py\", line 2042, in showtraceback\n",
      "    value, tb, tb_offset=tb_offset)\n",
      "  File \"/Users/cynthiazeng/anaconda3/lib/python3.7/site-packages/IPython/core/ultratb.py\", line 1385, in structured_traceback\n",
      "    self, etype, value, tb, tb_offset, number_of_lines_of_context)\n",
      "  File \"/Users/cynthiazeng/anaconda3/lib/python3.7/site-packages/IPython/core/ultratb.py\", line 1288, in structured_traceback\n",
      "    self, etype, value, tb, tb_offset, number_of_lines_of_context\n",
      "  File \"/Users/cynthiazeng/anaconda3/lib/python3.7/site-packages/IPython/core/ultratb.py\", line 1150, in structured_traceback\n",
      "    formatted_exceptions += self.prepare_chained_exception_message(evalue.__cause__)\n",
      "TypeError: can only concatenate str (not \"list\") to str\n",
      "\n",
      "During handling of the above exception, another exception occurred:\n",
      "\n",
      "Traceback (most recent call last):\n",
      "  File \"/Users/cynthiazeng/anaconda3/lib/python3.7/site-packages/IPython/core/interactiveshell.py\", line 2039, in showtraceback\n",
      "    stb = value._render_traceback_()\n",
      "AttributeError: 'TypeError' object has no attribute '_render_traceback_'\n",
      "\n",
      "During handling of the above exception, another exception occurred:\n",
      "\n",
      "Traceback (most recent call last):\n",
      "  File \"/Users/cynthiazeng/anaconda3/lib/python3.7/site-packages/tensorflow_core/python/pywrap_tensorflow.py\", line 58, in <module>\n",
      "    from tensorflow.python.pywrap_tensorflow_internal import *\n",
      "  File \"/Users/cynthiazeng/anaconda3/lib/python3.7/site-packages/tensorflow_core/python/pywrap_tensorflow_internal.py\", line 28, in <module>\n",
      "    _pywrap_tensorflow_internal = swig_import_helper()\n",
      "  File \"/Users/cynthiazeng/anaconda3/lib/python3.7/site-packages/tensorflow_core/python/pywrap_tensorflow_internal.py\", line 24, in swig_import_helper\n",
      "    _mod = imp.load_module('_pywrap_tensorflow_internal', fp, pathname, description)\n",
      "  File \"/Users/cynthiazeng/anaconda3/lib/python3.7/imp.py\", line 242, in load_module\n",
      "    return load_dynamic(name, filename, file)\n",
      "  File \"/Users/cynthiazeng/anaconda3/lib/python3.7/imp.py\", line 342, in load_dynamic\n",
      "    return _load(spec)\n",
      "ImportError: dlopen(/Users/cynthiazeng/anaconda3/lib/python3.7/site-packages/tensorflow_core/python/_pywrap_tensorflow_internal.so, 6): Symbol not found: _SecKeyCopyExternalRepresentation\n",
      "  Referenced from: /Users/cynthiazeng/anaconda3/lib/python3.7/site-packages/tensorflow_core/python/../libtensorflow_framework.2.dylib\n",
      "  Expected in: /System/Library/Frameworks/Security.framework/Versions/A/Security\n",
      " in /Users/cynthiazeng/anaconda3/lib/python3.7/site-packages/tensorflow_core/python/../libtensorflow_framework.2.dylib\n",
      "\n",
      "During handling of the above exception, another exception occurred:\n",
      "\n",
      "Traceback (most recent call last):\n",
      "  File \"/Users/cynthiazeng/anaconda3/lib/python3.7/site-packages/IPython/core/ultratb.py\", line 1101, in get_records\n",
      "    return _fixed_getinnerframes(etb, number_of_lines_of_context, tb_offset)\n",
      "  File \"/Users/cynthiazeng/anaconda3/lib/python3.7/site-packages/IPython/core/ultratb.py\", line 319, in wrapped\n",
      "    return f(*args, **kwargs)\n",
      "  File \"/Users/cynthiazeng/anaconda3/lib/python3.7/site-packages/IPython/core/ultratb.py\", line 353, in _fixed_getinnerframes\n",
      "    records = fix_frame_records_filenames(inspect.getinnerframes(etb, context))\n",
      "  File \"/Users/cynthiazeng/anaconda3/lib/python3.7/inspect.py\", line 1502, in getinnerframes\n",
      "    frameinfo = (tb.tb_frame,) + getframeinfo(tb, context)\n",
      "  File \"/Users/cynthiazeng/anaconda3/lib/python3.7/inspect.py\", line 1460, in getframeinfo\n",
      "    filename = getsourcefile(frame) or getfile(frame)\n",
      "  File \"/Users/cynthiazeng/anaconda3/lib/python3.7/inspect.py\", line 696, in getsourcefile\n",
      "    if getattr(getmodule(object, filename), '__loader__', None) is not None:\n",
      "  File \"/Users/cynthiazeng/anaconda3/lib/python3.7/inspect.py\", line 733, in getmodule\n",
      "    if ismodule(module) and hasattr(module, '__file__'):\n",
      "  File \"/Users/cynthiazeng/anaconda3/lib/python3.7/site-packages/tensorflow/__init__.py\", line 50, in __getattr__\n",
      "    module = self._load()\n",
      "  File \"/Users/cynthiazeng/anaconda3/lib/python3.7/site-packages/tensorflow/__init__.py\", line 44, in _load\n",
      "    module = _importlib.import_module(self.__name__)\n",
      "  File \"/Users/cynthiazeng/anaconda3/lib/python3.7/importlib/__init__.py\", line 127, in import_module\n",
      "    return _bootstrap._gcd_import(name[level:], package, level)\n",
      "  File \"<frozen importlib._bootstrap>\", line 1006, in _gcd_import\n",
      "  File \"<frozen importlib._bootstrap>\", line 983, in _find_and_load\n",
      "  File \"<frozen importlib._bootstrap>\", line 953, in _find_and_load_unlocked\n",
      "  File \"<frozen importlib._bootstrap>\", line 219, in _call_with_frames_removed\n",
      "  File \"<frozen importlib._bootstrap>\", line 1006, in _gcd_import\n",
      "  File \"<frozen importlib._bootstrap>\", line 983, in _find_and_load\n",
      "  File \"<frozen importlib._bootstrap>\", line 967, in _find_and_load_unlocked\n",
      "  File \"<frozen importlib._bootstrap>\", line 677, in _load_unlocked\n",
      "  File \"<frozen importlib._bootstrap_external>\", line 728, in exec_module\n",
      "  File \"<frozen importlib._bootstrap>\", line 219, in _call_with_frames_removed\n",
      "  File \"/Users/cynthiazeng/anaconda3/lib/python3.7/site-packages/tensorflow_core/__init__.py\", line 42, in <module>\n",
      "    from . _api.v2 import audio\n",
      "  File \"/Users/cynthiazeng/anaconda3/lib/python3.7/site-packages/tensorflow_core/_api/v2/audio/__init__.py\", line 10, in <module>\n",
      "    from tensorflow.python.ops.gen_audio_ops import decode_wav\n",
      "  File \"/Users/cynthiazeng/anaconda3/lib/python3.7/site-packages/tensorflow_core/python/ops/gen_audio_ops.py\", line 10, in <module>\n",
      "    from tensorflow.python import pywrap_tensorflow as _pywrap_tensorflow\n",
      "  File \"/Users/cynthiazeng/anaconda3/lib/python3.7/site-packages/tensorflow/__init__.py\", line 50, in __getattr__\n",
      "    module = self._load()\n",
      "  File \"/Users/cynthiazeng/anaconda3/lib/python3.7/site-packages/tensorflow/__init__.py\", line 44, in _load\n",
      "    module = _importlib.import_module(self.__name__)\n",
      "  File \"/Users/cynthiazeng/anaconda3/lib/python3.7/importlib/__init__.py\", line 127, in import_module\n",
      "    return _bootstrap._gcd_import(name[level:], package, level)\n",
      "  File \"/Users/cynthiazeng/anaconda3/lib/python3.7/site-packages/tensorflow_core/python/__init__.py\", line 49, in <module>\n",
      "    from tensorflow.python import pywrap_tensorflow\n",
      "  File \"/Users/cynthiazeng/anaconda3/lib/python3.7/site-packages/tensorflow_core/python/pywrap_tensorflow.py\", line 74, in <module>\n",
      "    raise ImportError(msg)\n",
      "ImportError: Traceback (most recent call last):\n",
      "  File \"/Users/cynthiazeng/anaconda3/lib/python3.7/site-packages/tensorflow_core/python/pywrap_tensorflow.py\", line 58, in <module>\n",
      "    from tensorflow.python.pywrap_tensorflow_internal import *\n",
      "  File \"/Users/cynthiazeng/anaconda3/lib/python3.7/site-packages/tensorflow_core/python/pywrap_tensorflow_internal.py\", line 28, in <module>\n",
      "    _pywrap_tensorflow_internal = swig_import_helper()\n",
      "  File \"/Users/cynthiazeng/anaconda3/lib/python3.7/site-packages/tensorflow_core/python/pywrap_tensorflow_internal.py\", line 24, in swig_import_helper\n",
      "    _mod = imp.load_module('_pywrap_tensorflow_internal', fp, pathname, description)\n",
      "  File \"/Users/cynthiazeng/anaconda3/lib/python3.7/imp.py\", line 242, in load_module\n",
      "    return load_dynamic(name, filename, file)\n",
      "  File \"/Users/cynthiazeng/anaconda3/lib/python3.7/imp.py\", line 342, in load_dynamic\n",
      "    return _load(spec)\n",
      "ImportError: dlopen(/Users/cynthiazeng/anaconda3/lib/python3.7/site-packages/tensorflow_core/python/_pywrap_tensorflow_internal.so, 6): Symbol not found: _SecKeyCopyExternalRepresentation\n",
      "  Referenced from: /Users/cynthiazeng/anaconda3/lib/python3.7/site-packages/tensorflow_core/python/../libtensorflow_framework.2.dylib\n",
      "  Expected in: /System/Library/Frameworks/Security.framework/Versions/A/Security\n",
      " in /Users/cynthiazeng/anaconda3/lib/python3.7/site-packages/tensorflow_core/python/../libtensorflow_framework.2.dylib\n",
      "\n",
      "During handling of the above exception, another exception occurred:\n",
      "\n",
      "Traceback (most recent call last):\n",
      "  File \"/Users/cynthiazeng/anaconda3/lib/python3.7/site-packages/IPython/core/interactiveshell.py\", line 3325, in run_code\n",
      "    exec(code_obj, self.user_global_ns, self.user_ns)\n",
      "  File \"<ipython-input-1-aebf4a7a607a>\", line 10, in <module>\n",
      "    from utils import *\n",
      "  File \"/Users/cynthiazeng/safi/utils.py\", line 16, in <module>\n",
      "    from tensorflow.keras.models import Sequential\n",
      "  File \"/Users/cynthiazeng/anaconda3/lib/python3.7/site-packages/tensorflow/__init__.py\", line 98, in <module>\n",
      "    from tensorflow_core import *\n",
      "  File \"/Users/cynthiazeng/anaconda3/lib/python3.7/site-packages/tensorflow_core/__init__.py\", line 40, in <module>\n",
      "    from tensorflow.python.tools import module_util as _module_util\n",
      "  File \"/Users/cynthiazeng/anaconda3/lib/python3.7/site-packages/tensorflow/__init__.py\", line 50, in __getattr__\n",
      "    module = self._load()\n",
      "  File \"/Users/cynthiazeng/anaconda3/lib/python3.7/site-packages/tensorflow/__init__.py\", line 44, in _load\n",
      "    module = _importlib.import_module(self.__name__)\n",
      "  File \"/Users/cynthiazeng/anaconda3/lib/python3.7/importlib/__init__.py\", line 127, in import_module\n",
      "    return _bootstrap._gcd_import(name[level:], package, level)\n",
      "  File \"/Users/cynthiazeng/anaconda3/lib/python3.7/site-packages/tensorflow_core/python/__init__.py\", line 49, in <module>\n",
      "    from tensorflow.python import pywrap_tensorflow\n",
      "  File \"/Users/cynthiazeng/anaconda3/lib/python3.7/site-packages/tensorflow_core/python/pywrap_tensorflow.py\", line 74, in <module>\n",
      "    raise ImportError(msg)\n",
      "ImportError: Traceback (most recent call last):\n",
      "  File \"/Users/cynthiazeng/anaconda3/lib/python3.7/site-packages/tensorflow_core/python/pywrap_tensorflow.py\", line 58, in <module>\n",
      "    from tensorflow.python.pywrap_tensorflow_internal import *\n",
      "  File \"/Users/cynthiazeng/anaconda3/lib/python3.7/site-packages/tensorflow_core/python/pywrap_tensorflow_internal.py\", line 28, in <module>\n",
      "    _pywrap_tensorflow_internal = swig_import_helper()\n",
      "  File \"/Users/cynthiazeng/anaconda3/lib/python3.7/site-packages/tensorflow_core/python/pywrap_tensorflow_internal.py\", line 24, in swig_import_helper\n",
      "    _mod = imp.load_module('_pywrap_tensorflow_internal', fp, pathname, description)\n",
      "  File \"/Users/cynthiazeng/anaconda3/lib/python3.7/imp.py\", line 242, in load_module\n",
      "    return load_dynamic(name, filename, file)\n",
      "  File \"/Users/cynthiazeng/anaconda3/lib/python3.7/imp.py\", line 342, in load_dynamic\n",
      "    return _load(spec)\n",
      "ImportError: dlopen(/Users/cynthiazeng/anaconda3/lib/python3.7/site-packages/tensorflow_core/python/_pywrap_tensorflow_internal.so, 6): Symbol not found: _SecKeyCopyExternalRepresentation\n",
      "  Referenced from: /Users/cynthiazeng/anaconda3/lib/python3.7/site-packages/tensorflow_core/python/../libtensorflow_framework.2.dylib\n",
      "  Expected in: /System/Library/Frameworks/Security.framework/Versions/A/Security\n",
      " in /Users/cynthiazeng/anaconda3/lib/python3.7/site-packages/tensorflow_core/python/../libtensorflow_framework.2.dylib\n",
      "\n",
      "\n",
      "Failed to load the native TensorFlow runtime.\n",
      "\n",
      "See https://www.tensorflow.org/install/errors\n",
      "\n",
      "for some common reasons and solutions.  Include the entire stack trace\n",
      "above this error message when asking for help.\n",
      "\n",
      "During handling of the above exception, another exception occurred:\n",
      "\n",
      "Traceback (most recent call last):\n",
      "  File \"/Users/cynthiazeng/anaconda3/lib/python3.7/site-packages/IPython/core/interactiveshell.py\", line 2039, in showtraceback\n",
      "    stb = value._render_traceback_()\n",
      "AttributeError: 'ImportError' object has no attribute '_render_traceback_'\n",
      "\n",
      "During handling of the above exception, another exception occurred:\n",
      "\n",
      "Traceback (most recent call last):\n",
      "  File \"/Users/cynthiazeng/anaconda3/lib/python3.7/site-packages/IPython/core/interactiveshell.py\", line 3248, in run_ast_nodes\n",
      "    if (await self.run_code(code, result,  async_=asy)):\n",
      "  File \"/Users/cynthiazeng/anaconda3/lib/python3.7/site-packages/IPython/core/interactiveshell.py\", line 3342, in run_code\n",
      "    self.showtraceback(running_compiled_code=True)\n",
      "  File \"/Users/cynthiazeng/anaconda3/lib/python3.7/site-packages/IPython/core/interactiveshell.py\", line 2042, in showtraceback\n",
      "    value, tb, tb_offset=tb_offset)\n",
      "  File \"/Users/cynthiazeng/anaconda3/lib/python3.7/site-packages/IPython/core/ultratb.py\", line 1385, in structured_traceback\n",
      "    self, etype, value, tb, tb_offset, number_of_lines_of_context)\n",
      "  File \"/Users/cynthiazeng/anaconda3/lib/python3.7/site-packages/IPython/core/ultratb.py\", line 1288, in structured_traceback\n",
      "    self, etype, value, tb, tb_offset, number_of_lines_of_context\n",
      "  File \"/Users/cynthiazeng/anaconda3/lib/python3.7/site-packages/IPython/core/ultratb.py\", line 1150, in structured_traceback\n",
      "    formatted_exceptions += self.prepare_chained_exception_message(evalue.__cause__)\n",
      "TypeError: can only concatenate str (not \"list\") to str\n",
      "\n",
      "During handling of the above exception, another exception occurred:\n",
      "\n",
      "Traceback (most recent call last):\n",
      "  File \"/Users/cynthiazeng/anaconda3/lib/python3.7/site-packages/IPython/core/interactiveshell.py\", line 2039, in showtraceback\n",
      "    stb = value._render_traceback_()\n",
      "AttributeError: 'TypeError' object has no attribute '_render_traceback_'\n",
      "\n",
      "During handling of the above exception, another exception occurred:\n",
      "\n",
      "Traceback (most recent call last):\n",
      "  File \"/Users/cynthiazeng/anaconda3/lib/python3.7/site-packages/tensorflow_core/python/pywrap_tensorflow.py\", line 58, in <module>\n",
      "    from tensorflow.python.pywrap_tensorflow_internal import *\n",
      "  File \"/Users/cynthiazeng/anaconda3/lib/python3.7/site-packages/tensorflow_core/python/pywrap_tensorflow_internal.py\", line 28, in <module>\n",
      "    _pywrap_tensorflow_internal = swig_import_helper()\n",
      "  File \"/Users/cynthiazeng/anaconda3/lib/python3.7/site-packages/tensorflow_core/python/pywrap_tensorflow_internal.py\", line 24, in swig_import_helper\n",
      "    _mod = imp.load_module('_pywrap_tensorflow_internal', fp, pathname, description)\n",
      "  File \"/Users/cynthiazeng/anaconda3/lib/python3.7/imp.py\", line 242, in load_module\n",
      "    return load_dynamic(name, filename, file)\n",
      "  File \"/Users/cynthiazeng/anaconda3/lib/python3.7/imp.py\", line 342, in load_dynamic\n",
      "    return _load(spec)\n",
      "ImportError: dlopen(/Users/cynthiazeng/anaconda3/lib/python3.7/site-packages/tensorflow_core/python/_pywrap_tensorflow_internal.so, 6): Symbol not found: _SecKeyCopyExternalRepresentation\n",
      "  Referenced from: /Users/cynthiazeng/anaconda3/lib/python3.7/site-packages/tensorflow_core/python/../libtensorflow_framework.2.dylib\n",
      "  Expected in: /System/Library/Frameworks/Security.framework/Versions/A/Security\n",
      " in /Users/cynthiazeng/anaconda3/lib/python3.7/site-packages/tensorflow_core/python/../libtensorflow_framework.2.dylib\n",
      "\n",
      "\n",
      "Failed to load the native TensorFlow runtime.\n",
      "\n",
      "See https://www.tensorflow.org/install/errors\n",
      "\n",
      "for some common reasons and solutions.  Include the entire stack trace\n",
      "above this error message when asking for help.\n"
     ]
    },
    {
     "ename": "TypeError",
     "evalue": "can only concatenate str (not \"list\") to str",
     "output_type": "error",
     "traceback": [
      "\u001b[0;31m---------------------------------------------------------------------------\u001b[0m",
      "\u001b[0;31mImportError\u001b[0m                               Traceback (most recent call last)",
      "\u001b[0;32m~/anaconda3/lib/python3.7/site-packages/tensorflow_core/python/pywrap_tensorflow.py\u001b[0m in \u001b[0;36m<module>\u001b[0;34m\u001b[0m\n\u001b[1;32m     57\u001b[0m \u001b[0;34m\u001b[0m\u001b[0m\n\u001b[0;32m---> 58\u001b[0;31m   \u001b[0;32mfrom\u001b[0m \u001b[0mtensorflow\u001b[0m\u001b[0;34m.\u001b[0m\u001b[0mpython\u001b[0m\u001b[0;34m.\u001b[0m\u001b[0mpywrap_tensorflow_internal\u001b[0m \u001b[0;32mimport\u001b[0m \u001b[0;34m*\u001b[0m\u001b[0;34m\u001b[0m\u001b[0;34m\u001b[0m\u001b[0m\n\u001b[0m\u001b[1;32m     59\u001b[0m   \u001b[0;32mfrom\u001b[0m \u001b[0mtensorflow\u001b[0m\u001b[0;34m.\u001b[0m\u001b[0mpython\u001b[0m\u001b[0;34m.\u001b[0m\u001b[0mpywrap_tensorflow_internal\u001b[0m \u001b[0;32mimport\u001b[0m \u001b[0m__version__\u001b[0m\u001b[0;34m\u001b[0m\u001b[0;34m\u001b[0m\u001b[0m\n",
      "\u001b[0;32m~/anaconda3/lib/python3.7/site-packages/tensorflow_core/python/pywrap_tensorflow_internal.py\u001b[0m in \u001b[0;36m<module>\u001b[0;34m\u001b[0m\n\u001b[1;32m     27\u001b[0m             \u001b[0;32mreturn\u001b[0m \u001b[0m_mod\u001b[0m\u001b[0;34m\u001b[0m\u001b[0;34m\u001b[0m\u001b[0m\n\u001b[0;32m---> 28\u001b[0;31m     \u001b[0m_pywrap_tensorflow_internal\u001b[0m \u001b[0;34m=\u001b[0m \u001b[0mswig_import_helper\u001b[0m\u001b[0;34m(\u001b[0m\u001b[0;34m)\u001b[0m\u001b[0;34m\u001b[0m\u001b[0;34m\u001b[0m\u001b[0m\n\u001b[0m\u001b[1;32m     29\u001b[0m     \u001b[0;32mdel\u001b[0m \u001b[0mswig_import_helper\u001b[0m\u001b[0;34m\u001b[0m\u001b[0;34m\u001b[0m\u001b[0m\n",
      "\u001b[0;32m~/anaconda3/lib/python3.7/site-packages/tensorflow_core/python/pywrap_tensorflow_internal.py\u001b[0m in \u001b[0;36mswig_import_helper\u001b[0;34m()\u001b[0m\n\u001b[1;32m     23\u001b[0m             \u001b[0;32mtry\u001b[0m\u001b[0;34m:\u001b[0m\u001b[0;34m\u001b[0m\u001b[0;34m\u001b[0m\u001b[0m\n\u001b[0;32m---> 24\u001b[0;31m                 \u001b[0m_mod\u001b[0m \u001b[0;34m=\u001b[0m \u001b[0mimp\u001b[0m\u001b[0;34m.\u001b[0m\u001b[0mload_module\u001b[0m\u001b[0;34m(\u001b[0m\u001b[0;34m'_pywrap_tensorflow_internal'\u001b[0m\u001b[0;34m,\u001b[0m \u001b[0mfp\u001b[0m\u001b[0;34m,\u001b[0m \u001b[0mpathname\u001b[0m\u001b[0;34m,\u001b[0m \u001b[0mdescription\u001b[0m\u001b[0;34m)\u001b[0m\u001b[0;34m\u001b[0m\u001b[0;34m\u001b[0m\u001b[0m\n\u001b[0m\u001b[1;32m     25\u001b[0m             \u001b[0;32mfinally\u001b[0m\u001b[0;34m:\u001b[0m\u001b[0;34m\u001b[0m\u001b[0;34m\u001b[0m\u001b[0m\n",
      "\u001b[0;32m~/anaconda3/lib/python3.7/imp.py\u001b[0m in \u001b[0;36mload_module\u001b[0;34m(name, file, filename, details)\u001b[0m\n\u001b[1;32m    241\u001b[0m         \u001b[0;32melse\u001b[0m\u001b[0;34m:\u001b[0m\u001b[0;34m\u001b[0m\u001b[0;34m\u001b[0m\u001b[0m\n\u001b[0;32m--> 242\u001b[0;31m             \u001b[0;32mreturn\u001b[0m \u001b[0mload_dynamic\u001b[0m\u001b[0;34m(\u001b[0m\u001b[0mname\u001b[0m\u001b[0;34m,\u001b[0m \u001b[0mfilename\u001b[0m\u001b[0;34m,\u001b[0m \u001b[0mfile\u001b[0m\u001b[0;34m)\u001b[0m\u001b[0;34m\u001b[0m\u001b[0;34m\u001b[0m\u001b[0m\n\u001b[0m\u001b[1;32m    243\u001b[0m     \u001b[0;32melif\u001b[0m \u001b[0mtype_\u001b[0m \u001b[0;34m==\u001b[0m \u001b[0mPKG_DIRECTORY\u001b[0m\u001b[0;34m:\u001b[0m\u001b[0;34m\u001b[0m\u001b[0;34m\u001b[0m\u001b[0m\n",
      "\u001b[0;32m~/anaconda3/lib/python3.7/imp.py\u001b[0m in \u001b[0;36mload_dynamic\u001b[0;34m(name, path, file)\u001b[0m\n\u001b[1;32m    341\u001b[0m             name=name, loader=loader, origin=path)\n\u001b[0;32m--> 342\u001b[0;31m         \u001b[0;32mreturn\u001b[0m \u001b[0m_load\u001b[0m\u001b[0;34m(\u001b[0m\u001b[0mspec\u001b[0m\u001b[0;34m)\u001b[0m\u001b[0;34m\u001b[0m\u001b[0;34m\u001b[0m\u001b[0m\n\u001b[0m\u001b[1;32m    343\u001b[0m \u001b[0;34m\u001b[0m\u001b[0m\n",
      "\u001b[0;31mImportError\u001b[0m: dlopen(/Users/cynthiazeng/anaconda3/lib/python3.7/site-packages/tensorflow_core/python/_pywrap_tensorflow_internal.so, 6): Symbol not found: _SecKeyCopyExternalRepresentation\n  Referenced from: /Users/cynthiazeng/anaconda3/lib/python3.7/site-packages/tensorflow_core/python/../libtensorflow_framework.2.dylib\n  Expected in: /System/Library/Frameworks/Security.framework/Versions/A/Security\n in /Users/cynthiazeng/anaconda3/lib/python3.7/site-packages/tensorflow_core/python/../libtensorflow_framework.2.dylib",
      "\nDuring handling of the above exception, another exception occurred:\n",
      "\nDuring handling of the above exception, another exception occurred:\n",
      "\u001b[0;31mAttributeError\u001b[0m                            Traceback (most recent call last)",
      "\u001b[0;32m~/anaconda3/lib/python3.7/site-packages/IPython/core/interactiveshell.py\u001b[0m in \u001b[0;36mshowtraceback\u001b[0;34m(self, exc_tuple, filename, tb_offset, exception_only, running_compiled_code)\u001b[0m\n\u001b[1;32m   2038\u001b[0m                         \u001b[0;31m# in the engines. This should return a list of strings.\u001b[0m\u001b[0;34m\u001b[0m\u001b[0;34m\u001b[0m\u001b[0;34m\u001b[0m\u001b[0m\n\u001b[0;32m-> 2039\u001b[0;31m                         \u001b[0mstb\u001b[0m \u001b[0;34m=\u001b[0m \u001b[0mvalue\u001b[0m\u001b[0;34m.\u001b[0m\u001b[0m_render_traceback_\u001b[0m\u001b[0;34m(\u001b[0m\u001b[0;34m)\u001b[0m\u001b[0;34m\u001b[0m\u001b[0;34m\u001b[0m\u001b[0m\n\u001b[0m\u001b[1;32m   2040\u001b[0m                     \u001b[0;32mexcept\u001b[0m \u001b[0mException\u001b[0m\u001b[0;34m:\u001b[0m\u001b[0;34m\u001b[0m\u001b[0;34m\u001b[0m\u001b[0m\n",
      "\u001b[0;31mAttributeError\u001b[0m: 'ImportError' object has no attribute '_render_traceback_'",
      "\nDuring handling of the above exception, another exception occurred:\n",
      "\u001b[0;31mTypeError\u001b[0m                                 Traceback (most recent call last)",
      "\u001b[0;32m~/anaconda3/lib/python3.7/site-packages/IPython/core/interactiveshell.py\u001b[0m in \u001b[0;36mrun_code\u001b[0;34m(self, code_obj, result, async_)\u001b[0m\n\u001b[1;32m   3340\u001b[0m             \u001b[0;32mif\u001b[0m \u001b[0mresult\u001b[0m \u001b[0;32mis\u001b[0m \u001b[0;32mnot\u001b[0m \u001b[0;32mNone\u001b[0m\u001b[0;34m:\u001b[0m\u001b[0;34m\u001b[0m\u001b[0;34m\u001b[0m\u001b[0m\n\u001b[1;32m   3341\u001b[0m                 \u001b[0mresult\u001b[0m\u001b[0;34m.\u001b[0m\u001b[0merror_in_exec\u001b[0m \u001b[0;34m=\u001b[0m \u001b[0msys\u001b[0m\u001b[0;34m.\u001b[0m\u001b[0mexc_info\u001b[0m\u001b[0;34m(\u001b[0m\u001b[0;34m)\u001b[0m\u001b[0;34m[\u001b[0m\u001b[0;36m1\u001b[0m\u001b[0;34m]\u001b[0m\u001b[0;34m\u001b[0m\u001b[0;34m\u001b[0m\u001b[0m\n\u001b[0;32m-> 3342\u001b[0;31m             \u001b[0mself\u001b[0m\u001b[0;34m.\u001b[0m\u001b[0mshowtraceback\u001b[0m\u001b[0;34m(\u001b[0m\u001b[0mrunning_compiled_code\u001b[0m\u001b[0;34m=\u001b[0m\u001b[0;32mTrue\u001b[0m\u001b[0;34m)\u001b[0m\u001b[0;34m\u001b[0m\u001b[0;34m\u001b[0m\u001b[0m\n\u001b[0m\u001b[1;32m   3343\u001b[0m         \u001b[0;32melse\u001b[0m\u001b[0;34m:\u001b[0m\u001b[0;34m\u001b[0m\u001b[0;34m\u001b[0m\u001b[0m\n\u001b[1;32m   3344\u001b[0m             \u001b[0moutflag\u001b[0m \u001b[0;34m=\u001b[0m \u001b[0;32mFalse\u001b[0m\u001b[0;34m\u001b[0m\u001b[0;34m\u001b[0m\u001b[0m\n",
      "\u001b[0;32m~/anaconda3/lib/python3.7/site-packages/IPython/core/interactiveshell.py\u001b[0m in \u001b[0;36mshowtraceback\u001b[0;34m(self, exc_tuple, filename, tb_offset, exception_only, running_compiled_code)\u001b[0m\n\u001b[1;32m   2040\u001b[0m                     \u001b[0;32mexcept\u001b[0m \u001b[0mException\u001b[0m\u001b[0;34m:\u001b[0m\u001b[0;34m\u001b[0m\u001b[0;34m\u001b[0m\u001b[0m\n\u001b[1;32m   2041\u001b[0m                         stb = self.InteractiveTB.structured_traceback(etype,\n\u001b[0;32m-> 2042\u001b[0;31m                                             value, tb, tb_offset=tb_offset)\n\u001b[0m\u001b[1;32m   2043\u001b[0m \u001b[0;34m\u001b[0m\u001b[0m\n\u001b[1;32m   2044\u001b[0m                     \u001b[0mself\u001b[0m\u001b[0;34m.\u001b[0m\u001b[0m_showtraceback\u001b[0m\u001b[0;34m(\u001b[0m\u001b[0metype\u001b[0m\u001b[0;34m,\u001b[0m \u001b[0mvalue\u001b[0m\u001b[0;34m,\u001b[0m \u001b[0mstb\u001b[0m\u001b[0;34m)\u001b[0m\u001b[0;34m\u001b[0m\u001b[0;34m\u001b[0m\u001b[0m\n",
      "\u001b[0;32m~/anaconda3/lib/python3.7/site-packages/IPython/core/ultratb.py\u001b[0m in \u001b[0;36mstructured_traceback\u001b[0;34m(self, etype, value, tb, tb_offset, number_of_lines_of_context)\u001b[0m\n\u001b[1;32m   1383\u001b[0m         \u001b[0mself\u001b[0m\u001b[0;34m.\u001b[0m\u001b[0mtb\u001b[0m \u001b[0;34m=\u001b[0m \u001b[0mtb\u001b[0m\u001b[0;34m\u001b[0m\u001b[0;34m\u001b[0m\u001b[0m\n\u001b[1;32m   1384\u001b[0m         return FormattedTB.structured_traceback(\n\u001b[0;32m-> 1385\u001b[0;31m             self, etype, value, tb, tb_offset, number_of_lines_of_context)\n\u001b[0m\u001b[1;32m   1386\u001b[0m \u001b[0;34m\u001b[0m\u001b[0m\n\u001b[1;32m   1387\u001b[0m \u001b[0;34m\u001b[0m\u001b[0m\n",
      "\u001b[0;32m~/anaconda3/lib/python3.7/site-packages/IPython/core/ultratb.py\u001b[0m in \u001b[0;36mstructured_traceback\u001b[0;34m(self, etype, value, tb, tb_offset, number_of_lines_of_context)\u001b[0m\n\u001b[1;32m   1286\u001b[0m             \u001b[0;31m# Verbose modes need a full traceback\u001b[0m\u001b[0;34m\u001b[0m\u001b[0;34m\u001b[0m\u001b[0;34m\u001b[0m\u001b[0m\n\u001b[1;32m   1287\u001b[0m             return VerboseTB.structured_traceback(\n\u001b[0;32m-> 1288\u001b[0;31m                 \u001b[0mself\u001b[0m\u001b[0;34m,\u001b[0m \u001b[0metype\u001b[0m\u001b[0;34m,\u001b[0m \u001b[0mvalue\u001b[0m\u001b[0;34m,\u001b[0m \u001b[0mtb\u001b[0m\u001b[0;34m,\u001b[0m \u001b[0mtb_offset\u001b[0m\u001b[0;34m,\u001b[0m \u001b[0mnumber_of_lines_of_context\u001b[0m\u001b[0;34m\u001b[0m\u001b[0;34m\u001b[0m\u001b[0m\n\u001b[0m\u001b[1;32m   1289\u001b[0m             )\n\u001b[1;32m   1290\u001b[0m         \u001b[0;32melif\u001b[0m \u001b[0mmode\u001b[0m \u001b[0;34m==\u001b[0m \u001b[0;34m'Minimal'\u001b[0m\u001b[0;34m:\u001b[0m\u001b[0;34m\u001b[0m\u001b[0;34m\u001b[0m\u001b[0m\n",
      "\u001b[0;32m~/anaconda3/lib/python3.7/site-packages/IPython/core/ultratb.py\u001b[0m in \u001b[0;36mstructured_traceback\u001b[0;34m(self, etype, evalue, etb, tb_offset, number_of_lines_of_context)\u001b[0m\n\u001b[1;32m   1148\u001b[0m         \u001b[0mexception\u001b[0m \u001b[0;34m=\u001b[0m \u001b[0mself\u001b[0m\u001b[0;34m.\u001b[0m\u001b[0mget_parts_of_chained_exception\u001b[0m\u001b[0;34m(\u001b[0m\u001b[0mevalue\u001b[0m\u001b[0;34m)\u001b[0m\u001b[0;34m\u001b[0m\u001b[0;34m\u001b[0m\u001b[0m\n\u001b[1;32m   1149\u001b[0m         \u001b[0;32mif\u001b[0m \u001b[0mexception\u001b[0m\u001b[0;34m:\u001b[0m\u001b[0;34m\u001b[0m\u001b[0;34m\u001b[0m\u001b[0m\n\u001b[0;32m-> 1150\u001b[0;31m             \u001b[0mformatted_exceptions\u001b[0m \u001b[0;34m+=\u001b[0m \u001b[0mself\u001b[0m\u001b[0;34m.\u001b[0m\u001b[0mprepare_chained_exception_message\u001b[0m\u001b[0;34m(\u001b[0m\u001b[0mevalue\u001b[0m\u001b[0;34m.\u001b[0m\u001b[0m__cause__\u001b[0m\u001b[0;34m)\u001b[0m\u001b[0;34m\u001b[0m\u001b[0;34m\u001b[0m\u001b[0m\n\u001b[0m\u001b[1;32m   1151\u001b[0m             \u001b[0metype\u001b[0m\u001b[0;34m,\u001b[0m \u001b[0mevalue\u001b[0m\u001b[0;34m,\u001b[0m \u001b[0metb\u001b[0m \u001b[0;34m=\u001b[0m \u001b[0mexception\u001b[0m\u001b[0;34m\u001b[0m\u001b[0;34m\u001b[0m\u001b[0m\n\u001b[1;32m   1152\u001b[0m         \u001b[0;32melse\u001b[0m\u001b[0;34m:\u001b[0m\u001b[0;34m\u001b[0m\u001b[0;34m\u001b[0m\u001b[0m\n",
      "\u001b[0;31mTypeError\u001b[0m: can only concatenate str (not \"list\") to str"
     ]
    }
   ],
   "source": [
    "import pandas as pd\n",
    "import numpy as np\n",
    "from pandas import read_csv\n",
    "from pandas import DataFrame\n",
    "from pandas import concat\n",
    "from datetime import date, datetime, timedelta\n",
    "from sklearn.metrics import mean_squared_error\n",
    "from sklearn.metrics import mean_absolute_error\n",
    "from xgboost import XGBRegressor\n",
    "from utils import *\n",
    "from data_preperation import * \n",
    "from data_process import * "
   ]
  },
  {
   "cell_type": "code",
   "execution_count": 4,
   "metadata": {},
   "outputs": [
    {
     "name": "stderr",
     "output_type": "stream",
     "text": [
      "ERROR:root:Internal Python error in the inspect module.\n",
      "Below is the traceback from this internal error.\n",
      "\n"
     ]
    },
    {
     "name": "stdout",
     "output_type": "stream",
     "text": [
      "Traceback (most recent call last):\n",
      "  File \"/Users/cynthiazeng/anaconda3/lib/python3.7/site-packages/IPython/core/interactiveshell.py\", line 3325, in run_code\n",
      "    exec(code_obj, self.user_global_ns, self.user_ns)\n",
      "  File \"<ipython-input-4-4ba1d4954bf2>\", line 3, in <module>\n",
      "    x_df, y_df, x, y = prepare_x_y(past_n_steps, pred_period, param='speed')\n",
      "NameError: name 'prepare_x_y' is not defined\n",
      "\n",
      "During handling of the above exception, another exception occurred:\n",
      "\n",
      "Traceback (most recent call last):\n",
      "  File \"/Users/cynthiazeng/anaconda3/lib/python3.7/site-packages/IPython/core/interactiveshell.py\", line 2039, in showtraceback\n",
      "    stb = value._render_traceback_()\n",
      "AttributeError: 'NameError' object has no attribute '_render_traceback_'\n",
      "\n",
      "During handling of the above exception, another exception occurred:\n",
      "\n",
      "Traceback (most recent call last):\n",
      "  File \"/Users/cynthiazeng/anaconda3/lib/python3.7/site-packages/tensorflow_core/python/pywrap_tensorflow.py\", line 58, in <module>\n",
      "    from tensorflow.python.pywrap_tensorflow_internal import *\n",
      "  File \"/Users/cynthiazeng/anaconda3/lib/python3.7/site-packages/tensorflow_core/python/pywrap_tensorflow_internal.py\", line 28, in <module>\n",
      "    _pywrap_tensorflow_internal = swig_import_helper()\n",
      "  File \"/Users/cynthiazeng/anaconda3/lib/python3.7/site-packages/tensorflow_core/python/pywrap_tensorflow_internal.py\", line 24, in swig_import_helper\n",
      "    _mod = imp.load_module('_pywrap_tensorflow_internal', fp, pathname, description)\n",
      "  File \"/Users/cynthiazeng/anaconda3/lib/python3.7/imp.py\", line 242, in load_module\n",
      "    return load_dynamic(name, filename, file)\n",
      "  File \"/Users/cynthiazeng/anaconda3/lib/python3.7/imp.py\", line 342, in load_dynamic\n",
      "    return _load(spec)\n",
      "ImportError: dlopen(/Users/cynthiazeng/anaconda3/lib/python3.7/site-packages/tensorflow_core/python/_pywrap_tensorflow_internal.so, 6): Symbol not found: _SecKeyCopyExternalRepresentation\n",
      "  Referenced from: /Users/cynthiazeng/anaconda3/lib/python3.7/site-packages/tensorflow_core/python/../libtensorflow_framework.2.dylib\n",
      "  Expected in: /System/Library/Frameworks/Security.framework/Versions/A/Security\n",
      " in /Users/cynthiazeng/anaconda3/lib/python3.7/site-packages/tensorflow_core/python/../libtensorflow_framework.2.dylib\n",
      "\n",
      "During handling of the above exception, another exception occurred:\n",
      "\n",
      "Traceback (most recent call last):\n",
      "  File \"/Users/cynthiazeng/anaconda3/lib/python3.7/site-packages/IPython/core/ultratb.py\", line 1101, in get_records\n",
      "    return _fixed_getinnerframes(etb, number_of_lines_of_context, tb_offset)\n",
      "  File \"/Users/cynthiazeng/anaconda3/lib/python3.7/site-packages/IPython/core/ultratb.py\", line 319, in wrapped\n",
      "    return f(*args, **kwargs)\n",
      "  File \"/Users/cynthiazeng/anaconda3/lib/python3.7/site-packages/IPython/core/ultratb.py\", line 353, in _fixed_getinnerframes\n",
      "    records = fix_frame_records_filenames(inspect.getinnerframes(etb, context))\n",
      "  File \"/Users/cynthiazeng/anaconda3/lib/python3.7/inspect.py\", line 1502, in getinnerframes\n",
      "    frameinfo = (tb.tb_frame,) + getframeinfo(tb, context)\n",
      "  File \"/Users/cynthiazeng/anaconda3/lib/python3.7/inspect.py\", line 1460, in getframeinfo\n",
      "    filename = getsourcefile(frame) or getfile(frame)\n",
      "  File \"/Users/cynthiazeng/anaconda3/lib/python3.7/inspect.py\", line 696, in getsourcefile\n",
      "    if getattr(getmodule(object, filename), '__loader__', None) is not None:\n",
      "  File \"/Users/cynthiazeng/anaconda3/lib/python3.7/inspect.py\", line 733, in getmodule\n",
      "    if ismodule(module) and hasattr(module, '__file__'):\n",
      "  File \"/Users/cynthiazeng/anaconda3/lib/python3.7/site-packages/tensorflow/__init__.py\", line 50, in __getattr__\n",
      "    module = self._load()\n",
      "  File \"/Users/cynthiazeng/anaconda3/lib/python3.7/site-packages/tensorflow/__init__.py\", line 44, in _load\n",
      "    module = _importlib.import_module(self.__name__)\n",
      "  File \"/Users/cynthiazeng/anaconda3/lib/python3.7/importlib/__init__.py\", line 127, in import_module\n",
      "    return _bootstrap._gcd_import(name[level:], package, level)\n",
      "  File \"<frozen importlib._bootstrap>\", line 1006, in _gcd_import\n",
      "  File \"<frozen importlib._bootstrap>\", line 983, in _find_and_load\n",
      "  File \"<frozen importlib._bootstrap>\", line 953, in _find_and_load_unlocked\n",
      "  File \"<frozen importlib._bootstrap>\", line 219, in _call_with_frames_removed\n",
      "  File \"<frozen importlib._bootstrap>\", line 1006, in _gcd_import\n",
      "  File \"<frozen importlib._bootstrap>\", line 983, in _find_and_load\n",
      "  File \"<frozen importlib._bootstrap>\", line 967, in _find_and_load_unlocked\n",
      "  File \"<frozen importlib._bootstrap>\", line 677, in _load_unlocked\n",
      "  File \"<frozen importlib._bootstrap_external>\", line 728, in exec_module\n",
      "  File \"<frozen importlib._bootstrap>\", line 219, in _call_with_frames_removed\n",
      "  File \"/Users/cynthiazeng/anaconda3/lib/python3.7/site-packages/tensorflow_core/__init__.py\", line 42, in <module>\n",
      "    from . _api.v2 import audio\n",
      "  File \"/Users/cynthiazeng/anaconda3/lib/python3.7/site-packages/tensorflow_core/_api/v2/audio/__init__.py\", line 10, in <module>\n",
      "    from tensorflow.python.ops.gen_audio_ops import decode_wav\n",
      "  File \"/Users/cynthiazeng/anaconda3/lib/python3.7/site-packages/tensorflow_core/python/ops/gen_audio_ops.py\", line 10, in <module>\n",
      "    from tensorflow.python import pywrap_tensorflow as _pywrap_tensorflow\n",
      "  File \"/Users/cynthiazeng/anaconda3/lib/python3.7/site-packages/tensorflow/__init__.py\", line 50, in __getattr__\n",
      "    module = self._load()\n",
      "  File \"/Users/cynthiazeng/anaconda3/lib/python3.7/site-packages/tensorflow/__init__.py\", line 44, in _load\n",
      "    module = _importlib.import_module(self.__name__)\n",
      "  File \"/Users/cynthiazeng/anaconda3/lib/python3.7/importlib/__init__.py\", line 127, in import_module\n",
      "    return _bootstrap._gcd_import(name[level:], package, level)\n",
      "  File \"/Users/cynthiazeng/anaconda3/lib/python3.7/site-packages/tensorflow_core/python/__init__.py\", line 49, in <module>\n",
      "    from tensorflow.python import pywrap_tensorflow\n",
      "  File \"/Users/cynthiazeng/anaconda3/lib/python3.7/site-packages/tensorflow_core/python/pywrap_tensorflow.py\", line 74, in <module>\n",
      "    raise ImportError(msg)\n",
      "ImportError: Traceback (most recent call last):\n",
      "  File \"/Users/cynthiazeng/anaconda3/lib/python3.7/site-packages/IPython/core/interactiveshell.py\", line 3325, in run_code\n",
      "    exec(code_obj, self.user_global_ns, self.user_ns)\n",
      "  File \"<ipython-input-4-4ba1d4954bf2>\", line 3, in <module>\n",
      "    x_df, y_df, x, y = prepare_x_y(past_n_steps, pred_period, param='speed')\n",
      "NameError: name 'prepare_x_y' is not defined\n",
      "\n",
      "During handling of the above exception, another exception occurred:\n",
      "\n",
      "Traceback (most recent call last):\n",
      "  File \"/Users/cynthiazeng/anaconda3/lib/python3.7/site-packages/IPython/core/interactiveshell.py\", line 2039, in showtraceback\n",
      "    stb = value._render_traceback_()\n",
      "AttributeError: 'NameError' object has no attribute '_render_traceback_'\n",
      "\n",
      "During handling of the above exception, another exception occurred:\n",
      "\n",
      "Traceback (most recent call last):\n",
      "  File \"/Users/cynthiazeng/anaconda3/lib/python3.7/site-packages/tensorflow_core/python/pywrap_tensorflow.py\", line 58, in <module>\n",
      "    from tensorflow.python.pywrap_tensorflow_internal import *\n",
      "  File \"/Users/cynthiazeng/anaconda3/lib/python3.7/site-packages/tensorflow_core/python/pywrap_tensorflow_internal.py\", line 28, in <module>\n",
      "    _pywrap_tensorflow_internal = swig_import_helper()\n",
      "  File \"/Users/cynthiazeng/anaconda3/lib/python3.7/site-packages/tensorflow_core/python/pywrap_tensorflow_internal.py\", line 24, in swig_import_helper\n",
      "    _mod = imp.load_module('_pywrap_tensorflow_internal', fp, pathname, description)\n",
      "  File \"/Users/cynthiazeng/anaconda3/lib/python3.7/imp.py\", line 242, in load_module\n",
      "    return load_dynamic(name, filename, file)\n",
      "  File \"/Users/cynthiazeng/anaconda3/lib/python3.7/imp.py\", line 342, in load_dynamic\n",
      "    return _load(spec)\n",
      "ImportError: dlopen(/Users/cynthiazeng/anaconda3/lib/python3.7/site-packages/tensorflow_core/python/_pywrap_tensorflow_internal.so, 6): Symbol not found: _SecKeyCopyExternalRepresentation\n",
      "  Referenced from: /Users/cynthiazeng/anaconda3/lib/python3.7/site-packages/tensorflow_core/python/../libtensorflow_framework.2.dylib\n",
      "  Expected in: /System/Library/Frameworks/Security.framework/Versions/A/Security\n",
      " in /Users/cynthiazeng/anaconda3/lib/python3.7/site-packages/tensorflow_core/python/../libtensorflow_framework.2.dylib\n",
      "\n",
      "\n",
      "Failed to load the native TensorFlow runtime.\n",
      "\n",
      "See https://www.tensorflow.org/install/errors\n",
      "\n",
      "for some common reasons and solutions.  Include the entire stack trace\n",
      "above this error message when asking for help.\n"
     ]
    },
    {
     "ename": "NameError",
     "evalue": "name 'prepare_x_y' is not defined",
     "output_type": "error",
     "traceback": [
      "\u001b[0;31m---------------------------------------------------------------------------\u001b[0m"
     ]
    }
   ],
   "source": [
    "#call \n",
    "\n",
    "x_df, y_df, x, y = prepare_x_y(past_n_steps, pred_period, param='speed') "
   ]
  },
  {
   "cell_type": "code",
   "execution_count": 2,
   "metadata": {},
   "outputs": [
    {
     "name": "stdout",
     "output_type": "stream",
     "text": [
      "read csv semester csv files from 2015s2 to 2019s2\n",
      "smooth wind direction\n",
      "smooth hour\n",
      "smooth day\n",
      "generate daily features: ['daily_min_speed', 'daily_min_hour', 'daily_max_speed', 'daily_max_hour']\n",
      "generate seasonality categorical feature\n",
      "generate day/night categorical feature\n"
     ]
    }
   ],
   "source": [
    "#STEP 1: Read and Process Masurement Data\n",
    "# Read 1 file per semester\n",
    "def get_data():\n",
    "    df0 = pd.read_csv(\"2015_S2.csv\", sep = \";\")\n",
    "    df1 = pd.read_csv(\"2016_S1.csv\", sep = \";\")\n",
    "    df2 = pd.read_csv(\"2016_S2.csv\", sep = \";\")\n",
    "    df3 = pd.read_csv(\"2017_S1.csv\", sep = \";\")\n",
    "    df4 = pd.read_csv(\"2017_S2.csv\", sep = \";\")\n",
    "    df5 = pd.read_csv(\"2018_S1.csv\", sep = \";\")\n",
    "    df6 = pd.read_csv(\"2018_S2.csv\", sep = \";\")\n",
    "    df7 = pd.read_csv(\"2019_S1.csv\", sep = \";\")\n",
    "    df8 = pd.read_csv(\"2019_S2.csv\", sep = \";\")\n",
    "\n",
    "    data0 = pd.concat([df0, df1, df2, df3, df4, df5, df6, df7, df8], ignore_index=True)\n",
    "    print('read csv semester csv files from 2015s2 to 2019s2')\n",
    "    return data0\n",
    "\n",
    "\n",
    "# Functions\n",
    "# Convert scenario to one_hot\n",
    "def scenario_one_hot(data, one_hot=False):\n",
    "    # extract numeric data from scenario 'S1' to '1'\n",
    "    data['scenario_num'] = (data['scenario'].str.extract('(\\d+)')).astype(int)\n",
    "    data.drop(['scenario'], axis=1, inplace=True)\n",
    "\n",
    "    # add one-hot encoding to scenario:\n",
    "    if one_hot:\n",
    "        scenario = pd.get_dummies(data['scenario_num'], prefix='scenario', dummy_na=True)\n",
    "        data1 = pd.concat([data, scenario], axis=1)\n",
    "        return data1\n",
    "    return data\n",
    "\n",
    "\n",
    "# Make cyclical data into continuous data using cos & sin\n",
    "def smooth_wind_dir(data):\n",
    "    data['cos_wind_dir'] = np.cos(2 * np.pi * data['wind_dir'] / 360)\n",
    "    data['sin_wind_dir'] = np.sin(2 * np.pi * data['wind_dir'] / 360)\n",
    "    print('smooth wind direction')\n",
    "    return data\n",
    "\n",
    "\n",
    "def smooth_hour(data):\n",
    "    # split '00h00' to two columns of numeric values\n",
    "    hour = data['hour'].str.split(pat='h', expand=True)\n",
    "    hour = hour.apply(pd.to_numeric, errors='coerce')\n",
    "\n",
    "    # calculate minutes passed since 00h00\n",
    "    hour['minutes'] = 60 * hour[0] + hour[1]\n",
    "    hour['cos_hour'] = np.cos(2 * np.pi * hour['minutes'] / (60 * 24))\n",
    "    hour['sin_hour'] = np.sin(2 * np.pi * hour['minutes'] / (60 * 24))\n",
    "\n",
    "    # concat and update dataframe\n",
    "    data = pd.concat([data, hour[['cos_hour', 'sin_hour']]], axis=1)\n",
    "    print('smooth hour')\n",
    "    return data\n",
    "\n",
    "\n",
    "# Smooth date\n",
    "def smooth_day(data):\n",
    "    # Convert day & hour to date-time format\n",
    "    data['datetime'] = data['day'].str.cat(data['hour'], sep=' ')\n",
    "    data['datetime'] = pd.to_datetime(data['datetime'], format='%d/%m/%Y %Hh%M')\n",
    "    data['day'] = pd.to_datetime(data['day'], format='%d/%m/%Y')\n",
    "    data['hour'] = data['hour'].str.extract('(\\d+)')\n",
    "    data['hour'] = pd.to_numeric(data['hour'])\n",
    "\n",
    "    # Calculate time delta since 1st entry\n",
    "    data['day_delta'] = pd.to_numeric(data['day'] - data['day'][0])\n",
    "    data['cos_day'] = np.cos(2 * np.pi * data['day_delta'] / (365))\n",
    "    data['sin_day'] = np.sin(2 * np.pi * data['day_delta'] / (365))\n",
    "    data.drop(['day_delta', 'day'], axis=1, inplace=True)\n",
    "\n",
    "    print('smooth day')\n",
    "    return data\n",
    "\n",
    "\n",
    "# Generate new features:\n",
    "# Generate daily features: daily min, max\n",
    "def generate_daily(df):\n",
    "    # group data into daily batches\n",
    "    grouped = df.resample('D')\n",
    "    min_speed = []\n",
    "    max_speed = []\n",
    "    min_hour = []\n",
    "    max_hour = []\n",
    "\n",
    "    for datetime, group in grouped:\n",
    "        # find daily min & max\n",
    "        s1 = group['speed'].min()\n",
    "        s2 = group['speed'].max()\n",
    "        # find the time of min & max speed\n",
    "        h1 = group.loc[group['speed'] == s1]['hour'].values[0]\n",
    "        h2 = group.loc[group['speed'] == s2]['hour'].values[0]\n",
    "\n",
    "        min_speed.append(s1)\n",
    "        max_speed.append(s2)\n",
    "        min_hour.append(h1)\n",
    "        max_hour.append(h2)\n",
    "\n",
    "    # output new features as a dataframe\n",
    "    start = df.index[0].date()\n",
    "    end = df.index[-1].date()\n",
    "    date_range = pd.date_range(start, end, freq='D')\n",
    "    daily = pd.concat([pd.Series(min_speed), pd.Series(min_hour), pd.Series(max_speed), pd.Series(max_hour)], axis=1,\n",
    "                      keys=['daily_min_speed', 'daily_min_hour', 'daily_max_speed', 'daily_max_hour'])\n",
    "    daily.set_index(date_range, inplace=True)\n",
    "\n",
    "    # #merge new features into dataframe: match with date\n",
    "    df_out = pd.merge(df, daily, how='outer', left_index=True, right_index=True)\n",
    "    # fill NaN values with same daily values\n",
    "    df_out = df_out.fillna(method='ffill')\n",
    "\n",
    "    print('generate daily features: %s' % (daily.columns.to_list()))\n",
    "    return df_out\n",
    "\n",
    "\n",
    "# Categorical features\n",
    "def generate_season(df):\n",
    "    df['season'] = 0\n",
    "    df['month'] = df.index.month\n",
    "    df.loc[df['month'].isin([12, 1, 2]), 'season'] = 1\n",
    "    df.loc[df['month'].isin([3, 4, 5]), 'season'] = 2\n",
    "    df.loc[df['month'].isin([6, 7, 8]), 'season'] = 3\n",
    "    df.loc[df['month'].isin([9, 10, 11]), 'season'] = 4\n",
    "    df.drop(['month'], axis=1, inplace=True)\n",
    "    print('generate seasonality categorical feature')\n",
    "    return df\n",
    "\n",
    "\n",
    "def generate_day_night(df):\n",
    "    df['day'] = 0\n",
    "    df['night'] = 0\n",
    "    df.loc[df['hour'].isin([8, 9, 10, 11, 12, 13, 14, 15, 16, 17, 18]), 'day'] = 1\n",
    "    df.loc[df['hour'].isin([0, 1, 2, 3, 4, 5, 6, 7, 19, 20, 21, 22, 23]), 'night'] = 1\n",
    "    print('generate day/night categorical feature')\n",
    "    return df\n",
    "\n",
    "\n",
    "# Function to prepare data using above functions\n",
    "def prepare_data(one_hot=False):\n",
    "    # Interpolate missing values\n",
    "    data0 = get_data()\n",
    "    data = data0.interpolate()\n",
    "    data = data.fillna(method='ffill')\n",
    "\n",
    "    # scenario to one-hot encoding\n",
    "    data = scenario_one_hot(data, one_hot)\n",
    "\n",
    "    # smooth wind_dir, hour, and day using cos & sin function\n",
    "    data = smooth_wind_dir(data)\n",
    "    data = smooth_hour(data)\n",
    "    data = smooth_day(data)\n",
    "    data.drop(['details'], axis=1, inplace=True)\n",
    "    data.index = data['datetime']\n",
    "    data = data.interpolate()\n",
    "\n",
    "    # averaging 15min data to hourly\n",
    "    data = data.resample('H').mean()\n",
    "    data = data.round({'scenario_num': 0})\n",
    "\n",
    "    # generate daily max & min wind speed features\n",
    "    data = generate_daily(data)\n",
    "\n",
    "    # generate seasonal, day/night categorical features\n",
    "    data = generate_season(data)\n",
    "    data = generate_day_night(data)\n",
    "\n",
    "    return data\n",
    "\n",
    "data = prepare_data()"
   ]
  },
  {
   "cell_type": "code",
   "execution_count": 4,
   "metadata": {},
   "outputs": [],
   "source": [
    "#STEP 2: Merge with forecast \n",
    "#read csv: \n",
    "def get_forecast():\n",
    "    df= pd.read_csv('weather_forecast_data_for_cynthia.csv', sep = \";\")\n",
    "    print('reading forecast data')\n",
    "    return df \n",
    "\n",
    "#convert to datetime index\n",
    "def convert_datetime(df):\n",
    "    df['f_date'] = pd.to_datetime(df['date'], format='%d/%m/%Y %H:%M') #future_date\n",
    "    df['cycle']=df['cycle'].str.replace('h', ':00', regex=True)\n",
    "    df['p_date'] = pd.to_datetime(df['cycle'], format='%d/%m/%Y %H:%M') #present_date\n",
    "    df.drop(['date', 'cycle'], axis=1, inplace=True)\n",
    "    return df\n",
    "\n",
    "def keep_last_forecast (df0):\n",
    "    df= df0.copy()\n",
    "    df.sort_values(by=['f_date', 'p_date'], inplace=True)\n",
    "    df.drop_duplicates(subset = \"f_date\", keep = 'last', inplace=True)\n",
    "    print('keep last forecast, duplicates dropped = ', (df0.shape[0] - df.shape[0]))\n",
    "    return df \n",
    "\n",
    "#rename columns\n",
    "def rename_cols(df):\n",
    "    df = df.rename(columns={\"Wind direction\": \"wind_dir\", \"Wind speed (m/s)\": \"speed\"}) # additional features\"temperature (ｰC)\": \"temp\", \"rayonnement (W/m2)\": \"radiation\",\"precip (mm/h)\":\"precip\"\n",
    "    #keep just wind_dir and speed features\n",
    "    df = df[['wind_dir','speed','f_date']]\n",
    "    #index with future date\n",
    "    df.set_index('f_date', inplace=True) \n",
    "    return df\n",
    "\n",
    "\n",
    "#merge data with forecast data\n",
    "def prepare_data_with_forecast(data):\n",
    "    #get prepared measurement data\n",
    "    data_merge = data.copy()\n",
    "    forecast = get_forecast()\n",
    "    df= convert_datetime(forecast)\n",
    "    df = keep_last_forecast (df)\n",
    "    df= rename_cols(df)\n",
    "    df = smooth_wind_dir(df)\n",
    "    data_merge = data_merge.join(df, how='inner', rsuffix='_forecast')\n",
    "    \n",
    "    print('merge with forecast data')\n",
    "    return data_merge, data, forecast \n",
    "\n",
    "\n",
    "# data=prepare_data(one_hot=False)\n",
    "# data_merge, data, forecast  = prepare_data_with_forecast(data)"
   ]
  },
  {
   "cell_type": "code",
   "execution_count": 15,
   "metadata": {},
   "outputs": [
    {
     "name": "stdout",
     "output_type": "stream",
     "text": [
      "read csv semester csv files from 2015s2 to 2019s2\n",
      "smooth wind direction\n",
      "smooth hour\n",
      "smooth day\n",
      "generate daily features: ['daily_min_speed', 'daily_min_hour', 'daily_max_speed', 'daily_max_hour']\n",
      "generate seasonality categorical feature\n",
      "generate day/night categorical feature\n",
      "reading forecast data\n"
     ]
    },
    {
     "name": "stderr",
     "output_type": "stream",
     "text": [
      "/Users/leobix/anaconda3/lib/python3.6/site-packages/IPython/core/interactiveshell.py:3331: DtypeWarning: Columns (6) have mixed types.Specify dtype option on import or set low_memory=False.\n",
      "  exec(code_obj, self.user_global_ns, self.user_ns)\n"
     ]
    },
    {
     "name": "stdout",
     "output_type": "stream",
     "text": [
      "keep last forecast, duplicates dropped =  96574\n",
      "smooth wind direction\n",
      "merge with forecast data\n"
     ]
    }
   ],
   "source": [
    "data = prepare_data(one_hot=False)\n",
    "data_merge, data, forecast  = prepare_data_with_forecast(data)\n",
    "df = data_merge[['speed', 'cos_wind_dir', 'sin_wind_dir', 'temp', 'radiation', 'scenario_num', 'cos_hour', 'sin_hour', 'cos_day', 'sin_day', 'daily_min_speed', 'daily_min_hour', 'daily_max_speed', 'daily_max_hour', 'speed_forecast', 'cos_wind_dir_forecast', 'sin_wind_dir_forecast']]"
   ]
  },
  {
   "cell_type": "code",
   "execution_count": 16,
   "metadata": {},
   "outputs": [
    {
     "data": {
      "text/html": [
       "<div>\n",
       "<style scoped>\n",
       "    .dataframe tbody tr th:only-of-type {\n",
       "        vertical-align: middle;\n",
       "    }\n",
       "\n",
       "    .dataframe tbody tr th {\n",
       "        vertical-align: top;\n",
       "    }\n",
       "\n",
       "    .dataframe thead th {\n",
       "        text-align: right;\n",
       "    }\n",
       "</style>\n",
       "<table border=\"1\" class=\"dataframe\">\n",
       "  <thead>\n",
       "    <tr style=\"text-align: right;\">\n",
       "      <th></th>\n",
       "      <th>speed</th>\n",
       "      <th>cos_wind_dir</th>\n",
       "      <th>sin_wind_dir</th>\n",
       "      <th>temp</th>\n",
       "      <th>radiation</th>\n",
       "      <th>scenario_num</th>\n",
       "      <th>cos_hour</th>\n",
       "      <th>sin_hour</th>\n",
       "      <th>cos_day</th>\n",
       "      <th>sin_day</th>\n",
       "      <th>daily_min_speed</th>\n",
       "      <th>daily_min_hour</th>\n",
       "      <th>daily_max_speed</th>\n",
       "      <th>daily_max_hour</th>\n",
       "      <th>speed_forecast</th>\n",
       "      <th>cos_wind_dir_forecast</th>\n",
       "      <th>sin_wind_dir_forecast</th>\n",
       "    </tr>\n",
       "  </thead>\n",
       "  <tbody>\n",
       "    <tr>\n",
       "      <th>2015-07-01 00:00:00</th>\n",
       "      <td>2.225</td>\n",
       "      <td>0.854881</td>\n",
       "      <td>0.212812</td>\n",
       "      <td>20.725</td>\n",
       "      <td>0.0</td>\n",
       "      <td>1.0</td>\n",
       "      <td>0.992522</td>\n",
       "      <td>0.097755</td>\n",
       "      <td>1.000000</td>\n",
       "      <td>0.000000</td>\n",
       "      <td>0.850</td>\n",
       "      <td>6.0</td>\n",
       "      <td>8.85</td>\n",
       "      <td>14.0</td>\n",
       "      <td>1.710672</td>\n",
       "      <td>0.925475</td>\n",
       "      <td>0.378808</td>\n",
       "    </tr>\n",
       "    <tr>\n",
       "      <th>2015-07-01 01:00:00</th>\n",
       "      <td>2.900</td>\n",
       "      <td>0.848673</td>\n",
       "      <td>-0.514652</td>\n",
       "      <td>20.500</td>\n",
       "      <td>0.0</td>\n",
       "      <td>1.0</td>\n",
       "      <td>0.933402</td>\n",
       "      <td>0.351308</td>\n",
       "      <td>1.000000</td>\n",
       "      <td>0.000000</td>\n",
       "      <td>0.850</td>\n",
       "      <td>6.0</td>\n",
       "      <td>8.85</td>\n",
       "      <td>14.0</td>\n",
       "      <td>1.553615</td>\n",
       "      <td>0.920130</td>\n",
       "      <td>0.391614</td>\n",
       "    </tr>\n",
       "    <tr>\n",
       "      <th>2015-07-01 02:00:00</th>\n",
       "      <td>1.600</td>\n",
       "      <td>0.806157</td>\n",
       "      <td>-0.237230</td>\n",
       "      <td>20.675</td>\n",
       "      <td>0.0</td>\n",
       "      <td>2.0</td>\n",
       "      <td>0.810672</td>\n",
       "      <td>0.580919</td>\n",
       "      <td>1.000000</td>\n",
       "      <td>0.000000</td>\n",
       "      <td>0.850</td>\n",
       "      <td>6.0</td>\n",
       "      <td>8.85</td>\n",
       "      <td>14.0</td>\n",
       "      <td>1.135592</td>\n",
       "      <td>0.862629</td>\n",
       "      <td>0.505837</td>\n",
       "    </tr>\n",
       "    <tr>\n",
       "      <th>2015-07-01 03:00:00</th>\n",
       "      <td>2.175</td>\n",
       "      <td>0.815514</td>\n",
       "      <td>0.407457</td>\n",
       "      <td>20.850</td>\n",
       "      <td>0.0</td>\n",
       "      <td>1.0</td>\n",
       "      <td>0.632696</td>\n",
       "      <td>0.770942</td>\n",
       "      <td>1.000000</td>\n",
       "      <td>0.000000</td>\n",
       "      <td>0.850</td>\n",
       "      <td>6.0</td>\n",
       "      <td>8.85</td>\n",
       "      <td>14.0</td>\n",
       "      <td>0.753942</td>\n",
       "      <td>0.867008</td>\n",
       "      <td>0.498295</td>\n",
       "    </tr>\n",
       "    <tr>\n",
       "      <th>2015-07-01 04:00:00</th>\n",
       "      <td>2.625</td>\n",
       "      <td>0.460721</td>\n",
       "      <td>0.860460</td>\n",
       "      <td>20.800</td>\n",
       "      <td>0.0</td>\n",
       "      <td>1.0</td>\n",
       "      <td>0.411603</td>\n",
       "      <td>0.908427</td>\n",
       "      <td>1.000000</td>\n",
       "      <td>0.000000</td>\n",
       "      <td>0.850</td>\n",
       "      <td>6.0</td>\n",
       "      <td>8.85</td>\n",
       "      <td>14.0</td>\n",
       "      <td>0.768373</td>\n",
       "      <td>0.982435</td>\n",
       "      <td>0.186607</td>\n",
       "    </tr>\n",
       "    <tr>\n",
       "      <th>...</th>\n",
       "      <td>...</td>\n",
       "      <td>...</td>\n",
       "      <td>...</td>\n",
       "      <td>...</td>\n",
       "      <td>...</td>\n",
       "      <td>...</td>\n",
       "      <td>...</td>\n",
       "      <td>...</td>\n",
       "      <td>...</td>\n",
       "      <td>...</td>\n",
       "      <td>...</td>\n",
       "      <td>...</td>\n",
       "      <td>...</td>\n",
       "      <td>...</td>\n",
       "      <td>...</td>\n",
       "      <td>...</td>\n",
       "      <td>...</td>\n",
       "    </tr>\n",
       "    <tr>\n",
       "      <th>2019-10-31 19:00:00</th>\n",
       "      <td>5.800</td>\n",
       "      <td>0.717855</td>\n",
       "      <td>0.693237</td>\n",
       "      <td>23.625</td>\n",
       "      <td>0.0</td>\n",
       "      <td>1.0</td>\n",
       "      <td>0.351308</td>\n",
       "      <td>-0.933402</td>\n",
       "      <td>0.495697</td>\n",
       "      <td>0.868496</td>\n",
       "      <td>3.075</td>\n",
       "      <td>4.0</td>\n",
       "      <td>5.80</td>\n",
       "      <td>19.0</td>\n",
       "      <td>6.827862</td>\n",
       "      <td>0.804887</td>\n",
       "      <td>0.593428</td>\n",
       "    </tr>\n",
       "    <tr>\n",
       "      <th>2019-10-31 20:00:00</th>\n",
       "      <td>5.350</td>\n",
       "      <td>0.511087</td>\n",
       "      <td>0.859053</td>\n",
       "      <td>23.500</td>\n",
       "      <td>0.0</td>\n",
       "      <td>1.0</td>\n",
       "      <td>0.580919</td>\n",
       "      <td>-0.810672</td>\n",
       "      <td>0.495697</td>\n",
       "      <td>0.868496</td>\n",
       "      <td>3.075</td>\n",
       "      <td>4.0</td>\n",
       "      <td>5.80</td>\n",
       "      <td>19.0</td>\n",
       "      <td>6.560536</td>\n",
       "      <td>0.734074</td>\n",
       "      <td>0.679069</td>\n",
       "    </tr>\n",
       "    <tr>\n",
       "      <th>2019-10-31 21:00:00</th>\n",
       "      <td>5.125</td>\n",
       "      <td>0.495896</td>\n",
       "      <td>0.867648</td>\n",
       "      <td>23.050</td>\n",
       "      <td>0.0</td>\n",
       "      <td>1.0</td>\n",
       "      <td>0.770942</td>\n",
       "      <td>-0.632696</td>\n",
       "      <td>0.495697</td>\n",
       "      <td>0.868496</td>\n",
       "      <td>3.075</td>\n",
       "      <td>4.0</td>\n",
       "      <td>5.80</td>\n",
       "      <td>19.0</td>\n",
       "      <td>6.472386</td>\n",
       "      <td>0.684310</td>\n",
       "      <td>0.729191</td>\n",
       "    </tr>\n",
       "    <tr>\n",
       "      <th>2019-10-31 22:00:00</th>\n",
       "      <td>5.025</td>\n",
       "      <td>0.528096</td>\n",
       "      <td>0.844972</td>\n",
       "      <td>22.675</td>\n",
       "      <td>0.0</td>\n",
       "      <td>1.0</td>\n",
       "      <td>0.908427</td>\n",
       "      <td>-0.411603</td>\n",
       "      <td>0.495697</td>\n",
       "      <td>0.868496</td>\n",
       "      <td>3.075</td>\n",
       "      <td>4.0</td>\n",
       "      <td>5.80</td>\n",
       "      <td>19.0</td>\n",
       "      <td>6.507449</td>\n",
       "      <td>0.658095</td>\n",
       "      <td>0.752935</td>\n",
       "    </tr>\n",
       "    <tr>\n",
       "      <th>2019-10-31 23:00:00</th>\n",
       "      <td>5.575</td>\n",
       "      <td>0.554406</td>\n",
       "      <td>0.829741</td>\n",
       "      <td>22.425</td>\n",
       "      <td>0.0</td>\n",
       "      <td>1.0</td>\n",
       "      <td>0.984004</td>\n",
       "      <td>-0.162460</td>\n",
       "      <td>0.495697</td>\n",
       "      <td>0.868496</td>\n",
       "      <td>3.075</td>\n",
       "      <td>4.0</td>\n",
       "      <td>5.80</td>\n",
       "      <td>19.0</td>\n",
       "      <td>6.384562</td>\n",
       "      <td>0.617141</td>\n",
       "      <td>0.786853</td>\n",
       "    </tr>\n",
       "  </tbody>\n",
       "</table>\n",
       "<p>37876 rows × 17 columns</p>\n",
       "</div>"
      ],
      "text/plain": [
       "                     speed  cos_wind_dir  sin_wind_dir    temp  radiation  \\\n",
       "2015-07-01 00:00:00  2.225      0.854881      0.212812  20.725        0.0   \n",
       "2015-07-01 01:00:00  2.900      0.848673     -0.514652  20.500        0.0   \n",
       "2015-07-01 02:00:00  1.600      0.806157     -0.237230  20.675        0.0   \n",
       "2015-07-01 03:00:00  2.175      0.815514      0.407457  20.850        0.0   \n",
       "2015-07-01 04:00:00  2.625      0.460721      0.860460  20.800        0.0   \n",
       "...                    ...           ...           ...     ...        ...   \n",
       "2019-10-31 19:00:00  5.800      0.717855      0.693237  23.625        0.0   \n",
       "2019-10-31 20:00:00  5.350      0.511087      0.859053  23.500        0.0   \n",
       "2019-10-31 21:00:00  5.125      0.495896      0.867648  23.050        0.0   \n",
       "2019-10-31 22:00:00  5.025      0.528096      0.844972  22.675        0.0   \n",
       "2019-10-31 23:00:00  5.575      0.554406      0.829741  22.425        0.0   \n",
       "\n",
       "                     scenario_num  cos_hour  sin_hour   cos_day   sin_day  \\\n",
       "2015-07-01 00:00:00           1.0  0.992522  0.097755  1.000000  0.000000   \n",
       "2015-07-01 01:00:00           1.0  0.933402  0.351308  1.000000  0.000000   \n",
       "2015-07-01 02:00:00           2.0  0.810672  0.580919  1.000000  0.000000   \n",
       "2015-07-01 03:00:00           1.0  0.632696  0.770942  1.000000  0.000000   \n",
       "2015-07-01 04:00:00           1.0  0.411603  0.908427  1.000000  0.000000   \n",
       "...                           ...       ...       ...       ...       ...   \n",
       "2019-10-31 19:00:00           1.0  0.351308 -0.933402  0.495697  0.868496   \n",
       "2019-10-31 20:00:00           1.0  0.580919 -0.810672  0.495697  0.868496   \n",
       "2019-10-31 21:00:00           1.0  0.770942 -0.632696  0.495697  0.868496   \n",
       "2019-10-31 22:00:00           1.0  0.908427 -0.411603  0.495697  0.868496   \n",
       "2019-10-31 23:00:00           1.0  0.984004 -0.162460  0.495697  0.868496   \n",
       "\n",
       "                     daily_min_speed  daily_min_hour  daily_max_speed  \\\n",
       "2015-07-01 00:00:00            0.850             6.0             8.85   \n",
       "2015-07-01 01:00:00            0.850             6.0             8.85   \n",
       "2015-07-01 02:00:00            0.850             6.0             8.85   \n",
       "2015-07-01 03:00:00            0.850             6.0             8.85   \n",
       "2015-07-01 04:00:00            0.850             6.0             8.85   \n",
       "...                              ...             ...              ...   \n",
       "2019-10-31 19:00:00            3.075             4.0             5.80   \n",
       "2019-10-31 20:00:00            3.075             4.0             5.80   \n",
       "2019-10-31 21:00:00            3.075             4.0             5.80   \n",
       "2019-10-31 22:00:00            3.075             4.0             5.80   \n",
       "2019-10-31 23:00:00            3.075             4.0             5.80   \n",
       "\n",
       "                     daily_max_hour  speed_forecast  cos_wind_dir_forecast  \\\n",
       "2015-07-01 00:00:00            14.0        1.710672               0.925475   \n",
       "2015-07-01 01:00:00            14.0        1.553615               0.920130   \n",
       "2015-07-01 02:00:00            14.0        1.135592               0.862629   \n",
       "2015-07-01 03:00:00            14.0        0.753942               0.867008   \n",
       "2015-07-01 04:00:00            14.0        0.768373               0.982435   \n",
       "...                             ...             ...                    ...   \n",
       "2019-10-31 19:00:00            19.0        6.827862               0.804887   \n",
       "2019-10-31 20:00:00            19.0        6.560536               0.734074   \n",
       "2019-10-31 21:00:00            19.0        6.472386               0.684310   \n",
       "2019-10-31 22:00:00            19.0        6.507449               0.658095   \n",
       "2019-10-31 23:00:00            19.0        6.384562               0.617141   \n",
       "\n",
       "                     sin_wind_dir_forecast  \n",
       "2015-07-01 00:00:00               0.378808  \n",
       "2015-07-01 01:00:00               0.391614  \n",
       "2015-07-01 02:00:00               0.505837  \n",
       "2015-07-01 03:00:00               0.498295  \n",
       "2015-07-01 04:00:00               0.186607  \n",
       "...                                    ...  \n",
       "2019-10-31 19:00:00               0.593428  \n",
       "2019-10-31 20:00:00               0.679069  \n",
       "2019-10-31 21:00:00               0.729191  \n",
       "2019-10-31 22:00:00               0.752935  \n",
       "2019-10-31 23:00:00               0.786853  \n",
       "\n",
       "[37876 rows x 17 columns]"
      ]
     },
     "execution_count": 16,
     "metadata": {},
     "output_type": "execute_result"
    }
   ],
   "source": [
    "df"
   ]
  },
  {
   "cell_type": "code",
   "execution_count": 9,
   "metadata": {},
   "outputs": [
    {
     "data": {
      "image/png": "[encoded data removed]",
      "text/plain": [
       "<matplotlib.figure.Figure at 0x111436240>"
      ]
     },
     "metadata": {
      "needs_background": "light"
     },
     "output_type": "display_data"
    }
   ],
   "source": [
    "import matplotlib.pyplot as plt\n",
    "plt.plot(data_merge['speed'][:200])\n",
    "plt.plot(data_merge['speed_forecast'][:200])\n",
    "plt.show()"
   ]
  },
  {
   "cell_type": "code",
   "execution_count": 10,
   "metadata": {},
   "outputs": [
    {
     "name": "stdout",
     "output_type": "stream",
     "text": [
      "2.126697291028455\n",
      "1.1226851826585609\n"
     ]
    }
   ],
   "source": [
    "print(mean_squared_error(data_merge['speed'], data_merge['speed_forecast']))\n",
    "print(mean_absolute_error(data_merge['speed'], data_merge['speed_forecast']))"
   ]
  },
  {
   "cell_type": "code",
   "execution_count": 11,
   "metadata": {},
   "outputs": [],
   "source": [
    "X_train, X_test, y_train, y_test, X_train_unscaled, X_test_unscaled, y_train_unscaled, y_test_unscaled, sc_X, sc_y = scale_data_RNN(48, 48, df, 0.1, speed_only = True)"
   ]
  },
  {
   "cell_type": "code",
   "execution_count": 232,
   "metadata": {},
   "outputs": [
    {
     "data": {
      "text/plain": [
       "(array([6.475, 5.775, 5.5  , 5.3  , 6.725, 4.95 , 3.9  , 4.05 , 5.225,\n",
       "        4.9  , 5.525, 5.375, 4.6  , 3.725, 4.8  , 5.75 , 5.175, 4.7  ,\n",
       "        4.975, 5.025, 5.6  , 6.425, 6.2  , 5.9  , 5.475, 5.45 , 5.875,\n",
       "        5.275, 4.65 , 4.95 , 4.425, 4.3  , 5.075, 4.4  , 4.35 , 4.425,\n",
       "        4.1  , 3.3  , 4.275, 5.2  , 4.625, 4.875, 4.775, 5.275, 5.6  ,\n",
       "        5.35 , 5.175, 4.6  ]),\n",
       " array([6.475, 6.475, 5.775, 5.5  , 5.3  , 6.725, 4.95 , 3.9  , 4.05 ,\n",
       "        5.225, 4.9  , 5.525, 5.375, 4.6  , 3.725, 4.8  , 5.75 , 5.175,\n",
       "        4.7  , 4.975, 5.025, 5.6  , 6.425, 6.2  , 5.9  , 5.475, 5.45 ,\n",
       "        5.875, 5.275, 4.65 , 4.95 , 4.425, 4.3  , 5.075, 4.4  , 4.35 ,\n",
       "        4.425, 4.1  , 3.3  , 4.275, 5.2  , 4.625, 4.875, 4.775, 5.275,\n",
       "        5.6  , 5.35 , 5.175]),\n",
       " array([4.6  , 5.05 , 5.   , 4.5  , 4.45 , 4.45 , 4.85 , 4.3  , 3.55 ,\n",
       "        3.55 , 4.45 , 4.225, 3.65 , 3.85 , 4.1  , 5.15 , 4.975, 4.025,\n",
       "        4.   , 4.125, 4.725, 5.925, 5.35 , 5.275, 4.85 , 4.9  , 4.35 ,\n",
       "        4.5  , 4.2  , 3.8  , 3.225, 2.475, 2.1  , 2.15 , 1.925, 1.875,\n",
       "        1.675, 1.925, 2.   , 2.325, 3.05 , 2.85 , 3.55 , 6.25 , 7.15 ,\n",
       "        8.175, 8.575, 8.625]))"
      ]
     },
     "execution_count": 232,
     "metadata": {},
     "output_type": "execute_result"
    }
   ],
   "source": [
    "#this just to check that y is right \n",
    "X_train_unscaled[-1,:,0], X_train_unscaled[-2,:,0], y_train_unscaled[-2, :, 0]"
   ]
  },
  {
   "cell_type": "code",
   "execution_count": 12,
   "metadata": {},
   "outputs": [],
   "source": [
    "def get_X_y(X_train, X_test, y_train, y_test, step2predict):\n",
    "    X_t = X_train.reshape(X_train.shape[0],-1)\n",
    "    X_te = X_test.reshape(X_test.shape[0],-1)\n",
    "    \n",
    "    y_t_speed = y_train[:,step2predict,0]\n",
    "    y_te_speed = y_test[:,step2predict,0]\n",
    "    y_t_cos = y_train[:,step2predict,1]\n",
    "    y_te_cos = y_test[:,step2predict,1]\n",
    "    y_t_sin = y_train[:,step2predict,2]\n",
    "    y_te_sin = y_test[:,step2predict,2]\n",
    "    return X_t, X_te, y_t_speed, y_te_speed, y_t_cos, y_te_cos, y_t_sin, y_te_sin"
   ]
  },
  {
   "cell_type": "code",
   "execution_count": 26,
   "metadata": {},
   "outputs": [],
   "source": [
    "#t to predict\n",
    "h = 24\n",
    "X_t, X_te, y_t_speed, y_te_speed, y_t_cos, y_te_cos, y_t_sin, y_te_sin = get_X_y(X_train_unscaled, X_test_unscaled, y_train_unscaled, y_test_unscaled, h)"
   ]
  },
  {
   "cell_type": "code",
   "execution_count": 91,
   "metadata": {},
   "outputs": [],
   "source": [
    "X_t, X_te, y_t_speed, y_te_speed, y_t_cos, y_te_cos, y_t_sin, y_te_sin = get_X_y(X_train, X_test, y_train_unscaled, y_test_unscaled, h)"
   ]
  },
  {
   "cell_type": "code",
   "execution_count": 34,
   "metadata": {},
   "outputs": [
    {
     "ename": "TypeError",
     "evalue": "unsupported operand type(s) for +: 'int' and 'tuple'",
     "output_type": "error",
     "traceback": [
      "\u001b[0;31m---------------------------------------------------------------------------\u001b[0m",
      "\u001b[0;31mTypeError\u001b[0m                                 Traceback (most recent call last)",
      "\u001b[0;32m<ipython-input-34-6855884fe840>\u001b[0m in \u001b[0;36m<module>\u001b[0;34m\u001b[0m\n\u001b[0;32m----> 1\u001b[0;31m \u001b[0mX_t\u001b[0m\u001b[0;34m.\u001b[0m\u001b[0mshape\u001b[0m\u001b[0;34m[\u001b[0m\u001b[0;36m0\u001b[0m\u001b[0;34m]\u001b[0m \u001b[0;34m+\u001b[0m \u001b[0my_te_speed\u001b[0m\u001b[0;34m.\u001b[0m\u001b[0mshape\u001b[0m \u001b[0;31m#+ df['speed_forecast'].shape\u001b[0m\u001b[0;34m\u001b[0m\u001b[0;34m\u001b[0m\u001b[0m\n\u001b[0m",
      "\u001b[0;31mTypeError\u001b[0m: unsupported operand type(s) for +: 'int' and 'tuple'"
     ]
    }
   ],
   "source": [
    "X_t.shape[0] + y_te_speed.shape #+ df['speed_forecast'].shape"
   ]
  },
  {
   "cell_type": "code",
   "execution_count": 92,
   "metadata": {},
   "outputs": [
    {
     "name": "stdout",
     "output_type": "stream",
     "text": [
      "33958\n"
     ]
    },
    {
     "data": {
      "text/plain": [
       "(3774,)"
      ]
     },
     "execution_count": 92,
     "metadata": {},
     "output_type": "execute_result"
    }
   ],
   "source": [
    "print(X_t.shape[0])\n",
    "y_te_speed.shape"
   ]
  },
  {
   "cell_type": "code",
   "execution_count": 45,
   "metadata": {},
   "outputs": [
    {
     "data": {
      "text/plain": [
       "34102"
      ]
     },
     "execution_count": 45,
     "metadata": {},
     "output_type": "execute_result"
    }
   ],
   "source": []
  },
  {
   "cell_type": "code",
   "execution_count": 93,
   "metadata": {},
   "outputs": [
    {
     "data": {
      "text/plain": [
       "(3774,)"
      ]
     },
     "execution_count": 93,
     "metadata": {},
     "output_type": "execute_result"
    }
   ],
   "source": [
    "baseline_speed.shape"
   ]
  },
  {
   "cell_type": "code",
   "execution_count": 46,
   "metadata": {},
   "outputs": [],
   "source": [
    "baseline_speed = np.array(df['speed_forecast'][33958:])\n",
    "baseline_speed = baseline_speed[:y_te_speed.shape[0]]"
   ]
  },
  {
   "cell_type": "code",
   "execution_count": 94,
   "metadata": {},
   "outputs": [],
   "source": [
    "#baseline = np.array(df['speed_forecast'][34144:])\n",
    "#IMPORTANT TO CHECK THAT SPEED FORECAST IS ALIGNED!!!!\n",
    "n = 34030\n",
    "baseline_speed = np.array(df['speed_forecast'][n:])\n",
    "baseline_speed = baseline_speed[:y_te_speed.shape[0]]\n",
    "\n",
    "baseline_cos = np.array(df['cos_wind_dir_forecast'][n:])\n",
    "baseline_cos = baseline_cos[:y_te_sin.shape[0]]\n",
    "\n",
    "baseline_sin = np.array(df['sin_wind_dir_forecast'][n:])\n",
    "baseline_sin = baseline_sin[:y_te_sin.shape[0]]\n",
    "\n",
    "baseline_wind_dir = np.array(data_merge['wind_dir'][n:])\n",
    "baseline_wind_dir = baseline_wind_dir[:y_te_sin.shape[0]]\n",
    "\n",
    "true_scenario = np.array(df['scenario_num'][n:])\n",
    "true_scenario = true_scenario[:y_te_sin.shape[0]]\n",
    "\n",
    "test = np.array(df['speed'][n:])\n",
    "test = test[:y_te_speed.shape[0]]"
   ]
  },
  {
   "cell_type": "code",
   "execution_count": 95,
   "metadata": {},
   "outputs": [
    {
     "data": {
      "image/png": "[encoded data removed]",
      "text/plain": [
       "<matplotlib.figure.Figure at 0x1a31fc3a58>"
      ]
     },
     "metadata": {
      "needs_background": "light"
     },
     "output_type": "display_data"
    }
   ],
   "source": [
    "plt.figure(figsize = (20,10))\n",
    "plt.plot(y_te_speed[:500], label = 'predicted')\n",
    "#plt.plot(baseline_speed[:100], label = 'true')\n",
    "plt.plot(test[:500], label = 'true')\n",
    "plt.legend()\n",
    "plt.show()"
   ]
  },
  {
   "cell_type": "code",
   "execution_count": 73,
   "metadata": {},
   "outputs": [
    {
     "data": {
      "text/plain": [
       "array([4.35 , 4.5  , 4.2  , 3.8  , 3.225, 2.475, 2.1  , 2.15 , 1.925,\n",
       "       1.875, 1.675, 1.925, 2.   , 2.325, 3.05 , 2.85 , 3.55 , 6.25 ,\n",
       "       7.15 , 8.175])"
      ]
     },
     "execution_count": 73,
     "metadata": {},
     "output_type": "execute_result"
    }
   ],
   "source": [
    "test[:20]"
   ]
  },
  {
   "cell_type": "code",
   "execution_count": 111,
   "metadata": {},
   "outputs": [
    {
     "name": "stderr",
     "output_type": "stream",
     "text": [
      "/Users/leobix/anaconda3/lib/python3.6/site-packages/xgboost/core.py:614: UserWarning: Use subset (sliced data) of np.ndarray is not recommended because it will generate extra copies and increase memory consumption\n",
      "  \"because it will generate extra copies and increase memory consumption\")\n"
     ]
    },
    {
     "name": "stdout",
     "output_type": "stream",
     "text": [
      "[13:51:05] WARNING: src/objective/regression_obj.cu:152: reg:linear is now deprecated in favor of reg:squarederror.\n",
      "[13:53:25] WARNING: src/objective/regression_obj.cu:152: reg:linear is now deprecated in favor of reg:squarederror.\n",
      "[13:55:41] WARNING: src/objective/regression_obj.cu:152: reg:linear is now deprecated in favor of reg:squarederror.\n"
     ]
    }
   ],
   "source": [
    "xg_speed = XGBRegressor(max_depth = 5)\n",
    "xg_speed.fit(X_t, y_t_speed)\n",
    "y_hat_speed = xg_speed.predict(X_te)\n",
    "\n",
    "xg_cos = XGBRegressor(max_depth = 5)\n",
    "xg_cos.fit(X_t, y_t_cos)\n",
    "y_hat_cos = xg_cos.predict(X_te)\n",
    "\n",
    "xg_sin = XGBRegressor(max_depth = 5)\n",
    "xg_sin.fit(X_t, y_t_sin)\n",
    "y_hat_sin = xg_sin.predict(X_te)"
   ]
  },
  {
   "cell_type": "code",
   "execution_count": 76,
   "metadata": {},
   "outputs": [],
   "source": [
    "from sklearn.neural_network import MLPRegressor"
   ]
  },
  {
   "cell_type": "code",
   "execution_count": 108,
   "metadata": {},
   "outputs": [
    {
     "name": "stderr",
     "output_type": "stream",
     "text": [
      "/Users/leobix/anaconda3/lib/python3.6/site-packages/sklearn/neural_network/multilayer_perceptron.py:562: ConvergenceWarning: Stochastic Optimizer: Maximum iterations (200) reached and the optimization hasn't converged yet.\n",
      "  % self.max_iter, ConvergenceWarning)\n"
     ]
    }
   ],
   "source": [
    "m = MLPRegressor(hidden_layer_sizes=100)\n",
    "m.fit(X_t, y_t_speed)\n",
    "y_hat_speed = m.predict(X_te)"
   ]
  },
  {
   "cell_type": "code",
   "execution_count": 110,
   "metadata": {},
   "outputs": [
    {
     "name": "stdout",
     "output_type": "stream",
     "text": [
      "MAE speed is:  1.1129532907267965\n"
     ]
    }
   ],
   "source": [
    "print(\"MAE speed is: \", mean_absolute_error(y_te_speed, y_hat_speed))"
   ]
  },
  {
   "cell_type": "code",
   "execution_count": 101,
   "metadata": {},
   "outputs": [
    {
     "data": {
      "image/png": "[encoded data removed]",
      "text/plain": [
       "<matplotlib.figure.Figure at 0x1a2f7c4550>"
      ]
     },
     "metadata": {
      "needs_background": "light"
     },
     "output_type": "display_data"
    }
   ],
   "source": [
    "plt.plot(y_te_speed[:300])\n",
    "plt.plot(y_hat_speed[:300])\n",
    "plt.show()"
   ]
  },
  {
   "cell_type": "markdown",
   "metadata": {},
   "source": [
    "2 max depth\n",
    "1.0514130180673609\n",
    "0.8285229944924967\n",
    "\n",
    "3 max depth\n",
    "0.9467532367134287\n",
    "0.7795769491617314\n",
    "\n",
    "4 max depth\n",
    "0.9334842664915324\n",
    "0.7690010867590146\n",
    "\n",
    "5 max depth\n",
    "0.9047207047514756\n",
    "0.7525807462812547"
   ]
  },
  {
   "cell_type": "code",
   "execution_count": 112,
   "metadata": {},
   "outputs": [
    {
     "name": "stdout",
     "output_type": "stream",
     "text": [
      "MSE speed is:  1.405968063596846\n",
      "MAE speed is:  0.947572432103185\n",
      "MSE baseline speed is:  1.8273732708758006\n",
      "MAE baseline speed is:  1.0586868545281412\n",
      "MSE cos is:  0.1444062763657783\n",
      "MAE cos is:  0.2709545904388979\n",
      "MSE baseline cos is:  0.12913183374257195\n",
      "MAE baseline cos is:  0.23905448078413197\n",
      "MSE sin is:  0.20766300956136796\n",
      "MAE sin is:  0.3418438884047808\n",
      "MSE baseline sin is:  0.19785320391817918\n",
      "MAE baseline sin is:  0.2957657569734452\n"
     ]
    }
   ],
   "source": [
    "print(\"MSE speed is: \", mean_squared_error(y_te_speed, y_hat_speed))\n",
    "print(\"MAE speed is: \", mean_absolute_error(y_te_speed, y_hat_speed))\n",
    "print(\"MSE baseline speed is: \", mean_squared_error(y_te_speed, baseline_speed))\n",
    "print(\"MAE baseline speed is: \", mean_absolute_error(y_te_speed, baseline_speed))\n",
    "\n",
    "print(\"MSE cos is: \", mean_squared_error(y_te_cos, y_hat_cos))\n",
    "print(\"MAE cos is: \", mean_absolute_error(y_te_cos, y_hat_cos))\n",
    "print(\"MSE baseline cos is: \", mean_squared_error(y_te_cos, baseline_cos))\n",
    "print(\"MAE baseline cos is: \", mean_absolute_error(y_te_cos, baseline_cos))\n",
    "\n",
    "print(\"MSE sin is: \", mean_squared_error(y_te_sin, y_hat_sin))\n",
    "print(\"MAE sin is: \", mean_absolute_error(y_te_sin, y_hat_sin))\n",
    "print(\"MSE baseline sin is: \", mean_squared_error(y_te_sin, baseline_sin))\n",
    "print(\"MAE baseline sin is: \", mean_absolute_error(y_te_sin, baseline_sin))"
   ]
  },
  {
   "cell_type": "code",
   "execution_count": 77,
   "metadata": {
    "collapsed": true
   },
   "outputs": [],
   "source": [
    "def get_all_prediction_models(steps_out):\n",
    "    models = []\n",
    "    maes = []\n",
    "    mses = []\n",
    "    y_hats = []\n",
    "    X_train, X_test, y_train, y_test, X_train_unscaled, X_test_unscaled, y_train_unscaled, y_test_unscaled, sc_X, sc_y = scale_data_RNN(48, steps_out, df, 0.1, speed_only = True)\n",
    "    for i in range(steps_out):\n",
    "        X_t, X_te, y_t, y_te = get_X_y(X_train_unscaled, X_test_unscaled, y_train_unscaled, y_test_unscaled, i)\n",
    "        xg = XGBRegressor(max_depth=5)\n",
    "        xg.fit(X_t, y_t)\n",
    "        y_hat = xg.predict(X_te)\n",
    "        mse, mae = mean_squared_error(y_te, y_hat), mean_absolute_error(y_te, y_hat)\n",
    "        print(\"MSE error for step \", i, \" is: \", mse)\n",
    "        print(\"MAE error for step \", i, \" is: \", mae)\n",
    "        maes.append(mae)\n",
    "        mses.append(mse)\n",
    "        models.append(xg)\n",
    "        y_hats.append(y_hat)\n",
    "    return models, maes, mses, y_hats"
   ]
  },
  {
   "cell_type": "code",
   "execution_count": 80,
   "metadata": {},
   "outputs": [
    {
     "name": "stderr",
     "output_type": "stream",
     "text": [
      "/Users/leobix/anaconda3/lib/python3.6/site-packages/xgboost/core.py:614: UserWarning: Use subset (sliced data) of np.ndarray is not recommended because it will generate extra copies and increase memory consumption\n",
      "  \"because it will generate extra copies and increase memory consumption\")\n"
     ]
    },
    {
     "name": "stdout",
     "output_type": "stream",
     "text": [
      "[13:12:46] WARNING: src/objective/regression_obj.cu:152: reg:linear is now deprecated in favor of reg:squarederror.\n",
      "MSE error for step  0  is:  0.2949883505507611\n",
      "MAE error for step  0  is:  0.4185583241256529\n"
     ]
    },
    {
     "name": "stderr",
     "output_type": "stream",
     "text": [
      "/Users/leobix/anaconda3/lib/python3.6/site-packages/xgboost/core.py:614: UserWarning: Use subset (sliced data) of np.ndarray is not recommended because it will generate extra copies and increase memory consumption\n",
      "  \"because it will generate extra copies and increase memory consumption\")\n"
     ]
    },
    {
     "name": "stdout",
     "output_type": "stream",
     "text": [
      "[13:15:50] WARNING: src/objective/regression_obj.cu:152: reg:linear is now deprecated in favor of reg:squarederror.\n",
      "MSE error for step  1  is:  0.4761080842992472\n",
      "MAE error for step  1  is:  0.5482447603656712\n"
     ]
    },
    {
     "name": "stderr",
     "output_type": "stream",
     "text": [
      "/Users/leobix/anaconda3/lib/python3.6/site-packages/xgboost/core.py:614: UserWarning: Use subset (sliced data) of np.ndarray is not recommended because it will generate extra copies and increase memory consumption\n",
      "  \"because it will generate extra copies and increase memory consumption\")\n"
     ]
    },
    {
     "name": "stdout",
     "output_type": "stream",
     "text": [
      "[13:19:01] WARNING: src/objective/regression_obj.cu:152: reg:linear is now deprecated in favor of reg:squarederror.\n",
      "MSE error for step  2  is:  0.5713083349276342\n",
      "MAE error for step  2  is:  0.6045320443090013\n"
     ]
    },
    {
     "name": "stderr",
     "output_type": "stream",
     "text": [
      "/Users/leobix/anaconda3/lib/python3.6/site-packages/xgboost/core.py:614: UserWarning: Use subset (sliced data) of np.ndarray is not recommended because it will generate extra copies and increase memory consumption\n",
      "  \"because it will generate extra copies and increase memory consumption\")\n"
     ]
    },
    {
     "name": "stdout",
     "output_type": "stream",
     "text": [
      "[13:22:07] WARNING: src/objective/regression_obj.cu:152: reg:linear is now deprecated in favor of reg:squarederror.\n",
      "MSE error for step  3  is:  0.6334330167710857\n",
      "MAE error for step  3  is:  0.6376694523148819\n"
     ]
    },
    {
     "name": "stderr",
     "output_type": "stream",
     "text": [
      "/Users/leobix/anaconda3/lib/python3.6/site-packages/xgboost/core.py:614: UserWarning: Use subset (sliced data) of np.ndarray is not recommended because it will generate extra copies and increase memory consumption\n",
      "  \"because it will generate extra copies and increase memory consumption\")\n"
     ]
    },
    {
     "name": "stdout",
     "output_type": "stream",
     "text": [
      "[13:25:14] WARNING: src/objective/regression_obj.cu:152: reg:linear is now deprecated in favor of reg:squarederror.\n",
      "MSE error for step  4  is:  0.6778575119549028\n",
      "MAE error for step  4  is:  0.6572384806204452\n"
     ]
    },
    {
     "name": "stderr",
     "output_type": "stream",
     "text": [
      "/Users/leobix/anaconda3/lib/python3.6/site-packages/xgboost/core.py:614: UserWarning: Use subset (sliced data) of np.ndarray is not recommended because it will generate extra copies and increase memory consumption\n",
      "  \"because it will generate extra copies and increase memory consumption\")\n"
     ]
    },
    {
     "name": "stdout",
     "output_type": "stream",
     "text": [
      "[13:28:20] WARNING: src/objective/regression_obj.cu:152: reg:linear is now deprecated in favor of reg:squarederror.\n",
      "MSE error for step  5  is:  0.7203678002420696\n",
      "MAE error for step  5  is:  0.6774967491904449\n"
     ]
    },
    {
     "name": "stderr",
     "output_type": "stream",
     "text": [
      "/Users/leobix/anaconda3/lib/python3.6/site-packages/xgboost/core.py:614: UserWarning: Use subset (sliced data) of np.ndarray is not recommended because it will generate extra copies and increase memory consumption\n",
      "  \"because it will generate extra copies and increase memory consumption\")\n"
     ]
    },
    {
     "name": "stdout",
     "output_type": "stream",
     "text": [
      "[13:31:29] WARNING: src/objective/regression_obj.cu:152: reg:linear is now deprecated in favor of reg:squarederror.\n",
      "MSE error for step  6  is:  0.7519038057356864\n",
      "MAE error for step  6  is:  0.6936767916222631\n"
     ]
    },
    {
     "name": "stderr",
     "output_type": "stream",
     "text": [
      "/Users/leobix/anaconda3/lib/python3.6/site-packages/xgboost/core.py:614: UserWarning: Use subset (sliced data) of np.ndarray is not recommended because it will generate extra copies and increase memory consumption\n",
      "  \"because it will generate extra copies and increase memory consumption\")\n"
     ]
    },
    {
     "name": "stdout",
     "output_type": "stream",
     "text": [
      "[13:34:34] WARNING: src/objective/regression_obj.cu:152: reg:linear is now deprecated in favor of reg:squarederror.\n",
      "MSE error for step  7  is:  0.7698781913854775\n",
      "MAE error for step  7  is:  0.7003953435929503\n"
     ]
    },
    {
     "name": "stderr",
     "output_type": "stream",
     "text": [
      "/Users/leobix/anaconda3/lib/python3.6/site-packages/xgboost/core.py:614: UserWarning: Use subset (sliced data) of np.ndarray is not recommended because it will generate extra copies and increase memory consumption\n",
      "  \"because it will generate extra copies and increase memory consumption\")\n"
     ]
    },
    {
     "name": "stdout",
     "output_type": "stream",
     "text": [
      "[13:37:40] WARNING: src/objective/regression_obj.cu:152: reg:linear is now deprecated in favor of reg:squarederror.\n",
      "MSE error for step  8  is:  0.7939379194223072\n",
      "MAE error for step  8  is:  0.7094229149033728\n"
     ]
    },
    {
     "name": "stderr",
     "output_type": "stream",
     "text": [
      "/Users/leobix/anaconda3/lib/python3.6/site-packages/xgboost/core.py:614: UserWarning: Use subset (sliced data) of np.ndarray is not recommended because it will generate extra copies and increase memory consumption\n",
      "  \"because it will generate extra copies and increase memory consumption\")\n"
     ]
    },
    {
     "name": "stdout",
     "output_type": "stream",
     "text": [
      "[13:40:44] WARNING: src/objective/regression_obj.cu:152: reg:linear is now deprecated in favor of reg:squarederror.\n",
      "MSE error for step  9  is:  0.8088375800693048\n",
      "MAE error for step  9  is:  0.7149404857838981\n"
     ]
    },
    {
     "name": "stderr",
     "output_type": "stream",
     "text": [
      "/Users/leobix/anaconda3/lib/python3.6/site-packages/xgboost/core.py:614: UserWarning: Use subset (sliced data) of np.ndarray is not recommended because it will generate extra copies and increase memory consumption\n",
      "  \"because it will generate extra copies and increase memory consumption\")\n"
     ]
    },
    {
     "name": "stdout",
     "output_type": "stream",
     "text": [
      "[13:43:51] WARNING: src/objective/regression_obj.cu:152: reg:linear is now deprecated in favor of reg:squarederror.\n",
      "MSE error for step  10  is:  0.8168700119983605\n",
      "MAE error for step  10  is:  0.7166729290828939\n"
     ]
    },
    {
     "name": "stderr",
     "output_type": "stream",
     "text": [
      "/Users/leobix/anaconda3/lib/python3.6/site-packages/xgboost/core.py:614: UserWarning: Use subset (sliced data) of np.ndarray is not recommended because it will generate extra copies and increase memory consumption\n",
      "  \"because it will generate extra copies and increase memory consumption\")\n"
     ]
    },
    {
     "name": "stdout",
     "output_type": "stream",
     "text": [
      "[13:47:03] WARNING: src/objective/regression_obj.cu:152: reg:linear is now deprecated in favor of reg:squarederror.\n",
      "MSE error for step  11  is:  0.842869615025888\n",
      "MAE error for step  11  is:  0.7286025241355122\n"
     ]
    },
    {
     "name": "stderr",
     "output_type": "stream",
     "text": [
      "/Users/leobix/anaconda3/lib/python3.6/site-packages/xgboost/core.py:614: UserWarning: Use subset (sliced data) of np.ndarray is not recommended because it will generate extra copies and increase memory consumption\n",
      "  \"because it will generate extra copies and increase memory consumption\")\n"
     ]
    },
    {
     "name": "stdout",
     "output_type": "stream",
     "text": [
      "[13:50:10] WARNING: src/objective/regression_obj.cu:152: reg:linear is now deprecated in favor of reg:squarederror.\n",
      "MSE error for step  12  is:  0.9047207047514756\n",
      "MAE error for step  12  is:  0.7525807462812547\n"
     ]
    },
    {
     "name": "stderr",
     "output_type": "stream",
     "text": [
      "/Users/leobix/anaconda3/lib/python3.6/site-packages/xgboost/core.py:614: UserWarning: Use subset (sliced data) of np.ndarray is not recommended because it will generate extra copies and increase memory consumption\n",
      "  \"because it will generate extra copies and increase memory consumption\")\n"
     ]
    },
    {
     "name": "stdout",
     "output_type": "stream",
     "text": [
      "[13:53:18] WARNING: src/objective/regression_obj.cu:152: reg:linear is now deprecated in favor of reg:squarederror.\n",
      "MSE error for step  13  is:  0.9620073571252663\n",
      "MAE error for step  13  is:  0.7771868290531846\n"
     ]
    },
    {
     "name": "stderr",
     "output_type": "stream",
     "text": [
      "/Users/leobix/anaconda3/lib/python3.6/site-packages/xgboost/core.py:614: UserWarning: Use subset (sliced data) of np.ndarray is not recommended because it will generate extra copies and increase memory consumption\n",
      "  \"because it will generate extra copies and increase memory consumption\")\n"
     ]
    },
    {
     "name": "stdout",
     "output_type": "stream",
     "text": [
      "[13:56:22] WARNING: src/objective/regression_obj.cu:152: reg:linear is now deprecated in favor of reg:squarederror.\n",
      "MSE error for step  14  is:  1.0505351956568103\n",
      "MAE error for step  14  is:  0.8138837493129738\n"
     ]
    },
    {
     "name": "stderr",
     "output_type": "stream",
     "text": [
      "/Users/leobix/anaconda3/lib/python3.6/site-packages/xgboost/core.py:614: UserWarning: Use subset (sliced data) of np.ndarray is not recommended because it will generate extra copies and increase memory consumption\n",
      "  \"because it will generate extra copies and increase memory consumption\")\n"
     ]
    },
    {
     "name": "stdout",
     "output_type": "stream",
     "text": [
      "[13:59:26] WARNING: src/objective/regression_obj.cu:152: reg:linear is now deprecated in favor of reg:squarederror.\n",
      "MSE error for step  15  is:  1.104166004154921\n",
      "MAE error for step  15  is:  0.8307688325552274\n"
     ]
    },
    {
     "name": "stderr",
     "output_type": "stream",
     "text": [
      "/Users/leobix/anaconda3/lib/python3.6/site-packages/xgboost/core.py:614: UserWarning: Use subset (sliced data) of np.ndarray is not recommended because it will generate extra copies and increase memory consumption\n",
      "  \"because it will generate extra copies and increase memory consumption\")\n"
     ]
    },
    {
     "name": "stdout",
     "output_type": "stream",
     "text": [
      "[14:02:28] WARNING: src/objective/regression_obj.cu:152: reg:linear is now deprecated in favor of reg:squarederror.\n",
      "MSE error for step  16  is:  1.1362407080018841\n",
      "MAE error for step  16  is:  0.8482478243504694\n"
     ]
    },
    {
     "name": "stderr",
     "output_type": "stream",
     "text": [
      "/Users/leobix/anaconda3/lib/python3.6/site-packages/xgboost/core.py:614: UserWarning: Use subset (sliced data) of np.ndarray is not recommended because it will generate extra copies and increase memory consumption\n",
      "  \"because it will generate extra copies and increase memory consumption\")\n"
     ]
    },
    {
     "name": "stdout",
     "output_type": "stream",
     "text": [
      "[14:05:33] WARNING: src/objective/regression_obj.cu:152: reg:linear is now deprecated in favor of reg:squarederror.\n",
      "MSE error for step  17  is:  1.1241950164481749\n",
      "MAE error for step  17  is:  0.8469406491956772\n"
     ]
    },
    {
     "name": "stderr",
     "output_type": "stream",
     "text": [
      "/Users/leobix/anaconda3/lib/python3.6/site-packages/xgboost/core.py:614: UserWarning: Use subset (sliced data) of np.ndarray is not recommended because it will generate extra copies and increase memory consumption\n",
      "  \"because it will generate extra copies and increase memory consumption\")\n"
     ]
    },
    {
     "name": "stdout",
     "output_type": "stream",
     "text": [
      "[14:08:37] WARNING: src/objective/regression_obj.cu:152: reg:linear is now deprecated in favor of reg:squarederror.\n",
      "MSE error for step  18  is:  1.1680044730966959\n",
      "MAE error for step  18  is:  0.8624021903068112\n"
     ]
    },
    {
     "name": "stderr",
     "output_type": "stream",
     "text": [
      "/Users/leobix/anaconda3/lib/python3.6/site-packages/xgboost/core.py:614: UserWarning: Use subset (sliced data) of np.ndarray is not recommended because it will generate extra copies and increase memory consumption\n",
      "  \"because it will generate extra copies and increase memory consumption\")\n"
     ]
    },
    {
     "name": "stdout",
     "output_type": "stream",
     "text": [
      "[14:11:57] WARNING: src/objective/regression_obj.cu:152: reg:linear is now deprecated in favor of reg:squarederror.\n",
      "MSE error for step  19  is:  1.2061651975853627\n",
      "MAE error for step  19  is:  0.8742153328923199\n"
     ]
    },
    {
     "name": "stderr",
     "output_type": "stream",
     "text": [
      "/Users/leobix/anaconda3/lib/python3.6/site-packages/xgboost/core.py:614: UserWarning: Use subset (sliced data) of np.ndarray is not recommended because it will generate extra copies and increase memory consumption\n",
      "  \"because it will generate extra copies and increase memory consumption\")\n"
     ]
    },
    {
     "name": "stdout",
     "output_type": "stream",
     "text": [
      "[14:14:59] WARNING: src/objective/regression_obj.cu:152: reg:linear is now deprecated in favor of reg:squarederror.\n",
      "MSE error for step  20  is:  1.2234985279950195\n",
      "MAE error for step  20  is:  0.8758574977008922\n"
     ]
    },
    {
     "name": "stderr",
     "output_type": "stream",
     "text": [
      "/Users/leobix/anaconda3/lib/python3.6/site-packages/xgboost/core.py:614: UserWarning: Use subset (sliced data) of np.ndarray is not recommended because it will generate extra copies and increase memory consumption\n",
      "  \"because it will generate extra copies and increase memory consumption\")\n"
     ]
    },
    {
     "name": "stdout",
     "output_type": "stream",
     "text": [
      "[14:18:04] WARNING: src/objective/regression_obj.cu:152: reg:linear is now deprecated in favor of reg:squarederror.\n",
      "MSE error for step  21  is:  1.2651144936760703\n",
      "MAE error for step  21  is:  0.8909954188251304\n"
     ]
    },
    {
     "name": "stderr",
     "output_type": "stream",
     "text": [
      "/Users/leobix/anaconda3/lib/python3.6/site-packages/xgboost/core.py:614: UserWarning: Use subset (sliced data) of np.ndarray is not recommended because it will generate extra copies and increase memory consumption\n",
      "  \"because it will generate extra copies and increase memory consumption\")\n"
     ]
    },
    {
     "name": "stdout",
     "output_type": "stream",
     "text": [
      "[14:21:05] WARNING: src/objective/regression_obj.cu:152: reg:linear is now deprecated in favor of reg:squarederror.\n",
      "MSE error for step  22  is:  1.2497204111570357\n",
      "MAE error for step  22  is:  0.8925628184669019\n"
     ]
    },
    {
     "name": "stderr",
     "output_type": "stream",
     "text": [
      "/Users/leobix/anaconda3/lib/python3.6/site-packages/xgboost/core.py:614: UserWarning: Use subset (sliced data) of np.ndarray is not recommended because it will generate extra copies and increase memory consumption\n",
      "  \"because it will generate extra copies and increase memory consumption\")\n"
     ]
    },
    {
     "name": "stdout",
     "output_type": "stream",
     "text": [
      "[14:24:07] WARNING: src/objective/regression_obj.cu:152: reg:linear is now deprecated in favor of reg:squarederror.\n",
      "MSE error for step  23  is:  1.3339885104930764\n",
      "MAE error for step  23  is:  0.9189566591881413\n"
     ]
    },
    {
     "name": "stderr",
     "output_type": "stream",
     "text": [
      "/Users/leobix/anaconda3/lib/python3.6/site-packages/xgboost/core.py:614: UserWarning: Use subset (sliced data) of np.ndarray is not recommended because it will generate extra copies and increase memory consumption\n",
      "  \"because it will generate extra copies and increase memory consumption\")\n"
     ]
    },
    {
     "name": "stdout",
     "output_type": "stream",
     "text": [
      "[14:27:11] WARNING: src/objective/regression_obj.cu:152: reg:linear is now deprecated in favor of reg:squarederror.\n",
      "MSE error for step  24  is:  1.3809946522266012\n",
      "MAE error for step  24  is:  0.9343316151753331\n"
     ]
    },
    {
     "name": "stderr",
     "output_type": "stream",
     "text": [
      "/Users/leobix/anaconda3/lib/python3.6/site-packages/xgboost/core.py:614: UserWarning: Use subset (sliced data) of np.ndarray is not recommended because it will generate extra copies and increase memory consumption\n",
      "  \"because it will generate extra copies and increase memory consumption\")\n"
     ]
    },
    {
     "name": "stdout",
     "output_type": "stream",
     "text": [
      "[14:30:11] WARNING: src/objective/regression_obj.cu:152: reg:linear is now deprecated in favor of reg:squarederror.\n",
      "MSE error for step  25  is:  1.419479533668145\n",
      "MAE error for step  25  is:  0.9474810328674346\n"
     ]
    },
    {
     "name": "stderr",
     "output_type": "stream",
     "text": [
      "/Users/leobix/anaconda3/lib/python3.6/site-packages/xgboost/core.py:614: UserWarning: Use subset (sliced data) of np.ndarray is not recommended because it will generate extra copies and increase memory consumption\n",
      "  \"because it will generate extra copies and increase memory consumption\")\n"
     ]
    },
    {
     "name": "stdout",
     "output_type": "stream",
     "text": [
      "[14:33:14] WARNING: src/objective/regression_obj.cu:152: reg:linear is now deprecated in favor of reg:squarederror.\n",
      "MSE error for step  26  is:  1.4090006100572918\n",
      "MAE error for step  26  is:  0.9456102996726953\n"
     ]
    },
    {
     "name": "stderr",
     "output_type": "stream",
     "text": [
      "/Users/leobix/anaconda3/lib/python3.6/site-packages/xgboost/core.py:614: UserWarning: Use subset (sliced data) of np.ndarray is not recommended because it will generate extra copies and increase memory consumption\n",
      "  \"because it will generate extra copies and increase memory consumption\")\n"
     ]
    },
    {
     "name": "stdout",
     "output_type": "stream",
     "text": [
      "[14:36:17] WARNING: src/objective/regression_obj.cu:152: reg:linear is now deprecated in favor of reg:squarederror.\n",
      "MSE error for step  27  is:  1.4487556201244094\n",
      "MAE error for step  27  is:  0.963158417557133\n"
     ]
    },
    {
     "name": "stderr",
     "output_type": "stream",
     "text": [
      "/Users/leobix/anaconda3/lib/python3.6/site-packages/xgboost/core.py:614: UserWarning: Use subset (sliced data) of np.ndarray is not recommended because it will generate extra copies and increase memory consumption\n",
      "  \"because it will generate extra copies and increase memory consumption\")\n"
     ]
    },
    {
     "name": "stdout",
     "output_type": "stream",
     "text": [
      "[14:39:22] WARNING: src/objective/regression_obj.cu:152: reg:linear is now deprecated in favor of reg:squarederror.\n",
      "MSE error for step  28  is:  1.4972525020315017\n",
      "MAE error for step  28  is:  0.9800066163535962\n"
     ]
    },
    {
     "name": "stderr",
     "output_type": "stream",
     "text": [
      "/Users/leobix/anaconda3/lib/python3.6/site-packages/xgboost/core.py:614: UserWarning: Use subset (sliced data) of np.ndarray is not recommended because it will generate extra copies and increase memory consumption\n",
      "  \"because it will generate extra copies and increase memory consumption\")\n"
     ]
    },
    {
     "name": "stdout",
     "output_type": "stream",
     "text": [
      "[14:42:25] WARNING: src/objective/regression_obj.cu:152: reg:linear is now deprecated in favor of reg:squarederror.\n",
      "MSE error for step  29  is:  1.471850514319492\n",
      "MAE error for step  29  is:  0.9743700888686518\n"
     ]
    },
    {
     "name": "stderr",
     "output_type": "stream",
     "text": [
      "/Users/leobix/anaconda3/lib/python3.6/site-packages/xgboost/core.py:614: UserWarning: Use subset (sliced data) of np.ndarray is not recommended because it will generate extra copies and increase memory consumption\n",
      "  \"because it will generate extra copies and increase memory consumption\")\n"
     ]
    },
    {
     "name": "stdout",
     "output_type": "stream",
     "text": [
      "[14:45:30] WARNING: src/objective/regression_obj.cu:152: reg:linear is now deprecated in favor of reg:squarederror.\n",
      "MSE error for step  30  is:  1.4828178734208868\n",
      "MAE error for step  30  is:  0.9803699965054142\n"
     ]
    },
    {
     "name": "stderr",
     "output_type": "stream",
     "text": [
      "/Users/leobix/anaconda3/lib/python3.6/site-packages/xgboost/core.py:614: UserWarning: Use subset (sliced data) of np.ndarray is not recommended because it will generate extra copies and increase memory consumption\n",
      "  \"because it will generate extra copies and increase memory consumption\")\n"
     ]
    },
    {
     "name": "stdout",
     "output_type": "stream",
     "text": [
      "[14:48:44] WARNING: src/objective/regression_obj.cu:152: reg:linear is now deprecated in favor of reg:squarederror.\n",
      "MSE error for step  31  is:  1.5424145203016104\n",
      "MAE error for step  31  is:  1.0018483576609594\n"
     ]
    },
    {
     "name": "stderr",
     "output_type": "stream",
     "text": [
      "/Users/leobix/anaconda3/lib/python3.6/site-packages/xgboost/core.py:614: UserWarning: Use subset (sliced data) of np.ndarray is not recommended because it will generate extra copies and increase memory consumption\n",
      "  \"because it will generate extra copies and increase memory consumption\")\n"
     ]
    },
    {
     "name": "stdout",
     "output_type": "stream",
     "text": [
      "[14:51:53] WARNING: src/objective/regression_obj.cu:152: reg:linear is now deprecated in favor of reg:squarederror.\n",
      "MSE error for step  32  is:  1.548837176396926\n",
      "MAE error for step  32  is:  1.0049384211076204\n"
     ]
    },
    {
     "name": "stderr",
     "output_type": "stream",
     "text": [
      "/Users/leobix/anaconda3/lib/python3.6/site-packages/xgboost/core.py:614: UserWarning: Use subset (sliced data) of np.ndarray is not recommended because it will generate extra copies and increase memory consumption\n",
      "  \"because it will generate extra copies and increase memory consumption\")\n"
     ]
    },
    {
     "name": "stdout",
     "output_type": "stream",
     "text": [
      "[14:55:02] WARNING: src/objective/regression_obj.cu:152: reg:linear is now deprecated in favor of reg:squarederror.\n",
      "MSE error for step  33  is:  1.546746909109885\n",
      "MAE error for step  33  is:  1.0030070521216592\n"
     ]
    },
    {
     "name": "stderr",
     "output_type": "stream",
     "text": [
      "/Users/leobix/anaconda3/lib/python3.6/site-packages/xgboost/core.py:614: UserWarning: Use subset (sliced data) of np.ndarray is not recommended because it will generate extra copies and increase memory consumption\n",
      "  \"because it will generate extra copies and increase memory consumption\")\n"
     ]
    },
    {
     "name": "stdout",
     "output_type": "stream",
     "text": [
      "[14:58:18] WARNING: src/objective/regression_obj.cu:152: reg:linear is now deprecated in favor of reg:squarederror.\n",
      "MSE error for step  34  is:  1.5588944880782893\n",
      "MAE error for step  34  is:  1.0068654559593693\n"
     ]
    },
    {
     "name": "stderr",
     "output_type": "stream",
     "text": [
      "/Users/leobix/anaconda3/lib/python3.6/site-packages/xgboost/core.py:614: UserWarning: Use subset (sliced data) of np.ndarray is not recommended because it will generate extra copies and increase memory consumption\n",
      "  \"because it will generate extra copies and increase memory consumption\")\n"
     ]
    },
    {
     "name": "stdout",
     "output_type": "stream",
     "text": [
      "[15:01:42] WARNING: src/objective/regression_obj.cu:152: reg:linear is now deprecated in favor of reg:squarederror.\n",
      "MSE error for step  35  is:  1.6095260700735463\n",
      "MAE error for step  35  is:  1.0167521629099157\n"
     ]
    },
    {
     "name": "stderr",
     "output_type": "stream",
     "text": [
      "/Users/leobix/anaconda3/lib/python3.6/site-packages/xgboost/core.py:614: UserWarning: Use subset (sliced data) of np.ndarray is not recommended because it will generate extra copies and increase memory consumption\n",
      "  \"because it will generate extra copies and increase memory consumption\")\n"
     ]
    },
    {
     "name": "stdout",
     "output_type": "stream",
     "text": [
      "[15:08:38] WARNING: src/objective/regression_obj.cu:152: reg:linear is now deprecated in favor of reg:squarederror.\n",
      "MSE error for step  36  is:  1.6803094841375237\n",
      "MAE error for step  36  is:  1.032239249932061\n"
     ]
    },
    {
     "name": "stderr",
     "output_type": "stream",
     "text": [
      "/Users/leobix/anaconda3/lib/python3.6/site-packages/xgboost/core.py:614: UserWarning: Use subset (sliced data) of np.ndarray is not recommended because it will generate extra copies and increase memory consumption\n",
      "  \"because it will generate extra copies and increase memory consumption\")\n"
     ]
    },
    {
     "name": "stdout",
     "output_type": "stream",
     "text": [
      "[15:22:37] WARNING: src/objective/regression_obj.cu:152: reg:linear is now deprecated in favor of reg:squarederror.\n",
      "MSE error for step  37  is:  1.650000803190019\n",
      "MAE error for step  37  is:  1.0262071059630318\n"
     ]
    },
    {
     "name": "stderr",
     "output_type": "stream",
     "text": [
      "/Users/leobix/anaconda3/lib/python3.6/site-packages/xgboost/core.py:614: UserWarning: Use subset (sliced data) of np.ndarray is not recommended because it will generate extra copies and increase memory consumption\n",
      "  \"because it will generate extra copies and increase memory consumption\")\n"
     ]
    },
    {
     "name": "stdout",
     "output_type": "stream",
     "text": [
      "[15:31:17] WARNING: src/objective/regression_obj.cu:152: reg:linear is now deprecated in favor of reg:squarederror.\n",
      "MSE error for step  38  is:  1.6773531119780367\n",
      "MAE error for step  38  is:  1.0317339230293552\n"
     ]
    },
    {
     "name": "stderr",
     "output_type": "stream",
     "text": [
      "/Users/leobix/anaconda3/lib/python3.6/site-packages/xgboost/core.py:614: UserWarning: Use subset (sliced data) of np.ndarray is not recommended because it will generate extra copies and increase memory consumption\n",
      "  \"because it will generate extra copies and increase memory consumption\")\n"
     ]
    },
    {
     "name": "stdout",
     "output_type": "stream",
     "text": [
      "[15:35:11] WARNING: src/objective/regression_obj.cu:152: reg:linear is now deprecated in favor of reg:squarederror.\n",
      "MSE error for step  39  is:  1.6802720851004036\n",
      "MAE error for step  39  is:  1.0317502620890757\n"
     ]
    },
    {
     "name": "stderr",
     "output_type": "stream",
     "text": [
      "/Users/leobix/anaconda3/lib/python3.6/site-packages/xgboost/core.py:614: UserWarning: Use subset (sliced data) of np.ndarray is not recommended because it will generate extra copies and increase memory consumption\n",
      "  \"because it will generate extra copies and increase memory consumption\")\n"
     ]
    },
    {
     "name": "stdout",
     "output_type": "stream",
     "text": [
      "[15:38:12] WARNING: src/objective/regression_obj.cu:152: reg:linear is now deprecated in favor of reg:squarederror.\n",
      "MSE error for step  40  is:  1.7272811238530859\n",
      "MAE error for step  40  is:  1.0437861142226388\n"
     ]
    },
    {
     "name": "stderr",
     "output_type": "stream",
     "text": [
      "/Users/leobix/anaconda3/lib/python3.6/site-packages/xgboost/core.py:614: UserWarning: Use subset (sliced data) of np.ndarray is not recommended because it will generate extra copies and increase memory consumption\n",
      "  \"because it will generate extra copies and increase memory consumption\")\n"
     ]
    },
    {
     "name": "stdout",
     "output_type": "stream",
     "text": [
      "[15:40:56] WARNING: src/objective/regression_obj.cu:152: reg:linear is now deprecated in favor of reg:squarederror.\n",
      "MSE error for step  41  is:  1.7721396207398918\n",
      "MAE error for step  41  is:  1.050237959921624\n"
     ]
    },
    {
     "name": "stderr",
     "output_type": "stream",
     "text": [
      "/Users/leobix/anaconda3/lib/python3.6/site-packages/xgboost/core.py:614: UserWarning: Use subset (sliced data) of np.ndarray is not recommended because it will generate extra copies and increase memory consumption\n",
      "  \"because it will generate extra copies and increase memory consumption\")\n"
     ]
    },
    {
     "name": "stdout",
     "output_type": "stream",
     "text": [
      "[15:43:41] WARNING: src/objective/regression_obj.cu:152: reg:linear is now deprecated in favor of reg:squarederror.\n",
      "MSE error for step  42  is:  1.767826026998671\n",
      "MAE error for step  42  is:  1.0532537637519925\n"
     ]
    },
    {
     "name": "stderr",
     "output_type": "stream",
     "text": [
      "/Users/leobix/anaconda3/lib/python3.6/site-packages/xgboost/core.py:614: UserWarning: Use subset (sliced data) of np.ndarray is not recommended because it will generate extra copies and increase memory consumption\n",
      "  \"because it will generate extra copies and increase memory consumption\")\n"
     ]
    },
    {
     "name": "stdout",
     "output_type": "stream",
     "text": [
      "[15:46:27] WARNING: src/objective/regression_obj.cu:152: reg:linear is now deprecated in favor of reg:squarederror.\n",
      "MSE error for step  43  is:  1.7607122054022646\n",
      "MAE error for step  43  is:  1.0558203207248325\n"
     ]
    },
    {
     "name": "stderr",
     "output_type": "stream",
     "text": [
      "/Users/leobix/anaconda3/lib/python3.6/site-packages/xgboost/core.py:614: UserWarning: Use subset (sliced data) of np.ndarray is not recommended because it will generate extra copies and increase memory consumption\n",
      "  \"because it will generate extra copies and increase memory consumption\")\n"
     ]
    },
    {
     "name": "stdout",
     "output_type": "stream",
     "text": [
      "[15:49:12] WARNING: src/objective/regression_obj.cu:152: reg:linear is now deprecated in favor of reg:squarederror.\n",
      "MSE error for step  44  is:  1.8033847852332208\n",
      "MAE error for step  44  is:  1.0636473242083582\n"
     ]
    },
    {
     "name": "stderr",
     "output_type": "stream",
     "text": [
      "/Users/leobix/anaconda3/lib/python3.6/site-packages/xgboost/core.py:614: UserWarning: Use subset (sliced data) of np.ndarray is not recommended because it will generate extra copies and increase memory consumption\n",
      "  \"because it will generate extra copies and increase memory consumption\")\n"
     ]
    },
    {
     "name": "stdout",
     "output_type": "stream",
     "text": [
      "[15:51:57] WARNING: src/objective/regression_obj.cu:152: reg:linear is now deprecated in favor of reg:squarederror.\n",
      "MSE error for step  45  is:  1.817950938125923\n",
      "MAE error for step  45  is:  1.0722649080316757\n"
     ]
    },
    {
     "name": "stderr",
     "output_type": "stream",
     "text": [
      "/Users/leobix/anaconda3/lib/python3.6/site-packages/xgboost/core.py:614: UserWarning: Use subset (sliced data) of np.ndarray is not recommended because it will generate extra copies and increase memory consumption\n",
      "  \"because it will generate extra copies and increase memory consumption\")\n"
     ]
    },
    {
     "name": "stdout",
     "output_type": "stream",
     "text": [
      "[15:54:45] WARNING: src/objective/regression_obj.cu:152: reg:linear is now deprecated in favor of reg:squarederror.\n",
      "MSE error for step  46  is:  1.8298620648237496\n",
      "MAE error for step  46  is:  1.0733401322876406\n"
     ]
    },
    {
     "name": "stderr",
     "output_type": "stream",
     "text": [
      "/Users/leobix/anaconda3/lib/python3.6/site-packages/xgboost/core.py:614: UserWarning: Use subset (sliced data) of np.ndarray is not recommended because it will generate extra copies and increase memory consumption\n",
      "  \"because it will generate extra copies and increase memory consumption\")\n"
     ]
    },
    {
     "name": "stdout",
     "output_type": "stream",
     "text": [
      "[15:57:42] WARNING: src/objective/regression_obj.cu:152: reg:linear is now deprecated in favor of reg:squarederror.\n",
      "MSE error for step  47  is:  1.9124879371616736\n",
      "MAE error for step  47  is:  1.0862594779487416\n"
     ]
    }
   ],
   "source": [
    "models, maes, mses, y_hats = get_all_prediction_models(48)"
   ]
  },
  {
   "cell_type": "code",
   "execution_count": 113,
   "metadata": {},
   "outputs": [],
   "source": [
    "def get_forecasts(y_hats, y_te):\n",
    "    forecasts = np.zeros((len(y_hats[0]), len(y_hats)))\n",
    "    for i in range(len(y_hats[0])):\n",
    "        for t in range(len(y_hats)):\n",
    "            forecasts[i,t] = y_hats[t][i]\n",
    "    return forecasts, y_te[:,:,0]"
   ]
  },
  {
   "cell_type": "code",
   "execution_count": 93,
   "metadata": {},
   "outputs": [
    {
     "data": {
      "text/plain": [
       "(3788,)"
      ]
     },
     "execution_count": 93,
     "metadata": {},
     "output_type": "execute_result"
    }
   ],
   "source": [
    "y_te.shape"
   ]
  },
  {
   "cell_type": "code",
   "execution_count": 114,
   "metadata": {},
   "outputs": [
    {
     "ename": "NameError",
     "evalue": "name 'y_hats' is not defined",
     "output_type": "error",
     "traceback": [
      "\u001b[0;31m---------------------------------------------------------------------------\u001b[0m",
      "\u001b[0;31mNameError\u001b[0m                                 Traceback (most recent call last)",
      "\u001b[0;32m<ipython-input-114-5d39b7e499f1>\u001b[0m in \u001b[0;36m<module>\u001b[0;34m\u001b[0m\n\u001b[0;32m----> 1\u001b[0;31m \u001b[0mforecasts\u001b[0m\u001b[0;34m,\u001b[0m \u001b[0my_true\u001b[0m \u001b[0;34m=\u001b[0m \u001b[0mget_forecasts\u001b[0m\u001b[0;34m(\u001b[0m\u001b[0my_hats\u001b[0m\u001b[0;34m,\u001b[0m \u001b[0my_test_unscaled\u001b[0m\u001b[0;34m)\u001b[0m\u001b[0;34m\u001b[0m\u001b[0;34m\u001b[0m\u001b[0m\n\u001b[0m",
      "\u001b[0;31mNameError\u001b[0m: name 'y_hats' is not defined"
     ]
    }
   ],
   "source": [
    "forecasts, y_true = get_forecasts(y_hats, y_test_unscaled)"
   ]
  },
  {
   "cell_type": "code",
   "execution_count": 100,
   "metadata": {},
   "outputs": [
    {
     "data": {
      "image/png": "[encoded data removed]",
      "text/plain": [
       "<matplotlib.figure.Figure at 0x148d8af28>"
      ]
     },
     "metadata": {},
     "output_type": "display_data"
    }
   ],
   "source": [
    "plt.plot(forecasts[2500], label = 'predicted')\n",
    "plt.plot(y_true[2500], label = 'true')\n",
    "plt.legend()\n",
    "plt.show()"
   ]
  },
  {
   "cell_type": "code",
   "execution_count": 115,
   "metadata": {},
   "outputs": [],
   "source": [
    "def get_angle_in_degree(cos, sin):\n",
    "    angle = 360*np.arccos(cos)/(2*np.pi)\n",
    "    if sin >=0:\n",
    "        angle +=180\n",
    "    return (angle + 180) % 360\n",
    "\n",
    "def test_angle(cos, sin):\n",
    "    angle_cos = 360*np.arccos(cos)/(2*np.pi)\n",
    "    if sin <=0:\n",
    "        angle_cos +=180\n",
    "    angle_sin = 360*np.arcsin(sin)/(2*np.pi)\n",
    "    if cos <=0:\n",
    "        angle_sin +=180\n",
    "    return angle_cos, angle_sin   \n",
    "    \n",
    "def is_favorable(cos, sin):\n",
    "    #angle is between NO and E\n",
    "    angle = get_angle_in_degree(cos, sin)\n",
    "    #NO\n",
    "    if angle > 303.75:\n",
    "        return True\n",
    "    #under E\n",
    "    elif angle < 101.25:\n",
    "        return True\n",
    "    return False\n",
    "\n",
    "def is_South(cos, sin):\n",
    "    angle = get_angle_in_degree(cos, sin)\n",
    "    #Direction S, SSO, SSE\n",
    "    if 146.25 <= angle <= 213.75:\n",
    "        return True\n",
    "    return False"
   ]
  },
  {
   "cell_type": "code",
   "execution_count": 116,
   "metadata": {},
   "outputs": [],
   "source": [
    "def is_S1(speed, cos, sin):\n",
    "    if speed >= 4:\n",
    "        return True\n",
    "    elif speed > 1 and is_favorable(cos, sin):\n",
    "        return True\n",
    "    return False\n",
    "    \n",
    "def is_S2(speed, cos, sin):\n",
    "    if 2 <= speed < 4 and not is_favorable(cos, sin):\n",
    "        return True\n",
    "    elif 0.5 <= speed <= 1 and is_favorable(cos, sin):\n",
    "        return True\n",
    "    return False\n",
    "    \n",
    "def is_S2b(speed, cos, sin):\n",
    "    if 1<= speed <=2 and not is_favorable(cos, sin) and not is_South(cos, sin):\n",
    "        return True\n",
    "    return False\n",
    "\n",
    "def is_S3(speed, cos, sin):\n",
    "    if 0.5 <= speed < 1 and not is_favorable(cos, sin) and not is_South(cos, sin):\n",
    "        return True\n",
    "    elif speed < 0.5 and is_favorable(cos, sin):\n",
    "        return True\n",
    "    return False\n",
    "\n",
    "def is_S3b(speed, cos, sin):\n",
    "    if speed < 2 and is_South(cos, sin):\n",
    "        return True\n",
    "    return False\n",
    "\n",
    "def is_S4(speed, cos, sin):\n",
    "    if speed < 0.5 and not is_favorable(cos, sin):\n",
    "        return True\n",
    "    return False\n",
    "\n",
    "def get_scenario(speed, cos, sin):\n",
    "    if is_S1(speed, cos, sin):\n",
    "        return 1\n",
    "    elif is_S2(speed, cos, sin):\n",
    "        return 2\n",
    "    elif is_S2b(speed, cos, sin):\n",
    "        return 2\n",
    "    elif is_S3(speed, cos, sin):\n",
    "        return 3\n",
    "    elif is_S3b(speed, cos, sin):\n",
    "        return 3\n",
    "    elif is_S4(speed, cos, sin):\n",
    "        return 4\n",
    "    print(\"There is a problem.\")\n",
    "    print(\"speed: \", speed, \" cos: \", cos, \" sin: \", sin)"
   ]
  },
  {
   "cell_type": "code",
   "execution_count": 117,
   "metadata": {},
   "outputs": [],
   "source": [
    "def get_all_scenarios(y_speed, y_cos, y_sin):\n",
    "    y = []\n",
    "    for i in range(len(y_speed)):\n",
    "        y.append(get_scenario(y_speed[i], y_cos[i], y_sin[i]))\n",
    "    return np.array(y)"
   ]
  },
  {
   "cell_type": "code",
   "execution_count": null,
   "metadata": {
    "collapsed": true
   },
   "outputs": [],
   "source": [
    "print(class)"
   ]
  },
  {
   "cell_type": "code",
   "execution_count": 118,
   "metadata": {},
   "outputs": [],
   "source": [
    "y_t_class = get_all_scenarios(y_t_speed, y_t_cos, y_t_sin)"
   ]
  },
  {
   "cell_type": "code",
   "execution_count": 119,
   "metadata": {},
   "outputs": [
    {
     "data": {
      "text/plain": [
       "array([0.26591376, 0.99851565, 0.53486429, 0.57142857, 0.34563925,\n",
       "       0.        , 0.41815817, 0.00429136, 0.98944005, 0.60222229,\n",
       "       0.4664311 , 0.04347826, 0.22308546, 0.65217391, 0.23716632,\n",
       "       0.97224598, 0.6381304 , 0.54193175, 0.12487611, 0.        ,\n",
       "       0.5492457 , 0.        , 0.98944005, 0.60222229, 0.4664311 ,\n",
       "       0.04347826, 0.22308546, 0.65217391, 0.22587269, 0.96588074,\n",
       "       0.67422358, 0.49971082, 0.01114965, 0.        , 0.67697722,\n",
       "       0.02978281, 0.98944005, 0.60222229, 0.4664311 , 0.04347826,\n",
       "       0.22308546, 0.65217391, 0.21765914, 0.97051861, 0.65965072,\n",
       "       0.47657606, 0.        , 0.        , 0.79264803, 0.09161015,\n",
       "       0.98944005, 0.60222229, 0.4664311 , 0.04347826, 0.22308546,\n",
       "       0.65217391, 0.2761807 , 0.91834053, 0.76912357, 0.46500868,\n",
       "       0.        , 0.        , 0.88837536, 0.18126858, 0.98944005,\n",
       "       0.60222229, 0.4664311 , 0.04347826, 0.22308546, 0.65217391,\n",
       "       0.20328542, 0.8684782 , 0.83770409, 0.45806825, 0.        ,\n",
       "       0.        , 0.95763555, 0.29264803, 0.98944005, 0.60222229,\n",
       "       0.4664311 , 0.04347826, 0.22308546, 0.65217391, 0.16016427,\n",
       "       0.81563398, 0.88642758, 0.44939271, 0.        , 0.        ,\n",
       "       0.99570864, 0.41815817, 0.98944005, 0.60222229, 0.4664311 ,\n",
       "       0.04347826, 0.22308546, 0.65217391, 0.16632444, 0.76792352,\n",
       "       0.92068481, 0.44360902, 0.        , 0.        , 1.        ,\n",
       "       0.5492457 , 0.59593601, 0.99071774, 0.52650177, 0.26086957,\n",
       "       0.20421754, 0.60869565, 0.21457906, 0.73450534, 0.94120424,\n",
       "       0.44707924, 0.        , 0.        , 0.97021719, 0.67697722,\n",
       "       0.59593601, 0.99071774, 0.52650177, 0.26086957, 0.20421754,\n",
       "       0.60869565, 0.20123203, 0.73262392, 0.94231223, 0.43377675,\n",
       "       0.        , 0.        , 0.90838985, 0.79264803, 0.59593601,\n",
       "       0.99071774, 0.52650177, 0.26086957, 0.20421754, 0.60869565,\n",
       "       0.22689938, 0.73828259, 0.93902383, 0.43146327, 0.        ,\n",
       "       0.        , 0.81873142, 0.88837536, 0.59593601, 0.99071774,\n",
       "       0.52650177, 0.26086957, 0.20421754, 0.60869565, 0.22073922,\n",
       "       0.69304691, 0.96059596, 0.42278774, 0.        , 0.        ,\n",
       "       0.70735197, 0.95763555, 0.59593601, 0.99071774, 0.52650177,\n",
       "       0.26086957, 0.20421754, 0.60869565, 0.1889117 , 0.74535301,\n",
       "       0.93388846, 0.41931752, 0.00322101, 0.        , 0.58184183,\n",
       "       0.99570864, 0.59593601, 0.99071774, 0.52650177, 0.26086957,\n",
       "       0.20421754, 0.60869565, 0.15297741, 0.78111825, 0.91300232,\n",
       "       0.42220937, 0.02923687, 0.        , 0.4507543 , 1.        ,\n",
       "       0.59593601, 0.99071774, 0.52650177, 0.26086957, 0.20421754,\n",
       "       0.60869565, 0.19712526, 0.75484   , 0.92847756, 0.43377675,\n",
       "       0.11645193, 0.        , 0.32302278, 0.97021719, 0.59593601,\n",
       "       0.99071774, 0.52650177, 0.26086957, 0.20421754, 0.60869565,\n",
       "       0.23613963, 0.81093841, 0.88753835, 0.47888953, 0.39742319,\n",
       "       0.        , 0.20735197, 0.90838985, 0.59593601, 0.99071774,\n",
       "       0.52650177, 0.26086957, 0.20421754, 0.60869565, 0.21252567,\n",
       "       0.85909001, 0.84054039, 0.52111047, 0.57135778, 0.        ,\n",
       "       0.11162464, 0.81873142, 0.59593601, 0.99071774, 0.52650177,\n",
       "       0.26086957, 0.20421754, 0.60869565, 0.19301848, 0.89140606,\n",
       "       0.80308983, 0.55986119, 0.71432111, 0.        , 0.04236445,\n",
       "       0.70735197, 0.59593601, 0.99071774, 0.52650177, 0.26086957,\n",
       "       0.20421754, 0.60869565, 0.20431211, 0.93919635, 0.71204482,\n",
       "       0.59976865, 0.84241824, 0.        , 0.00429136, 0.58184183,\n",
       "       0.59593601, 0.99071774, 0.52650177, 0.26086957, 0.20421754,\n",
       "       0.60869565, 0.2063655 , 0.98991858, 0.56240679, 0.62406015,\n",
       "       0.88528246, 0.        , 0.        , 0.4507543 , 0.59593601,\n",
       "       0.99071774, 0.52650177, 0.26086957, 0.20421754, 0.60869565,\n",
       "       0.22997947, 0.99861183, 0.48914453, 0.63215732, 0.8716551 ,\n",
       "       0.        , 0.02978281, 0.32302278, 0.59593601, 0.99071774,\n",
       "       0.52650177, 0.26086957, 0.20421754, 0.60869565, 0.26386037,\n",
       "       0.9871074 , 0.38753304, 0.61422788, 0.7913776 , 0.        ,\n",
       "       0.09161015, 0.20735197, 0.59593601, 0.99071774, 0.52650177,\n",
       "       0.26086957, 0.20421754, 0.60869565, 0.25462012, 0.98747123,\n",
       "       0.3963823 , 0.60208213, 0.66253717, 0.        , 0.18126858,\n",
       "       0.11162464, 0.59593601, 0.99071774, 0.52650177, 0.26086957,\n",
       "       0.20421754, 0.60869565, 0.24229979, 0.98541196, 0.54464767,\n",
       "       0.58183921, 0.5024777 , 0.        , 0.29264803, 0.04236445,\n",
       "       0.59593601, 0.99071774, 0.52650177, 0.26086957, 0.20421754,\n",
       "       0.60869565, 0.224846  , 0.96559076, 0.6810769 , 0.56101793,\n",
       "       0.32333994, 0.        , 0.41815817, 0.00429136, 0.59593601,\n",
       "       0.99071774, 0.52650177, 0.26086957, 0.20421754, 0.60869565,\n",
       "       0.2238193 , 0.92895396, 0.75268048, 0.54135338, 0.13032706,\n",
       "       0.        , 0.5492457 , 0.        , 0.59593601, 0.99071774,\n",
       "       0.52650177, 0.26086957, 0.20421754, 0.60869565, 0.2412731 ,\n",
       "       0.92687517, 0.75905659, 0.51474841, 0.01461843, 0.        ,\n",
       "       0.67697722, 0.02978281, 0.59593601, 0.99071774, 0.52650177,\n",
       "       0.26086957, 0.20421754, 0.60869565, 0.21663244, 0.8811972 ,\n",
       "       0.82275618, 0.48814344, 0.        , 0.        , 0.79264803,\n",
       "       0.09161015, 0.59593601, 0.99071774, 0.52650177, 0.26086957,\n",
       "       0.20421754, 0.60869565, 0.19096509, 0.8662457 , 0.83861939,\n",
       "       0.47831116, 0.        , 0.        , 0.88837536, 0.18126858,\n",
       "       0.59593601, 0.99071774, 0.52650177, 0.26086957, 0.20421754,\n",
       "       0.60869565, 0.20328542, 0.80230649, 0.89765834, 0.46963563,\n",
       "       0.        , 0.        , 0.95763555, 0.29264803, 0.59593601,\n",
       "       0.99071774, 0.52650177, 0.26086957, 0.20421754, 0.60869565,\n",
       "       0.18172485, 0.81068425, 0.89065547, 0.46327357, 0.        ,\n",
       "       0.        , 0.99570864, 0.41815817, 0.59593601, 0.99071774,\n",
       "       0.52650177, 0.26086957, 0.20421754, 0.60869565, 0.17659138,\n",
       "       0.80549098, 0.89463966, 0.45633314, 0.        , 0.        ,\n",
       "       1.        , 0.5492457 , 0.26965557, 0.94378828, 0.4664311 ,\n",
       "       0.26086957, 0.16759156, 0.56521739, 0.20841889, 0.78754181,\n",
       "       0.90688083, 0.45633314, 0.        , 0.        , 0.97021719,\n",
       "       0.67697722, 0.26965557, 0.94378828, 0.4664311 , 0.26086957,\n",
       "       0.16759156, 0.56521739, 0.18069815, 0.84734493, 0.8567096 ,\n",
       "       0.45922499, 0.        , 0.        , 0.90838985, 0.79264803,\n",
       "       0.26965557, 0.94378828, 0.4664311 , 0.26086957, 0.16759156,\n",
       "       0.56521739, 0.17864476, 0.76297174, 0.92118237, 0.45864662,\n",
       "       0.        , 0.        , 0.81873142, 0.88837536, 0.26965557,\n",
       "       0.94378828, 0.4664311 , 0.26086957, 0.16759156, 0.56521739,\n",
       "       0.18172485, 0.78657686, 0.90939004, 0.46616541, 0.        ,\n",
       "       0.        , 0.70735197, 0.95763555, 0.26965557, 0.94378828,\n",
       "       0.4664311 , 0.26086957, 0.16759156, 0.56521739, 0.16837782,\n",
       "       0.76162732, 0.92293811, 0.46096009, 0.00123885, 0.        ,\n",
       "       0.58184183, 0.99570864, 0.26965557, 0.94378828, 0.4664311 ,\n",
       "       0.26086957, 0.16759156, 0.56521739, 0.13552361, 0.66247218,\n",
       "       0.97218739, 0.45748988, 0.03666997, 0.        , 0.4507543 ,\n",
       "       1.        , 0.26965557, 0.94378828, 0.4664311 , 0.26086957,\n",
       "       0.16759156, 0.56521739, 0.17556468, 0.7475946 , 0.93331919,\n",
       "       0.48062464, 0.17145689, 0.        , 0.32302278, 0.97021719,\n",
       "       0.26965557, 0.94378828, 0.4664311 , 0.26086957, 0.16759156,\n",
       "       0.56521739, 0.21355236, 0.77441831, 0.91483864, 0.51474841,\n",
       "       0.37190287, 0.        , 0.20735197, 0.90838985, 0.26965557,\n",
       "       0.94378828, 0.4664311 , 0.26086957, 0.16759156, 0.56521739,\n",
       "       0.1899384 , 0.85349674, 0.85045195, 0.5615963 , 0.55029732,\n",
       "       0.        , 0.11162464, 0.81873142, 0.26965557, 0.94378828,\n",
       "       0.4664311 , 0.26086957, 0.16759156, 0.56521739, 0.20020534,\n",
       "       0.85101079, 0.85417297, 0.60844419, 0.70317146, 0.        ,\n",
       "       0.04236445, 0.70735197, 0.26965557, 0.94378828, 0.4664311 ,\n",
       "       0.26086957, 0.16759156, 0.56521739, 0.19609856, 0.92741842,\n",
       "       0.58968357, 0.63851938, 0.81392468, 0.        , 0.00429136,\n",
       "       0.58184183, 0.26965557, 0.94378828, 0.4664311 , 0.26086957,\n",
       "       0.16759156, 0.56521739, 0.21663244, 0.90147956, 0.20560772,\n",
       "       0.60670908, 0.86471754, 0.        , 0.        , 0.4507543 ,\n",
       "       0.26965557, 0.94378828, 0.4664311 , 0.26086957, 0.16759156,\n",
       "       0.56521739, 0.22997947, 0.97704298, 0.37680177, 0.64430307,\n",
       "       0.8617443 , 0.        , 0.02978281, 0.32302278, 0.26965557,\n",
       "       0.94378828, 0.4664311 , 0.26086957, 0.16759156, 0.56521739,\n",
       "       0.21971253, 0.94253111, 0.29128066, 0.6362059 , 0.78790882,\n",
       "       0.        , 0.09161015, 0.20735197, 0.26965557, 0.94378828,\n",
       "       0.4664311 , 0.26086957, 0.16759156, 0.56521739, 0.21252567,\n",
       "       0.97303068, 0.65597082, 0.65587045, 0.66451933, 0.        ,\n",
       "       0.18126858, 0.11162464, 0.26965557, 0.94378828, 0.4664311 ,\n",
       "       0.26086957, 0.16759156, 0.56521739, 0.1889117 , 0.95782986,\n",
       "       0.68257878, 0.65818392, 0.50569871, 0.        , 0.29264803,\n",
       "       0.04236445, 0.26965557, 0.94378828, 0.4664311 , 0.26086957,\n",
       "       0.16759156, 0.56521739])"
      ]
     },
     "execution_count": 119,
     "metadata": {},
     "output_type": "execute_result"
    }
   ],
   "source": [
    "X_t[-1]"
   ]
  },
  {
   "cell_type": "code",
   "execution_count": 123,
   "metadata": {},
   "outputs": [
    {
     "ename": "NameError",
     "evalue": "name 'y_scenario_train' is not defined",
     "output_type": "error",
     "traceback": [
      "\u001b[0;31m---------------------------------------------------------------------------\u001b[0m",
      "\u001b[0;31mNameError\u001b[0m                                 Traceback (most recent call last)",
      "\u001b[0;32m<ipython-input-123-8809f7a31b7d>\u001b[0m in \u001b[0;36m<module>\u001b[0;34m\u001b[0m\n\u001b[1;32m      1\u001b[0m \u001b[0;32mfrom\u001b[0m \u001b[0mxgboost\u001b[0m \u001b[0;32mimport\u001b[0m \u001b[0mXGBClassifier\u001b[0m\u001b[0;34m\u001b[0m\u001b[0;34m\u001b[0m\u001b[0m\n\u001b[1;32m      2\u001b[0m \u001b[0mxg_class\u001b[0m \u001b[0;34m=\u001b[0m \u001b[0mXGBClassifier\u001b[0m\u001b[0;34m(\u001b[0m\u001b[0mmax_depth\u001b[0m \u001b[0;34m=\u001b[0m \u001b[0;36m5\u001b[0m\u001b[0;34m)\u001b[0m\u001b[0;34m\u001b[0m\u001b[0;34m\u001b[0m\u001b[0m\n\u001b[0;32m----> 3\u001b[0;31m \u001b[0mxg_class\u001b[0m\u001b[0;34m.\u001b[0m\u001b[0mfit\u001b[0m\u001b[0;34m(\u001b[0m\u001b[0mX_t\u001b[0m\u001b[0;34m,\u001b[0m \u001b[0my_scenario_train\u001b[0m\u001b[0;34m)\u001b[0m\u001b[0;34m\u001b[0m\u001b[0;34m\u001b[0m\u001b[0m\n\u001b[0m\u001b[1;32m      4\u001b[0m \u001b[0my_hat_class\u001b[0m \u001b[0;34m=\u001b[0m \u001b[0mxg_class\u001b[0m\u001b[0;34m.\u001b[0m\u001b[0mpredict\u001b[0m\u001b[0;34m(\u001b[0m\u001b[0mX_te\u001b[0m\u001b[0;34m)\u001b[0m\u001b[0;34m\u001b[0m\u001b[0;34m\u001b[0m\u001b[0m\n",
      "\u001b[0;31mNameError\u001b[0m: name 'y_scenario_train' is not defined"
     ]
    }
   ],
   "source": [
    "from xgboost import XGBClassifier\n",
    "xg_class = XGBClassifier(max_depth = 5)\n",
    "xg_class.fit(X_t, y_scenario_train)\n",
    "y_hat_class = xg_class.predict(X_te)"
   ]
  },
  {
   "cell_type": "code",
   "execution_count": 229,
   "metadata": {},
   "outputs": [
    {
     "name": "stdout",
     "output_type": "stream",
     "text": [
      "Accuracy for classification based prediction is: 1.0\n",
      "Accuracy for classification based prediction is: 0.7657657657657657\n"
     ]
    }
   ],
   "source": [
    "print(\"Accuracy for classification based prediction is:\", accuracy_score(y_scenario_test, y_hat_class))\n",
    "print(\"Accuracy for classification based prediction is:\", accuracy_score(y_scenario_test, true_scenario))"
   ]
  },
  {
   "cell_type": "code",
   "execution_count": 121,
   "metadata": {},
   "outputs": [],
   "source": [
    "y_pred_scenario = get_all_scenarios(y_hat_speed, y_hat_cos, y_hat_sin)\n",
    "y_baseline_scenario = get_all_scenarios(baseline_speed, baseline_cos, baseline_sin)\n",
    "y_true_scenario = get_all_scenarios(y_te_speed, y_te_cos, y_te_sin)"
   ]
  },
  {
   "cell_type": "code",
   "execution_count": 122,
   "metadata": {},
   "outputs": [
    {
     "name": "stdout",
     "output_type": "stream",
     "text": [
      "Accuracy for prediction from regression is: 0.8163751987281399\n"
     ]
    },
    {
     "ename": "NameError",
     "evalue": "name 'y_hat_class' is not defined",
     "output_type": "error",
     "traceback": [
      "\u001b[0;31m---------------------------------------------------------------------------\u001b[0m",
      "\u001b[0;31mNameError\u001b[0m                                 Traceback (most recent call last)",
      "\u001b[0;32m<ipython-input-122-7f0c738cd0d4>\u001b[0m in \u001b[0;36m<module>\u001b[0;34m\u001b[0m\n\u001b[1;32m      5\u001b[0m \u001b[0mprint\u001b[0m\u001b[0;34m(\u001b[0m\u001b[0;34m\"Accuracy for prediction from regression is:\"\u001b[0m\u001b[0;34m,\u001b[0m \u001b[0maccuracy_score\u001b[0m\u001b[0;34m(\u001b[0m\u001b[0my_true_scenario\u001b[0m\u001b[0;34m,\u001b[0m \u001b[0my_pred_scenario\u001b[0m\u001b[0;34m)\u001b[0m\u001b[0;34m)\u001b[0m\u001b[0;34m\u001b[0m\u001b[0;34m\u001b[0m\u001b[0m\n\u001b[1;32m      6\u001b[0m \u001b[0;31m#print(\"Accuracy for baseline is:\", accuracy_score(true_scenario, y_baseline_scenario))\u001b[0m\u001b[0;34m\u001b[0m\u001b[0;34m\u001b[0m\u001b[0;34m\u001b[0m\u001b[0m\n\u001b[0;32m----> 7\u001b[0;31m \u001b[0mprint\u001b[0m\u001b[0;34m(\u001b[0m\u001b[0;34m\"Accuracy for classification based prediction is:\"\u001b[0m\u001b[0;34m,\u001b[0m \u001b[0maccuracy_score\u001b[0m\u001b[0;34m(\u001b[0m\u001b[0my_true_scenario\u001b[0m\u001b[0;34m,\u001b[0m \u001b[0my_hat_class\u001b[0m\u001b[0;34m)\u001b[0m\u001b[0;34m)\u001b[0m\u001b[0;34m\u001b[0m\u001b[0;34m\u001b[0m\u001b[0m\n\u001b[0m\u001b[1;32m      8\u001b[0m \u001b[0mprint\u001b[0m\u001b[0;34m(\u001b[0m\u001b[0;34m\"Accuracy for obtained forecast is:\"\u001b[0m\u001b[0;34m,\u001b[0m \u001b[0maccuracy_score\u001b[0m\u001b[0;34m(\u001b[0m\u001b[0mtrue_scenario\u001b[0m\u001b[0;34m,\u001b[0m \u001b[0my_true_scenario\u001b[0m\u001b[0;34m)\u001b[0m\u001b[0;34m)\u001b[0m\u001b[0;34m\u001b[0m\u001b[0;34m\u001b[0m\u001b[0m\n",
      "\u001b[0;31mNameError\u001b[0m: name 'y_hat_class' is not defined"
     ]
    }
   ],
   "source": [
    "from sklearn.metrics import confusion_matrix\n",
    "from sklearn.metrics import accuracy_score\n",
    "from sklearn.metrics import classification_report\n",
    "confusion_matrix(y_true_scenario, y_pred_scenario)\n",
    "print(\"Accuracy for prediction from regression is:\", accuracy_score(y_true_scenario, y_pred_scenario))\n",
    "#print(\"Accuracy for baseline is:\", accuracy_score(true_scenario, y_baseline_scenario))\n",
    "print(\"Accuracy for classification based prediction is:\", accuracy_score(y_true_scenario, y_hat_class))\n",
    "print(\"Accuracy for obtained forecast is:\", accuracy_score(true_scenario, y_true_scenario))"
   ]
  },
  {
   "cell_type": "code",
   "execution_count": 251,
   "metadata": {
    "collapsed": true
   },
   "outputs": [],
   "source": [
    "from sklearn.metrics import classification_report"
   ]
  },
  {
   "cell_type": "code",
   "execution_count": 253,
   "metadata": {},
   "outputs": [
    {
     "name": "stdout",
     "output_type": "stream",
     "text": [
      "             precision    recall  f1-score   support\n",
      "\n",
      "          1       0.86      0.94      0.90      3094\n",
      "          2       0.44      0.30      0.36       519\n",
      "          3       0.00      0.00      0.00       137\n",
      "          4       0.00      0.00      0.00        24\n",
      "\n",
      "avg / total       0.76      0.82      0.79      3774\n",
      "\n"
     ]
    },
    {
     "name": "stderr",
     "output_type": "stream",
     "text": [
      "/Users/leobix/anaconda3/lib/python3.6/site-packages/sklearn/metrics/classification.py:1135: UndefinedMetricWarning: Precision and F-score are ill-defined and being set to 0.0 in labels with no predicted samples.\n",
      "  'precision', 'predicted', average, warn_for)\n"
     ]
    }
   ],
   "source": [
    "print(classification_report(y_true_scenario, y_pred_scenario))"
   ]
  },
  {
   "cell_type": "code",
   "execution_count": 250,
   "metadata": {},
   "outputs": [
    {
     "data": {
      "text/plain": [
       "array([[2946,  171,    0,    0],\n",
       "       [ 385,  139,    0,    0],\n",
       "       [  73,   42,    0,    0],\n",
       "       [  11,    7,    0,    0]])"
      ]
     },
     "execution_count": 250,
     "metadata": {},
     "output_type": "execute_result"
    }
   ],
   "source": [
    "confusion_matrix(true_scenario, y_pred_scenario)"
   ]
  },
  {
   "cell_type": "code",
   "execution_count": 19,
   "metadata": {},
   "outputs": [
    {
     "data": {
      "image/png": "[encoded data removed]",
      "text/plain": [
       "<matplotlib.figure.Figure at 0x13dfe8ac8>"
      ]
     },
     "metadata": {},
     "output_type": "display_data"
    }
   ],
   "source": [
    "import matplotlib.pyplot as plt\n",
    "plt.plot(y_te[:200])\n",
    "#plt.plot(y_hat[:200])\n",
    "plt.plot(baseline[:200])\n",
    "plt.show()"
   ]
  },
  {
   "cell_type": "code",
   "execution_count": 41,
   "metadata": {
    "collapsed": true
   },
   "outputs": [],
   "source": [
    "def create_data_RNN(steps_in, steps_out, df):\n",
    "    X, y = get_past_n_steps(df, steps_in), get_future_n_steps(df, steps_out)\n",
    "    print(y)\n",
    "    X2, y2 = np.array(X), np.array(y)\n",
    "    X3, y3 = X2.reshape(-1, steps_in, X2.shape[1]//(steps_in)), y2.reshape(-1, steps_out, y2.shape[1]//(steps_out))\n",
    "    y_from_X = X3[steps_in:-2*steps_in,:steps_out,:3]\n",
    "    return y, X3[:y_from_X.shape[0]], y_from_X"
   ]
  },
  {
   "cell_type": "code",
   "execution_count": 46,
   "metadata": {
    "collapsed": true
   },
   "outputs": [],
   "source": [
    "e = t[['speed_t', 'cos_wind_dir_t', 'sin_wind_dir_t']]"
   ]
  },
  {
   "cell_type": "code",
   "execution_count": 30,
   "metadata": {
    "collapsed": true
   },
   "outputs": [],
   "source": [
    "def scale_data_RNN2(steps_in, steps_out, df, test_size = 0.2, speed_only = False):\n",
    "    X, y = create_data_RNN(steps_in, steps_out, df)\n",
    "    #y = y[:,:,:3]\n",
    "    X_train, X_test, y_train, y_test = train_test_split(X, y, test_size=test_size, shuffle = False)\n",
    "    scaler_X = MinMaxScaler(feature_range=(0, 1))\n",
    "    scaler_y = MinMaxScaler(feature_range=(0, 1))\n",
    "    \n",
    "    X_train2 = X_train.reshape(X_train.shape[0]*X_train.shape[1], X_train.shape[2])\n",
    "    X_test2 = X_test.reshape(X_test.shape[0]*X_test.shape[1], X_test.shape[2])\n",
    "    y_train2 = y_train.reshape(y_train.shape[0]*y_train.shape[1], y_train.shape[2])\n",
    "    y_test2 = y_test.reshape(y_test.shape[0]*y_test.shape[1], y_test.shape[2])\n",
    "    \n",
    "    X_train_scaled = scaler_X.fit_transform(X_train2)\n",
    "    X_test_scaled = scaler_X.transform(X_test2)\n",
    "    y_train_scaled = scaler_y.fit_transform(y_train2)\n",
    "    y_test_scaled = scaler_y.transform(y_test2)\n",
    "    \n",
    "    X_train_scaled = X_train_scaled.reshape(X_train.shape[0], X_train.shape[1], X_train.shape[2])\n",
    "    X_test_scaled = X_test_scaled.reshape(X_test.shape[0], X_test.shape[1], X_test.shape[2])\n",
    "    y_train_scaled = y_train_scaled.reshape(y_train.shape[0], y_train.shape[1], y_train.shape[2])\n",
    "    y_test_scaled = y_test_scaled.reshape(y_test.shape[0], y_test.shape[1], y_test.shape[2])\n",
    "    \n",
    "    X_train_final = X_train_scaled.transpose(0,1,2)\n",
    "    X_test_final = X_test_scaled.transpose(0,1,2)\n",
    "    y_train_final = y_train_scaled.transpose(0,1,2)\n",
    "    y_test_final = y_test_scaled.transpose(0,1,2)\n",
    "\n",
    "    if speed_only:\n",
    "        print(y_train_final.shape)\n",
    "        y_train_final = y_train_scaled[:,:,0]\n",
    "        y_test_final = y_test_scaled[:,:,0]\n",
    "    \n",
    "    return y, X_train_final, X_test_final, y_train_final, y_test_final, y_train, y_test, scaler_X, scaler_y"
   ]
  },
  {
   "cell_type": "code",
   "execution_count": 31,
   "metadata": {},
   "outputs": [
    {
     "name": "stdout",
     "output_type": "stream",
     "text": [
      "(37732, 48, 3)\n",
      "(33958, 48, 3)\n"
     ]
    }
   ],
   "source": [
    "y, X_train, X_test, y_train, y_test, y_train_unscaled, y_test_unscaled, sc_X, sc_y = scale_data_RNN2(48, 48, data_merge, 0.1, speed_only = True)"
   ]
  },
  {
   "cell_type": "code",
   "execution_count": 32,
   "metadata": {},
   "outputs": [
    {
     "data": {
      "text/plain": [
       "array([[[  0.   ,  44.25 ,   3.7  ],\n",
       "        [  1.   ,  32.   ,   2.75 ],\n",
       "        [  2.   ,  47.25 ,   2.85 ],\n",
       "        ...,\n",
       "        [ 21.   ,  28.5  ,   4.525],\n",
       "        [ 22.   , 106.5  ,   5.175],\n",
       "        [ 23.   ,  47.5  ,   4.525]],\n",
       "\n",
       "       [[  1.   ,  32.   ,   2.75 ],\n",
       "        [  2.   ,  47.25 ,   2.85 ],\n",
       "        [  3.   ,  44.75 ,   2.55 ],\n",
       "        ...,\n",
       "        [ 22.   , 106.5  ,   5.175],\n",
       "        [ 23.   ,  47.5  ,   4.525],\n",
       "        [  0.   ,  60.25 ,   3.925]],\n",
       "\n",
       "       [[  2.   ,  47.25 ,   2.85 ],\n",
       "        [  3.   ,  44.75 ,   2.55 ],\n",
       "        [  4.   ,  44.75 ,   3.275],\n",
       "        ...,\n",
       "        [ 23.   ,  47.5  ,   4.525],\n",
       "        [  0.   ,  60.25 ,   3.925],\n",
       "        [  1.   ,  41.   ,   3.6  ]],\n",
       "\n",
       "       ...,\n",
       "\n",
       "       [[ 21.   ,  93.25 ,   1.975],\n",
       "        [ 22.   ,  94.25 ,   2.1  ],\n",
       "        [ 23.   ,  99.   ,   1.4  ],\n",
       "        ...,\n",
       "        [ 18.   ,  39.75 ,   2.375],\n",
       "        [ 19.   ,  75.   ,   2.75 ],\n",
       "        [ 20.   ,  78.5  ,   3.1  ]],\n",
       "\n",
       "       [[ 22.   ,  94.25 ,   2.1  ],\n",
       "        [ 23.   ,  99.   ,   1.4  ],\n",
       "        [  0.   , 156.25 ,   0.5  ],\n",
       "        ...,\n",
       "        [ 19.   ,  75.   ,   2.75 ],\n",
       "        [ 20.   ,  78.5  ,   3.1  ],\n",
       "        [ 21.   ,  83.   ,   3.15 ]],\n",
       "\n",
       "       [[ 23.   ,  99.   ,   1.4  ],\n",
       "        [  0.   , 156.25 ,   0.5  ],\n",
       "        [  1.   ,  84.75 ,   1.4  ],\n",
       "        ...,\n",
       "        [ 20.   ,  78.5  ,   3.1  ],\n",
       "        [ 21.   ,  83.   ,   3.15 ],\n",
       "        [ 22.   ,  81.   ,   3.575]]])"
      ]
     },
     "execution_count": 32,
     "metadata": {},
     "output_type": "execute_result"
    }
   ],
   "source": [
    "y"
   ]
  },
  {
   "cell_type": "code",
   "execution_count": 18,
   "metadata": {},
   "outputs": [
    {
     "data": {
      "image/png": "[encoded data removed]",
      "text/plain": [
       "<matplotlib.figure.Figure at 0x1203e4f98>"
      ]
     },
     "metadata": {},
     "output_type": "display_data"
    }
   ],
   "source": [
    "plt.plot(y_test_unscaled[:100,12,0])\n",
    "#plt.plot(y_hat[:100])\n",
    "plt.show()"
   ]
  },
  {
   "cell_type": "code",
   "execution_count": 7,
   "metadata": {
    "collapsed": true
   },
   "outputs": [],
   "source": [
    "steps_in = 48\n",
    "steps_out = 48\n",
    "test_size = 0.1"
   ]
  },
  {
   "cell_type": "code",
   "execution_count": 8,
   "metadata": {},
   "outputs": [
    {
     "name": "stdout",
     "output_type": "stream",
     "text": [
      "read csv semester csv files from 2015s2 to 2019s2\n",
      "smooth wind direction\n",
      "smooth hour\n",
      "smooth day\n",
      "generate daily features: ['daily_min_speed', 'daily_min_hour', 'daily_max_speed', 'daily_max_hour']\n",
      "generate seasonality categorical feature\n",
      "generate day/night categorical feature\n",
      "reading forecast data\n"
     ]
    },
    {
     "name": "stderr",
     "output_type": "stream",
     "text": [
      "/Users/leobix/anaconda3/lib/python3.6/site-packages/IPython/core/interactiveshell.py:2862: DtypeWarning: Columns (6) have mixed types. Specify dtype option on import or set low_memory=False.\n",
      "  exec(code_obj, self.user_global_ns, self.user_ns)\n"
     ]
    },
    {
     "name": "stdout",
     "output_type": "stream",
     "text": [
      "keep last forecast, duplicates dropped =  96574\n",
      "smooth wind direction\n",
      "merge with forecast data\n",
      "Data has been processed and merged.\n"
     ]
    }
   ],
   "source": [
    "data=prepare_data(one_hot=False)\n",
    "#data_merge = prepare_data_with_forecast(data)\n",
    "data_merge, data, forecast  = prepare_data_with_forecast(data)\n",
    "   #data_merge.to_csv('training_data.csv', index = True)\n",
    "   #data_merge = read_csv(\"training_data.csv\", index_col=0)\n",
    "   #print(data_merge)\n",
    "df = data_merge[['speed', 'cos_wind_dir', 'sin_wind_dir', 'temp', 'radiation', 'scenario_num', 'cos_hour', 'sin_hour', 'cos_day', 'sin_day', 'daily_min_speed', 'daily_min_hour', 'daily_max_speed', 'daily_max_hour', 'speed_forecast', 'cos_wind_dir_forecast', 'sin_wind_dir_forecast']]\n",
    "\n",
    "print(\"Data has been processed and merged.\")\n",
    "X_train, X_test, y_train, y_test, X_train_unscaled, X_test_unscaled, y_train_unscaled, y_test_unscaled, sc_X, sc_y = scale_data_RNN(steps_in, steps_out, df, test_size=test_size, speed_only = True)"
   ]
  },
  {
   "cell_type": "code",
   "execution_count": 10,
   "metadata": {},
   "outputs": [
    {
     "data": {
      "text/plain": [
       "array([[[3.7       , 0.7127612 , 0.69452034],\n",
       "        [2.75      , 0.8465571 , 0.52900168],\n",
       "        [2.85      , 0.66830943, 0.72344977],\n",
       "        ...,\n",
       "        [4.525     , 0.87250044, 0.47343036],\n",
       "        [5.175     , 0.92945321, 0.27531659],\n",
       "        [4.525     , 0.6606555 , 0.72165574]],\n",
       "\n",
       "       [[2.75      , 0.8465571 , 0.52900168],\n",
       "        [2.85      , 0.66830943, 0.72344977],\n",
       "        [2.55      , 0.70554391, 0.69947487],\n",
       "        ...,\n",
       "        [5.175     , 0.92945321, 0.27531659],\n",
       "        [4.525     , 0.6606555 , 0.72165574],\n",
       "        [3.925     , 0.48275046, 0.84469968]],\n",
       "\n",
       "       [[2.85      , 0.66830943, 0.72344977],\n",
       "        [2.55      , 0.70554391, 0.69947487],\n",
       "        [3.275     , 0.7065119 , 0.70022896],\n",
       "        ...,\n",
       "        [4.525     , 0.6606555 , 0.72165574],\n",
       "        [3.925     , 0.48275046, 0.84469968],\n",
       "        [3.6       , 0.75153837, 0.65332872]],\n",
       "\n",
       "       ...,\n",
       "\n",
       "       [[5.075     , 0.57519685, 0.81369969],\n",
       "        [4.4       , 0.69477122, 0.71336488],\n",
       "        [4.35      , 0.52606982, 0.84230059],\n",
       "        ...,\n",
       "        [3.225     , 0.71123171, 0.69889287],\n",
       "        [2.475     , 0.5635944 , 0.81293943],\n",
       "        [2.1       , 0.19484033, 0.97948634]],\n",
       "\n",
       "       [[4.4       , 0.69477122, 0.71336488],\n",
       "        [4.35      , 0.52606982, 0.84230059],\n",
       "        [4.425     , 0.57326746, 0.81871773],\n",
       "        ...,\n",
       "        [2.475     , 0.5635944 , 0.81293943],\n",
       "        [2.1       , 0.19484033, 0.97948634],\n",
       "        [2.15      , 0.45486215, 0.85464779]],\n",
       "\n",
       "       [[4.35      , 0.52606982, 0.84230059],\n",
       "        [4.425     , 0.57326746, 0.81871773],\n",
       "        [4.1       , 0.52338169, 0.8458118 ],\n",
       "        ...,\n",
       "        [2.1       , 0.19484033, 0.97948634],\n",
       "        [2.15      , 0.45486215, 0.85464779],\n",
       "        [1.925     , 0.13421799, 0.98516928]]])"
      ]
     },
     "execution_count": 10,
     "metadata": {},
     "output_type": "execute_result"
    }
   ],
   "source": [
    "y_train_unscaled"
   ]
  }
 ],
 "metadata": {
  "kernelspec": {
   "display_name": "Python 3",
   "language": "python",
   "name": "python3"
  },
  "language_info": {
   "codemirror_mode": {
    "name": "ipython",
    "version": 3
   },
   "file_extension": ".py",
   "mimetype": "text/x-python",
   "name": "python",
   "nbconvert_exporter": "python",
   "pygments_lexer": "ipython3",
   "version": "3.6.8"
  }
 },
 "nbformat": 4,
 "nbformat_minor": 2
}
