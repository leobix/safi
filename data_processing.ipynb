{
 "cells": [
  {
   "cell_type": "code",
   "execution_count": 1,
   "metadata": {},
   "outputs": [],
   "source": [
    "import pandas as pd\n",
    "import numpy as np\n",
    "import matplotlib.pyplot as plt\n",
    "from datetime import date, datetime, timedelta\n",
    "import data_preperation as prep\n",
    "from sklearn.model_selection import train_test_split\n",
    "from sklearn.preprocessing import MinMaxScaler\n",
    "import warnings\n",
    "warnings.filterwarnings('ignore')\n",
    "from sklearn.metrics import mean_squared_error\n",
    "from sklearn.metrics import mean_absolute_error\n",
    "from xgboost import XGBRegressor"
   ]
  },
  {
   "cell_type": "code",
   "execution_count": 3,
   "metadata": {},
   "outputs": [],
   "source": [
    "#example of how to call preparation.py\n",
    "import data_process as proc\n",
    "import data_preperation as prep"
   ]
  },
  {
   "cell_type": "code",
   "execution_count": 16,
   "metadata": {},
   "outputs": [
    {
     "name": "stdout",
     "output_type": "stream",
     "text": [
      "read csv semester csv files from 2015s2 to 2020s1\n",
      "smooth wind direction\n",
      "generate seasonality categorical feature\n",
      "generate am/pm categorical feature\n",
      "reading forecast data\n",
      "smooth wind direction\n"
     ]
    }
   ],
   "source": [
    "#example of how to use data_process.py\n",
    "\n",
    "#call data_preperation.py to get data \n",
    "measurement=prep.prepare_measurement()\n",
    "forecast = prep.prepare_forecast()\n",
    "#keep useful columns \n",
    "measurement= measurement[['speed', 'cos_wind_dir', 'sin_wind_dir', 'temp', 'radiation', 'precip', 'season', 'am']]\n",
    "\n",
    "#call data_process.py\n",
    "x_df, y_df, x, y = proc.prepare_x_y(measurement, forecast, 24, 24, 'speed') "
   ]
  },
  {
   "cell_type": "code",
   "execution_count": null,
   "metadata": {},
   "outputs": [],
   "source": [
    "# ------- extended code of data_process.py file ------- "
   ]
  },
  {
   "cell_type": "code",
   "execution_count": 6,
   "metadata": {},
   "outputs": [
    {
     "name": "stdout",
     "output_type": "stream",
     "text": [
      "read csv semester csv files from 2015s2 to 2020s1\n",
      "smooth wind direction\n",
      "generate seasonality categorical feature\n",
      "generate am/pm categorical feature\n",
      "reading forecast data\n",
      "smooth wind direction\n"
     ]
    }
   ],
   "source": [
    "#get measurement data and forecast data: \n",
    "df0=prep.prepare_measurement()\n",
    "forecast = prep.prepare_forecast()\n",
    "df0 = df0[['speed', 'cos_wind_dir', 'sin_wind_dir', 'temp', 'radiation', 'precip', 'season', 'am']]"
   ]
  },
  {
   "cell_type": "code",
   "execution_count": 5,
   "metadata": {},
   "outputs": [
    {
     "data": {
      "text/plain": [
       "<matplotlib.axes._subplots.AxesSubplot at 0x1c1d92c780>"
      ]
     },
     "execution_count": 5,
     "metadata": {},
     "output_type": "execute_result"
    },
    {
     "data": {
      "image/png": "[encoded data removed]",
      "text/plain": [
       "<Figure size 432x288 with 1 Axes>"
      ]
     },
     "metadata": {
      "needs_background": "light"
     },
     "output_type": "display_data"
    }
   ],
   "source": [
    "df0['speed'].plot()"
   ]
  },
  {
   "cell_type": "code",
   "execution_count": 7,
   "metadata": {},
   "outputs": [],
   "source": [
    "# data_merge, data, forecast = prepare_data_with_forecast(data, keep_only_last=False)\n",
    "def get_past_n_steps(df, steps_in):\n",
    "    #rename column to most remote data\n",
    "    df_out = df.copy().add_suffix('_t-'+str(steps_in))\n",
    "    #t-i remote data\n",
    "    for i in range(1, steps_in+1):\n",
    "        df_temp = df.copy().add_suffix('_t-'+str(steps_in-i)) #rename column\n",
    "        df_temp= df_temp.shift(periods=-i, axis=0) #shift down i row\n",
    "        df_out=df_out.join(df_temp, how = 'inner')#join\n",
    "    #shift index to present time (+steps_in)\n",
    "    df_out['present_time']=df_out.index.to_series()+timedelta(hours=steps_in)\n",
    "    df_out.set_index(pd.DatetimeIndex(df_out['present_time']), inplace=True)\n",
    "    return df_out\n",
    "\n",
    "df = get_past_n_steps(df0, 2)"
   ]
  },
  {
   "cell_type": "code",
   "execution_count": 8,
   "metadata": {},
   "outputs": [],
   "source": [
    "def join_forecast(df, forecast, predict): \n",
    "    \n",
    "    #crop out forecast if forecast period is less than prediction period\n",
    "    forecast = forecast.loc[forecast['f_period']>= predict]\n",
    "    forecast = prep.keep_last_forecast(forecast) \n",
    "    forecast = forecast.add_suffix('_forecast')    \n",
    "    #calculate forecast_time\n",
    "    df['forecast_time'] = df['present_time']+ timedelta(hours=predict)\n",
    "    \n",
    "    df_out = pd.merge(df, forecast, left_on = 'forecast_time', right_on ='f_date')\n",
    "    return df_out \n",
    "\n",
    "def smooth_day_hour(df):\n",
    "    df['cos_day'] = np.cos(2 * np.pi * df['present_time'].dt.day / 365)\n",
    "    df['cos_hour'] =  np.cos(2 * np.pi * df['present_time'].dt.hour / 24)\n",
    "    return df "
   ]
  },
  {
   "cell_type": "code",
   "execution_count": 9,
   "metadata": {},
   "outputs": [],
   "source": [
    "#change x,y to array like \n",
    "def df_to_array(x_df, y_df):\n",
    "    #drop timestamp columns\n",
    "    x_df.drop(['present_time','forecast_time'], axis=1, inplace=True)\n",
    "    y_df.drop(['forecast_time'], axis=1, inplace=True)\n",
    "        \n",
    "    x = x_df.values\n",
    "    y = y_df.values \n",
    "    return x, y"
   ]
  },
  {
   "cell_type": "code",
   "execution_count": 12,
   "metadata": {},
   "outputs": [
    {
     "name": "stdout",
     "output_type": "stream",
     "text": [
      "read csv semester csv files from 2015s2 to 2020s1\n",
      "smooth wind direction\n",
      "generate seasonality categorical feature\n",
      "generate am/pm categorical feature\n",
      "reading forecast data\n",
      "smooth wind direction\n"
     ]
    },
    {
     "data": {
      "text/html": [
       "<div>\n",
       "<style scoped>\n",
       "    .dataframe tbody tr th:only-of-type {\n",
       "        vertical-align: middle;\n",
       "    }\n",
       "\n",
       "    .dataframe tbody tr th {\n",
       "        vertical-align: top;\n",
       "    }\n",
       "\n",
       "    .dataframe thead th {\n",
       "        text-align: right;\n",
       "    }\n",
       "</style>\n",
       "<table border=\"1\" class=\"dataframe\">\n",
       "  <thead>\n",
       "    <tr style=\"text-align: right;\">\n",
       "      <th></th>\n",
       "      <th>speed_t-3</th>\n",
       "      <th>cos_wind_dir_t-3</th>\n",
       "      <th>sin_wind_dir_t-3</th>\n",
       "      <th>temp_t-3</th>\n",
       "      <th>radiation_t-3</th>\n",
       "      <th>precip_t-3</th>\n",
       "      <th>season_t-3</th>\n",
       "      <th>am_t-3</th>\n",
       "      <th>speed_t-2</th>\n",
       "      <th>cos_wind_dir_t-2</th>\n",
       "      <th>...</th>\n",
       "      <th>season_t-0</th>\n",
       "      <th>am_t-0</th>\n",
       "      <th>speed_forecast</th>\n",
       "      <th>temp_forecast</th>\n",
       "      <th>rad_forecast</th>\n",
       "      <th>precip_forecast</th>\n",
       "      <th>cos_wind_dir_forecast</th>\n",
       "      <th>sin_wind_dir_forecast</th>\n",
       "      <th>cos_day</th>\n",
       "      <th>cos_hour</th>\n",
       "    </tr>\n",
       "  </thead>\n",
       "  <tbody>\n",
       "    <tr>\n",
       "      <th>0</th>\n",
       "      <td>2.225000</td>\n",
       "      <td>0.850439</td>\n",
       "      <td>0.211122</td>\n",
       "      <td>20.725000</td>\n",
       "      <td>0.000000</td>\n",
       "      <td>0.0</td>\n",
       "      <td>3</td>\n",
       "      <td>1</td>\n",
       "      <td>2.900000</td>\n",
       "      <td>0.847033</td>\n",
       "      <td>...</td>\n",
       "      <td>3.0</td>\n",
       "      <td>1.0</td>\n",
       "      <td>0.981995</td>\n",
       "      <td>19.389978</td>\n",
       "      <td>0.000000</td>\n",
       "      <td>0.026673</td>\n",
       "      <td>0.981373</td>\n",
       "      <td>0.192114</td>\n",
       "      <td>0.999852</td>\n",
       "      <td>7.071068e-01</td>\n",
       "    </tr>\n",
       "    <tr>\n",
       "      <th>1</th>\n",
       "      <td>2.900000</td>\n",
       "      <td>0.847033</td>\n",
       "      <td>-0.517158</td>\n",
       "      <td>20.500000</td>\n",
       "      <td>0.000000</td>\n",
       "      <td>0.0</td>\n",
       "      <td>3</td>\n",
       "      <td>1</td>\n",
       "      <td>1.600000</td>\n",
       "      <td>0.929234</td>\n",
       "      <td>...</td>\n",
       "      <td>3.0</td>\n",
       "      <td>1.0</td>\n",
       "      <td>0.865024</td>\n",
       "      <td>19.629999</td>\n",
       "      <td>142.224380</td>\n",
       "      <td>0.025757</td>\n",
       "      <td>0.990156</td>\n",
       "      <td>0.139970</td>\n",
       "      <td>0.999852</td>\n",
       "      <td>5.000000e-01</td>\n",
       "    </tr>\n",
       "    <tr>\n",
       "      <th>2</th>\n",
       "      <td>1.600000</td>\n",
       "      <td>0.929234</td>\n",
       "      <td>-0.082164</td>\n",
       "      <td>20.675000</td>\n",
       "      <td>0.000000</td>\n",
       "      <td>0.0</td>\n",
       "      <td>3</td>\n",
       "      <td>1</td>\n",
       "      <td>2.175000</td>\n",
       "      <td>0.812413</td>\n",
       "      <td>...</td>\n",
       "      <td>3.0</td>\n",
       "      <td>1.0</td>\n",
       "      <td>0.851891</td>\n",
       "      <td>20.269983</td>\n",
       "      <td>342.239685</td>\n",
       "      <td>0.019653</td>\n",
       "      <td>0.998515</td>\n",
       "      <td>0.054470</td>\n",
       "      <td>0.999852</td>\n",
       "      <td>2.588190e-01</td>\n",
       "    </tr>\n",
       "    <tr>\n",
       "      <th>3</th>\n",
       "      <td>2.175000</td>\n",
       "      <td>0.812413</td>\n",
       "      <td>0.389547</td>\n",
       "      <td>20.850000</td>\n",
       "      <td>0.000000</td>\n",
       "      <td>0.0</td>\n",
       "      <td>3</td>\n",
       "      <td>1</td>\n",
       "      <td>2.625000</td>\n",
       "      <td>0.472097</td>\n",
       "      <td>...</td>\n",
       "      <td>3.0</td>\n",
       "      <td>1.0</td>\n",
       "      <td>0.995341</td>\n",
       "      <td>21.350031</td>\n",
       "      <td>526.759399</td>\n",
       "      <td>0.000000</td>\n",
       "      <td>0.984512</td>\n",
       "      <td>-0.175315</td>\n",
       "      <td>0.999852</td>\n",
       "      <td>6.123234e-17</td>\n",
       "    </tr>\n",
       "    <tr>\n",
       "      <th>4</th>\n",
       "      <td>2.625000</td>\n",
       "      <td>0.472097</td>\n",
       "      <td>0.850407</td>\n",
       "      <td>20.800000</td>\n",
       "      <td>0.000000</td>\n",
       "      <td>0.0</td>\n",
       "      <td>3</td>\n",
       "      <td>1</td>\n",
       "      <td>2.000000</td>\n",
       "      <td>0.387166</td>\n",
       "      <td>...</td>\n",
       "      <td>3.0</td>\n",
       "      <td>1.0</td>\n",
       "      <td>1.663903</td>\n",
       "      <td>22.800043</td>\n",
       "      <td>682.376343</td>\n",
       "      <td>0.011108</td>\n",
       "      <td>0.846408</td>\n",
       "      <td>-0.532535</td>\n",
       "      <td>0.999852</td>\n",
       "      <td>-2.588190e-01</td>\n",
       "    </tr>\n",
       "    <tr>\n",
       "      <th>...</th>\n",
       "      <td>...</td>\n",
       "      <td>...</td>\n",
       "      <td>...</td>\n",
       "      <td>...</td>\n",
       "      <td>...</td>\n",
       "      <td>...</td>\n",
       "      <td>...</td>\n",
       "      <td>...</td>\n",
       "      <td>...</td>\n",
       "      <td>...</td>\n",
       "      <td>...</td>\n",
       "      <td>...</td>\n",
       "      <td>...</td>\n",
       "      <td>...</td>\n",
       "      <td>...</td>\n",
       "      <td>...</td>\n",
       "      <td>...</td>\n",
       "      <td>...</td>\n",
       "      <td>...</td>\n",
       "      <td>...</td>\n",
       "      <td>...</td>\n",
       "    </tr>\n",
       "    <tr>\n",
       "      <th>41189</th>\n",
       "      <td>3.651667</td>\n",
       "      <td>0.403687</td>\n",
       "      <td>0.891654</td>\n",
       "      <td>17.126667</td>\n",
       "      <td>0.000000</td>\n",
       "      <td>0.0</td>\n",
       "      <td>2</td>\n",
       "      <td>1</td>\n",
       "      <td>4.571667</td>\n",
       "      <td>0.432306</td>\n",
       "      <td>...</td>\n",
       "      <td>2.0</td>\n",
       "      <td>1.0</td>\n",
       "      <td>4.433668</td>\n",
       "      <td>23.660028</td>\n",
       "      <td>679.767029</td>\n",
       "      <td>0.000000</td>\n",
       "      <td>0.703140</td>\n",
       "      <td>0.711051</td>\n",
       "      <td>0.994671</td>\n",
       "      <td>-2.588190e-01</td>\n",
       "    </tr>\n",
       "    <tr>\n",
       "      <th>41190</th>\n",
       "      <td>4.571667</td>\n",
       "      <td>0.432306</td>\n",
       "      <td>0.877543</td>\n",
       "      <td>16.925000</td>\n",
       "      <td>1.200000</td>\n",
       "      <td>0.0</td>\n",
       "      <td>2</td>\n",
       "      <td>1</td>\n",
       "      <td>5.156667</td>\n",
       "      <td>0.352723</td>\n",
       "      <td>...</td>\n",
       "      <td>2.0</td>\n",
       "      <td>1.0</td>\n",
       "      <td>4.515664</td>\n",
       "      <td>26.170099</td>\n",
       "      <td>809.752869</td>\n",
       "      <td>0.000000</td>\n",
       "      <td>0.828533</td>\n",
       "      <td>0.559940</td>\n",
       "      <td>0.994671</td>\n",
       "      <td>-5.000000e-01</td>\n",
       "    </tr>\n",
       "    <tr>\n",
       "      <th>41191</th>\n",
       "      <td>5.156667</td>\n",
       "      <td>0.352723</td>\n",
       "      <td>0.918125</td>\n",
       "      <td>16.988333</td>\n",
       "      <td>58.833333</td>\n",
       "      <td>0.0</td>\n",
       "      <td>2</td>\n",
       "      <td>1</td>\n",
       "      <td>6.586667</td>\n",
       "      <td>0.332257</td>\n",
       "      <td>...</td>\n",
       "      <td>2.0</td>\n",
       "      <td>1.0</td>\n",
       "      <td>5.235801</td>\n",
       "      <td>28.230066</td>\n",
       "      <td>892.760315</td>\n",
       "      <td>0.000000</td>\n",
       "      <td>0.930070</td>\n",
       "      <td>0.367383</td>\n",
       "      <td>0.994671</td>\n",
       "      <td>-7.071068e-01</td>\n",
       "    </tr>\n",
       "    <tr>\n",
       "      <th>41192</th>\n",
       "      <td>6.586667</td>\n",
       "      <td>0.332257</td>\n",
       "      <td>0.921105</td>\n",
       "      <td>18.198333</td>\n",
       "      <td>195.350000</td>\n",
       "      <td>0.0</td>\n",
       "      <td>2</td>\n",
       "      <td>1</td>\n",
       "      <td>6.991667</td>\n",
       "      <td>0.376279</td>\n",
       "      <td>...</td>\n",
       "      <td>2.0</td>\n",
       "      <td>1.0</td>\n",
       "      <td>6.491903</td>\n",
       "      <td>29.119928</td>\n",
       "      <td>923.132385</td>\n",
       "      <td>0.000000</td>\n",
       "      <td>0.972812</td>\n",
       "      <td>0.231596</td>\n",
       "      <td>0.994671</td>\n",
       "      <td>-8.660254e-01</td>\n",
       "    </tr>\n",
       "    <tr>\n",
       "      <th>41193</th>\n",
       "      <td>6.991667</td>\n",
       "      <td>0.376279</td>\n",
       "      <td>0.905430</td>\n",
       "      <td>19.928333</td>\n",
       "      <td>399.200000</td>\n",
       "      <td>0.0</td>\n",
       "      <td>2</td>\n",
       "      <td>1</td>\n",
       "      <td>5.943333</td>\n",
       "      <td>0.544459</td>\n",
       "      <td>...</td>\n",
       "      <td>2.0</td>\n",
       "      <td>1.0</td>\n",
       "      <td>7.410565</td>\n",
       "      <td>28.930078</td>\n",
       "      <td>898.799377</td>\n",
       "      <td>0.000000</td>\n",
       "      <td>0.977998</td>\n",
       "      <td>0.208613</td>\n",
       "      <td>0.994671</td>\n",
       "      <td>-9.659258e-01</td>\n",
       "    </tr>\n",
       "  </tbody>\n",
       "</table>\n",
       "<p>41194 rows × 40 columns</p>\n",
       "</div>"
      ],
      "text/plain": [
       "       speed_t-3  cos_wind_dir_t-3  sin_wind_dir_t-3   temp_t-3  \\\n",
       "0       2.225000          0.850439          0.211122  20.725000   \n",
       "1       2.900000          0.847033         -0.517158  20.500000   \n",
       "2       1.600000          0.929234         -0.082164  20.675000   \n",
       "3       2.175000          0.812413          0.389547  20.850000   \n",
       "4       2.625000          0.472097          0.850407  20.800000   \n",
       "...          ...               ...               ...        ...   \n",
       "41189   3.651667          0.403687          0.891654  17.126667   \n",
       "41190   4.571667          0.432306          0.877543  16.925000   \n",
       "41191   5.156667          0.352723          0.918125  16.988333   \n",
       "41192   6.586667          0.332257          0.921105  18.198333   \n",
       "41193   6.991667          0.376279          0.905430  19.928333   \n",
       "\n",
       "       radiation_t-3  precip_t-3  season_t-3  am_t-3  speed_t-2  \\\n",
       "0           0.000000         0.0           3       1   2.900000   \n",
       "1           0.000000         0.0           3       1   1.600000   \n",
       "2           0.000000         0.0           3       1   2.175000   \n",
       "3           0.000000         0.0           3       1   2.625000   \n",
       "4           0.000000         0.0           3       1   2.000000   \n",
       "...              ...         ...         ...     ...        ...   \n",
       "41189       0.000000         0.0           2       1   4.571667   \n",
       "41190       1.200000         0.0           2       1   5.156667   \n",
       "41191      58.833333         0.0           2       1   6.586667   \n",
       "41192     195.350000         0.0           2       1   6.991667   \n",
       "41193     399.200000         0.0           2       1   5.943333   \n",
       "\n",
       "       cos_wind_dir_t-2  ...  season_t-0  am_t-0  speed_forecast  \\\n",
       "0              0.847033  ...         3.0     1.0        0.981995   \n",
       "1              0.929234  ...         3.0     1.0        0.865024   \n",
       "2              0.812413  ...         3.0     1.0        0.851891   \n",
       "3              0.472097  ...         3.0     1.0        0.995341   \n",
       "4              0.387166  ...         3.0     1.0        1.663903   \n",
       "...                 ...  ...         ...     ...             ...   \n",
       "41189          0.432306  ...         2.0     1.0        4.433668   \n",
       "41190          0.352723  ...         2.0     1.0        4.515664   \n",
       "41191          0.332257  ...         2.0     1.0        5.235801   \n",
       "41192          0.376279  ...         2.0     1.0        6.491903   \n",
       "41193          0.544459  ...         2.0     1.0        7.410565   \n",
       "\n",
       "       temp_forecast  rad_forecast  precip_forecast  cos_wind_dir_forecast  \\\n",
       "0          19.389978      0.000000         0.026673               0.981373   \n",
       "1          19.629999    142.224380         0.025757               0.990156   \n",
       "2          20.269983    342.239685         0.019653               0.998515   \n",
       "3          21.350031    526.759399         0.000000               0.984512   \n",
       "4          22.800043    682.376343         0.011108               0.846408   \n",
       "...              ...           ...              ...                    ...   \n",
       "41189      23.660028    679.767029         0.000000               0.703140   \n",
       "41190      26.170099    809.752869         0.000000               0.828533   \n",
       "41191      28.230066    892.760315         0.000000               0.930070   \n",
       "41192      29.119928    923.132385         0.000000               0.972812   \n",
       "41193      28.930078    898.799377         0.000000               0.977998   \n",
       "\n",
       "       sin_wind_dir_forecast   cos_day      cos_hour  \n",
       "0                   0.192114  0.999852  7.071068e-01  \n",
       "1                   0.139970  0.999852  5.000000e-01  \n",
       "2                   0.054470  0.999852  2.588190e-01  \n",
       "3                  -0.175315  0.999852  6.123234e-17  \n",
       "4                  -0.532535  0.999852 -2.588190e-01  \n",
       "...                      ...       ...           ...  \n",
       "41189               0.711051  0.994671 -2.588190e-01  \n",
       "41190               0.559940  0.994671 -5.000000e-01  \n",
       "41191               0.367383  0.994671 -7.071068e-01  \n",
       "41192               0.231596  0.994671 -8.660254e-01  \n",
       "41193               0.208613  0.994671 -9.659258e-01  \n",
       "\n",
       "[41194 rows x 40 columns]"
      ]
     },
     "execution_count": 12,
     "metadata": {},
     "output_type": "execute_result"
    }
   ],
   "source": [
    "#prepare x, y\n",
    "def prepare_x_y(past_n_steps, pred_period, param):\n",
    "    \n",
    "    #get measurement data and forecast data: \n",
    "    measurement=prep.prepare_measurement()\n",
    "    forecast = prep.prepare_forecast()\n",
    "    measurement = measurement[['speed', 'cos_wind_dir', 'sin_wind_dir', 'temp', 'radiation', 'precip', 'season', 'am']]\n",
    "    \n",
    "    # concatenate past_n_steps data \n",
    "    df1=get_past_n_steps(measurement, past_n_steps)\n",
    "    \n",
    "    # add forecast data \n",
    "    x_df = join_forecast(df1, forecast, pred_period)\n",
    "    \n",
    "    #smooth day and hour\n",
    "    x_df = smooth_day_hour(x_df)\n",
    "    \n",
    "    # define y accordingly \n",
    "    index = x_df['forecast_time'] \n",
    "    df2 = measurement[param] \n",
    "    y_df = pd.merge(df2, index, left_on = 'datetime', right_on='forecast_time' )\n",
    "    \n",
    "    #fillna: use last measurements \n",
    "    x_df.fillna(method='ffill', inplace=True)\n",
    "    y_df.fillna(method='ffill', inplace=True) \n",
    "\n",
    "    #dropna\n",
    "    x_df.dropna(axis=1, inplace=True)\n",
    "    y_df.dropna(axis=1, inplace=True)\n",
    "    \n",
    "    #select intersection of the forecast times:\n",
    "    index2= y_df['forecast_time']\n",
    "    x_df = pd.merge(x_df, index2, left_on = 'forecast_time', right_on='forecast_time')\n",
    "    \n",
    "    #change df to array, drop datetime columns \n",
    "    x, y = df_to_array(x_df, y_df)\n",
    "    return x_df, y_df, x, y \n",
    "\n",
    "x_df, y_df, x, y = prepare_x_y(3, 3, 'speed')\n",
    "x_df"
   ]
  },
  {
   "cell_type": "code",
   "execution_count": 24,
   "metadata": {
    "scrolled": true
   },
   "outputs": [],
   "source": [
    "# #check that the missing data gap is still there: \n",
    "# temp = x_df.copy()\n",
    "# temp.set_index(['present_time'], inplace=True)\n",
    "# temp['speed_t-0'].plot()\n",
    "# plt.show()\n",
    "\n",
    "# temp = y_df.copy()\n",
    "# temp.set_index(['forecast_time'], inplace=True)\n",
    "# temp['speed'].plot()\n",
    "# plt.show()"
   ]
  },
  {
   "cell_type": "code",
   "execution_count": 13,
   "metadata": {},
   "outputs": [
    {
     "ename": "KeyError",
     "evalue": "\"['present_time' 'forecast_time'] not found in axis\"",
     "output_type": "error",
     "traceback": [
      "\u001b[0;31m---------------------------------------------------------------------------\u001b[0m",
      "\u001b[0;31mKeyError\u001b[0m                                  Traceback (most recent call last)",
      "\u001b[0;32m<ipython-input-13-a0f184ee2156>\u001b[0m in \u001b[0;36m<module>\u001b[0;34m\u001b[0m\n\u001b[0;32m----> 1\u001b[0;31m \u001b[0mx\u001b[0m\u001b[0;34m,\u001b[0m \u001b[0my\u001b[0m \u001b[0;34m=\u001b[0m \u001b[0mdf_to_array\u001b[0m\u001b[0;34m(\u001b[0m\u001b[0mx_df\u001b[0m\u001b[0;34m,\u001b[0m \u001b[0my_df\u001b[0m\u001b[0;34m)\u001b[0m\u001b[0;34m\u001b[0m\u001b[0;34m\u001b[0m\u001b[0m\n\u001b[0m\u001b[1;32m      2\u001b[0m \u001b[0mx\u001b[0m\u001b[0;34m.\u001b[0m\u001b[0mshape\u001b[0m\u001b[0;34m,\u001b[0m \u001b[0my\u001b[0m\u001b[0;34m.\u001b[0m\u001b[0mshape\u001b[0m\u001b[0;34m\u001b[0m\u001b[0;34m\u001b[0m\u001b[0m\n",
      "\u001b[0;32m<ipython-input-9-b032b378c59b>\u001b[0m in \u001b[0;36mdf_to_array\u001b[0;34m(x_df, y_df)\u001b[0m\n\u001b[1;32m      2\u001b[0m \u001b[0;32mdef\u001b[0m \u001b[0mdf_to_array\u001b[0m\u001b[0;34m(\u001b[0m\u001b[0mx_df\u001b[0m\u001b[0;34m,\u001b[0m \u001b[0my_df\u001b[0m\u001b[0;34m)\u001b[0m\u001b[0;34m:\u001b[0m\u001b[0;34m\u001b[0m\u001b[0;34m\u001b[0m\u001b[0m\n\u001b[1;32m      3\u001b[0m     \u001b[0;31m#drop timestamp columns\u001b[0m\u001b[0;34m\u001b[0m\u001b[0;34m\u001b[0m\u001b[0;34m\u001b[0m\u001b[0m\n\u001b[0;32m----> 4\u001b[0;31m     \u001b[0mx_df\u001b[0m\u001b[0;34m.\u001b[0m\u001b[0mdrop\u001b[0m\u001b[0;34m(\u001b[0m\u001b[0;34m[\u001b[0m\u001b[0;34m'present_time'\u001b[0m\u001b[0;34m,\u001b[0m\u001b[0;34m'forecast_time'\u001b[0m\u001b[0;34m]\u001b[0m\u001b[0;34m,\u001b[0m \u001b[0maxis\u001b[0m\u001b[0;34m=\u001b[0m\u001b[0;36m1\u001b[0m\u001b[0;34m,\u001b[0m \u001b[0minplace\u001b[0m\u001b[0;34m=\u001b[0m\u001b[0;32mTrue\u001b[0m\u001b[0;34m)\u001b[0m\u001b[0;34m\u001b[0m\u001b[0;34m\u001b[0m\u001b[0m\n\u001b[0m\u001b[1;32m      5\u001b[0m     \u001b[0my_df\u001b[0m\u001b[0;34m.\u001b[0m\u001b[0mdrop\u001b[0m\u001b[0;34m(\u001b[0m\u001b[0;34m[\u001b[0m\u001b[0;34m'forecast_time'\u001b[0m\u001b[0;34m]\u001b[0m\u001b[0;34m,\u001b[0m \u001b[0maxis\u001b[0m\u001b[0;34m=\u001b[0m\u001b[0;36m1\u001b[0m\u001b[0;34m,\u001b[0m \u001b[0minplace\u001b[0m\u001b[0;34m=\u001b[0m\u001b[0;32mTrue\u001b[0m\u001b[0;34m)\u001b[0m\u001b[0;34m\u001b[0m\u001b[0;34m\u001b[0m\u001b[0m\n\u001b[1;32m      6\u001b[0m \u001b[0;34m\u001b[0m\u001b[0m\n",
      "\u001b[0;32m~/anaconda3/lib/python3.6/site-packages/pandas/core/frame.py\u001b[0m in \u001b[0;36mdrop\u001b[0;34m(self, labels, axis, index, columns, level, inplace, errors)\u001b[0m\n\u001b[1;32m   3995\u001b[0m             \u001b[0mlevel\u001b[0m\u001b[0;34m=\u001b[0m\u001b[0mlevel\u001b[0m\u001b[0;34m,\u001b[0m\u001b[0;34m\u001b[0m\u001b[0;34m\u001b[0m\u001b[0m\n\u001b[1;32m   3996\u001b[0m             \u001b[0minplace\u001b[0m\u001b[0;34m=\u001b[0m\u001b[0minplace\u001b[0m\u001b[0;34m,\u001b[0m\u001b[0;34m\u001b[0m\u001b[0;34m\u001b[0m\u001b[0m\n\u001b[0;32m-> 3997\u001b[0;31m             \u001b[0merrors\u001b[0m\u001b[0;34m=\u001b[0m\u001b[0merrors\u001b[0m\u001b[0;34m,\u001b[0m\u001b[0;34m\u001b[0m\u001b[0;34m\u001b[0m\u001b[0m\n\u001b[0m\u001b[1;32m   3998\u001b[0m         )\n\u001b[1;32m   3999\u001b[0m \u001b[0;34m\u001b[0m\u001b[0m\n",
      "\u001b[0;32m~/anaconda3/lib/python3.6/site-packages/pandas/core/generic.py\u001b[0m in \u001b[0;36mdrop\u001b[0;34m(self, labels, axis, index, columns, level, inplace, errors)\u001b[0m\n\u001b[1;32m   3934\u001b[0m         \u001b[0;32mfor\u001b[0m \u001b[0maxis\u001b[0m\u001b[0;34m,\u001b[0m \u001b[0mlabels\u001b[0m \u001b[0;32min\u001b[0m \u001b[0maxes\u001b[0m\u001b[0;34m.\u001b[0m\u001b[0mitems\u001b[0m\u001b[0;34m(\u001b[0m\u001b[0;34m)\u001b[0m\u001b[0;34m:\u001b[0m\u001b[0;34m\u001b[0m\u001b[0;34m\u001b[0m\u001b[0m\n\u001b[1;32m   3935\u001b[0m             \u001b[0;32mif\u001b[0m \u001b[0mlabels\u001b[0m \u001b[0;32mis\u001b[0m \u001b[0;32mnot\u001b[0m \u001b[0;32mNone\u001b[0m\u001b[0;34m:\u001b[0m\u001b[0;34m\u001b[0m\u001b[0;34m\u001b[0m\u001b[0m\n\u001b[0;32m-> 3936\u001b[0;31m                 \u001b[0mobj\u001b[0m \u001b[0;34m=\u001b[0m \u001b[0mobj\u001b[0m\u001b[0;34m.\u001b[0m\u001b[0m_drop_axis\u001b[0m\u001b[0;34m(\u001b[0m\u001b[0mlabels\u001b[0m\u001b[0;34m,\u001b[0m \u001b[0maxis\u001b[0m\u001b[0;34m,\u001b[0m \u001b[0mlevel\u001b[0m\u001b[0;34m=\u001b[0m\u001b[0mlevel\u001b[0m\u001b[0;34m,\u001b[0m \u001b[0merrors\u001b[0m\u001b[0;34m=\u001b[0m\u001b[0merrors\u001b[0m\u001b[0;34m)\u001b[0m\u001b[0;34m\u001b[0m\u001b[0;34m\u001b[0m\u001b[0m\n\u001b[0m\u001b[1;32m   3937\u001b[0m \u001b[0;34m\u001b[0m\u001b[0m\n\u001b[1;32m   3938\u001b[0m         \u001b[0;32mif\u001b[0m \u001b[0minplace\u001b[0m\u001b[0;34m:\u001b[0m\u001b[0;34m\u001b[0m\u001b[0;34m\u001b[0m\u001b[0m\n",
      "\u001b[0;32m~/anaconda3/lib/python3.6/site-packages/pandas/core/generic.py\u001b[0m in \u001b[0;36m_drop_axis\u001b[0;34m(self, labels, axis, level, errors)\u001b[0m\n\u001b[1;32m   3968\u001b[0m                 \u001b[0mnew_axis\u001b[0m \u001b[0;34m=\u001b[0m \u001b[0maxis\u001b[0m\u001b[0;34m.\u001b[0m\u001b[0mdrop\u001b[0m\u001b[0;34m(\u001b[0m\u001b[0mlabels\u001b[0m\u001b[0;34m,\u001b[0m \u001b[0mlevel\u001b[0m\u001b[0;34m=\u001b[0m\u001b[0mlevel\u001b[0m\u001b[0;34m,\u001b[0m \u001b[0merrors\u001b[0m\u001b[0;34m=\u001b[0m\u001b[0merrors\u001b[0m\u001b[0;34m)\u001b[0m\u001b[0;34m\u001b[0m\u001b[0;34m\u001b[0m\u001b[0m\n\u001b[1;32m   3969\u001b[0m             \u001b[0;32melse\u001b[0m\u001b[0;34m:\u001b[0m\u001b[0;34m\u001b[0m\u001b[0;34m\u001b[0m\u001b[0m\n\u001b[0;32m-> 3970\u001b[0;31m                 \u001b[0mnew_axis\u001b[0m \u001b[0;34m=\u001b[0m \u001b[0maxis\u001b[0m\u001b[0;34m.\u001b[0m\u001b[0mdrop\u001b[0m\u001b[0;34m(\u001b[0m\u001b[0mlabels\u001b[0m\u001b[0;34m,\u001b[0m \u001b[0merrors\u001b[0m\u001b[0;34m=\u001b[0m\u001b[0merrors\u001b[0m\u001b[0;34m)\u001b[0m\u001b[0;34m\u001b[0m\u001b[0;34m\u001b[0m\u001b[0m\n\u001b[0m\u001b[1;32m   3971\u001b[0m             \u001b[0mresult\u001b[0m \u001b[0;34m=\u001b[0m \u001b[0mself\u001b[0m\u001b[0;34m.\u001b[0m\u001b[0mreindex\u001b[0m\u001b[0;34m(\u001b[0m\u001b[0;34m**\u001b[0m\u001b[0;34m{\u001b[0m\u001b[0maxis_name\u001b[0m\u001b[0;34m:\u001b[0m \u001b[0mnew_axis\u001b[0m\u001b[0;34m}\u001b[0m\u001b[0;34m)\u001b[0m\u001b[0;34m\u001b[0m\u001b[0;34m\u001b[0m\u001b[0m\n\u001b[1;32m   3972\u001b[0m \u001b[0;34m\u001b[0m\u001b[0m\n",
      "\u001b[0;32m~/anaconda3/lib/python3.6/site-packages/pandas/core/indexes/base.py\u001b[0m in \u001b[0;36mdrop\u001b[0;34m(self, labels, errors)\u001b[0m\n\u001b[1;32m   5015\u001b[0m         \u001b[0;32mif\u001b[0m \u001b[0mmask\u001b[0m\u001b[0;34m.\u001b[0m\u001b[0many\u001b[0m\u001b[0;34m(\u001b[0m\u001b[0;34m)\u001b[0m\u001b[0;34m:\u001b[0m\u001b[0;34m\u001b[0m\u001b[0;34m\u001b[0m\u001b[0m\n\u001b[1;32m   5016\u001b[0m             \u001b[0;32mif\u001b[0m \u001b[0merrors\u001b[0m \u001b[0;34m!=\u001b[0m \u001b[0;34m\"ignore\"\u001b[0m\u001b[0;34m:\u001b[0m\u001b[0;34m\u001b[0m\u001b[0;34m\u001b[0m\u001b[0m\n\u001b[0;32m-> 5017\u001b[0;31m                 \u001b[0;32mraise\u001b[0m \u001b[0mKeyError\u001b[0m\u001b[0;34m(\u001b[0m\u001b[0;34mf\"{labels[mask]} not found in axis\"\u001b[0m\u001b[0;34m)\u001b[0m\u001b[0;34m\u001b[0m\u001b[0;34m\u001b[0m\u001b[0m\n\u001b[0m\u001b[1;32m   5018\u001b[0m             \u001b[0mindexer\u001b[0m \u001b[0;34m=\u001b[0m \u001b[0mindexer\u001b[0m\u001b[0;34m[\u001b[0m\u001b[0;34m~\u001b[0m\u001b[0mmask\u001b[0m\u001b[0;34m]\u001b[0m\u001b[0;34m\u001b[0m\u001b[0;34m\u001b[0m\u001b[0m\n\u001b[1;32m   5019\u001b[0m         \u001b[0;32mreturn\u001b[0m \u001b[0mself\u001b[0m\u001b[0;34m.\u001b[0m\u001b[0mdelete\u001b[0m\u001b[0;34m(\u001b[0m\u001b[0mindexer\u001b[0m\u001b[0;34m)\u001b[0m\u001b[0;34m\u001b[0m\u001b[0;34m\u001b[0m\u001b[0m\n",
      "\u001b[0;31mKeyError\u001b[0m: \"['present_time' 'forecast_time'] not found in axis\""
     ]
    }
   ],
   "source": [
    "x, y = df_to_array(x_df, y_df)\n",
    "x.shape, y.shape"
   ]
  },
  {
   "cell_type": "code",
   "execution_count": 14,
   "metadata": {},
   "outputs": [],
   "source": [
    "def scale_data_X_y(df_measurement, df_forecast, past_n_steps, pred_period, param='speed', test_size = 0.2):\n",
    "    x_df, y_df = prepare_x_y(df_measurement, df_forecast, past_n_steps, pred_period, param)  \n",
    "    X, y = df_to_array(x_df, y_df)\n",
    "    X_train, X_test, y_train, y_test = train_test_split(X, y, test_size=test_size, shuffle = False)\n",
    "    scaler_X = MinMaxScaler(feature_range=(0, 1))\n",
    "    scaler_y = MinMaxScaler(feature_range=(0, 1))\n",
    "    \n",
    "    X_train_scaled = scaler_X.fit_transform(X_train)\n",
    "    X_test_scaled = scaler_X.transform(X_test)\n",
    "    y_train_scaled = scaler_y.fit_transform(y_train.reshape(-1,1))\n",
    "    y_train_scaled = y_train_scaled.reshape(-1)\n",
    "    y_test_scaled = scaler_y.transform(y_test.reshape(-1,1))\n",
    "    y_test_scaled = y_test_scaled.reshape(-1)\n",
    "    \n",
    "    return X_train_scaled, X_test_scaled, y_train_scaled, y_test_scaled, X_train, X_test, y_train, y_test, scaler_X, scaler_y"
   ]
  },
  {
   "cell_type": "code",
   "execution_count": 15,
   "metadata": {},
   "outputs": [
    {
     "ename": "TypeError",
     "evalue": "prepare_x_y() takes 3 positional arguments but 5 were given",
     "output_type": "error",
     "traceback": [
      "\u001b[0;31m---------------------------------------------------------------------------\u001b[0m",
      "\u001b[0;31mTypeError\u001b[0m                                 Traceback (most recent call last)",
      "\u001b[0;32m<ipython-input-15-8c5529273e23>\u001b[0m in \u001b[0;36m<module>\u001b[0;34m\u001b[0m\n\u001b[0;32m----> 1\u001b[0;31m \u001b[0m_\u001b[0m\u001b[0;34m,\u001b[0m \u001b[0m_\u001b[0m\u001b[0;34m,\u001b[0m \u001b[0m_\u001b[0m\u001b[0;34m,\u001b[0m \u001b[0m_\u001b[0m\u001b[0;34m,\u001b[0m \u001b[0mX_train\u001b[0m\u001b[0;34m,\u001b[0m \u001b[0mX_test\u001b[0m\u001b[0;34m,\u001b[0m \u001b[0my_train\u001b[0m\u001b[0;34m,\u001b[0m \u001b[0my_test\u001b[0m\u001b[0;34m,\u001b[0m \u001b[0m_\u001b[0m\u001b[0;34m,\u001b[0m \u001b[0m_\u001b[0m \u001b[0;34m=\u001b[0m \u001b[0mscale_data_X_y\u001b[0m\u001b[0;34m(\u001b[0m\u001b[0mdf0\u001b[0m\u001b[0;34m,\u001b[0m \u001b[0mforecast\u001b[0m\u001b[0;34m,\u001b[0m \u001b[0;36m24\u001b[0m\u001b[0;34m,\u001b[0m \u001b[0;36m24\u001b[0m\u001b[0;34m,\u001b[0m \u001b[0mparam\u001b[0m\u001b[0;34m=\u001b[0m\u001b[0;34m'speed'\u001b[0m\u001b[0;34m)\u001b[0m\u001b[0;34m\u001b[0m\u001b[0;34m\u001b[0m\u001b[0m\n\u001b[0m",
      "\u001b[0;32m<ipython-input-14-94f3ed7ef481>\u001b[0m in \u001b[0;36mscale_data_X_y\u001b[0;34m(df_measurement, df_forecast, past_n_steps, pred_period, param, test_size)\u001b[0m\n\u001b[1;32m      1\u001b[0m \u001b[0;32mdef\u001b[0m \u001b[0mscale_data_X_y\u001b[0m\u001b[0;34m(\u001b[0m\u001b[0mdf_measurement\u001b[0m\u001b[0;34m,\u001b[0m \u001b[0mdf_forecast\u001b[0m\u001b[0;34m,\u001b[0m \u001b[0mpast_n_steps\u001b[0m\u001b[0;34m,\u001b[0m \u001b[0mpred_period\u001b[0m\u001b[0;34m,\u001b[0m \u001b[0mparam\u001b[0m\u001b[0;34m=\u001b[0m\u001b[0;34m'speed'\u001b[0m\u001b[0;34m,\u001b[0m \u001b[0mtest_size\u001b[0m \u001b[0;34m=\u001b[0m \u001b[0;36m0.2\u001b[0m\u001b[0;34m)\u001b[0m\u001b[0;34m:\u001b[0m\u001b[0;34m\u001b[0m\u001b[0;34m\u001b[0m\u001b[0m\n\u001b[0;32m----> 2\u001b[0;31m     \u001b[0mx_df\u001b[0m\u001b[0;34m,\u001b[0m \u001b[0my_df\u001b[0m \u001b[0;34m=\u001b[0m \u001b[0mprepare_x_y\u001b[0m\u001b[0;34m(\u001b[0m\u001b[0mdf_measurement\u001b[0m\u001b[0;34m,\u001b[0m \u001b[0mdf_forecast\u001b[0m\u001b[0;34m,\u001b[0m \u001b[0mpast_n_steps\u001b[0m\u001b[0;34m,\u001b[0m \u001b[0mpred_period\u001b[0m\u001b[0;34m,\u001b[0m \u001b[0mparam\u001b[0m\u001b[0;34m)\u001b[0m\u001b[0;34m\u001b[0m\u001b[0;34m\u001b[0m\u001b[0m\n\u001b[0m\u001b[1;32m      3\u001b[0m     \u001b[0mX\u001b[0m\u001b[0;34m,\u001b[0m \u001b[0my\u001b[0m \u001b[0;34m=\u001b[0m \u001b[0mdf_to_array\u001b[0m\u001b[0;34m(\u001b[0m\u001b[0mx_df\u001b[0m\u001b[0;34m,\u001b[0m \u001b[0my_df\u001b[0m\u001b[0;34m)\u001b[0m\u001b[0;34m\u001b[0m\u001b[0;34m\u001b[0m\u001b[0m\n\u001b[1;32m      4\u001b[0m     \u001b[0mX_train\u001b[0m\u001b[0;34m,\u001b[0m \u001b[0mX_test\u001b[0m\u001b[0;34m,\u001b[0m \u001b[0my_train\u001b[0m\u001b[0;34m,\u001b[0m \u001b[0my_test\u001b[0m \u001b[0;34m=\u001b[0m \u001b[0mtrain_test_split\u001b[0m\u001b[0;34m(\u001b[0m\u001b[0mX\u001b[0m\u001b[0;34m,\u001b[0m \u001b[0my\u001b[0m\u001b[0;34m,\u001b[0m \u001b[0mtest_size\u001b[0m\u001b[0;34m=\u001b[0m\u001b[0mtest_size\u001b[0m\u001b[0;34m,\u001b[0m \u001b[0mshuffle\u001b[0m \u001b[0;34m=\u001b[0m \u001b[0;32mFalse\u001b[0m\u001b[0;34m)\u001b[0m\u001b[0;34m\u001b[0m\u001b[0;34m\u001b[0m\u001b[0m\n\u001b[1;32m      5\u001b[0m     \u001b[0mscaler_X\u001b[0m \u001b[0;34m=\u001b[0m \u001b[0mMinMaxScaler\u001b[0m\u001b[0;34m(\u001b[0m\u001b[0mfeature_range\u001b[0m\u001b[0;34m=\u001b[0m\u001b[0;34m(\u001b[0m\u001b[0;36m0\u001b[0m\u001b[0;34m,\u001b[0m \u001b[0;36m1\u001b[0m\u001b[0;34m)\u001b[0m\u001b[0;34m)\u001b[0m\u001b[0;34m\u001b[0m\u001b[0;34m\u001b[0m\u001b[0m\n",
      "\u001b[0;31mTypeError\u001b[0m: prepare_x_y() takes 3 positional arguments but 5 were given"
     ]
    }
   ],
   "source": [
    "_, _, _, _, X_train, X_test, y_train, y_test, _, _ = scale_data_X_y(df0, forecast, 24, 24, param='speed')"
   ]
  },
  {
   "cell_type": "code",
   "execution_count": 20,
   "metadata": {},
   "outputs": [
    {
     "name": "stdout",
     "output_type": "stream",
     "text": [
      "[14:03:23] WARNING: src/objective/regression_obj.cu:152: reg:linear is now deprecated in favor of reg:squarederror.\n"
     ]
    }
   ],
   "source": [
    "xg_speed = XGBRegressor(max_depth = 5)\n",
    "xg_speed.fit(X_train, y_train)\n",
    "y_hat = xg_speed.predict(X_test)"
   ]
  },
  {
   "cell_type": "code",
   "execution_count": 21,
   "metadata": {},
   "outputs": [
    {
     "name": "stdout",
     "output_type": "stream",
     "text": [
      "MSE speed is:  0.9145315287685044\n",
      "MAE speed is:  0.7399520577531989\n"
     ]
    }
   ],
   "source": [
    "print(\"MSE speed is: \", mean_squared_error(y_test, y_hat))\n",
    "print(\"MAE speed is: \", mean_absolute_error(y_test, y_hat))"
   ]
  },
  {
   "cell_type": "code",
   "execution_count": 22,
   "metadata": {},
   "outputs": [
    {
     "data": {
      "text/plain": [
       "[<matplotlib.lines.Line2D at 0x1a246ee438>]"
      ]
     },
     "execution_count": 22,
     "metadata": {},
     "output_type": "execute_result"
    },
    {
     "data": {
      "image/png": "[encoded data removed]",
      "text/plain": [
       "<matplotlib.figure.Figure at 0x1a2a39e978>"
      ]
     },
     "metadata": {
      "needs_background": "light"
     },
     "output_type": "display_data"
    }
   ],
   "source": [
    "plt.plot(y_hat[:200]) \n",
    "plt.plot(y_test[:200])"
   ]
  },
  {
   "cell_type": "code",
   "execution_count": 19,
   "metadata": {},
   "outputs": [],
   "source": [
    "X_train, X_test, y_train, y_test = train_test_split(x, y, test_size=0.2, shuffle = False)"
   ]
  }
 ],
 "metadata": {
  "kernelspec": {
   "display_name": "Python 3",
   "language": "python",
   "name": "python3"
  },
  "language_info": {
   "codemirror_mode": {
    "name": "ipython",
    "version": 3
   },
   "file_extension": ".py",
   "mimetype": "text/x-python",
   "name": "python",
   "nbconvert_exporter": "python",
   "pygments_lexer": "ipython3",
   "version": "3.6.8"
  }
 },
 "nbformat": 4,
 "nbformat_minor": 2
}
