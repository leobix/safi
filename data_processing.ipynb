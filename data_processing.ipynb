{
 "cells": [
  {
   "cell_type": "code",
   "execution_count": 67,
   "metadata": {},
   "outputs": [],
   "source": [
    "import pandas as pd\n",
    "import numpy as np\n",
    "import matplotlib.pyplot as plt\n",
    "from datetime import date, datetime, timedelta\n",
    "import data_preperation as prep\n",
    "from sklearn.model_selection import train_test_split\n",
    "from sklearn.preprocessing import MinMaxScaler\n",
    "\n",
    "import warnings\n",
    "warnings.filterwarnings('ignore')"
   ]
  },
  {
   "cell_type": "code",
   "execution_count": 99,
   "metadata": {},
   "outputs": [],
   "source": [
    "from sklearn.metrics import mean_squared_error\n",
    "from sklearn.metrics import mean_absolute_error\n",
    "from xgboost import XGBRegressor"
   ]
  },
  {
   "cell_type": "code",
   "execution_count": 48,
   "metadata": {},
   "outputs": [
    {
     "name": "stdout",
     "output_type": "stream",
     "text": [
      "read csv semester csv files from 2015s2 to 2020s1\n",
      "smooth wind direction\n",
      "generate seasonality categorical feature\n",
      "generate day/night categorical feature\n",
      "reading forecast data\n",
      "smooth wind direction\n"
     ]
    }
   ],
   "source": [
    "#get measurement data and forecast data: \n",
    "df0=prep.prepare_measurement()\n",
    "forecast = prep.prepare_forecast()\n",
    "df0 = df0[['speed', 'cos_wind_dir', 'sin_wind_dir', 'temp', 'radiation', 'precip', 'season', 'day']]"
   ]
  },
  {
   "cell_type": "code",
   "execution_count": 3,
   "metadata": {},
   "outputs": [],
   "source": [
    "# data_merge, data, forecast = prepare_data_with_forecast(data, keep_only_last=False)\n",
    "def get_past_n_steps(df, steps_in):\n",
    "    #rename column to most remote data\n",
    "    df_out = df.copy().add_suffix('_t-'+str(steps_in))\n",
    "    #t-i remote data\n",
    "    for i in range(1, steps_in+1):\n",
    "        df_temp = df.copy().add_suffix('_t-'+str(steps_in-i)) #rename column\n",
    "        df_temp= df_temp.shift(periods=-i, axis=0) #shift down i row\n",
    "        df_out=df_out.join(df_temp, how = 'inner')#join\n",
    "    #shift index to present time (+steps_in)\n",
    "    df_out['datetime_now']=df_out.index.to_series()+timedelta(hours=steps_in)\n",
    "    df_out.set_index(pd.DatetimeIndex(df_out['datetime_now']), inplace=True)\n",
    "    return df_out"
   ]
  },
  {
   "cell_type": "code",
   "execution_count": 12,
   "metadata": {},
   "outputs": [],
   "source": [
    "def join_forecast(df, forecast, predict): \n",
    "    \n",
    "    #crop out forecast if forecast period is less than prediction period\n",
    "    forecast = forecast.loc[forecast['f_period']>= predict]\n",
    "    forecast = prep.keep_last_forecast(forecast) \n",
    "    forecast = forecast.add_suffix('_forecast')\n",
    "#     forecast.drop(['f_date','p_date'], axis=1, inplace=True)\n",
    "    \n",
    "    #join forecast with data \n",
    "    df['datetime_predict']=df['datetime_now']+timedelta(hours=predict)\n",
    "    df.set_index(df['datetime_predict'], inplace=True)\n",
    "    \n",
    "    df_out = df.join(forecast, how= 'left')\n",
    "    return df_out \n",
    "\n",
    "\n"
   ]
  },
  {
   "cell_type": "code",
   "execution_count": 75,
   "metadata": {},
   "outputs": [],
   "source": [
    "#define y according to x_df and prediction period \n",
    "def get_y(x_df, predict, param = 'speed_t-0'):\n",
    "    y_df = x_df[param] \n",
    "    #shift df by prediction period \n",
    "    y_df = y_df[predict:]\n",
    "    x_df = x_df[:-predict]\n",
    "    return x_df, y_df \n",
    "\n",
    "#change x,y to array like \n",
    "def df_to_array(X_df, Y_df):\n",
    "    #drop timestamp columns\n",
    "    X_df.drop(['datetime_now','datetime_predict'], axis=1, inplace=True)\n",
    "    #forward fill: use last forecast\n",
    "    X_df.fillna(method='ffill', inplace=True)\n",
    "    Y_df.fillna(method='ffill', inplace=True) \n",
    "    #dropna after filling nan \n",
    "    X_df.dropna(axis=1, inplace=True)\n",
    "    X_df.dropna(axis=1, inplace=True)\n",
    "    X = X_df.values\n",
    "    Y = Y_df.values \n",
    "    return X, Y\n",
    "\n",
    "def prepare_x_y(past_period, predict_period, historical_df, forecast_df, param = 'speed_t-0'):\n",
    "    # concatenate past_n_steps data \n",
    "    df=get_past_n_steps(historical_df, past_period)\n",
    "    # add forecast according to prediction period \n",
    "    x_df = join_forecast(df, forecast_df, predict_period)\n",
    "    # define y according to x \n",
    "    x_df, y_df = get_y(x_df, predict_period, param)\n",
    "    # change dataframe to array\n",
    "    x, y = df_to_array(x_df, y_df) \n",
    "    return x, y"
   ]
  },
  {
   "cell_type": "code",
   "execution_count": 76,
   "metadata": {},
   "outputs": [],
   "source": [
    "def get_x_y(steps_in, steps_out, param = 'speed_t-0'):\n",
    "    df0 = prep.prepare_measurement()\n",
    "    #keep only relevant features\n",
    "    df0 = df0[['speed', 'cos_wind_dir', 'sin_wind_dir', 'temp', 'radiation', 'precip', 'season', 'day']]\n",
    "    forecast = prep.prepare_forecast()\n",
    "    x, y = prepare_x_y(steps_in, steps_out, df0, forecast, param)\n",
    "    return x, y"
   ]
  },
  {
   "cell_type": "code",
   "execution_count": 89,
   "metadata": {},
   "outputs": [
    {
     "name": "stdout",
     "output_type": "stream",
     "text": [
      "read csv semester csv files from 2015s2 to 2020s1\n",
      "smooth wind direction\n",
      "generate seasonality categorical feature\n",
      "generate day/night categorical feature\n",
      "reading forecast data\n",
      "smooth wind direction\n"
     ]
    }
   ],
   "source": [
    "x, y = get_x_y(1,1)"
   ]
  },
  {
   "cell_type": "code",
   "execution_count": 88,
   "metadata": {},
   "outputs": [
    {
     "data": {
      "text/plain": [
       "0.0"
      ]
     },
     "execution_count": 88,
     "metadata": {},
     "output_type": "execute_result"
    }
   ],
   "source": [
    "x.all()"
   ]
  },
  {
   "cell_type": "code",
   "execution_count": 93,
   "metadata": {},
   "outputs": [],
   "source": [
    "def scale_data_X_y(steps_in, steps_out, test_size = 0.2, param = 'speed_t-0'):\n",
    "    \n",
    "    X, y = get_x_y(steps_in, steps_out, param)\n",
    "    X_train, X_test, y_train, y_test = train_test_split(X, y, test_size=test_size, shuffle = False)\n",
    "    scaler_X = MinMaxScaler(feature_range=(0, 1))\n",
    "    scaler_y = MinMaxScaler(feature_range=(0, 1))\n",
    "    \n",
    "    X_train_scaled = scaler_X.fit_transform(X_train)\n",
    "    X_test_scaled = scaler_X.transform(X_test)\n",
    "    y_train_scaled = scaler_y.fit_transform(y_train.reshape(-1,1))\n",
    "    y_train_scaled = y_train_scaled.reshape(-1)\n",
    "    y_test_scaled = scaler_y.transform(y_test.reshape(-1,1))\n",
    "    y_test_scaled = y_test_scaled.reshape(-1)\n",
    "    \n",
    "    return X_train_scaled, X_test_scaled, y_train_scaled, y_test_scaled, X_train, X_test, y_train, y_test, scaler_X, scaler_y"
   ]
  },
  {
   "cell_type": "code",
   "execution_count": 104,
   "metadata": {},
   "outputs": [
    {
     "name": "stdout",
     "output_type": "stream",
     "text": [
      "read csv semester csv files from 2015s2 to 2020s1\n",
      "smooth wind direction\n",
      "generate seasonality categorical feature\n",
      "generate day/night categorical feature\n",
      "reading forecast data\n",
      "smooth wind direction\n"
     ]
    }
   ],
   "source": [
    "_, _, _, _, X_train, X_test, y_train, y_test, _, _ = scale_data_X_y(24, 24)"
   ]
  },
  {
   "cell_type": "code",
   "execution_count": 105,
   "metadata": {},
   "outputs": [
    {
     "name": "stdout",
     "output_type": "stream",
     "text": [
      "[22:18:41] WARNING: src/objective/regression_obj.cu:152: reg:linear is now deprecated in favor of reg:squarederror.\n"
     ]
    }
   ],
   "source": [
    "xg_speed = XGBRegressor(max_depth = 5)\n",
    "xg_speed.fit(X_train, y_train)\n",
    "y_hat_speed = xg_speed.predict(X_test)"
   ]
  },
  {
   "cell_type": "code",
   "execution_count": 106,
   "metadata": {},
   "outputs": [
    {
     "name": "stdout",
     "output_type": "stream",
     "text": [
      "MSE speed is:  0.8166834458382017\n",
      "MAE speed is:  0.6939324695869339\n"
     ]
    }
   ],
   "source": [
    "print(\"MSE speed is: \", mean_squared_error(y_test, y_hat_speed))\n",
    "print(\"MAE speed is: \", mean_absolute_error(y_test, y_hat_speed))"
   ]
  }
 ],
 "metadata": {
  "kernelspec": {
   "display_name": "Python 3",
   "language": "python",
   "name": "python3"
  },
  "language_info": {
   "codemirror_mode": {
    "name": "ipython",
    "version": 3
   },
   "file_extension": ".py",
   "mimetype": "text/x-python",
   "name": "python",
   "nbconvert_exporter": "python",
   "pygments_lexer": "ipython3",
   "version": "3.6.8"
  }
 },
 "nbformat": 4,
 "nbformat_minor": 2
}
