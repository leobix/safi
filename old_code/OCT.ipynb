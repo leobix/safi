{
 "cells": [
  {
   "cell_type": "code",
   "execution_count": 1,
   "metadata": {},
   "outputs": [
    {
     "name": "stdout",
     "output_type": "stream",
     "text": [
      "read csv semester csv files from 2015s2 to 2020s1\n",
      "smooth wind direction\n",
      "generate seasonality categorical feature\n",
      "generate am/pm categorical feature\n",
      "reading forecast data\n",
      "smooth wind direction\n"
     ]
    }
   ],
   "source": [
    "import pandas as pd\n",
    "import numpy as np\n",
    "import matplotlib.pyplot as plt\n",
    "from datetime import date, datetime, timedelta\n",
    "import data_preperation as prep\n",
    "from sklearn.model_selection import train_test_split\n",
    "from sklearn.preprocessing import MinMaxScaler\n",
    "import warnings\n",
    "warnings.filterwarnings('ignore')\n",
    "from sklearn.metrics import mean_squared_error\n",
    "from sklearn.metrics import mean_absolute_error\n",
    "from xgboost import XGBRegressor\n",
    "from xgboost import XGBClassifier\n",
    "from sklearn.metrics import confusion_matrix\n",
    "from sklearn.metrics import accuracy_score\n",
    "from sklearn.metrics import classification_report\n",
    "\n",
    "#example of how to call preparation.py\n",
    "import data_process as proc\n",
    "import data_preperation as prep\n",
    "from utils_scenario import *\n",
    "\n",
    "from utils_baselines import *\n",
    "\n",
    "\n",
    "#call data_preperation.py \n",
    "measurement=prep.prepare_measurement()\n",
    "forecast = prep.prepare_forecast()\n",
    "\n",
    "#keep useful columns \n",
    "measurement= measurement[['speed', 'cos_wind_dir', 'sin_wind_dir', 'temp', 'radiation', 'precip', 'season', 'am']]\n",
    "\n",
    "\n",
    "#call data_process.py\n",
    "\n",
    "steps_in = 48\n",
    "steps_out = 24\n",
    "\n",
    "\n",
    "x_df, y_df, x, y_speed = proc.prepare_x_y(measurement, forecast, steps_in, steps_out, 'speed')\n",
    "_, _, _, y_cos = proc.prepare_x_y(measurement, forecast, steps_in, steps_out, 'cos_wind_dir')\n",
    "_, _, _, y_sin = proc.prepare_x_y(measurement, forecast, steps_in, steps_out, 'sin_wind_dir')\n",
    "y_scenarios = get_all_scenarios(y_speed, y_cos, y_sin, b_scenarios = True)\n",
    "y_dangerous = get_all_dangerous_scenarios(y_speed, y_cos, y_sin)\n",
    "X_train, X_test, y_train_dangerous, y_test_dangerous = train_test_split(x, y_dangerous, test_size=0.2, shuffle = False)\n",
    "_, _, y_train_scenarios, y_test_scenarios = train_test_split(x, y_scenarios, test_size=0.2, shuffle = False)\n",
    "_, _, y_train_speed, y_test_speed = train_test_split(x, y_speed, test_size=0.2, shuffle = False)\n",
    "_, _, y_train_cos, y_test_cos = train_test_split(x, y_cos, test_size=0.2, shuffle = False)\n",
    "_, _, y_train_sin, y_test_sin = train_test_split(x, y_sin, test_size=0.2, shuffle = False)"
   ]
  },
  {
   "cell_type": "code",
   "execution_count": null,
   "metadata": {},
   "outputs": [],
   "source": [
    "from julia import Julia\n",
    "Julia(sysimage='../sys.so')\n",
    "from interpretableai import iai"
   ]
  },
  {
   "cell_type": "code",
   "execution_count": 2,
   "metadata": {},
   "outputs": [],
   "source": [
    "names = list(x_df.columns)\n",
    "names.remove('present_time')\n",
    "names.remove('forecast_time')\n",
    "X_train2 = pd.DataFrame(X_train)\n",
    "X_train2.columns = names"
   ]
  },
  {
   "cell_type": "code",
   "execution_count": null,
   "metadata": {},
   "outputs": [],
   "source": [
    "grid = iai.GridSearch(\n",
    "    iai.OptimalTreeClassifier(\n",
    "        random_seed=1,\n",
    "    ),\n",
    "    max_depth=range(3, 7),\n",
    ")\n",
    "#grid.fit(X_train2, y_train_scenarios)\n",
    "grid.fit(X_train2, y_train_dangerous)"
   ]
  },
  {
   "cell_type": "code",
   "execution_count": null,
   "metadata": {},
   "outputs": [],
   "source": [
    "grid = iai.GridSearch(\n",
    "    iai.OptimalTreeClassifier(\n",
    "        random_seed=1,\n",
    "    ),\n",
    "    max_depth=range(5, 6),\n",
    ")"
   ]
  },
  {
   "cell_type": "code",
   "execution_count": null,
   "metadata": {},
   "outputs": [],
   "source": [
    "#stepsin 48, stepsout 24\n",
    "lnr = iai.OptimalTreeClassifier(random_seed=1, max_depth = 5, cp = 0.000950473)"
   ]
  },
  {
   "cell_type": "code",
   "execution_count": null,
   "metadata": {},
   "outputs": [],
   "source": [
    "(train_X, train_y), (test_X, test_y) = iai.split_data('regression', X_train, y_train_speed, train_proportion=0.99)\n",
    "grid = iai.GridSearch(\n",
    "    iai.OptimalTreeRegressor(\n",
    "        random_seed=1,\n",
    "    ),\n",
    "    max_depth=range(4, 7),\n",
    ")\n",
    "grid.fit(train_X, train_y)\n"
   ]
  },
  {
   "cell_type": "code",
   "execution_count": null,
   "metadata": {},
   "outputs": [],
   "source": [
    "IAI.write_html(\"tree.html\", lnr)"
   ]
  },
  {
   "cell_type": "code",
   "execution_count": null,
   "metadata": {},
   "outputs": [],
   "source": [
    "grid = iai.GridSearch(\n",
    "    iai.OptimalTreeClassifier(\n",
    "        random_seed=1,\n",
    "    ),\n",
    "    max_depth=range(4, 5),\n",
    ")"
   ]
  }
 ],
 "metadata": {
  "kernelspec": {
   "display_name": "Python 3",
   "language": "python",
   "name": "python3"
  },
  "language_info": {
   "codemirror_mode": {
    "name": "ipython",
    "version": 3
   },
   "file_extension": ".py",
   "mimetype": "text/x-python",
   "name": "python",
   "nbconvert_exporter": "python",
   "pygments_lexer": "ipython3",
   "version": "3.6.8"
  }
 },
 "nbformat": 4,
 "nbformat_minor": 4
}
