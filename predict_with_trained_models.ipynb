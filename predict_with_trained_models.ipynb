{
 "cells": [
  {
   "cell_type": "code",
   "execution_count": 2,
   "metadata": {},
   "outputs": [],
   "source": [
    "import pandas as pd\n",
    "import numpy as np\n",
    "from sklearn.model_selection import train_test_split\n",
    "from sklearn import metrics\n",
    "from xgboost import XGBRegressor\n",
    "from datetime import timedelta\n",
    "import pickle\n",
    "import warnings\n",
    "warnings.filterwarnings('ignore')\n",
    "\n",
    "#import local functions\n",
    "from utils import utils_scenario as utils, data_preparation as prep, data_process as proc"
   ]
  },
  {
   "cell_type": "code",
   "execution_count": 29,
   "metadata": {},
   "outputs": [],
   "source": [
    "#prepare raw data into same format as training df \n",
    "def prepare_x_test(measurement, forecast, past_n_steps, pred_period):\n",
    "    \n",
    "    #concat past n steps from measurement \n",
    "    df = measurement.set_index('datetime')\n",
    "    df=proc.get_past_n_steps(df, past_n_steps)\n",
    "\n",
    "    #calculate forecast_time\n",
    "    df['forecast_time'] = df['present_time']+timedelta(hours=pred_period)\n",
    "\n",
    "    #join forecast according to forecast time \n",
    "    forecast = forecast.set_index('f_date') \n",
    "    forecast = forecast.add_suffix('_forecast')\n",
    "    df = pd.merge(df, forecast, how = 'left', left_on = 'forecast_time', right_on ='f_date')\n",
    "    #add cos day\n",
    "    df = proc.smooth_day_hour(df)\n",
    "    #fill missing forecasts as 0\n",
    "    df.fillna(value=0, inplace=True) \n",
    "    #keep first row \n",
    "    df = df[:-past_n_steps]\n",
    "    #drop timestamp columns\n",
    "    df_out = df.drop(['present_time','forecast_time'], axis=1)\n",
    "    return df_out\n",
    "\n",
    "# test_df = prepare_x_test(measurement, forecast, past_steps, predict )\n"
   ]
  },
  {
   "cell_type": "code",
   "execution_count": 30,
   "metadata": {},
   "outputs": [],
   "source": [
    "#read test data \n",
    "measurement = pd.read_csv(\"data/test_measurement.csv\")\n",
    "forecast = pd.read_csv(\"data/test_forecast.csv\")\n",
    "measurement['datetime'] = pd.to_datetime(measurement['datetime'], format = '%Y-%m-%d %H:%M:%S')#change to datetime format \n",
    "forecast['f_date']= pd.to_datetime(forecast['f_date'], format = '%Y-%m-%d %H:%M:%S')#change to datetime format "
   ]
  },
  {
   "cell_type": "code",
   "execution_count": 27,
   "metadata": {},
   "outputs": [],
   "source": [
    "# df=proc.get_past_n_steps(df, 48)\n",
    "# df['present_time']\n"
   ]
  },
  {
   "cell_type": "code",
   "execution_count": 28,
   "metadata": {},
   "outputs": [
    {
     "data": {
      "text/plain": [
       "Index(['speed_t-48', 'cos_wind_dir_t-48', 'sin_wind_dir_t-48', 'temp_t-48',\n",
       "       'radiation_t-48', 'precip_t-48', 'season_t-48', 'speed_t-47',\n",
       "       'cos_wind_dir_t-47', 'sin_wind_dir_t-47',\n",
       "       ...\n",
       "       'season_t-0', 'speed_forecast', 'temp_forecast', 'rad_forecast',\n",
       "       'precip_forecast', 'cos_wind_dir_forecast', 'sin_wind_dir_forecast',\n",
       "       'f_period_forecast', 'cos_day', 'cos_hour'],\n",
       "      dtype='object', length=352)"
      ]
     },
     "execution_count": 28,
     "metadata": {},
     "output_type": "execute_result"
    }
   ],
   "source": [
    "#concat past n steps from measurement \n",
    "# measurement = measurement.set_index('datetime')\n",
    "# forecast = forecast.set_index('f_date') \n",
    "forecast['f_period']=8\n",
    "prepare_x_test(measurement, forecast, 48, 6).columns"
   ]
  },
  {
   "cell_type": "code",
   "execution_count": 4,
   "metadata": {},
   "outputs": [],
   "source": [
    "result  = pd.DataFrame(columns=['past_n_steps','pred_period','speed', 'cos_wind_dir','sin_wind_dir']) \n",
    "pred_list = [1,2,3,4,5,6,7,8,9,10,11,12,13,14,15,16,17,18,19,20,21,22,23,24,25,26,27,28,29,30,31,32,33,34,35,36,37,38,39,40,41,42,43,44,45,46,47,48]\n",
    "past_n_steps = 48\n",
    "for pred in pred_list: \n",
    "    #prepare data to be the same format as training data \n",
    "    x_test = prepare_x_test(measurement, forecast, past_n_steps, pred)\n",
    "    x_test= np.array(x_test) #change to array \n",
    "    \n",
    "    #read 3 models for speed, cos_wind, sin_wind\n",
    "    xgb1= pickle.load(open('trained_models/speed_t_'+str(pred), 'rb'))\n",
    "    xgb2 = pickle.load(open('trained_models/cos_wind_dir_t_'+str(pred), 'rb'))\n",
    "    xgb3 = pickle.load(open('trained_models/sin_wind_dir_t_'+str(pred), 'rb'))\n",
    "    \n",
    "    #predict \n",
    "    speed = xgb1.predict(x_test)[0]\n",
    "    cos_wind = xgb2.predict(x_test)[0]\n",
    "    sin_wind = xgb3.predict(x_test)[0]\n",
    "    \n",
    "    #record accuracy\n",
    "    result = result.append({'past_n_steps': str(past_n_steps),\n",
    "                            'pred_period': str(pred),\n",
    "                            'speed':round(speed,3),\n",
    "                            'cos_wind_dir':cos_wind,\n",
    "                            'sin_wind_dir':sin_wind}, ignore_index=True)    \n",
    "    \n",
    "#convert cos and sin to wind_dir:\n",
    "result['wind_dir'] = result.apply(lambda row: utils.get_angle_in_degree(row['cos_wind_dir'],row['sin_wind_dir']),axis = 1)\n",
    "# result.to_csv('results/test_prediction.csv') "
   ]
  },
  {
   "cell_type": "code",
   "execution_count": 6,
   "metadata": {},
   "outputs": [],
   "source": [
    "result"
   ]
  },
  {
   "cell_type": "code",
   "execution_count": null,
   "metadata": {},
   "outputs": [],
   "source": []
  }
 ],
 "metadata": {
  "kernelspec": {
   "display_name": "Python 3",
   "language": "python",
   "name": "python3"
  },
  "language_info": {
   "codemirror_mode": {
    "name": "ipython",
    "version": 3
   },
   "file_extension": ".py",
   "mimetype": "text/x-python",
   "name": "python",
   "nbconvert_exporter": "python",
   "pygments_lexer": "ipython3",
   "version": "3.7.3"
  }
 },
 "nbformat": 4,
 "nbformat_minor": 2
}
