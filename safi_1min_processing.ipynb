{
 "cells": [
  {
   "cell_type": "code",
   "execution_count": 4,
   "metadata": {
    "collapsed": true
   },
   "outputs": [],
   "source": [
    "import pandas as pd\n",
    "import numpy as np\n",
    "from pandas import read_csv\n",
    "from matplotlib import pyplot\n",
    "import matplotlib.pyplot as plt\n",
    "from pandas.plotting import lag_plot\n",
    "from pandas import read_csv\n",
    "from matplotlib import pyplot\n",
    "from pandas.plotting import autocorrelation_plot\n",
    "\n",
    "from pandas import read_csv\n",
    "from pandas import DataFrame\n",
    "from pandas import concat\n",
    "from matplotlib import pyplot\n",
    "from sklearn.metrics import mean_squared_error\n",
    "\n",
    "from statsmodels.tsa.ar_model import AR\n",
    "from sklearn.metrics import mean_squared_error\n",
    "\n",
    "from statsmodels.tsa.arima_model import ARIMA\n",
    "\n",
    "import warnings\n",
    "warnings.simplefilter(action='ignore')"
   ]
  },
  {
   "cell_type": "code",
   "execution_count": 5,
   "metadata": {},
   "outputs": [],
   "source": [
    "#Read data\n",
    "# One file per semester\n",
    "df0 = pd.read_csv(\"1min_2015_2016.csv\", sep = \";\")\n",
    "df1 = pd.read_csv(\"1min_2017_2018.csv\", sep = \";\")\n",
    "df2 = pd.read_csv(\"1min_2019.csv\", sep = \";\")\n",
    "\n",
    "data0 = pd.concat([df0, df1, df2], ignore_index=True)"
   ]
  },
  {
   "cell_type": "code",
   "execution_count": 7,
   "metadata": {},
   "outputs": [
    {
     "data": {
      "text/plain": [
       "<bound method NDFrame.tail of                      date wind_direction  wind_speed  temperature irradiance  \\\n",
       "0        01/01/2015 00:00           81.2         4.0          9.1          0   \n",
       "1        01/01/2015 00:01            NaN         NaN          NaN        NaN   \n",
       "2        01/01/2015 00:02            NaN         NaN          NaN        NaN   \n",
       "3        01/01/2015 00:03            NaN         NaN          NaN        NaN   \n",
       "4        01/01/2015 00:04            NaN         NaN          NaN        NaN   \n",
       "...                   ...            ...         ...          ...        ...   \n",
       "1048570  29/12/2016 04:10           87.7         3.1          7.8          0   \n",
       "1048571  29/12/2016 04:11            NaN         NaN          NaN        NaN   \n",
       "1048572  29/12/2016 04:12            NaN         NaN          NaN        NaN   \n",
       "1048573  29/12/2016 04:13            NaN         NaN          NaN        NaN   \n",
       "1048574  29/12/2016 04:14            NaN         NaN          NaN        NaN   \n",
       "\n",
       "        rain  \n",
       "0          0  \n",
       "1        NaN  \n",
       "2        NaN  \n",
       "3        NaN  \n",
       "4        NaN  \n",
       "...      ...  \n",
       "1048570    0  \n",
       "1048571  NaN  \n",
       "1048572  NaN  \n",
       "1048573  NaN  \n",
       "1048574  NaN  \n",
       "\n",
       "[1048575 rows x 6 columns]>"
      ]
     },
     "execution_count": 7,
     "metadata": {},
     "output_type": "execute_result"
    }
   ],
   "source": [
    "df0.tail"
   ]
  }
 ],
 "metadata": {
  "kernelspec": {
   "display_name": "Python 3",
   "language": "python",
   "name": "python3"
  },
  "language_info": {
   "codemirror_mode": {
    "name": "ipython",
    "version": 3
   },
   "file_extension": ".py",
   "mimetype": "text/x-python",
   "name": "python",
   "nbconvert_exporter": "python",
   "pygments_lexer": "ipython3",
   "version": "3.6.8"
  }
 },
 "nbformat": 4,
 "nbformat_minor": 2
}
