{
 "cells": [
  {
   "cell_type": "code",
   "execution_count": 1,
   "metadata": {},
   "outputs": [],
   "source": [
    "######################\n",
    "#### Dependencies ####\n",
    "######################\n",
    "import sys\n",
    "sys.path.append('../')\n",
    "import os\n",
    "import pandas as pd\n",
    "import numpy as np\n",
    "import datetime \n",
    "from utils import measurement_ingestion"
   ]
  },
  {
   "cell_type": "raw",
   "metadata": {},
   "source": [
    "###################\n",
    "#### Init days ####\n",
    "###################\n",
    "sys_date = '15/10/2020'\n",
    "sys_year = pd.to_datetime(sys_date, format = '%d/%m/%Y').strftime(format='%y')\n",
    "DAY1 = pd.to_datetime(sys_date, format = '%d/%m/%Y').strftime(format='%d-%m-%y')\n",
    "DAY2 = (pd.to_datetime(sys_date, format = '%d/%m/%Y') - datetime.timedelta(days=1)).strftime(format='%d-%m-%y')\n",
    "####################\n",
    "#### Init paths ####\n",
    "####################\n",
    "main_dir = '//Sa-modat-cs-pr/plumair/SAFI/Entrees/' + '20' + sys_year + '/'\n",
    "save_dir = '../data/raw/daily_measurement/'\n",
    "\n",
    "###################\n",
    "#### Save file ####\n",
    "###################\n",
    "data = measurement_ingestion.get_one_day_measurement(DAY1,DAY2,main_dir)\n",
    "data.to_csv(save_dir + 'measurement_' + DAY1 + '.csv',index=False)"
   ]
  },
  {
   "cell_type": "code",
   "execution_count": null,
   "metadata": {},
   "outputs": [],
   "source": []
  },
  {
   "cell_type": "code",
   "execution_count": 2,
   "metadata": {},
   "outputs": [
    {
     "name": "stdout",
     "output_type": "stream",
     "text": [
      "04/11/2020\n",
      "05/11/2020\n",
      "06/11/2020\n",
      "07/11/2020\n",
      "08/11/2020\n",
      "09/11/2020\n",
      "10/11/2020\n",
      "11/11/2020\n",
      "12/11/2020\n"
     ]
    }
   ],
   "source": [
    "dates_to_ingest = [x.strftime(format='%d/%m/%Y') for x in pd.date_range('2020-11-04','2020-11-12',freq='D')]\n",
    "\n",
    "for sys_date in dates_to_ingest:\n",
    "    sys_year = pd.to_datetime(sys_date, format = '%d/%m/%Y').strftime(format='%y')\n",
    "    DAY1 = pd.to_datetime(sys_date, format = '%d/%m/%Y').strftime(format='%d-%m-%y')\n",
    "    DAY2 = (pd.to_datetime(sys_date, format = '%d/%m/%Y') - datetime.timedelta(days=1)).strftime(format='%d-%m-%y')\n",
    "    ####################\n",
    "    #### Init paths ####\n",
    "    ####################\n",
    "    main_dir = '//Sa-modat-cs-pr/plumair/SAFI/Entrees/' + '20' + sys_year + '/'\n",
    "    save_dir = '../data/raw/measurements/'\n",
    "\n",
    "    ###################\n",
    "    #### Save file ####\n",
    "    ###################\n",
    "    try:\n",
    "        data = measurement_ingestion.get_one_day_measurement(DAY1,DAY2,main_dir)\n",
    "        data.to_csv(save_dir + 'measurement_' + DAY1 + '.csv',index=False)\n",
    "        print(sys_date)\n",
    "    except :\n",
    "        print('failed : ', sys_date)\n"
   ]
  },
  {
   "cell_type": "code",
   "execution_count": null,
   "metadata": {},
   "outputs": [],
   "source": []
  },
  {
   "cell_type": "code",
   "execution_count": null,
   "metadata": {},
   "outputs": [],
   "source": []
  }
 ],
 "metadata": {
  "kernelspec": {
   "display_name": "Python 3",
   "language": "python",
   "name": "python3"
  },
  "language_info": {
   "codemirror_mode": {
    "name": "ipython",
    "version": 3
   },
   "file_extension": ".py",
   "mimetype": "text/x-python",
   "name": "python",
   "nbconvert_exporter": "python",
   "pygments_lexer": "ipython3",
   "version": "3.7.6"
  }
 },
 "nbformat": 4,
 "nbformat_minor": 4
}
