{
 "cells": [
  {
   "cell_type": "code",
   "execution_count": 1,
   "metadata": {},
   "outputs": [],
   "source": [
    "######################\n",
    "#### Dependencies ####\n",
    "######################\n",
    "def make_prediction(measurement,forecast):\n",
    "    # Loop over pred period and save predictions\n",
    "    result = pd.DataFrame(columns={})\n",
    "    for i in range(1,49):\n",
    "        x_test = proc.prepare_x_test(measurement, forecast, 48, int(i))\n",
    "        result_raw= dict()\n",
    "        result_raw['f_period'] = i\n",
    "        result_raw['forecast_time'] = x_test['forecast_time'].iloc[0]\n",
    "        result_raw['present_time'] = x_test['present_time'].iloc[0]\n",
    "\n",
    "        for feature in ['speed','cos_wind_dir','sin_wind_dir']:\n",
    "            x_to_predict = x_test[xgb_models[feature + str(i)].get_booster().feature_names].copy()\n",
    "            result_raw[feature] = xgb_models[feature + str(i)].predict(x_to_predict)[0]\n",
    "\n",
    "        result = result.append(result_raw, ignore_index=True)\n",
    "\n",
    "    result['wind_dir'] =result.apply(lambda row : proc.get_angle_in_degree(row['cos_wind_dir'],row['sin_wind_dir']),axis=1)\n",
    "    return result\n",
    "\n",
    "def add_measurements_and_forecast(prediction, measurement,forecast):\n",
    "    result = prediction.rename(columns={'forecast_time':'datetime', \n",
    "                                        'speed': 'pred_speed',\n",
    "                                        'wind_dir' : 'pred_wind_dir'})\n",
    "    \n",
    "    # Compare to numtech forecast\n",
    "    forecast['wind_dir'] =forecast.apply(lambda row : proc.get_angle_in_degree(row['cos_wind_dir'],row['sin_wind_dir']),axis=1)\n",
    "    result = result.merge(forecast[['f_date','speed','wind_dir']] \\\n",
    "                          .rename(columns={'f_date' : 'datetime', \n",
    "                                           'speed' : 'numtech_speed',\n",
    "                                           'wind_dir' : 'numtech_wind_dir'}),\n",
    "                          how='left')\n",
    "    return result\n",
    "\n",
    "\n",
    "\n",
    "import pickle\n",
    "import pandas as pd\n",
    "sys.path.append('../')\n",
    "from utils import data_process as proc,forecast_ingestion\n",
    "\n",
    "\n",
    "### Load models \n",
    "xgb_models = dict()\n",
    "for i in range(1,49):\n",
    "    for feature in ['speed','cos_wind_dir','sin_wind_dir']:\n",
    "        xgb_models[feature + str(i)] = pickle.load(open('../trained_models_26072020/' + feature + '_t_' + str(i), 'rb'))\n",
    "\n"
   ]
  },
  {
   "cell_type": "code",
   "execution_count": 2,
   "metadata": {},
   "outputs": [],
   "source": [
    "####################\n",
    "#### Test range ####\n",
    "####################\n",
    "#test_dates = pd.date_range('2020-09-01 08:00:00','2020-11-01 07:00:00', freq='H')"
   ]
  },
  {
   "cell_type": "code",
   "execution_count": 3,
   "metadata": {},
   "outputs": [],
   "source": [
    "#################################\n",
    "#### Predict and save result ####\n",
    "#################################\n",
    "# measurement\n",
    "all_measurement = pd.read_csv('../data/processed/last_measurement.csv')\n",
    "all_measurement['datetime']= pd.to_datetime(all_measurement['datetime'],format='%Y-%m-%d %H:%M:%S')\n",
    "all_measurement['wind_dir'] =all_measurement.apply(lambda row : proc.get_angle_in_degree(row['cos_wind_dir'],row['sin_wind_dir']),axis=1)\n",
    "\n",
    "# forecast\n",
    "forecast = pd.read_csv('../data/processed/last_forecast.csv')\n",
    "forecast['f_date']= pd.to_datetime(forecast['f_date'],format='%Y-%m-%d %H:%M:%S')\n",
    "\n",
    "# Make prediction and save results\n",
    "prediction = make_prediction(all_measurement,forecast)\n",
    "\n",
    "# Compare results to measurements and forecast \n",
    "result = add_measurements_and_forecast(prediction,all_measurement,forecast)\n",
    "\n",
    "# log result\n",
    "result.to_csv('../data/results/result_' + str(result.present_time[0])[0:13] + '.csv')\n",
    "# save for ui\n",
    "result.to_csv('../data/processed/last_result.csv')"
   ]
  },
  {
   "cell_type": "code",
   "execution_count": null,
   "metadata": {},
   "outputs": [],
   "source": []
  },
  {
   "cell_type": "code",
   "execution_count": null,
   "metadata": {},
   "outputs": [],
   "source": []
  },
  {
   "cell_type": "code",
   "execution_count": null,
   "metadata": {},
   "outputs": [],
   "source": []
  }
 ],
 "metadata": {
  "kernelspec": {
   "display_name": "Python 3",
   "language": "python",
   "name": "python3"
  },
  "language_info": {
   "codemirror_mode": {
    "name": "ipython",
    "version": 3
   },
   "file_extension": ".py",
   "mimetype": "text/x-python",
   "name": "python",
   "nbconvert_exporter": "python",
   "pygments_lexer": "ipython3",
   "version": "3.7.6"
  }
 },
 "nbformat": 4,
 "nbformat_minor": 2
}
