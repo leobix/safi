{
 "cells": [
  {
   "cell_type": "code",
   "execution_count": 2,
   "metadata": {},
   "outputs": [
    {
     "ename": "ModuleNotFoundError",
     "evalue": "No module named 'xgboost'",
     "output_type": "error",
     "traceback": [
      "\u001b[0;31m---------------------------------------------------------------------------\u001b[0m",
      "\u001b[0;31mModuleNotFoundError\u001b[0m                       Traceback (most recent call last)",
      "\u001b[0;32m<ipython-input-2-0c28899f3b4f>\u001b[0m in \u001b[0;36m<module>\u001b[0;34m\u001b[0m\n\u001b[1;32m      9\u001b[0m \u001b[0;32mfor\u001b[0m \u001b[0mi\u001b[0m \u001b[0;32min\u001b[0m \u001b[0mrange\u001b[0m\u001b[0;34m(\u001b[0m\u001b[0;36m1\u001b[0m\u001b[0;34m,\u001b[0m\u001b[0;36m49\u001b[0m\u001b[0;34m)\u001b[0m\u001b[0;34m:\u001b[0m\u001b[0;34m\u001b[0m\u001b[0;34m\u001b[0m\u001b[0m\n\u001b[1;32m     10\u001b[0m     \u001b[0;32mfor\u001b[0m \u001b[0mfeature\u001b[0m \u001b[0;32min\u001b[0m \u001b[0;34m[\u001b[0m\u001b[0;34m'speed'\u001b[0m\u001b[0;34m,\u001b[0m\u001b[0;34m'cos_wind_dir'\u001b[0m\u001b[0;34m,\u001b[0m\u001b[0;34m'sin_wind_dir'\u001b[0m\u001b[0;34m]\u001b[0m\u001b[0;34m:\u001b[0m\u001b[0;34m\u001b[0m\u001b[0;34m\u001b[0m\u001b[0m\n\u001b[0;32m---> 11\u001b[0;31m         \u001b[0mxgb_models\u001b[0m\u001b[0;34m[\u001b[0m\u001b[0mfeature\u001b[0m \u001b[0;34m+\u001b[0m \u001b[0mstr\u001b[0m\u001b[0;34m(\u001b[0m\u001b[0mi\u001b[0m\u001b[0;34m)\u001b[0m\u001b[0;34m]\u001b[0m \u001b[0;34m=\u001b[0m \u001b[0mpickle\u001b[0m\u001b[0;34m.\u001b[0m\u001b[0mload\u001b[0m\u001b[0;34m(\u001b[0m\u001b[0mopen\u001b[0m\u001b[0;34m(\u001b[0m\u001b[0;34m'../trained_models_26072020/'\u001b[0m \u001b[0;34m+\u001b[0m \u001b[0mfeature\u001b[0m \u001b[0;34m+\u001b[0m \u001b[0;34m'_t_'\u001b[0m \u001b[0;34m+\u001b[0m \u001b[0mstr\u001b[0m\u001b[0;34m(\u001b[0m\u001b[0mi\u001b[0m\u001b[0;34m)\u001b[0m\u001b[0;34m,\u001b[0m \u001b[0;34m'rb'\u001b[0m\u001b[0;34m)\u001b[0m\u001b[0;34m)\u001b[0m\u001b[0;34m\u001b[0m\u001b[0;34m\u001b[0m\u001b[0m\n\u001b[0m\u001b[1;32m     12\u001b[0m \u001b[0;34m\u001b[0m\u001b[0m\n\u001b[1;32m     13\u001b[0m \u001b[0;32mdef\u001b[0m \u001b[0mmake_prediction\u001b[0m\u001b[0;34m(\u001b[0m\u001b[0mmeasurement\u001b[0m\u001b[0;34m,\u001b[0m\u001b[0mforecast\u001b[0m\u001b[0;34m)\u001b[0m\u001b[0;34m:\u001b[0m\u001b[0;34m\u001b[0m\u001b[0;34m\u001b[0m\u001b[0m\n",
      "\u001b[0;31mModuleNotFoundError\u001b[0m: No module named 'xgboost'"
     ]
    }
   ],
   "source": [
    "import pickle\n",
    "import pandas as pd\n",
    "import sys\n",
    "sys.path.append('../')\n",
    "from utils import data_process as proc,forecast_ingestion\n",
    "\n",
    "### Load models \n",
    "xgb_models = dict()\n",
    "for i in range(1,49):\n",
    "    for feature in ['speed','cos_wind_dir','sin_wind_dir']:\n",
    "        xgb_models[feature + str(i)] = pickle.load(open('../trained_models_26072020/' + feature + '_t_' + str(i), 'rb'))\n",
    "\n",
    "def make_prediction(measurement,forecast):\n",
    "    # Loop over pred period and save predictions\n",
    "    result = pd.DataFrame(columns={})\n",
    "    for i in range(1,49):\n",
    "        x_test = proc.prepare_x_test(measurement, forecast, 48, int(i))\n",
    "        result_raw= dict()\n",
    "        result_raw['f_period'] = i\n",
    "        result_raw['forecast_time'] = x_test['forecast_time'].iloc[0]\n",
    "        result_raw['present_time'] = x_test['present_time'].iloc[0]\n",
    "\n",
    "        for feature in ['speed','cos_wind_dir','sin_wind_dir']:\n",
    "            x_to_predict = x_test[xgb_models[feature + str(i)].get_booster().feature_names].copy()\n",
    "            result_raw[feature] = xgb_models[feature + str(i)].predict(x_to_predict)[0]\n",
    "\n",
    "        result = result.append(result_raw, ignore_index=True)\n",
    "\n",
    "    result['wind_dir'] =result.apply(lambda row : proc.get_angle_in_degree(row['cos_wind_dir'],row['sin_wind_dir']),axis=1)\n",
    "    return result\n",
    "\n",
    "def add_measurements_and_forecast(prediction, measurement,forecast):\n",
    "    # Compare to measurements\n",
    "    result = prediction.rename(columns={'forecast_time':'datetime', \n",
    "                                        'speed': 'pred_speed',\n",
    "                                        'wind_dir' : 'pred_wind_dir'}) \\\n",
    "             .merge(all_measurement[['datetime','speed','wind_dir']].rename(columns={'speed' : 'real_speed', \n",
    "                                                                                     'wind_dir': 'real_wind_dir'}),\n",
    "                    how='left')\n",
    "\n",
    "    # Compare to numtech forecast\n",
    "    forecast['wind_dir'] =forecast.apply(lambda row : proc.get_angle_in_degree(row['cos_wind_dir'],row['sin_wind_dir']),axis=1)\n",
    "    result = result.merge(forecast[['f_date','speed','wind_dir']] \\\n",
    "                          .rename(columns={'f_date' : 'datetime', \n",
    "                                           'speed' : 'numtech_speed',\n",
    "                                           'wind_dir' : 'numtech_wind_dir'}),\n",
    "                          how='left')\n",
    "    return result"
   ]
  },
  {
   "cell_type": "code",
   "execution_count": 3,
   "metadata": {},
   "outputs": [],
   "source": [
    "####################\n",
    "#### Test range ####\n",
    "####################\n",
    "test_dates = pd.date_range('2020-09-30 13:00:00','2020-11-15 16:00:00', freq='H')"
   ]
  },
  {
   "cell_type": "code",
   "execution_count": 4,
   "metadata": {},
   "outputs": [],
   "source": [
    "###################\n",
    "#### Load Data ####\n",
    "###################\n",
    "all_measurement = pd.read_csv('../data/processed/last_measurement.csv')\n",
    "all_measurement['datetime']= pd.to_datetime(all_measurement['datetime'],format='%Y-%m-%d %H:%M:%S')\n",
    "all_measurement['wind_dir'] =all_measurement.apply(lambda row : proc.get_angle_in_degree(row['cos_wind_dir'],row['sin_wind_dir']),axis=1)"
   ]
  },
  {
   "cell_type": "code",
   "execution_count": 5,
   "metadata": {},
   "outputs": [
    {
     "ename": "NameError",
     "evalue": "name 'make_prediction' is not defined",
     "output_type": "error",
     "traceback": [
      "\u001b[0;31m---------------------------------------------------------------------------\u001b[0m",
      "\u001b[0;31mNameError\u001b[0m                                 Traceback (most recent call last)",
      "\u001b[0;32m<ipython-input-5-0585c8ace342>\u001b[0m in \u001b[0;36m<module>\u001b[0;34m\u001b[0m\n\u001b[1;32m      7\u001b[0m \u001b[0;34m\u001b[0m\u001b[0m\n\u001b[1;32m      8\u001b[0m     \u001b[0;31m# Make prediction and save results\u001b[0m\u001b[0;34m\u001b[0m\u001b[0;34m\u001b[0m\u001b[0;34m\u001b[0m\u001b[0m\n\u001b[0;32m----> 9\u001b[0;31m     \u001b[0mprediction\u001b[0m \u001b[0;34m=\u001b[0m \u001b[0mmake_prediction\u001b[0m\u001b[0;34m(\u001b[0m\u001b[0mmeasurement\u001b[0m\u001b[0;34m,\u001b[0m\u001b[0mforecast\u001b[0m\u001b[0;34m)\u001b[0m\u001b[0;34m\u001b[0m\u001b[0;34m\u001b[0m\u001b[0m\n\u001b[0m\u001b[1;32m     10\u001b[0m \u001b[0;34m\u001b[0m\u001b[0m\n\u001b[1;32m     11\u001b[0m     \u001b[0;31m# Compare results to measurements and forecast\u001b[0m\u001b[0;34m\u001b[0m\u001b[0;34m\u001b[0m\u001b[0;34m\u001b[0m\u001b[0m\n",
      "\u001b[0;31mNameError\u001b[0m: name 'make_prediction' is not defined"
     ]
    }
   ],
   "source": [
    "for test_date in test_dates:\n",
    "    # filter data \n",
    "    measurement = all_measurement.loc[all_measurement['datetime'] <= test_date,]\n",
    "    forecast = forecast_ingestion.get_forecast(main_dir = '../data/raw/forecasts/',\n",
    "                                              limit_date =pd.to_datetime(test_date))\n",
    "    forecast['f_date']= pd.to_datetime(forecast['f_date'],format='%Y-%m-%d %H:%M:%S')\n",
    "\n",
    "    # Make prediction and save results\n",
    "    prediction = make_prediction(measurement,forecast)\n",
    "    \n",
    "    # Compare results to measurements and forecast \n",
    "    print(test_date)\n",
    "    result = add_measurements_and_forecast(prediction,measurement,forecast)\n",
    "    #print(result_part.numtech_speed.isna().sum())\n",
    "    #print(result_part.dropna().f_period.max())\n",
    "    \n",
    "    # log result\n",
    "    #result.to_csv('../data/results/result_' + str(result.present_time[0])[0:13] + '.csv')"
   ]
  },
  {
   "cell_type": "code",
   "execution_count": null,
   "metadata": {},
   "outputs": [],
   "source": [
    "print('ok')"
   ]
  },
  {
   "cell_type": "code",
   "execution_count": null,
   "metadata": {},
   "outputs": [],
   "source": []
  },
  {
   "cell_type": "code",
   "execution_count": null,
   "metadata": {},
   "outputs": [],
   "source": []
  }
 ],
 "metadata": {
  "kernelspec": {
   "display_name": "Python 3",
   "language": "python",
   "name": "python3"
  },
  "language_info": {
   "codemirror_mode": {
    "name": "ipython",
    "version": 3
   },
   "file_extension": ".py",
   "mimetype": "text/x-python",
   "name": "python",
   "nbconvert_exporter": "python",
   "pygments_lexer": "ipython3",
   "version": "3.9.2"
  }
 },
 "nbformat": 4,
 "nbformat_minor": 2
}
