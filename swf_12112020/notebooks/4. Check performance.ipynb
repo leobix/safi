{
 "cells": [
  {
   "cell_type": "code",
   "execution_count": 15,
   "metadata": {},
   "outputs": [
    {
     "data": {
      "text/plain": [
       "141696"
      ]
     },
     "execution_count": 15,
     "metadata": {},
     "output_type": "execute_result"
    }
   ],
   "source": [
    "%matplotlib inline\n",
    "def angle_diff(x):\n",
    "    if x <= 180:\n",
    "        return x \n",
    "    else:\n",
    "        return 360-180\n",
    "    \n",
    "import pandas as pd\n",
    "results = pd.read_csv('./results_p1.csv') \\\n",
    "              .append(pd.read_csv('./results_p2.csv')) \\\n",
    "              .append(pd.read_csv('./results_p3.csv')) \\\n",
    "              .append(pd.read_csv('./results_p4.csv'))\n",
    "results.shape[0]"
   ]
  },
  {
   "cell_type": "code",
   "execution_count": null,
   "metadata": {},
   "outputs": [],
   "source": []
  },
  {
   "cell_type": "code",
   "execution_count": 16,
   "metadata": {},
   "outputs": [
    {
     "data": {
      "text/plain": [
       "8064"
      ]
     },
     "execution_count": 16,
     "metadata": {},
     "output_type": "execute_result"
    }
   ],
   "source": [
    "################################\n",
    "### Expected rows in results ###\n",
    "################################\n",
    "\n",
    "# nb_days * nb_hours * 48 + 48 for the last hour in test range\n",
    "7*24*48"
   ]
  },
  {
   "cell_type": "code",
   "execution_count": 17,
   "metadata": {},
   "outputs": [
    {
     "data": {
      "text/html": [
       "<div>\n",
       "<style scoped>\n",
       "    .dataframe tbody tr th:only-of-type {\n",
       "        vertical-align: middle;\n",
       "    }\n",
       "\n",
       "    .dataframe tbody tr th {\n",
       "        vertical-align: top;\n",
       "    }\n",
       "\n",
       "    .dataframe thead th {\n",
       "        text-align: right;\n",
       "    }\n",
       "</style>\n",
       "<table border=\"1\" class=\"dataframe\">\n",
       "  <thead>\n",
       "    <tr style=\"text-align: right;\">\n",
       "      <th></th>\n",
       "      <th>present_hour</th>\n",
       "      <th>pred_speed</th>\n",
       "      <th>numtech_speed</th>\n",
       "      <th>expected_ratio</th>\n",
       "      <th>real_ratio</th>\n",
       "    </tr>\n",
       "  </thead>\n",
       "  <tbody>\n",
       "    <tr>\n",
       "      <th>0</th>\n",
       "      <td>0</td>\n",
       "      <td>5904</td>\n",
       "      <td>4305</td>\n",
       "      <td>0.729167</td>\n",
       "      <td>0.729167</td>\n",
       "    </tr>\n",
       "    <tr>\n",
       "      <th>1</th>\n",
       "      <td>1</td>\n",
       "      <td>5904</td>\n",
       "      <td>4182</td>\n",
       "      <td>0.708333</td>\n",
       "      <td>0.708333</td>\n",
       "    </tr>\n",
       "    <tr>\n",
       "      <th>2</th>\n",
       "      <td>2</td>\n",
       "      <td>5904</td>\n",
       "      <td>4059</td>\n",
       "      <td>0.687500</td>\n",
       "      <td>0.687500</td>\n",
       "    </tr>\n",
       "    <tr>\n",
       "      <th>3</th>\n",
       "      <td>3</td>\n",
       "      <td>5904</td>\n",
       "      <td>3936</td>\n",
       "      <td>0.666667</td>\n",
       "      <td>0.666667</td>\n",
       "    </tr>\n",
       "    <tr>\n",
       "      <th>4</th>\n",
       "      <td>4</td>\n",
       "      <td>5904</td>\n",
       "      <td>3813</td>\n",
       "      <td>0.645833</td>\n",
       "      <td>0.645833</td>\n",
       "    </tr>\n",
       "    <tr>\n",
       "      <th>5</th>\n",
       "      <td>5</td>\n",
       "      <td>5904</td>\n",
       "      <td>3690</td>\n",
       "      <td>0.625000</td>\n",
       "      <td>0.625000</td>\n",
       "    </tr>\n",
       "    <tr>\n",
       "      <th>6</th>\n",
       "      <td>6</td>\n",
       "      <td>5904</td>\n",
       "      <td>3567</td>\n",
       "      <td>0.604167</td>\n",
       "      <td>0.604167</td>\n",
       "    </tr>\n",
       "    <tr>\n",
       "      <th>7</th>\n",
       "      <td>7</td>\n",
       "      <td>5904</td>\n",
       "      <td>3444</td>\n",
       "      <td>0.583333</td>\n",
       "      <td>0.583333</td>\n",
       "    </tr>\n",
       "    <tr>\n",
       "      <th>8</th>\n",
       "      <td>8</td>\n",
       "      <td>5904</td>\n",
       "      <td>4785</td>\n",
       "      <td>0.812500</td>\n",
       "      <td>0.810467</td>\n",
       "    </tr>\n",
       "    <tr>\n",
       "      <th>9</th>\n",
       "      <td>9</td>\n",
       "      <td>5904</td>\n",
       "      <td>4662</td>\n",
       "      <td>0.791667</td>\n",
       "      <td>0.789634</td>\n",
       "    </tr>\n",
       "    <tr>\n",
       "      <th>10</th>\n",
       "      <td>10</td>\n",
       "      <td>5904</td>\n",
       "      <td>4539</td>\n",
       "      <td>0.770833</td>\n",
       "      <td>0.768801</td>\n",
       "    </tr>\n",
       "    <tr>\n",
       "      <th>11</th>\n",
       "      <td>11</td>\n",
       "      <td>5904</td>\n",
       "      <td>4416</td>\n",
       "      <td>0.750000</td>\n",
       "      <td>0.747967</td>\n",
       "    </tr>\n",
       "    <tr>\n",
       "      <th>12</th>\n",
       "      <td>12</td>\n",
       "      <td>5904</td>\n",
       "      <td>4293</td>\n",
       "      <td>0.729167</td>\n",
       "      <td>0.727134</td>\n",
       "    </tr>\n",
       "    <tr>\n",
       "      <th>13</th>\n",
       "      <td>13</td>\n",
       "      <td>5904</td>\n",
       "      <td>4170</td>\n",
       "      <td>0.708333</td>\n",
       "      <td>0.706301</td>\n",
       "    </tr>\n",
       "    <tr>\n",
       "      <th>14</th>\n",
       "      <td>14</td>\n",
       "      <td>5904</td>\n",
       "      <td>4047</td>\n",
       "      <td>0.687500</td>\n",
       "      <td>0.685467</td>\n",
       "    </tr>\n",
       "    <tr>\n",
       "      <th>15</th>\n",
       "      <td>15</td>\n",
       "      <td>5904</td>\n",
       "      <td>3924</td>\n",
       "      <td>0.666667</td>\n",
       "      <td>0.664634</td>\n",
       "    </tr>\n",
       "    <tr>\n",
       "      <th>16</th>\n",
       "      <td>16</td>\n",
       "      <td>5904</td>\n",
       "      <td>3801</td>\n",
       "      <td>0.645833</td>\n",
       "      <td>0.643801</td>\n",
       "    </tr>\n",
       "    <tr>\n",
       "      <th>17</th>\n",
       "      <td>17</td>\n",
       "      <td>5904</td>\n",
       "      <td>3678</td>\n",
       "      <td>0.625000</td>\n",
       "      <td>0.622967</td>\n",
       "    </tr>\n",
       "    <tr>\n",
       "      <th>18</th>\n",
       "      <td>18</td>\n",
       "      <td>5904</td>\n",
       "      <td>3555</td>\n",
       "      <td>0.604167</td>\n",
       "      <td>0.602134</td>\n",
       "    </tr>\n",
       "    <tr>\n",
       "      <th>19</th>\n",
       "      <td>19</td>\n",
       "      <td>5904</td>\n",
       "      <td>3432</td>\n",
       "      <td>0.583333</td>\n",
       "      <td>0.581301</td>\n",
       "    </tr>\n",
       "    <tr>\n",
       "      <th>20</th>\n",
       "      <td>20</td>\n",
       "      <td>5904</td>\n",
       "      <td>4797</td>\n",
       "      <td>0.812500</td>\n",
       "      <td>0.812500</td>\n",
       "    </tr>\n",
       "    <tr>\n",
       "      <th>21</th>\n",
       "      <td>21</td>\n",
       "      <td>5904</td>\n",
       "      <td>4674</td>\n",
       "      <td>0.791667</td>\n",
       "      <td>0.791667</td>\n",
       "    </tr>\n",
       "    <tr>\n",
       "      <th>22</th>\n",
       "      <td>22</td>\n",
       "      <td>5904</td>\n",
       "      <td>4551</td>\n",
       "      <td>0.770833</td>\n",
       "      <td>0.770833</td>\n",
       "    </tr>\n",
       "    <tr>\n",
       "      <th>23</th>\n",
       "      <td>23</td>\n",
       "      <td>5904</td>\n",
       "      <td>4428</td>\n",
       "      <td>0.750000</td>\n",
       "      <td>0.750000</td>\n",
       "    </tr>\n",
       "  </tbody>\n",
       "</table>\n",
       "</div>"
      ],
      "text/plain": [
       "    present_hour  pred_speed  numtech_speed  expected_ratio  real_ratio\n",
       "0              0        5904           4305        0.729167    0.729167\n",
       "1              1        5904           4182        0.708333    0.708333\n",
       "2              2        5904           4059        0.687500    0.687500\n",
       "3              3        5904           3936        0.666667    0.666667\n",
       "4              4        5904           3813        0.645833    0.645833\n",
       "5              5        5904           3690        0.625000    0.625000\n",
       "6              6        5904           3567        0.604167    0.604167\n",
       "7              7        5904           3444        0.583333    0.583333\n",
       "8              8        5904           4785        0.812500    0.810467\n",
       "9              9        5904           4662        0.791667    0.789634\n",
       "10            10        5904           4539        0.770833    0.768801\n",
       "11            11        5904           4416        0.750000    0.747967\n",
       "12            12        5904           4293        0.729167    0.727134\n",
       "13            13        5904           4170        0.708333    0.706301\n",
       "14            14        5904           4047        0.687500    0.685467\n",
       "15            15        5904           3924        0.666667    0.664634\n",
       "16            16        5904           3801        0.645833    0.643801\n",
       "17            17        5904           3678        0.625000    0.622967\n",
       "18            18        5904           3555        0.604167    0.602134\n",
       "19            19        5904           3432        0.583333    0.581301\n",
       "20            20        5904           4797        0.812500    0.812500\n",
       "21            21        5904           4674        0.791667    0.791667\n",
       "22            22        5904           4551        0.770833    0.770833\n",
       "23            23        5904           4428        0.750000    0.750000"
      ]
     },
     "metadata": {},
     "output_type": "display_data"
    }
   ],
   "source": [
    "################################################################\n",
    "### Expected rows where we can compare with numtech forecast ###\n",
    "################################################################\n",
    "\n",
    "# speed (same outcome for wind_dir below)\n",
    "results['present_hour'] = results.present_time.map(lambda x : int(x[11:13]))\n",
    "r = results.groupby(['present_hour'])[['pred_speed','numtech_speed']].count().reset_index()\n",
    "\n",
    "### Expected % of rows \n",
    "def present_hour_ratio(x):\n",
    "    if x in range(8,20):\n",
    "        return (48 - (x + 1)) / 48 \n",
    "    if x in range (0,8):\n",
    "        return (48 - (x +12 + 1)) / 48 \n",
    "    if x in range(20,24):\n",
    "        return (48 - (x - 12 + 1)) / 48 \n",
    "    \n",
    "\n",
    "r['expected_ratio'] = r.present_hour.map(present_hour_ratio)\n",
    "r['real_ratio'] = r['numtech_speed'] / r['pred_speed']\n",
    "\n",
    "display(r)"
   ]
  },
  {
   "cell_type": "raw",
   "metadata": {},
   "source": [
    "# wind_dir\n",
    "results['present_hour'] = results.present_time.map(lambda x : int(x[11:13]))\n",
    "r = results.groupby(['present_hour'])[['pred_wind_dir','numtech_wind_dir']].count().reset_index()\n",
    "\n",
    "### Expected % of rows \n",
    "def present_hour_ratio(x):\n",
    "    if x in range(8,20):\n",
    "        return (48 - (x + 1)) / 48 \n",
    "    if x in range (0,8):\n",
    "        return (48 - (x +12 + 1)) / 48 \n",
    "    if x in range(20,24):\n",
    "        return (48 - (x - 12 + 1)) / 48 \n",
    "    \n",
    "\n",
    "r['expected_ratio'] = r.present_hour.map(present_hour_ratio)\n",
    "r['real_ratio'] = r['numtech_wind_dir'] / r['pred_wind_dir']\n",
    "\n",
    "r"
   ]
  },
  {
   "cell_type": "code",
   "execution_count": null,
   "metadata": {},
   "outputs": [],
   "source": []
  },
  {
   "cell_type": "code",
   "execution_count": 19,
   "metadata": {},
   "outputs": [
    {
     "data": {
      "text/plain": [
       "<matplotlib.axes._subplots.AxesSubplot at 0x29a803a3668>"
      ]
     },
     "execution_count": 19,
     "metadata": {},
     "output_type": "execute_result"
    },
    {
     "data": {
      "image/png": "[encoded data removed]",
      "text/plain": [
       "<Figure size 1080x216 with 1 Axes>"
      ]
     },
     "metadata": {
      "needs_background": "light"
     },
     "output_type": "display_data"
    },
    {
     "data": {
      "image/png": "[encoded data removed]",
      "text/plain": [
       "<Figure size 1080x216 with 1 Axes>"
      ]
     },
     "metadata": {
      "needs_background": "light"
     },
     "output_type": "display_data"
    },
    {
     "data": {
      "image/png": "[encoded data removed]",
      "text/plain": [
       "<Figure size 1080x216 with 1 Axes>"
      ]
     },
     "metadata": {
      "needs_background": "light"
     },
     "output_type": "display_data"
    }
   ],
   "source": [
    "# number of points compared\n",
    "(results.groupby('f_period')['numtech_speed'].count()).plot(figsize=(15,3),\n",
    "                                                            title='number of points compared over forecast period hour')\n",
    "\n",
    "results['pred_sd_delta'] = (results['pred_speed'] - results['real_speed']).abs()\n",
    "results['numtech_sd_delta'] = (results['numtech_speed'] - results['real_speed']).abs()\n",
    "\n",
    "results.dropna().groupby('f_period')['numtech_sd_delta'].mean().reset_index() \\\n",
    ".merge(results.groupby('f_period')['pred_sd_delta'].mean().reset_index(),how='outer').set_index('f_period') \\\n",
    ".plot(figsize=(15,3),title='speed mae over forecast period hour')\n",
    "\n",
    "results['pred_wd_delta'] = (results['pred_wind_dir'] - results['real_wind_dir']) \\\n",
    "                            .abs().map(angle_diff)\n",
    "results['numtech_wd_delta'] = (results['pred_wind_dir'] - results['numtech_wind_dir']) \\\n",
    "                            .abs().map(angle_diff)\n",
    "    \n",
    "results.dropna().groupby('f_period')['numtech_wd_delta'].mean().reset_index() \\\n",
    ".merge(results.groupby('f_period')['pred_wd_delta'].mean().reset_index(),how='outer').set_index('f_period')\\\n",
    ".plot(figsize=(15,3),title='wind direction mae over forecast period hour')"
   ]
  },
  {
   "cell_type": "raw",
   "metadata": {},
   "source": [
    "pct_spd = results.dropna().groupby('f_period')['numtech_sd_delta'].mean().reset_index() \\\n",
    "      .merge(results.groupby('f_period')['pred_sd_delta'].mean().reset_index(),how='outer').set_index('f_period')\n",
    "    \n",
    "    \n",
    "(pct_spd['pred_sd_delta'] / pct_spd['numtech_sd_delta']).plot()"
   ]
  },
  {
   "cell_type": "code",
   "execution_count": null,
   "metadata": {},
   "outputs": [],
   "source": []
  },
  {
   "cell_type": "raw",
   "metadata": {},
   "source": [
    "pct_wd = results.dropna().groupby('f_period')['numtech_wd_delta'].mean().reset_index() \\\n",
    "      .merge(results.groupby('f_period')['pred_wd_delta'].mean().reset_index(),how='outer').set_index('f_period')\n",
    "    \n",
    "    \n",
    "(pct_wd['pred_wd_delta'] / pct_wd['numtech_wd_delta']).plot()"
   ]
  },
  {
   "cell_type": "code",
   "execution_count": null,
   "metadata": {},
   "outputs": [],
   "source": []
  },
  {
   "cell_type": "code",
   "execution_count": null,
   "metadata": {},
   "outputs": [],
   "source": []
  },
  {
   "cell_type": "code",
   "execution_count": null,
   "metadata": {},
   "outputs": [],
   "source": []
  }
 ],
 "metadata": {
  "kernelspec": {
   "display_name": "Python 3",
   "language": "python",
   "name": "python3"
  },
  "language_info": {
   "codemirror_mode": {
    "name": "ipython",
    "version": 3
   },
   "file_extension": ".py",
   "mimetype": "text/x-python",
   "name": "python",
   "nbconvert_exporter": "python",
   "pygments_lexer": "ipython3",
   "version": "3.9.2"
  }
 },
 "nbformat": 4,
 "nbformat_minor": 2
}
