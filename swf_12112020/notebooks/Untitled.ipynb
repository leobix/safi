{
 "cells": [
  {
   "cell_type": "code",
   "execution_count": 3,
   "metadata": {},
   "outputs": [],
   "source": [
    "import os\n",
    "import pandas as pd"
   ]
  },
  {
   "cell_type": "code",
   "execution_count": 4,
   "metadata": {},
   "outputs": [
    {
     "name": "stdout",
     "output_type": "stream",
     "text": [
      "13/08/2017\n",
      "15/08/2017\n",
      "10/12/2017\n",
      "11/12/2017\n",
      "15/04/2018\n",
      "27/05/2018\n",
      "05/08/2018\n",
      "31/10/2018\n",
      "14/11/2018\n",
      "15/10/2020\n"
     ]
    }
   ],
   "source": [
    "dates_to_ingest = [x.strftime(format='%d/%m/%Y') for x in pd.date_range('2017-07-25','2020-11-04',freq='D')]\n",
    "\n",
    "all_forecasts = [x[0:10] for x in os.listdir('../data/raw/forecasts/')]\n",
    "\n",
    "for sys_date in dates_to_ingest:\n",
    "    #############################\n",
    "    #### Define path and day ####\n",
    "    #############################\n",
    "    sys_year = sys_date.split('/')[2][-2:]\n",
    "    sys_month = sys_date.split('/')[1]\n",
    "    sys_day = sys_date.split('/')[0]\n",
    "    \n",
    "    if (sum([y == '20' + sys_year + '_' + sys_month + '_' + sys_day for y in all_forecasts])) != 2 :\n",
    "        print(sys_date)\n"
   ]
  }
 ],
 "metadata": {
  "kernelspec": {
   "display_name": "Python 3",
   "language": "python",
   "name": "python3"
  },
  "language_info": {
   "codemirror_mode": {
    "name": "ipython",
    "version": 3
   },
   "file_extension": ".py",
   "mimetype": "text/x-python",
   "name": "python",
   "nbconvert_exporter": "python",
   "pygments_lexer": "ipython3",
   "version": "3.6.4"
  }
 },
 "nbformat": 4,
 "nbformat_minor": 2
}
