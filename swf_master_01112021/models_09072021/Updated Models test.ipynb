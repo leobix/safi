{
 "cells": [
  {
   "cell_type": "code",
   "execution_count": 37,
   "id": "96eb68c0",
   "metadata": {},
   "outputs": [],
   "source": [
    "import os\n",
    "import pickle\n",
    "import pandas as pd\n",
    "\n",
    "model_names = ['xgb','dt','mlp','rf']\n",
    "features = ['speed','cos_wind_dir','sin_wind_dir','scenario','dangerous']\n",
    "pred_periods = ['1','2','3']\n",
    "\n",
    "models = dict()\n",
    "for model_name in model_names:\n",
    "    for feature in features:\n",
    "        for pred_period in pred_periods:\n",
    "            x = '_'.join([model_name,feature,pred_period])\n",
    "            models[x] = pickle.load(open('./trained_models/' + x + '.pkl','rb'))"
   ]
  },
  {
   "cell_type": "code",
   "execution_count": null,
   "id": "1acaf5a8",
   "metadata": {},
   "outputs": [],
   "source": []
  },
  {
   "cell_type": "code",
   "execution_count": 40,
   "id": "dc8211f3",
   "metadata": {},
   "outputs": [],
   "source": [
    "for model_name in model_names:\n",
    "    for feature in features:\n",
    "        for pred_period in pred_periods:\n",
    "            #print(x)\n",
    "            x = '_'.join([model_name,feature,pred_period])\n",
    "            df_joined['predicted_' + x] = models[x].predict(df_joined[columns_names])\n",
    "            "
   ]
  },
  {
   "cell_type": "code",
   "execution_count": 10,
   "id": "20eb1fa4",
   "metadata": {},
   "outputs": [],
   "source": [
    "# Required columns\n",
    "columns_names = list(pd.read_csv('./column_names.csv')['0'])"
   ]
  },
  {
   "cell_type": "code",
   "execution_count": 11,
   "id": "576d98dd",
   "metadata": {},
   "outputs": [],
   "source": [
    "# Load test data\n",
    "df_joined = pd.read_csv('./x_test.csv')"
   ]
  },
  {
   "cell_type": "code",
   "execution_count": 16,
   "id": "3323aba8",
   "metadata": {},
   "outputs": [],
   "source": [
    "df_joined['dangerous_forecast'] = (df_joined['scenario_forecast'] > 3 ).map(int)"
   ]
  },
  {
   "cell_type": "code",
   "execution_count": 17,
   "id": "473dd7d6",
   "metadata": {},
   "outputs": [
    {
     "data": {
      "text/plain": [
       "array([ 0.10524354,  0.03817091,  0.09777725, ..., -0.03768212,\n",
       "       -0.03667291,  0.07575014], dtype=float32)"
      ]
     },
     "execution_count": 17,
     "metadata": {},
     "output_type": "execute_result"
    }
   ],
   "source": []
  },
  {
   "cell_type": "code",
   "execution_count": null,
   "id": "1c3b4604",
   "metadata": {},
   "outputs": [],
   "source": []
  }
 ],
 "metadata": {
  "kernelspec": {
   "display_name": "Python 3",
   "language": "python",
   "name": "python3"
  },
  "language_info": {
   "codemirror_mode": {
    "name": "ipython",
    "version": 3
   },
   "file_extension": ".py",
   "mimetype": "text/x-python",
   "name": "python",
   "nbconvert_exporter": "python",
   "pygments_lexer": "ipython3",
   "version": "3.6.13"
  }
 },
 "nbformat": 4,
 "nbformat_minor": 5
}
