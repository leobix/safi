{
 "cells": [
  {
   "cell_type": "markdown",
   "metadata": {},
   "source": [
    "### Dependencies"
   ]
  },
  {
   "cell_type": "code",
   "execution_count": 1,
   "metadata": {},
   "outputs": [],
   "source": [
    "def get_f_period(p_date,f_date):\n",
    "    d = pd.to_datetime(p_date) - pd.to_datetime(f_date)\n",
    "    return d.days * 24  + d.seconds // 3600\n",
    "\n",
    "import os \n",
    "import pickle\n",
    "import pandas as pd\n",
    "import numpy as np"
   ]
  },
  {
   "cell_type": "markdown",
   "metadata": {},
   "source": [
    "### Load Data \n",
    "- Last Measurements (from 01/03/2021)\n",
    "- Last 5 months of Forecasts"
   ]
  },
  {
   "cell_type": "code",
   "execution_count": 2,
   "metadata": {},
   "outputs": [],
   "source": [
    "# Measurements\n",
    "measurement_out = pd.read_csv('../data/processed/last_measurement_from_202001.csv')\n",
    "measurement_out['datetime'] = measurement_out['datetime'].map(lambda x : pd.to_datetime(x)) \n",
    "# Forecasts\n",
    "forecast = pd.read_csv('../data/processed/last_forecast_from_202101.csv')\n",
    "forecast['f_date'] = forecast['f_date'].map(lambda x : pd.to_datetime(x))\n",
    "forecast['p_date'] = forecast['p_date'].map(lambda x : pd.to_datetime(x))\n",
    "forecast['file_creation_date'] = forecast['file_creation_date'].map(lambda x : pd.to_datetime(x))"
   ]
  },
  {
   "cell_type": "markdown",
   "metadata": {},
   "source": [
    "### Data Processing\n",
    "- Shift measurements to get 49 lag\n",
    "- Data Merge \n",
    "- Keep last forecasts"
   ]
  },
  {
   "cell_type": "code",
   "execution_count": 3,
   "metadata": {},
   "outputs": [],
   "source": [
    "### Data Merge ###\n",
    "\n",
    "# Save a copy of measurements to score results\n",
    "Y_real = measurement_out.copy()\n",
    "\n",
    "# 49 lag of measurements horizontal stack \n",
    "df_out = Y_real.add_suffix('_t-0')\n",
    "for i in range(1, 49):\n",
    "    df_temp = Y_real.copy().add_suffix('_t-'+str(i))\n",
    "    df_out = pd.concat([df_out,df_temp.shift(i)],axis=1)\n",
    "df_out = df_out.dropna(how='any')\n",
    "#display(df_out.head(1))\n",
    "\n",
    "# join measurements & forecast\n",
    "df_joined = df_out.copy()\n",
    "df_joined = df_joined.merge(forecast.add_suffix('_forecast'),\n",
    "                 how='left',\n",
    "                 left_on = 'datetime_t-0',\n",
    "                 right_on='f_date_forecast')\n",
    "\n",
    "# filter forecast files created after prediction time (same as crop out f_period > 7)\n",
    "df_joined = df_joined.loc[df_joined['datetime_t-0'] >= df_joined['file_creation_date_forecast'],]\n",
    "\n",
    "\n",
    "# Compute f_period\n",
    "df_joined['f_period'] = df_joined[['datetime_t-0','p_date_forecast']] \\\n",
    "                         .apply(lambda row : get_f_period(row['datetime_t-0'],row['p_date_forecast']),axis=1)\n",
    "\n",
    "# assert that file_creation_date_forecast is doing the job\n",
    "assert((df_joined.f_period > 7).any()) \n",
    "\n",
    "# keep last forecast\n",
    "df_joined = df_joined.groupby('datetime_t-0')['f_period'].min().reset_index() \\\n",
    "             .merge(df_joined,how='left')\n",
    "    \n",
    "# compute cos day and hour \n",
    "df_joined['cos_day'] = np.cos(2 * np.pi * df_joined['datetime_t-0'].dt.day / 365)\n",
    "df_joined['cos_hour'] =  np.cos(2 * np.pi * df_joined['datetime_t-0'].dt.hour / 24)\n",
    "#display(df_joined.head(1))"
   ]
  },
  {
   "cell_type": "code",
   "execution_count": 4,
   "metadata": {},
   "outputs": [],
   "source": [
    "# Filter on 2020 data\n",
    "df_joined = df_joined.loc[df_joined['datetime_t-0'].map(lambda x : str(x)[0:4] == '2020'),:]"
   ]
  },
  {
   "cell_type": "code",
   "execution_count": 14,
   "metadata": {},
   "outputs": [],
   "source": [
    "import sys\n",
    "sys.path.append('../utils/util_functions.py')"
   ]
  },
  {
   "cell_type": "code",
   "execution_count": 16,
   "metadata": {},
   "outputs": [],
   "source": [
    "from utils.util_functions import *"
   ]
  },
  {
   "cell_type": "markdown",
   "metadata": {},
   "source": [
    "### New models adjustements\n",
    "- Compute forecast scenario & Dangerous\n",
    "- Rename f_period -> f_period_forecast"
   ]
  },
  {
   "cell_type": "code",
   "execution_count": 17,
   "metadata": {},
   "outputs": [],
   "source": [
    "# Compute needed columns for updated models\n",
    "def get_int_scenario(speed, cos, sin):\n",
    "    if is_S1(speed, cos, sin):\n",
    "        return 1\n",
    "    elif is_S2(speed, cos, sin):\n",
    "        return 2\n",
    "    elif is_S2b(speed, cos, sin):\n",
    "        return 3\n",
    "    elif is_S3(speed, cos, sin):\n",
    "        return 4\n",
    "    elif is_S3b(speed, cos, sin):\n",
    "        return 5\n",
    "    elif is_S4(speed, cos, sin):\n",
    "        return 6\n",
    "    return np.nan\n",
    "\n",
    "import sys\n",
    "sys.path.append('../')\n",
    "#from utils.ui import *\n",
    "\n",
    "df_joined['scenario_forecast'] = df_joined.apply(lambda row : get_int_scenario(row['speed_forecast'],\n",
    "                                             row['cos_wind_dir_forecast'],\n",
    "                                             row['sin_wind_dir_forecast']),\n",
    "                  axis=1)\n",
    "\n",
    "df_joined['dangerous_forecast'] = (df_joined['scenario_forecast'] > 3 ).map(int)\n",
    "\n",
    "df_joined = df_joined.rename(columns={'f_period':'f_period_forecast'})"
   ]
  },
  {
   "cell_type": "code",
   "execution_count": 18,
   "metadata": {},
   "outputs": [],
   "source": [
    "x1 = df_joined.apply(lambda row : is_S1(row['speed_forecast'],\n",
    "                                             row['cos_wind_dir_forecast'],\n",
    "                                             row['sin_wind_dir_forecast']),\n",
    "                  axis=1)"
   ]
  },
  {
   "cell_type": "code",
   "execution_count": 19,
   "metadata": {},
   "outputs": [],
   "source": [
    "x2 = df_joined.apply(lambda row : is_S2(row['speed_forecast'],\n",
    "                                             row['cos_wind_dir_forecast'],\n",
    "                                             row['sin_wind_dir_forecast']),\n",
    "                  axis=1)"
   ]
  },
  {
   "cell_type": "code",
   "execution_count": 20,
   "metadata": {},
   "outputs": [],
   "source": [
    "x3 = df_joined.apply(lambda row : is_S2b(row['speed_forecast'],\n",
    "                                             row['cos_wind_dir_forecast'],\n",
    "                                             row['sin_wind_dir_forecast']),\n",
    "                  axis=1)"
   ]
  },
  {
   "cell_type": "code",
   "execution_count": 21,
   "metadata": {},
   "outputs": [],
   "source": [
    "x4 = df_joined.apply(lambda row : is_S3(row['speed_forecast'],\n",
    "                                             row['cos_wind_dir_forecast'],\n",
    "                                             row['sin_wind_dir_forecast']),\n",
    "                  axis=1)"
   ]
  },
  {
   "cell_type": "code",
   "execution_count": 22,
   "metadata": {},
   "outputs": [],
   "source": [
    "x5 = df_joined.apply(lambda row : is_S3b(row['speed_forecast'],\n",
    "                                             row['cos_wind_dir_forecast'],\n",
    "                                             row['sin_wind_dir_forecast']),\n",
    "                  axis=1)"
   ]
  },
  {
   "cell_type": "code",
   "execution_count": 23,
   "metadata": {},
   "outputs": [],
   "source": [
    "x6 = df_joined.apply(lambda row : is_S4(row['speed_forecast'],\n",
    "                                             row['cos_wind_dir_forecast'],\n",
    "                                             row['sin_wind_dir_forecast']),\n",
    "                  axis=1)"
   ]
  },
  {
   "cell_type": "code",
   "execution_count": 24,
   "metadata": {},
   "outputs": [],
   "source": [
    "def get_angle_in_degree(cos, sin):\n",
    "    #check if cos within reasonable range: \n",
    "    if (cos>=-1) & (cos <=1): \n",
    "        angle = 360 * np.arccos(cos) / (2*np.pi)\n",
    "        if sin < 0:\n",
    "            angle = 360 - angle\n",
    "    #check if sin within reasonable range:       \n",
    "    elif (sin>=-1) & (sin <=1):\n",
    "        angle = 360 * np.arcsin(sin) / (2*np.pi)\n",
    "        if cos < 0:\n",
    "            angle = 180 - angle\n",
    "        if angle < 0:\n",
    "            angle += 360\n",
    "    else:\n",
    "        angle=0 \n",
    "        #print('cos and sin out of range, returned 0')\n",
    "    #because we care about the reverse angle for the scenarios\n",
    "    return angle #(angle + 180) % 360"
   ]
  },
  {
   "cell_type": "raw",
   "metadata": {},
   "source": [
    "### S3b and S4 overlap"
   ]
  },
  {
   "cell_type": "code",
   "execution_count": 25,
   "metadata": {},
   "outputs": [
    {
     "name": "stdout",
     "output_type": "stream",
     "text": [
      "(0.3, 188.0, 187.99999999999997)\n"
     ]
    },
    {
     "data": {
      "text/plain": [
       "(True, True)"
      ]
     },
     "execution_count": 25,
     "metadata": {},
     "output_type": "execute_result"
    }
   ],
   "source": [
    "print((df_joined.loc[1372,'speed_forecast'],\n",
    " df_joined.loc[1372,'wind_dir_forecast'],\n",
    "get_angle_in_degree(df_joined.loc[1372,'cos_wind_dir_forecast'],\n",
    "                    df_joined.loc[1372,'sin_wind_dir_forecast'])))\n",
    "\n",
    "(is_S3b(df_joined.loc[1372,'speed_forecast'],\n",
    "     df_joined.loc[1372,'cos_wind_dir_forecast'],\n",
    "       df_joined.loc[1372,'sin_wind_dir_forecast']),\n",
    " is_S4(df_joined.loc[1372,'speed_forecast'],\n",
    "     df_joined.loc[1372,'cos_wind_dir_forecast'],\n",
    "       df_joined.loc[1372,'sin_wind_dir_forecast']))"
   ]
  },
  {
   "cell_type": "code",
   "execution_count": 26,
   "metadata": {},
   "outputs": [
    {
     "name": "stdout",
     "output_type": "stream",
     "text": [
      "(2.0, 218.0, 217.99999999999994)\n"
     ]
    },
    {
     "data": {
      "text/plain": [
       "(True, True)"
      ]
     },
     "execution_count": 26,
     "metadata": {},
     "output_type": "execute_result"
    }
   ],
   "source": [
    "print((df_joined.loc[6954,'speed_forecast'],\n",
    " df_joined.loc[6954,'wind_dir_forecast'],\n",
    "get_angle_in_degree(df_joined.loc[6954,'cos_wind_dir_forecast'],\n",
    "                    df_joined.loc[6954,'sin_wind_dir_forecast'])))\n",
    "\n",
    "(is_S2(df_joined.loc[6954,'speed_forecast'],\n",
    "     df_joined.loc[6954,'cos_wind_dir_forecast'],\n",
    "       df_joined.loc[6954,'sin_wind_dir_forecast']),\n",
    " is_S2b(df_joined.loc[6954,'speed_forecast'],\n",
    "     df_joined.loc[6954,'cos_wind_dir_forecast'],\n",
    "       df_joined.loc[6954,'sin_wind_dir_forecast']))"
   ]
  },
  {
   "cell_type": "code",
   "execution_count": 27,
   "metadata": {},
   "outputs": [
    {
     "data": {
      "text/html": [
       "<div>\n",
       "<style scoped>\n",
       "    .dataframe tbody tr th:only-of-type {\n",
       "        vertical-align: middle;\n",
       "    }\n",
       "\n",
       "    .dataframe tbody tr th {\n",
       "        vertical-align: top;\n",
       "    }\n",
       "\n",
       "    .dataframe thead th {\n",
       "        text-align: right;\n",
       "    }\n",
       "</style>\n",
       "<table border=\"1\" class=\"dataframe\">\n",
       "  <thead>\n",
       "    <tr style=\"text-align: right;\">\n",
       "      <th></th>\n",
       "      <th>datetime_t-0</th>\n",
       "      <th>speed_forecast</th>\n",
       "      <th>wind_dir_forecast</th>\n",
       "      <th>scenario_legacy_forecast</th>\n",
       "    </tr>\n",
       "  </thead>\n",
       "  <tbody>\n",
       "    <tr>\n",
       "      <th>76</th>\n",
       "      <td>2020-01-06 05:00:00</td>\n",
       "      <td>2.0</td>\n",
       "      <td>129.0</td>\n",
       "      <td>S2</td>\n",
       "    </tr>\n",
       "    <tr>\n",
       "      <th>77</th>\n",
       "      <td>2020-01-06 06:00:00</td>\n",
       "      <td>2.0</td>\n",
       "      <td>129.0</td>\n",
       "      <td>S2b</td>\n",
       "    </tr>\n",
       "  </tbody>\n",
       "</table>\n",
       "</div>"
      ],
      "text/plain": [
       "          datetime_t-0  speed_forecast  wind_dir_forecast  \\\n",
       "76 2020-01-06 05:00:00             2.0              129.0   \n",
       "77 2020-01-06 06:00:00             2.0              129.0   \n",
       "\n",
       "   scenario_legacy_forecast  \n",
       "76                       S2  \n",
       "77                      S2b  "
      ]
     },
     "execution_count": 27,
     "metadata": {},
     "output_type": "execute_result"
    }
   ],
   "source": [
    "df_joined.loc[[76,77],['datetime_t-0','speed_forecast','wind_dir_forecast','scenario_legacy_forecast']]"
   ]
  },
  {
   "cell_type": "code",
   "execution_count": 28,
   "metadata": {},
   "outputs": [
    {
     "data": {
      "text/plain": [
       "0      False\n",
       "1      False\n",
       "2      False\n",
       "3      False\n",
       "4       True\n",
       "5       True\n",
       "sum        2\n",
       "Name: 1372, dtype: object"
      ]
     },
     "execution_count": 28,
     "metadata": {},
     "output_type": "execute_result"
    }
   ],
   "source": [
    "test = pd.DataFrame([x1,x2,x3,x4,x5,x6]).transpose()\n",
    "test['sum'] = test.sum(axis=1)\n",
    "\n",
    "test.loc[1372]"
   ]
  },
  {
   "cell_type": "raw",
   "metadata": {},
   "source": []
  },
  {
   "cell_type": "raw",
   "metadata": {},
   "source": []
  },
  {
   "cell_type": "markdown",
   "metadata": {},
   "source": [
    "### Make predictions\n",
    "- Load all models (regression & classification\n",
    "- Merge predictions : model_feature_lag (prediction date is shifted to align with measurement t-0)"
   ]
  },
  {
   "cell_type": "code",
   "execution_count": 29,
   "metadata": {},
   "outputs": [],
   "source": [
    "# To render results on app we need a branch here for datetime shift ###\n",
    "from datetime import timedelta\n",
    "\n",
    "# Load needed columns for all models \n",
    "columns_names = list(pd.read_csv('../models_09072021/column_names.csv')['0'])\n",
    "\n",
    "# Loop lists\n",
    "model_names = ['xgb','dt','mlp','rf']\n",
    "features = ['speed','cos_wind_dir','sin_wind_dir','scenario','dangerous']\n",
    "pred_periods = ['1','2','3']\n",
    "\n",
    "\n",
    "models = dict()\n",
    "for model_name in model_names:\n",
    "    for feature in features:\n",
    "        for pred_period in pred_periods:\n",
    "            x = '_'.join([model_name,feature,pred_period])\n",
    "            # Load model\n",
    "            models[x] = pickle.load(open('../models_09072021/trained_models/' + x + '.pkl','rb'))\n",
    "            df_temp = df_joined[['datetime_t-0']].copy()\n",
    "            # Shift date\n",
    "            df_temp['datetime_t-0'] = df_temp['datetime_t-0'] + timedelta(hours=int(pred_period))\n",
    "            # Predict\n",
    "            df_temp[x] = models[x].predict(df_joined[columns_names])\n",
    "            # Save\n",
    "            df_joined = df_joined.merge(df_temp,how='left')\n",
    "            del df_temp            \n"
   ]
  },
  {
   "cell_type": "markdown",
   "metadata": {},
   "source": [
    "### Compute ensemble models columns\n",
    " - Proba for scenario (6 columns) and binary (2 columns) classifications"
   ]
  },
  {
   "cell_type": "code",
   "execution_count": 30,
   "metadata": {},
   "outputs": [
    {
     "name": "stdout",
     "output_type": "stream",
     "text": [
      "xgb_scenario_1\n",
      "xgb_scenario_2\n",
      "xgb_scenario_3\n",
      "dt_scenario_1\n",
      "dt_scenario_2\n",
      "dt_scenario_3\n",
      "mlp_scenario_1\n",
      "mlp_scenario_2\n",
      "mlp_scenario_3\n"
     ]
    }
   ],
   "source": [
    "# Scenario clasffication\n",
    "for model_name in ['xgb','dt','mlp']:\n",
    "    feature = 'scenario'\n",
    "    for pred_period in pred_periods:\n",
    "        x = '_'.join([model_name,feature,pred_period])\n",
    "        print(x)\n",
    "        # Shift date\n",
    "        df_temp = df_joined[['datetime_t-0']].copy()\n",
    "        df_temp['datetime_t-0'] = df_temp['datetime_t-0'] + timedelta(hours=int(pred_period))\n",
    "        # Get 6 columns predictions (proba)\n",
    "        df_temp[[x + '_p' + str(i) for i in range(1,7)]] = pd.DataFrame(models[x].predict_proba(df_joined[columns_names]),\n",
    "                                                                        columns=[x + '_p' + str(i) for i in range(1,7)])\n",
    "        # Save\n",
    "        df_joined = df_joined.merge(df_temp,how='left')\n",
    "        del df_temp        \n",
    "    \n",
    "# Binary classification\n",
    "for model_name in ['xgb','dt','mlp','rf']:\n",
    "    feature = 'dangerous'\n",
    "    for pred_period in pred_periods:\n",
    "        x = '_'.join([model_name,feature,pred_period])\n",
    "        # Shift date\n",
    "        df_temp = df_joined[['datetime_t-0']].copy()\n",
    "        df_temp['datetime_t-0'] = df_temp['datetime_t-0'] + timedelta(hours=int(pred_period))\n",
    "        # Get 6 columns predictions (proba)\n",
    "        df_temp[[x + '_p' + str(i) for i in range(0,2)]] = pd.DataFrame(models[x].predict_proba(df_joined[columns_names]),\n",
    "                                                                        columns=[x + '_p' + str(i) for i in range(0,2)])\n",
    "        # Save\n",
    "        df_joined = df_joined.merge(df_temp,how='left')\n",
    "        del df_temp"
   ]
  },
  {
   "cell_type": "code",
   "execution_count": null,
   "metadata": {},
   "outputs": [],
   "source": []
  },
  {
   "cell_type": "code",
   "execution_count": 31,
   "metadata": {},
   "outputs": [
    {
     "data": {
      "text/plain": [
       "(8732, 546)"
      ]
     },
     "execution_count": 31,
     "metadata": {},
     "output_type": "execute_result"
    }
   ],
   "source": [
    "# Drop missing values (at least the 3 first rows)\n",
    "df_joined = df_joined.dropna()\n",
    "df_joined.shape"
   ]
  },
  {
   "cell_type": "code",
   "execution_count": null,
   "metadata": {},
   "outputs": [],
   "source": []
  },
  {
   "cell_type": "markdown",
   "metadata": {},
   "source": [
    "### Speed regression mae"
   ]
  },
  {
   "cell_type": "code",
   "execution_count": 32,
   "metadata": {},
   "outputs": [
    {
     "name": "stdout",
     "output_type": "stream",
     "text": [
      "Model   1   2   3\n",
      "xgb 0.49 0.68 0.83\n",
      "rf 0.54 0.75 0.91\n",
      "dt 0.55 0.77 0.93\n",
      "mlp 0.57 0.77 0.87\n",
      "Numtech 1.0\n"
     ]
    }
   ],
   "source": [
    "from sklearn.metrics import mean_absolute_error\n",
    "\n",
    "### Speed Mae ###\n",
    "print('Model   1   2   3')\n",
    "for model in ['xgb','rf','dt','mlp']:\n",
    "    print(model,\n",
    "          round(mean_absolute_error(df_joined['speed_t-0'],df_joined[model + '_speed_1']),2),\n",
    "          round(mean_absolute_error(df_joined['speed_t-0'],df_joined[model + '_speed_2']),2),\n",
    "          round(mean_absolute_error(df_joined['speed_t-0'],df_joined[model + '_speed_3']),2)\n",
    "         )\n",
    "print('Numtech' , round(mean_absolute_error(df_joined['speed_t-0'],df_joined['speed_forecast']),2))"
   ]
  },
  {
   "cell_type": "markdown",
   "metadata": {},
   "source": [
    "### Wind Direction Regression Mae"
   ]
  },
  {
   "cell_type": "code",
   "execution_count": 33,
   "metadata": {},
   "outputs": [
    {
     "name": "stdout",
     "output_type": "stream",
     "text": [
      "Model  1  2  3\n",
      "xgb 16 24 31\n",
      "dt 19 26 34\n",
      "mlp 19 25 30\n",
      "rf 17 25 32\n",
      "Numtech  41\n"
     ]
    }
   ],
   "source": [
    "def get_angle_in_degree(cos, sin):\n",
    "    #check if cos within reasonable range: \n",
    "    if (cos>=-1) & (cos <=1): \n",
    "        angle = 360 * np.arccos(cos) / (2*np.pi)\n",
    "        if sin < 0:\n",
    "            angle = 360 - angle\n",
    "    #check if sin within reasonable range:       \n",
    "    elif (sin>=-1) & (sin <=1):\n",
    "        angle = 360 * np.arcsin(sin) / (2*np.pi)\n",
    "        if cos < 0:\n",
    "            angle = 180 - angle\n",
    "        if angle < 0:\n",
    "            angle += 360\n",
    "    else:\n",
    "        angle=0 \n",
    "        #print('cos and sin out of range, returned 0')\n",
    "    #because we care about the reverse angle for the scenarios\n",
    "    return angle #(angle + 180) % 360\n",
    "\n",
    "def angle_diff(x):\n",
    "    if x <= 180:\n",
    "        return x \n",
    "    else:\n",
    "        return 360-180\n",
    "    \n",
    "\n",
    "### Real wind dir ###\n",
    "df_joined['wind_dir_t-0'] =  df_joined.apply(lambda row : get_angle_in_degree(row['cos_wind_dir_t-0'],\n",
    "                                                                              row['sin_wind_dir_t-0']),\n",
    "                                             axis=1)\n",
    "    \n",
    "for model_name in model_names:\n",
    "    for pred_period in pred_periods:\n",
    "        input_cos = model_name + '_cos_wind_dir_' + pred_period\n",
    "        input_sin = model_name + '_sin_wind_dir_' + pred_period\n",
    "        output_wind_dir = model_name + '_wind_dir_' + pred_period\n",
    "        df_joined[output_wind_dir] =  df_joined.apply(lambda row : get_angle_in_degree(row[input_cos],row[input_sin]),axis=1)\n",
    "        \n",
    "print('Model  1  2  3')\n",
    "for model_name in model_names:\n",
    "    print(model_name,\n",
    "          round((df_joined[model_name + '_wind_dir_1'] - df_joined['wind_dir_t-0']).abs().map(angle_diff).mean()),\n",
    "          round((df_joined[model_name + '_wind_dir_2'] - df_joined['wind_dir_t-0']).abs().map(angle_diff).mean()),\n",
    "          round((df_joined[model_name + '_wind_dir_3'] - df_joined['wind_dir_t-0']).abs().map(angle_diff).mean())\n",
    "         )\n",
    "print(\"Numtech \",round((df_joined['wind_dir_forecast'] - df_joined['wind_dir_t-0']).abs().map(angle_diff).mean()))"
   ]
  },
  {
   "cell_type": "code",
   "execution_count": 35,
   "metadata": {},
   "outputs": [
    {
     "name": "stdout",
     "output_type": "stream",
     "text": [
      "Collecting openpyxl\n",
      "  Downloading openpyxl-3.0.9-py2.py3-none-any.whl (242 kB)\n",
      "\u001b[K     |████████████████████████████████| 242 kB 5.0 MB/s eta 0:00:01\n",
      "\u001b[?25hCollecting et-xmlfile\n",
      "  Downloading et_xmlfile-1.1.0-py3-none-any.whl (4.7 kB)\n",
      "Installing collected packages: et-xmlfile, openpyxl\n",
      "Successfully installed et-xmlfile-1.1.0 openpyxl-3.0.9\n",
      "\u001b[33mWARNING: You are using pip version 21.2.4; however, version 21.3.1 is available.\n",
      "You should consider upgrading via the '/Library/Frameworks/Python.framework/Versions/3.9/bin/python3.9 -m pip install --upgrade pip' command.\u001b[0m\n"
     ]
    }
   ],
   "source": [
    "!pip install openpyxl"
   ]
  },
  {
   "cell_type": "markdown",
   "metadata": {},
   "source": [
    "### Confusion Matrix "
   ]
  },
  {
   "cell_type": "code",
   "execution_count": 36,
   "metadata": {},
   "outputs": [],
   "source": [
    "# Real scenario & dangerous #\n",
    "df_joined['scenario_t-0'] = df_joined.apply(lambda row : get_int_scenario(row['speed_t-0'],\n",
    "                                                                          row['cos_wind_dir_t-0'],\n",
    "                                                                          row['sin_wind_dir_t-0']),\n",
    "                                                    axis=1)\n",
    "df_joined['dangerous_t-0'] = (df_joined['scenario_t-0'] > 3).map(int)\n",
    "\n",
    "\n",
    "# Regression scenario & dangerous\n",
    "for model_name in model_names:\n",
    "    for pred_period in pred_periods:\n",
    "        \n",
    "        input_speed =  model_name + '_speed_' + pred_period\n",
    "        input_cos = model_name + '_cos_wind_dir_' + pred_period\n",
    "        input_sin = model_name + '_sin_wind_dir_' + pred_period\n",
    "        output_scenario = model_name + '_regression_scenario_' + pred_period\n",
    "        output_dangerous = model_name + '_regression_dangerous_' + pred_period\n",
    "        \n",
    "        df_joined[output_scenario] = df_joined.apply(lambda row : get_int_scenario(row[input_speed],\n",
    "                                                                                   row[input_cos],\n",
    "                                                                                   row[input_sin]),\n",
    "                                                    axis=1)\n",
    "        df_joined[output_dangerous] = (df_joined[output_scenario] > 3).map(int)\n",
    "        \n",
    "    \n",
    "from sklearn.metrics import confusion_matrix\n",
    "\n",
    "df_result = []\n",
    "\n",
    "for model_name in model_names:\n",
    "    #print(model_name)\n",
    "    for pred_period in pred_periods:\n",
    "        # regression\n",
    "        cm = confusion_matrix(df_joined['dangerous_t-0'],df_joined[model_name + '_regression_dangerous_' + pred_period])\n",
    "        df_result += [['regression',model_name,pred_period,cm[0][0],cm[0][1],cm[1][0],cm[1][1]]]\n",
    "        # scenario\n",
    "        df_joined[model_name + '_sc_dangerous_' + pred_period] = (df_joined[model_name + '_scenario_' + pred_period] > 3).map(int)\n",
    "        cm = confusion_matrix(df_joined['dangerous_t-0'],df_joined[model_name + '_sc_dangerous_' + pred_period])\n",
    "        df_result += [['sc classification',model_name,pred_period,cm[0][0],cm[0][1],cm[1][0],cm[1][1]]]\n",
    "        # binary\n",
    "        cm = confusion_matrix(df_joined['dangerous_t-0'],df_joined[model_name + '_dangerous_' + pred_period])\n",
    "        df_result += [['binary classification',model_name,pred_period,cm[0][0],cm[0][1],cm[1][0],cm[1][1]]]\n",
    "        \n",
    "        \n",
    "cm = confusion_matrix(df_joined['dangerous_t-0'],df_joined['dangerous_forecast'])\n",
    "df_result += [['','Numtech','',cm[0][0],cm[0][1],cm[1][0],cm[1][1]]]\n",
    "\n",
    "df_result = pd.DataFrame(df_result,columns=['Type','Name','Period','Correct Safe','Wrong Dangerous','Wrong Safe','Correct Dangerous'])\n",
    "\n",
    "df_result.sort_values(by='Correct Dangerous').to_excel('./results.xlsx',index=False)"
   ]
  },
  {
   "cell_type": "code",
   "execution_count": 37,
   "metadata": {},
   "outputs": [
    {
     "data": {
      "image/png": "[encoded data removed]",
      "text/plain": [
       "<Figure size 1080x360 with 1 Axes>"
      ]
     },
     "metadata": {
      "needs_background": "light"
     },
     "output_type": "display_data"
    }
   ],
   "source": [
    "# scenario per month \n",
    "data_sc_per_month = df_joined[['datetime_t-0','scenario_t-0']].copy()\n",
    "data_sc_per_month['month'] = data_sc_per_month['datetime_t-0'].map(lambda x : str(x)[0:7])\n",
    "\n",
    "data_to_plot = data_sc_per_month.groupby('month')['scenario_t-0'].value_counts().rename('count') \\\n",
    "               .reset_index()\n",
    "\n",
    "# Replace missing counts by 0\n",
    "data_to_plot = data_to_plot.append({'month' : '2020-04' , 'scenario_t-0' : 5, 'count': 0},ignore_index=True)\n",
    "data_to_plot = data_to_plot.append({'month' : '2020-05' , 'scenario_t-0' : 5, 'count': 0},ignore_index=True)\n",
    "data_to_plot = data_to_plot.append({'month' : '2020-07' , 'scenario_t-0' : 5, 'count': 0},ignore_index=True)\n",
    "data_to_plot = data_to_plot.append({'month' : '2020-08' , 'scenario_t-0' : 5, 'count': 0},ignore_index=True)\n",
    "\n",
    "data_to_plot = data_to_plot.append({'month' : '2020-03' , 'scenario_t-0' : 6, 'count': 0},ignore_index=True)\n",
    "data_to_plot = data_to_plot.append({'month' : '2020-05' , 'scenario_t-0' : 6, 'count': 0},ignore_index=True)\n",
    "\n",
    "\n",
    "\n",
    "# sort values for plot \n",
    "data_to_plot = data_to_plot.sort_values(by=['scenario_t-0','month'])\n",
    "\n",
    "labels = list(data_to_plot.month.unique())\n",
    "# Scenario\n",
    "S1_count = list(data_to_plot.loc[data_to_plot['scenario_t-0'] == 1,'count'].values)\n",
    "S2_count = list(data_to_plot.loc[data_to_plot['scenario_t-0'] == 2,'count'].values)\n",
    "S2b_count = list(data_to_plot.loc[data_to_plot['scenario_t-0'] == 3,'count'].values)\n",
    "S3_count = list(data_to_plot.loc[data_to_plot['scenario_t-0'] == 4,'count'].values)\n",
    "S3b_count = list(data_to_plot.loc[data_to_plot['scenario_t-0'] == 5,'count'].values)\n",
    "S4_count = list(data_to_plot.loc[data_to_plot['scenario_t-0'] == 6,'count'].values)\n",
    "\n",
    "import matplotlib.pyplot as plt\n",
    "width = 0.35       # the width of the bars: can also be len(x) sequence\n",
    "\n",
    "fig, ax = plt.subplots(figsize=(15,5))\n",
    "\n",
    "ax.bar(labels, S1_count, width, label='S1',color='green')\n",
    "ax.bar(labels, S2_count, width, label='S2',color='lightgreen',bottom=S1_count)\n",
    "ax.bar(labels, S2b_count, width, label='S2b', color = '#FFFF00',bottom = np.sum([S1_count,S2_count],axis=0))\n",
    "ax.bar(labels, S3_count, width, label='S3', color='#FFA500',bottom = np.sum([S1_count,S2_count,S2b_count],axis=0))\n",
    "ax.bar(labels, S3b_count, width, label='S3b', color='#F97306',bottom=np.sum([S1_count,S2_count,S2b_count,S3_count],axis=0))\n",
    "ax.bar(labels, S4_count, width, label='S4', color='red',bottom=np.sum([S1_count,S2_count,S2b_count,S3_count,S3b_count],axis=0))\n",
    "\n",
    "ax.set_ylabel('Count')\n",
    "ax.set_title('2020 - Scenario count by month')\n",
    "ax.legend()\n",
    "\n",
    "plt.show()"
   ]
  },
  {
   "cell_type": "markdown",
   "metadata": {},
   "source": [
    "### Select ensemble training columns"
   ]
  },
  {
   "cell_type": "code",
   "execution_count": 38,
   "metadata": {},
   "outputs": [],
   "source": [
    "# Loop lists\n",
    "model_names = ['xgb','dt','mlp','rf']\n",
    "features = ['speed','cos_wind_dir','sin_wind_dir']\n",
    "pred_periods = ['1','2','3']\n",
    "\n",
    "select_columns = dict()\n",
    "for pred_period in pred_periods:\n",
    "    select_columns[pred_period] = []\n",
    "    # Regression columns\n",
    "    for model_name in model_names:\n",
    "        for feature in features:\n",
    "            x = '_'.join([model_name,feature,pred_period])\n",
    "            select_columns[pred_period] += [x]\n",
    "    # Scenario proba columns\n",
    "    for model_name in ['xgb','dt','mlp']:\n",
    "        feature = 'scenario'\n",
    "        x = '_'.join([model_name,feature,pred_period])\n",
    "        select_columns[pred_period] += [x + '_p' + str(i) for i in range(1,7)]\n",
    "    # Binary proba columns\n",
    "    for model_name in ['xgb','dt','mlp','rf']:\n",
    "        feature = 'dangerous'\n",
    "        x = '_'.join([model_name,feature,pred_period])\n",
    "        select_columns[pred_period] += [x + '_p' + str(i) for i in range(0,2)]\n",
    "    # Numtech forecast columns\n",
    "    select_columns[pred_period] += ['speed_forecast','cos_wind_dir_forecast','sin_wind_dir_forecast','dangerous_forecast']"
   ]
  },
  {
   "cell_type": "code",
   "execution_count": null,
   "metadata": {},
   "outputs": [],
   "source": []
  },
  {
   "cell_type": "markdown",
   "metadata": {},
   "source": [
    "### Train ensemble models"
   ]
  },
  {
   "cell_type": "code",
   "execution_count": 39,
   "metadata": {},
   "outputs": [
    {
     "name": "stdout",
     "output_type": "stream",
     "text": [
      "42\n"
     ]
    },
    {
     "name": "stderr",
     "output_type": "stream",
     "text": [
      "/Library/Frameworks/Python.framework/Versions/3.9/lib/python3.9/site-packages/sklearn/linear_model/_logistic.py:763: ConvergenceWarning: lbfgs failed to converge (status=1):\n",
      "STOP: TOTAL NO. of ITERATIONS REACHED LIMIT.\n",
      "\n",
      "Increase the number of iterations (max_iter) or scale the data as shown in:\n",
      "    https://scikit-learn.org/stable/modules/preprocessing.html\n",
      "Please also refer to the documentation for alternative solver options:\n",
      "    https://scikit-learn.org/stable/modules/linear_model.html#logistic-regression\n",
      "  n_iter_i = _check_optimize_result(\n"
     ]
    },
    {
     "name": "stdout",
     "output_type": "stream",
     "text": [
      "42\n"
     ]
    },
    {
     "name": "stderr",
     "output_type": "stream",
     "text": [
      "/Library/Frameworks/Python.framework/Versions/3.9/lib/python3.9/site-packages/sklearn/linear_model/_logistic.py:763: ConvergenceWarning: lbfgs failed to converge (status=1):\n",
      "STOP: TOTAL NO. of ITERATIONS REACHED LIMIT.\n",
      "\n",
      "Increase the number of iterations (max_iter) or scale the data as shown in:\n",
      "    https://scikit-learn.org/stable/modules/preprocessing.html\n",
      "Please also refer to the documentation for alternative solver options:\n",
      "    https://scikit-learn.org/stable/modules/linear_model.html#logistic-regression\n",
      "  n_iter_i = _check_optimize_result(\n"
     ]
    },
    {
     "name": "stdout",
     "output_type": "stream",
     "text": [
      "42\n"
     ]
    },
    {
     "name": "stderr",
     "output_type": "stream",
     "text": [
      "/Library/Frameworks/Python.framework/Versions/3.9/lib/python3.9/site-packages/sklearn/linear_model/_logistic.py:763: ConvergenceWarning: lbfgs failed to converge (status=1):\n",
      "STOP: TOTAL NO. of ITERATIONS REACHED LIMIT.\n",
      "\n",
      "Increase the number of iterations (max_iter) or scale the data as shown in:\n",
      "    https://scikit-learn.org/stable/modules/preprocessing.html\n",
      "Please also refer to the documentation for alternative solver options:\n",
      "    https://scikit-learn.org/stable/modules/linear_model.html#logistic-regression\n",
      "  n_iter_i = _check_optimize_result(\n"
     ]
    }
   ],
   "source": [
    "import pickle\n",
    "from sklearn.linear_model import LogisticRegression\n",
    "Y_scenario = df_joined['scenario_t-0']\n",
    "Y_dangerous = df_joined['dangerous_t-0']\n",
    "# Columns selection\n",
    "for pred_period in pred_periods:\n",
    "    print(len(select_columns[pred_period]))\n",
    "    X = df_joined[select_columns[pred_period]].copy()\n",
    "    clf_sc = LogisticRegression(C=1)\n",
    "    clf_sc = clf_sc.fit(X,Y_scenario)\n",
    "    pickle.dump(clf_sc,open('../models_09072021/ensemble_models/lr_scenario_' + pred_period + '.p','wb'))\n",
    "    clf_da = LogisticRegression(C=0.1)\n",
    "    clf_da = clf_da.fit(X,Y_dangerous)\n",
    "    pickle.dump(clf_da,open('../models_09072021/ensemble_models/lr_dangerous_' + pred_period + '.p','wb'))\n",
    "pickle.dump(select_columns, open('../models_09072021/ensemble_models/selected_columns.p','wb'))"
   ]
  },
  {
   "cell_type": "code",
   "execution_count": null,
   "metadata": {},
   "outputs": [],
   "source": []
  },
  {
   "cell_type": "code",
   "execution_count": null,
   "metadata": {},
   "outputs": [],
   "source": [
    "\n",
    "    "
   ]
  }
 ],
 "metadata": {
  "kernelspec": {
   "display_name": "Python 3",
   "language": "python",
   "name": "python3"
  },
  "language_info": {
   "codemirror_mode": {
    "name": "ipython",
    "version": 3
   },
   "file_extension": ".py",
   "mimetype": "text/x-python",
   "name": "python",
   "nbconvert_exporter": "python",
   "pygments_lexer": "ipython3",
   "version": "3.9.2"
  }
 },
 "nbformat": 4,
 "nbformat_minor": 2
}
