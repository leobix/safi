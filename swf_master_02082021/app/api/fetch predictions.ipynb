{
 "cells": [
  {
   "cell_type": "code",
   "execution_count": null,
   "id": "351ee410",
   "metadata": {},
   "outputs": [
    {
     "name": "stdout",
     "output_type": "stream",
     "text": [
      " * Serving Flask app \"__main__\" (lazy loading)\n",
      " * Environment: production\n",
      "\u001b[31m   WARNING: This is a development server. Do not use it in a production deployment.\u001b[0m\n",
      "\u001b[2m   Use a production WSGI server instead.\u001b[0m\n",
      " * Debug mode: off\n"
     ]
    },
    {
     "name": "stderr",
     "output_type": "stream",
     "text": [
      " * Running on http://127.0.0.1:5001/ (Press CTRL+C to quit)\n",
      "127.0.0.1 - - [02/Aug/2021 16:04:11] \"\u001b[37mGET /data/last_results/ HTTP/1.1\u001b[0m\" 200 -\n",
      "127.0.0.1 - - [02/Aug/2021 16:04:11] \"\u001b[37mGET /data/last_results/ HTTP/1.1\u001b[0m\" 200 -\n"
     ]
    }
   ],
   "source": [
    "import numpy as np\n",
    "import pandas as pd\n",
    "import sys\n",
    "sys.path.append('../../')\n",
    "from utils import ui\n",
    "\n",
    "import flask\n",
    "from flask_cors import CORS\n",
    "from flask import jsonify\n",
    "\n",
    "app = flask.Flask(__name__)\n",
    "CORS(app)\n",
    "app.config[\"DEBUG\"] = False\n",
    "\n",
    "def get_last_result():\n",
    "    ###############################\n",
    "    #### load model prediction ####\n",
    "    ###############################\n",
    "    result = pd.read_csv('../../data/processed/last_result.csv')\n",
    "    result = result.loc[result.present_time == result.present_time.max(),\n",
    "                       ].reset_index(drop=True)\n",
    "\n",
    "    present_time = result.present_time[0]\n",
    "    #####################\n",
    "    ### Model results ###\n",
    "    #####################\n",
    "    result['Predicted Scenario'] = result.apply(lambda row : ui.get_str_scenario(row['pred_speed'],\n",
    "                                                                            row['cos_wind_dir'],\n",
    "                                                                            row['sin_wind_dir']),\n",
    "                                           axis=1 )\n",
    "    result['Predicted Binary'] =result['Predicted Scenario'].map(ui.scenario_to_binary)\n",
    "\n",
    "    result['pred_speed'] = result['pred_speed'].map(lambda x : str(round(x,1)))\n",
    "    result['pred_wind_dir'] = result['pred_wind_dir'].map(lambda x : str(round(x,1)))\n",
    "\n",
    "    result.rename(columns={'pred_wind_dir': 'Predicted Wind Direction', 'pred_speed': 'Predicted Wind Speed'},inplace=True)\n",
    "\n",
    "\n",
    "    #########################\n",
    "    #### Numtech results ####\n",
    "    #########################\n",
    "    result['numtech_cos_wind_dir'] = np.cos(2 * np.pi * result['numtech_wind_dir'] / 360)\n",
    "    result['numtech_sin_wind_dir'] = np.sin(2 * np.pi * result['numtech_wind_dir'] / 360)\n",
    "\n",
    "    result['Numtech Scenario'] = result.apply(lambda row : ui.get_str_scenario(row['numtech_speed'],\n",
    "                                                                            row['numtech_cos_wind_dir'],\n",
    "                                                                            row['numtech_sin_wind_dir']),\n",
    "                                           axis=1 )\n",
    "    result['Numtech Binary'] =result['Numtech Scenario'].map(ui.scenario_to_binary)\n",
    "\n",
    "    result.rename(columns={'numtech_wind_dir': 'Numtech Wind Direction', 'numtech_speed': 'Numtech Wind Speed'},inplace=True)\n",
    "\n",
    "    result.rename(columns={'datetime': 'Date'},inplace=True)\n",
    "\n",
    "    result = result[['Date','Predicted Binary','Predicted Scenario','Predicted Wind Speed', 'Predicted Wind Direction',\n",
    "                     'Numtech Binary','Numtech Scenario','Numtech Wind Speed', 'Numtech Wind Direction']]\n",
    "\n",
    "    result['Day'] = result['Date'].map(lambda x : str(x[0:10]))\n",
    "    result['Time'] = result['Date'].map(lambda x : str(x[11:13]) + 'h')\n",
    "    result.drop(columns={'Date'},inplace=True)\n",
    "    return result\n",
    "\n",
    "@app.route('/data/last_results/', methods=['GET'])\n",
    "def home():\n",
    "    return jsonify(get_last_result().to_dict(orient='records'))\n",
    "app.run(port='5001')"
   ]
  },
  {
   "cell_type": "code",
   "execution_count": null,
   "id": "ae82be9f",
   "metadata": {},
   "outputs": [],
   "source": []
  },
  {
   "cell_type": "code",
   "execution_count": null,
   "id": "c02cee40",
   "metadata": {},
   "outputs": [],
   "source": []
  },
  {
   "cell_type": "code",
   "execution_count": null,
   "id": "6f2d4042",
   "metadata": {},
   "outputs": [],
   "source": []
  }
 ],
 "metadata": {
  "kernelspec": {
   "display_name": "Python 3",
   "language": "python",
   "name": "python3"
  },
  "language_info": {
   "codemirror_mode": {
    "name": "ipython",
    "version": 3
   },
   "file_extension": ".py",
   "mimetype": "text/x-python",
   "name": "python",
   "nbconvert_exporter": "python",
   "pygments_lexer": "ipython3",
   "version": "3.6.13"
  }
 },
 "nbformat": 4,
 "nbformat_minor": 5
}
