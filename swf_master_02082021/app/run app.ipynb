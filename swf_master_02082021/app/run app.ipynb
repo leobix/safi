{
 "cells": [
  {
   "cell_type": "code",
   "execution_count": null,
   "id": "4f730535",
   "metadata": {},
   "outputs": [
    {
     "name": "stdout",
     "output_type": "stream",
     "text": [
      " * Serving Flask app \"__main__\" (lazy loading)\n",
      " * Environment: production\n",
      "\u001b[31m   WARNING: This is a development server. Do not use it in a production deployment.\u001b[0m\n",
      "\u001b[2m   Use a production WSGI server instead.\u001b[0m\n",
      " * Debug mode: off\n"
     ]
    },
    {
     "name": "stderr",
     "output_type": "stream",
     "text": [
      " * Running on http://127.0.0.1:5002/ (Press CTRL+C to quit)\n",
      "127.0.0.1 - - [02/Aug/2021 16:04:10] \"\u001b[37mGET / HTTP/1.1\u001b[0m\" 200 -\n",
      "127.0.0.1 - - [02/Aug/2021 16:04:10] \"\u001b[37mGET /static/mit-logo.png HTTP/1.1\u001b[0m\" 200 -\n",
      "127.0.0.1 - - [02/Aug/2021 16:04:10] \"\u001b[37mGET /static/OCP-logo.png HTTP/1.1\u001b[0m\" 200 -\n",
      "127.0.0.1 - - [02/Aug/2021 16:04:11] \"\u001b[33mGET /favicon.ico HTTP/1.1\u001b[0m\" 404 -\n",
      "127.0.0.1 - - [02/Aug/2021 16:04:12] \"\u001b[37mGET /static/arrows/NW.png HTTP/1.1\u001b[0m\" 200 -\n",
      "127.0.0.1 - - [02/Aug/2021 16:04:12] \"\u001b[37mGET /static/arrows/N.png HTTP/1.1\u001b[0m\" 200 -\n",
      "127.0.0.1 - - [02/Aug/2021 16:04:12] \"\u001b[37mGET /static/arrows/W.png HTTP/1.1\u001b[0m\" 200 -\n",
      "127.0.0.1 - - [02/Aug/2021 16:17:00] \"\u001b[37mGET /static/arrows/NE.png HTTP/1.1\u001b[0m\" 200 -\n",
      "127.0.0.1 - - [02/Aug/2021 16:17:00] \"\u001b[37mGET /static/arrows/SE.png HTTP/1.1\u001b[0m\" 200 -\n",
      "127.0.0.1 - - [02/Aug/2021 16:17:00] \"\u001b[37mGET /static/arrows/E.png HTTP/1.1\u001b[0m\" 200 -\n"
     ]
    }
   ],
   "source": [
    "from flask import Flask, render_template\n",
    "# set the project root directory as the static folder, you can set others.\n",
    "app = Flask(__name__)\n",
    "\n",
    "\n",
    "@app.route('/')\n",
    "def home():\n",
    "    return render_template('home.html')\n",
    "\n",
    "app.run(port='5002')"
   ]
  },
  {
   "cell_type": "code",
   "execution_count": null,
   "id": "aa08e6a0",
   "metadata": {},
   "outputs": [],
   "source": []
  },
  {
   "cell_type": "code",
   "execution_count": null,
   "id": "5c26a82d",
   "metadata": {},
   "outputs": [],
   "source": []
  }
 ],
 "metadata": {
  "kernelspec": {
   "display_name": "Python 3",
   "language": "python",
   "name": "python3"
  },
  "language_info": {
   "codemirror_mode": {
    "name": "ipython",
    "version": 3
   },
   "file_extension": ".py",
   "mimetype": "text/x-python",
   "name": "python",
   "nbconvert_exporter": "python",
   "pygments_lexer": "ipython3",
   "version": "3.6.13"
  }
 },
 "nbformat": 4,
 "nbformat_minor": 5
}
