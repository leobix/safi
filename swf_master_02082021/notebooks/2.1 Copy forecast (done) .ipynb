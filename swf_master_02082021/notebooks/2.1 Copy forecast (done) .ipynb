{
 "cells": [
  {
   "cell_type": "markdown",
   "metadata": {},
   "source": [
    "### Copy one forecast"
   ]
  },
  {
   "cell_type": "code",
   "execution_count": 1,
   "metadata": {},
   "outputs": [
    {
     "name": "stdout",
     "output_type": "stream",
     "text": [
      "2020_11_01_00_optimise_previ\n",
      "2020_11_01_12_optimise_previ\n"
     ]
    }
   ],
   "source": [
    "######################\n",
    "#### Dependencies ####\n",
    "######################\n",
    "import os\n",
    "import sys\n",
    "\n",
    "#############################\n",
    "#### Define path and day ####\n",
    "#############################\n",
    "sys_date = '01/11/2020'\n",
    "sys_year = sys_date.split('/')[2][-2:]\n",
    "sys_month = sys_date.split('/')[1]\n",
    "sys_day = sys_date.split('/')[0]\n",
    "\n",
    "################################\n",
    "#### Copy files to SAVE_DIR ####\n",
    "################################\n",
    "MAIN_DIR = '//Sa-modat-cs-pr/plumair/SAFI/Sorties/' + '20' + sys_year + '/'\n",
    "SAVE_DIR = '../data/raw/forecasts/'\n",
    "\n",
    "sub_dir = [x for x in os.listdir(MAIN_DIR) if (x[-8:] == 'se_previ') and (x[5:10] == sys_month + '_' + sys_day)]\n",
    "\n",
    "for s in sub_dir:\n",
    "    print(s)\n",
    "    # create saving folder\n",
    "    if (os.path.exists(SAVE_DIR + s[0:13]) == False):\n",
    "        os.mkdir(SAVE_DIR + s[0:13])\n",
    "    \n",
    "    # prediction day\n",
    "    dir_day = os.listdir(MAIN_DIR + s)\n",
    "    \n",
    "    for d in dir_day:\n",
    "        if (len(d) == 10):\n",
    "            # create saving sub folder\n",
    "            if (os.path.exists(SAVE_DIR + s[0:13] + '/' + d) == False):\n",
    "                os.mkdir(SAVE_DIR + s[0:13] + '/' + d)\n",
    "            copy_path = MAIN_DIR + s + '/' + d + '/meteo.txt'\n",
    "            save_path = SAVE_DIR + s[0:13] + '/' + d + '/meteo.txt'\n",
    "            t = os.system('copy ' + copy_path.replace('/','''\\\\''') + ' ' + save_path.replace('/','\\\\'))\n",
    "            if t:\n",
    "                print(s[0:13],d,t)"
   ]
  },
  {
   "cell_type": "code",
   "execution_count": 2,
   "metadata": {},
   "outputs": [
    {
     "name": "stdout",
     "output_type": "stream",
     "text": [
      "12\n"
     ]
    }
   ],
   "source": [
    "import pandas as pd\n",
    "dates_to_ingest = [x.strftime(format='%d/%m/%Y') for x in pd.date_range('2020-11-01','2020-11-12',freq='D')]\n",
    "print(len(dates_to_ingest))"
   ]
  },
  {
   "cell_type": "code",
   "execution_count": 3,
   "metadata": {},
   "outputs": [
    {
     "name": "stdout",
     "output_type": "stream",
     "text": [
      "2020_11_01_00_optimise_previ\n",
      "2020_11_01_12_optimise_previ\n",
      "2020_11_02_00_optimise_previ\n",
      "2020_11_02_12_optimise_previ\n",
      "2020_11_03_00_optimise_previ\n",
      "2020_11_03_12_optimise_previ\n",
      "2020_11_04_00_optimise_previ\n",
      "2020_11_04_12_optimise_previ\n",
      "2020_11_05_00_optimise_previ\n",
      "2020_11_05_12_optimise_previ\n",
      "2020_11_06_00_optimise_previ\n",
      "2020_11_06_12_optimise_previ\n",
      "2020_11_07_00_optimise_previ\n",
      "2020_11_07_12_optimise_previ\n",
      "2020_11_08_00_optimise_previ\n",
      "2020_11_08_12_optimise_previ\n",
      "2020_11_09_00_optimise_previ\n",
      "2020_11_09_12_optimise_previ\n",
      "2020_11_10_00_optimise_previ\n",
      "2020_11_10_12_optimise_previ\n",
      "2020_11_11_00_optimise_previ\n",
      "2020_11_11_12_optimise_previ\n",
      "2020_11_12_00_optimise_previ\n"
     ]
    }
   ],
   "source": [
    "for sys_date in dates_to_ingest:\n",
    "    #############################\n",
    "    #### Define path and day ####\n",
    "    #############################\n",
    "    sys_year = sys_date.split('/')[2][-2:]\n",
    "    sys_month = sys_date.split('/')[1]\n",
    "    sys_day = sys_date.split('/')[0]\n",
    "\n",
    "    ################################\n",
    "    #### Copy files to SAVE_DIR ####\n",
    "    ################################\n",
    "    MAIN_DIR = '//Sa-modat-cs-pr/plumair/SAFI/Sorties/' + '20' + sys_year + '/'\n",
    "    SAVE_DIR = '../data/raw/forecasts/'\n",
    "\n",
    "    sub_dir = [x for x in os.listdir(MAIN_DIR) if (x[-8:] == 'se_previ') and (x[5:10] == sys_month + '_' + sys_day)]\n",
    "\n",
    "    for s in sub_dir:\n",
    "        print(s)\n",
    "        # create saving folder\n",
    "        if (os.path.exists(SAVE_DIR + s[0:13]) == False):\n",
    "            os.mkdir(SAVE_DIR + s[0:13])\n",
    "\n",
    "        # prediction day\n",
    "        dir_day = os.listdir(MAIN_DIR + s)\n",
    "\n",
    "        for d in dir_day:\n",
    "            if (len(d) == 10):\n",
    "                # create saving sub folder\n",
    "                if (os.path.exists(SAVE_DIR + s[0:13] + '/' + d) == False):\n",
    "                    os.mkdir(SAVE_DIR + s[0:13] + '/' + d)\n",
    "                copy_path = MAIN_DIR + s + '/' + d + '/meteo.txt'\n",
    "                save_path = SAVE_DIR + s[0:13] + '/' + d + '/meteo.txt'\n",
    "                t = os.system('copy ' + copy_path.replace('/','''\\\\''') + ' ' + save_path.replace('/','\\\\'))\n",
    "                if t:\n",
    "                    print(s[0:13],d,t)"
   ]
  },
  {
   "cell_type": "code",
   "execution_count": 40,
   "metadata": {},
   "outputs": [],
   "source": [
    "\n"
   ]
  },
  {
   "cell_type": "code",
   "execution_count": null,
   "metadata": {},
   "outputs": [],
   "source": []
  }
 ],
 "metadata": {
  "kernelspec": {
   "display_name": "Python 3",
   "language": "python",
   "name": "python3"
  },
  "language_info": {
   "codemirror_mode": {
    "name": "ipython",
    "version": 3
   },
   "file_extension": ".py",
   "mimetype": "text/x-python",
   "name": "python",
   "nbconvert_exporter": "python",
   "pygments_lexer": "ipython3",
   "version": "3.6.13"
  }
 },
 "nbformat": 4,
 "nbformat_minor": 4
}
