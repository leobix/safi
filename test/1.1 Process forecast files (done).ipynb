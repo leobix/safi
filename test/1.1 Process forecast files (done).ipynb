{
 "cells": [
  {
   "cell_type": "markdown",
   "metadata": {},
   "source": [
    "### Dependencies"
   ]
  },
  {
   "cell_type": "code",
   "execution_count": 6,
   "metadata": {},
   "outputs": [],
   "source": [
    "import os \n",
    "import pandas as pd\n",
    "import numpy as np\n",
    "import datetime\n",
    "import pickle\n",
    "from utils import data_preparation as prep"
   ]
  },
  {
   "cell_type": "markdown",
   "metadata": {},
   "source": [
    "### Init path"
   ]
  },
  {
   "cell_type": "code",
   "execution_count": 2,
   "metadata": {},
   "outputs": [],
   "source": [
    "main_dir = './data/raw/forecast/'\n",
    "sub_dir = os.listdir(main_dir)"
   ]
  },
  {
   "cell_type": "markdown",
   "metadata": {},
   "source": [
    "### Process One file"
   ]
  },
  {
   "cell_type": "code",
   "execution_count": 3,
   "metadata": {},
   "outputs": [
    {
     "data": {
      "text/html": [
       "<div>\n",
       "<style scoped>\n",
       "    .dataframe tbody tr th:only-of-type {\n",
       "        vertical-align: middle;\n",
       "    }\n",
       "\n",
       "    .dataframe tbody tr th {\n",
       "        vertical-align: top;\n",
       "    }\n",
       "\n",
       "    .dataframe thead th {\n",
       "        text-align: right;\n",
       "    }\n",
       "</style>\n",
       "<table border=\"1\" class=\"dataframe\">\n",
       "  <thead>\n",
       "    <tr style=\"text-align: right;\">\n",
       "      <th></th>\n",
       "      <th>p_date</th>\n",
       "      <th>f_date</th>\n",
       "      <th>speed</th>\n",
       "      <th>temp</th>\n",
       "      <th>rad</th>\n",
       "      <th>precip</th>\n",
       "      <th>cos_wind_dir</th>\n",
       "      <th>sin_wind_dir</th>\n",
       "    </tr>\n",
       "  </thead>\n",
       "  <tbody>\n",
       "    <tr>\n",
       "      <th>0</th>\n",
       "      <td>2020-07-01 00:00:00</td>\n",
       "      <td>2020-07-01 00:00:00</td>\n",
       "      <td>4.0</td>\n",
       "      <td>20.8</td>\n",
       "      <td>0</td>\n",
       "      <td>0</td>\n",
       "      <td>0.731354</td>\n",
       "      <td>0.681998</td>\n",
       "    </tr>\n",
       "    <tr>\n",
       "      <th>1</th>\n",
       "      <td>2020-07-01 00:00:00</td>\n",
       "      <td>2020-07-01 01:00:00</td>\n",
       "      <td>3.8</td>\n",
       "      <td>20.2</td>\n",
       "      <td>0</td>\n",
       "      <td>0</td>\n",
       "      <td>0.694658</td>\n",
       "      <td>0.719340</td>\n",
       "    </tr>\n",
       "    <tr>\n",
       "      <th>2</th>\n",
       "      <td>2020-07-01 00:00:00</td>\n",
       "      <td>2020-07-01 02:00:00</td>\n",
       "      <td>3.8</td>\n",
       "      <td>19.9</td>\n",
       "      <td>0</td>\n",
       "      <td>0</td>\n",
       "      <td>0.669131</td>\n",
       "      <td>0.743145</td>\n",
       "    </tr>\n",
       "    <tr>\n",
       "      <th>3</th>\n",
       "      <td>2020-07-01 00:00:00</td>\n",
       "      <td>2020-07-01 03:00:00</td>\n",
       "      <td>4.0</td>\n",
       "      <td>19.8</td>\n",
       "      <td>0</td>\n",
       "      <td>0</td>\n",
       "      <td>0.615661</td>\n",
       "      <td>0.788011</td>\n",
       "    </tr>\n",
       "    <tr>\n",
       "      <th>4</th>\n",
       "      <td>2020-07-01 00:00:00</td>\n",
       "      <td>2020-07-01 04:00:00</td>\n",
       "      <td>4.1</td>\n",
       "      <td>19.6</td>\n",
       "      <td>0</td>\n",
       "      <td>0</td>\n",
       "      <td>0.559193</td>\n",
       "      <td>0.829038</td>\n",
       "    </tr>\n",
       "  </tbody>\n",
       "</table>\n",
       "</div>"
      ],
      "text/plain": [
       "                p_date               f_date  speed  temp  rad  precip  \\\n",
       "0  2020-07-01 00:00:00  2020-07-01 00:00:00    4.0  20.8    0       0   \n",
       "1  2020-07-01 00:00:00  2020-07-01 01:00:00    3.8  20.2    0       0   \n",
       "2  2020-07-01 00:00:00  2020-07-01 02:00:00    3.8  19.9    0       0   \n",
       "3  2020-07-01 00:00:00  2020-07-01 03:00:00    4.0  19.8    0       0   \n",
       "4  2020-07-01 00:00:00  2020-07-01 04:00:00    4.1  19.6    0       0   \n",
       "\n",
       "   cos_wind_dir  sin_wind_dir  \n",
       "0      0.731354      0.681998  \n",
       "1      0.694658      0.719340  \n",
       "2      0.669131      0.743145  \n",
       "3      0.615661      0.788011  \n",
       "4      0.559193      0.829038  "
      ]
     },
     "execution_count": 3,
     "metadata": {},
     "output_type": "execute_result"
    }
   ],
   "source": [
    "def get_one_forecast(DAY,HOUR):\n",
    "    forecast_dir_path = main_dir + DAY + '_' + HOUR + '/'\n",
    "    # Init output\n",
    "    data = pd.DataFrame()\n",
    "    # Init f_period\n",
    "    period_root = 0\n",
    "    # Read 2 meteo file\n",
    "    for dir_day in os.listdir(forecast_dir_path):\n",
    "        if len(dir_day) == 10:\n",
    "            # load file\n",
    "            data_per_day = pd.read_csv(forecast_dir_path + dir_day + '/meteo.txt',delimiter=\";\")\n",
    "            data_per_day['date'] = dir_day.replace('_','-')\n",
    "            data_per_day['f_period'] = period_root + data_per_day['heure']\n",
    "            # append to output\n",
    "            data = data.append(data_per_day)\n",
    "            # add 1 day to fperiod\n",
    "            period_root += 24\n",
    "\n",
    "    # forecast date\n",
    "    data['f_date'] = data['date'] + ' ' \n",
    "    data['f_date'] += data['heure'].map(lambda x : str(x).zfill(2))\n",
    "    data['f_date'] += ':00:00'\n",
    "    # present date\n",
    "    data['p_date'] = DAY.replace('_','-') + ' ' + HOUR + ':00:00'\n",
    "\n",
    "    # rename columns \n",
    "    data = data.rename(columns={'vitesse' : 'speed', \n",
    "                                'temperature' : 'temp', \n",
    "                                'rayonnement' : 'rad',\n",
    "                                'direction' : 'wind_dir'})\n",
    "\n",
    "    # compute cos and sin\n",
    "    data = prep.smooth_wind_dir(data)\n",
    "\n",
    "    # select columns\n",
    "    data = data[['p_date','f_date','speed','temp','rad','precip','cos_wind_dir','sin_wind_dir']]\n",
    "    return data\n",
    "\n",
    "#### get on file\n",
    "file_path = sub_dir[0]\n",
    "DAY = file_path[0:10]\n",
    "HOUR = file_path[11:13]\n",
    "get_one_forecast(DAY,HOUR).head()"
   ]
  },
  {
   "cell_type": "markdown",
   "metadata": {},
   "source": [
    "### Process 15 days data\n",
    "- Concatenate all files \n",
    "- Save dataframe in ./data/processed/"
   ]
  },
  {
   "cell_type": "code",
   "execution_count": 18,
   "metadata": {},
   "outputs": [
    {
     "data": {
      "text/html": [
       "<div>\n",
       "<style scoped>\n",
       "    .dataframe tbody tr th:only-of-type {\n",
       "        vertical-align: middle;\n",
       "    }\n",
       "\n",
       "    .dataframe tbody tr th {\n",
       "        vertical-align: top;\n",
       "    }\n",
       "\n",
       "    .dataframe thead th {\n",
       "        text-align: right;\n",
       "    }\n",
       "</style>\n",
       "<table border=\"1\" class=\"dataframe\">\n",
       "  <thead>\n",
       "    <tr style=\"text-align: right;\">\n",
       "      <th></th>\n",
       "      <th>p_date</th>\n",
       "      <th>f_date</th>\n",
       "      <th>speed</th>\n",
       "      <th>temp</th>\n",
       "      <th>rad</th>\n",
       "      <th>precip</th>\n",
       "      <th>cos_wind_dir</th>\n",
       "      <th>sin_wind_dir</th>\n",
       "    </tr>\n",
       "  </thead>\n",
       "  <tbody>\n",
       "    <tr>\n",
       "      <th>0</th>\n",
       "      <td>2020-07-01 00:00:00</td>\n",
       "      <td>2020-07-01 00:00:00</td>\n",
       "      <td>4.0</td>\n",
       "      <td>20.8</td>\n",
       "      <td>0</td>\n",
       "      <td>0</td>\n",
       "      <td>0.731354</td>\n",
       "      <td>0.681998</td>\n",
       "    </tr>\n",
       "    <tr>\n",
       "      <th>1</th>\n",
       "      <td>2020-07-01 00:00:00</td>\n",
       "      <td>2020-07-01 01:00:00</td>\n",
       "      <td>3.8</td>\n",
       "      <td>20.2</td>\n",
       "      <td>0</td>\n",
       "      <td>0</td>\n",
       "      <td>0.694658</td>\n",
       "      <td>0.719340</td>\n",
       "    </tr>\n",
       "    <tr>\n",
       "      <th>2</th>\n",
       "      <td>2020-07-01 00:00:00</td>\n",
       "      <td>2020-07-01 02:00:00</td>\n",
       "      <td>3.8</td>\n",
       "      <td>19.9</td>\n",
       "      <td>0</td>\n",
       "      <td>0</td>\n",
       "      <td>0.669131</td>\n",
       "      <td>0.743145</td>\n",
       "    </tr>\n",
       "    <tr>\n",
       "      <th>3</th>\n",
       "      <td>2020-07-01 00:00:00</td>\n",
       "      <td>2020-07-01 03:00:00</td>\n",
       "      <td>4.0</td>\n",
       "      <td>19.8</td>\n",
       "      <td>0</td>\n",
       "      <td>0</td>\n",
       "      <td>0.615661</td>\n",
       "      <td>0.788011</td>\n",
       "    </tr>\n",
       "    <tr>\n",
       "      <th>4</th>\n",
       "      <td>2020-07-01 00:00:00</td>\n",
       "      <td>2020-07-01 04:00:00</td>\n",
       "      <td>4.1</td>\n",
       "      <td>19.6</td>\n",
       "      <td>0</td>\n",
       "      <td>0</td>\n",
       "      <td>0.559193</td>\n",
       "      <td>0.829038</td>\n",
       "    </tr>\n",
       "  </tbody>\n",
       "</table>\n",
       "</div>"
      ],
      "text/plain": [
       "                p_date               f_date  speed  temp  rad  precip  \\\n",
       "0  2020-07-01 00:00:00  2020-07-01 00:00:00    4.0  20.8    0       0   \n",
       "1  2020-07-01 00:00:00  2020-07-01 01:00:00    3.8  20.2    0       0   \n",
       "2  2020-07-01 00:00:00  2020-07-01 02:00:00    3.8  19.9    0       0   \n",
       "3  2020-07-01 00:00:00  2020-07-01 03:00:00    4.0  19.8    0       0   \n",
       "4  2020-07-01 00:00:00  2020-07-01 04:00:00    4.1  19.6    0       0   \n",
       "\n",
       "   cos_wind_dir  sin_wind_dir  \n",
       "0      0.731354      0.681998  \n",
       "1      0.694658      0.719340  \n",
       "2      0.669131      0.743145  \n",
       "3      0.615661      0.788011  \n",
       "4      0.559193      0.829038  "
      ]
     },
     "metadata": {},
     "output_type": "display_data"
    }
   ],
   "source": [
    "# concat files\n",
    "forecast = pd.DataFrame()\n",
    "for file_path in sub_dir:\n",
    "    DAY = file_path[0:10]\n",
    "    HOUR = file_path[11:13]\n",
    "    forecast = forecast.append(get_one_forecast(DAY,HOUR))\n",
    "forecast = forecast.reset_index(drop=True)\n",
    "display(forecast.head())\n"
   ]
  },
  {
   "cell_type": "markdown",
   "metadata": {},
   "source": [
    "## Cynthia: crop out <=6 f_period, and select last forecast "
   ]
  },
  {
   "cell_type": "code",
   "execution_count": 19,
   "metadata": {},
   "outputs": [],
   "source": [
    "#change to dt \n",
    "forecast['f_date']= pd.to_datetime(forecast['f_date'],format='%Y-%m-%d %H:%M:%S')\n",
    "forecast['p_date']= pd.to_datetime(forecast['p_date'],format='%Y-%m-%d %H:%M:%S')\n",
    "\n",
    "#calculate forecast period (f_period)\n",
    "forecast['f_period'] =forecast['f_date'] - forecast['p_date']\n",
    "forecast['f_period'] = forecast['f_period'].dt.components['hours']+forecast['f_period'].dt.components['days']*24\n",
    "\n",
    "#crop out <=6 hours \n",
    "forecast = forecast.loc[forecast['f_period']>=6]\n",
    "forecast= prep.keep_last_forecast(forecast)\n",
    "forecast.reset_index(inplace=True)"
   ]
  },
  {
   "cell_type": "markdown",
   "metadata": {},
   "source": [
    "## Cynthia: check if any columns is missing "
   ]
  },
  {
   "cell_type": "code",
   "execution_count": 20,
   "metadata": {},
   "outputs": [
    {
     "name": "stdout",
     "output_type": "stream",
     "text": [
      "checking missing columns are:  Index([], dtype='object')\n"
     ]
    }
   ],
   "source": [
    "#read pickle format columns \n",
    "forecast_cols = pickle.load(open('forecast_cols.pkl', 'rb'))\n",
    "print('checking missing columns are: ', (forecast_cols).difference(forecast.columns))"
   ]
  },
  {
   "cell_type": "markdown",
   "metadata": {},
   "source": [
    "### Save file"
   ]
  },
  {
   "cell_type": "code",
   "execution_count": 22,
   "metadata": {},
   "outputs": [],
   "source": [
    "forecast.to_csv('./data/processed/last_forecast.csv',index=False)"
   ]
  },
  {
   "cell_type": "markdown",
   "metadata": {},
   "source": [
    "### Remarks\n",
    "- We will need p_date and f_period columns also here ???\n",
    "- The way i'm computing f_period (period_root in function get_one_forecast above) here will give us values in [0,47] not [0,48]\n",
    "- Precipitation always equal to 0\n",
    "\n",
    "\n",
    "- Cynthia: now we have 1 forecast per f_period, but since we can't use those <= 6 hours, we need to get older forecast... Perhaps the best way is to get all forecast, and then do: (this is done)\n",
    "    - 1) crop out f_period <=6, \n",
    "    - 2) select last forecast"
   ]
  },
  {
   "cell_type": "code",
   "execution_count": null,
   "metadata": {},
   "outputs": [],
   "source": []
  }
 ],
 "metadata": {
  "kernelspec": {
   "display_name": "Python 3",
   "language": "python",
   "name": "python3"
  },
  "language_info": {
   "codemirror_mode": {
    "name": "ipython",
    "version": 3
   },
   "file_extension": ".py",
   "mimetype": "text/x-python",
   "name": "python",
   "nbconvert_exporter": "python",
   "pygments_lexer": "ipython3",
   "version": "3.7.3"
  }
 },
 "nbformat": 4,
 "nbformat_minor": 2
}
