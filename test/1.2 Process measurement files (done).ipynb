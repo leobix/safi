{
 "cells": [
  {
   "cell_type": "code",
   "execution_count": 6,
   "metadata": {},
   "outputs": [],
   "source": [
    "import sys\n",
    "sys.path.append('../')\n",
    "import os\n",
    "import pandas as pd\n",
    "import numpy as np\n",
    "from xgboost import XGBRegressor\n",
    "from datetime import timedelta\n",
    "import pickle\n",
    "import datetime\n",
    "\n",
    "from utils import utils_scenario as utils, data_preparation as prep, data_process as proc\n"
   ]
  },
  {
   "cell_type": "markdown",
   "metadata": {},
   "source": [
    "### Dependencies"
   ]
  },
  {
   "cell_type": "code",
   "execution_count": 2,
   "metadata": {},
   "outputs": [],
   "source": [
    "def comma_to_float(x):\n",
    "    try:\n",
    "        return float(x.replace(',','.'))\n",
    "    except:\n",
    "        return np.nan\n",
    "    \n",
    "def get_season(month):\n",
    "    if month in [12,1,2]:\n",
    "        return 1\n",
    "    if month in [3,4,5]:\n",
    "        return 2\n",
    "    if month in [6,7,8]:\n",
    "        return 3\n",
    "    if month in [9,10,11]:\n",
    "        return 4\n",
    "\n",
    "def get_am(hour):\n",
    "    if hour in range(0,12):\n",
    "        return 1\n",
    "    else:\n",
    "        return 0\n",
    "    \n",
    "def DAY_format(DAY):\n",
    "    return ('20' + DAY[-2:] + '-' + DAY[3:5] + '-' + DAY[0:2])\n"
   ]
  },
  {
   "cell_type": "markdown",
   "metadata": {},
   "source": [
    "### Load one file"
   ]
  },
  {
   "cell_type": "code",
   "execution_count": 3,
   "metadata": {},
   "outputs": [],
   "source": [
    "def get_one_measurement(file_path,DAY):\n",
    "    data = pd.read_csv(main_dir + file_path,low_memory=False,\n",
    "                   delimiter='\\t',quotechar='\"',decimal=',').dropna()\n",
    "    # drop first row (contains unit)\n",
    "    data = data.loc[1:,:]\n",
    "    # rename columns\n",
    "    data = data.rename(columns={'Unnamed: 0' : 'datetime',\n",
    "                                'Speed@1m': 'speed', \n",
    "                                'Dir': 'wind_dir',\n",
    "                                'AirTemp' : 'temp',\n",
    "                                \"Rad'n\" : 'radiation',\n",
    "                                'Rain@1m' : 'precip'})\n",
    "    # convert date from gmt to gmt+1\n",
    "    data['datetime'] = pd.to_datetime(data['datetime'],format= '%d/%m/%Y %H:%M:%S') + datetime.timedelta(hours=1)\n",
    "\n",
    "    # files can contain also old data so we filter on day to avoid duplicates and slow processing\n",
    "    data['day'] = data['datetime'].map(lambda x : str(x)[0:10])\n",
    "    data = data.loc[data['day'] == DAY_format(DAY)]\n",
    "\n",
    "    # convert str to float\n",
    "    for col in ['wind_dir','speed','temp','precip']:\n",
    "        data[col] = data[col].map(comma_to_float)\n",
    "\n",
    "#     # compute cos and sin wind_dir\n",
    "        #Cynthia: do smooth_wind_dir later \n",
    "#     data = prep.smooth_wind_dir(data)\n",
    "\n",
    "    # replace #-INF by 0\n",
    "    data.loc[data['radiation'] == '#-INF', 'radiation'] = 0\n",
    "    # select columns\n",
    "    data = data[['datetime','speed','wind_dir', 'temp', 'radiation', 'precip']]\n",
    "    return data.reset_index(drop=True)"
   ]
  },
  {
   "cell_type": "code",
   "execution_count": null,
   "metadata": {},
   "outputs": [],
   "source": []
  },
  {
   "cell_type": "markdown",
   "metadata": {},
   "source": [
    "### Init path and day"
   ]
  },
  {
   "cell_type": "code",
   "execution_count": 7,
   "metadata": {},
   "outputs": [
    {
     "name": "stdout",
     "output_type": "stream",
     "text": [
      "01-07-20\n"
     ]
    }
   ],
   "source": [
    "main_dir = './data/raw/measurement/'\n",
    "save_dir = './data/processed/'\n",
    "\n",
    "### Input system date using batch file\n",
    "### Each hour we collect data for system date\n",
    "# This data seems to be in gmt not gmt+1 \n",
    "sys_date = '01/07/2020'\n",
    "sys_year = sys_date.split('/')[2][-2:]\n",
    "sys_month = sys_date.split('/')[1]\n",
    "sys_day = sys_date.split('/')[0]\n",
    "DAY = sys_day + '-' + sys_month + '-' + sys_year\n",
    "print(DAY)"
   ]
  },
  {
   "cell_type": "markdown",
   "metadata": {},
   "source": [
    "### Load one day of measurement"
   ]
  },
  {
   "cell_type": "code",
   "execution_count": 9,
   "metadata": {},
   "outputs": [],
   "source": [
    "def get_one_day_measurement(DAY):\n",
    "    data_per_day = pd.DataFrame()\n",
    "    for file_path in os.listdir(main_dir):\n",
    "        if (file_path[4:12] == DAY):\n",
    "            data_per_day = data_per_day.append(get_one_measurement(file_path,DAY))\n",
    "    return data_per_day.drop_duplicates().reset_index(drop=True)\n",
    "\n",
    "file_path = os.listdir(main_dir)[0]\n",
    "df = get_one_measurement(file_path,DAY).head()"
   ]
  },
  {
   "cell_type": "markdown",
   "metadata": {},
   "source": [
    "### Concatenate 15 days data\n",
    "- Save one file per day in ./data/raw/daily_measurement/"
   ]
  },
  {
   "cell_type": "code",
   "execution_count": 22,
   "metadata": {},
   "outputs": [],
   "source": [
    "for i in range(1,15):\n",
    "    DAY = str(i).zfill(2) + '-07-20'\n",
    "    data = get_one_day_measurement(DAY)\n",
    "    data.to_csv('./data/raw/daily_measurement/measurement_' + DAY + '.csv',index=False)"
   ]
  },
  {
   "cell_type": "markdown",
   "metadata": {},
   "source": [
    "### Process measurement\n",
    "- Load all files in ./data/raw/daily_measurement/\n",
    "- Aggregate by hour (weighted by speed for cos & sin)"
   ]
  },
  {
   "cell_type": "code",
   "execution_count": 23,
   "metadata": {},
   "outputs": [
    {
     "data": {
      "text/html": [
       "<div>\n",
       "<style scoped>\n",
       "    .dataframe tbody tr th:only-of-type {\n",
       "        vertical-align: middle;\n",
       "    }\n",
       "\n",
       "    .dataframe tbody tr th {\n",
       "        vertical-align: top;\n",
       "    }\n",
       "\n",
       "    .dataframe thead th {\n",
       "        text-align: right;\n",
       "    }\n",
       "</style>\n",
       "<table border=\"1\" class=\"dataframe\">\n",
       "  <thead>\n",
       "    <tr style=\"text-align: right;\">\n",
       "      <th></th>\n",
       "      <th>datetime</th>\n",
       "      <th>speed</th>\n",
       "      <th>cos_wind_dir</th>\n",
       "      <th>sin_wind_dir</th>\n",
       "      <th>temp</th>\n",
       "      <th>radiation</th>\n",
       "      <th>precip</th>\n",
       "      <th>season</th>\n",
       "    </tr>\n",
       "  </thead>\n",
       "  <tbody>\n",
       "    <tr>\n",
       "      <th>0</th>\n",
       "      <td>2020-07-01 01:00:00</td>\n",
       "      <td>3.523333</td>\n",
       "      <td>0.419934</td>\n",
       "      <td>0.878093</td>\n",
       "      <td>24.590000</td>\n",
       "      <td>0.0</td>\n",
       "      <td>0.0</td>\n",
       "      <td>3</td>\n",
       "    </tr>\n",
       "    <tr>\n",
       "      <th>1</th>\n",
       "      <td>2020-07-01 02:00:00</td>\n",
       "      <td>3.715000</td>\n",
       "      <td>0.451142</td>\n",
       "      <td>0.845504</td>\n",
       "      <td>24.340000</td>\n",
       "      <td>0.0</td>\n",
       "      <td>0.0</td>\n",
       "      <td>3</td>\n",
       "    </tr>\n",
       "    <tr>\n",
       "      <th>2</th>\n",
       "      <td>2020-07-01 03:00:00</td>\n",
       "      <td>2.500000</td>\n",
       "      <td>0.758071</td>\n",
       "      <td>0.584625</td>\n",
       "      <td>23.993333</td>\n",
       "      <td>0.0</td>\n",
       "      <td>0.0</td>\n",
       "      <td>3</td>\n",
       "    </tr>\n",
       "    <tr>\n",
       "      <th>3</th>\n",
       "      <td>2020-07-01 04:00:00</td>\n",
       "      <td>3.043333</td>\n",
       "      <td>0.760389</td>\n",
       "      <td>0.600481</td>\n",
       "      <td>23.605000</td>\n",
       "      <td>0.0</td>\n",
       "      <td>0.0</td>\n",
       "      <td>3</td>\n",
       "    </tr>\n",
       "    <tr>\n",
       "      <th>4</th>\n",
       "      <td>2020-07-01 05:00:00</td>\n",
       "      <td>4.423333</td>\n",
       "      <td>0.595837</td>\n",
       "      <td>0.763091</td>\n",
       "      <td>23.580000</td>\n",
       "      <td>0.0</td>\n",
       "      <td>0.0</td>\n",
       "      <td>3</td>\n",
       "    </tr>\n",
       "  </tbody>\n",
       "</table>\n",
       "</div>"
      ],
      "text/plain": [
       "             datetime     speed  cos_wind_dir  sin_wind_dir       temp  \\\n",
       "0 2020-07-01 01:00:00  3.523333      0.419934      0.878093  24.590000   \n",
       "1 2020-07-01 02:00:00  3.715000      0.451142      0.845504  24.340000   \n",
       "2 2020-07-01 03:00:00  2.500000      0.758071      0.584625  23.993333   \n",
       "3 2020-07-01 04:00:00  3.043333      0.760389      0.600481  23.605000   \n",
       "4 2020-07-01 05:00:00  4.423333      0.595837      0.763091  23.580000   \n",
       "\n",
       "   radiation  precip  season  \n",
       "0        0.0     0.0       3  \n",
       "1        0.0     0.0       3  \n",
       "2        0.0     0.0       3  \n",
       "3        0.0     0.0       3  \n",
       "4        0.0     0.0       3  "
      ]
     },
     "execution_count": 23,
     "metadata": {},
     "output_type": "execute_result"
    }
   ],
   "source": [
    "# Load all files available\n",
    "main_dir = './data/raw/daily_measurement/'\n",
    "measurement = pd.DataFrame()\n",
    "for file_path in os.listdir(main_dir):\n",
    "    measurement = measurement.append(pd.read_csv(main_dir + file_path))\n",
    "measurement = measurement.reset_index(drop=True)\n",
    "\n",
    "# Date format\n",
    "measurement['datetime'] = pd.to_datetime(measurement['datetime'],format='%Y-%m-%d %H:%M:%S')\n",
    "\n",
    "# Drop na\n",
    "measurement = measurement.set_index('datetime') \\\n",
    "              [['speed','temp', 'radiation', 'precip','wind_dir']] \\\n",
    "              .dropna(axis=0, how='all')\n",
    "# Cynthia: smooth wind direction \n",
    "measurement = prep.smooth_wind_dir(measurement)\n",
    "\n",
    "# Init output measurement data\n",
    "measurement_out = pd.DataFrame()\n",
    "# Speed weighted hourly mean for sin & cos\n",
    "measurement_out['cos_wind_dir'] = (measurement['cos_wind_dir'] * measurement['speed']).resample('H', label='right').sum() \\\n",
    "                                                   / measurement['speed'].resample('H', label='right').sum()\n",
    "# Speed weighted hourly mean for sin & cos\n",
    "measurement_out['sin_wind_dir'] = (measurement['sin_wind_dir'] * measurement['speed']).resample('H', label='right').sum() \\\n",
    "                                                   / measurement['speed'].resample('H', label='right').sum()\n",
    "\n",
    "# Hourly mean for speed, temperature, radiation and precipitation\n",
    "for col in ['speed','temp','radiation','precip']:\n",
    "    measurement_out[col] = measurement[col].resample('1H', label='right').mean()\n",
    " \n",
    " #add caterogical features\n",
    "measurement_out['season'] = measurement_out.index.month.map(get_season) # ordinal not categorical for linear models\n",
    "measurement_out['am'] = measurement_out.index.hour.map(get_am)\n",
    "\n",
    "measurement_out = measurement_out.reset_index()\n",
    "# Add 1 hour to data because of hourly mean : data between 1am and 2am will be available at 2am\n",
    "#measurement_out['datetime'] = measurement_out['datetime'] + datetime.timedelta(hours=1)\n",
    "\n",
    "# Select columns\n",
    "measurement_out = measurement_out[['datetime','speed','cos_wind_dir','sin_wind_dir','temp','radiation','precip','season']] #'am' feature is not currently in the model\n",
    "measurement_out.head()"
   ]
  },
  {
   "cell_type": "markdown",
   "metadata": {},
   "source": [
    "## Cynthia: check if any column is missing "
   ]
  },
  {
   "cell_type": "code",
   "execution_count": 49,
   "metadata": {},
   "outputs": [
    {
     "name": "stdout",
     "output_type": "stream",
     "text": [
      "checking missing columns are:  Index([], dtype='object')\n"
     ]
    }
   ],
   "source": [
    "# #save columns into a pickle file \n",
    "# measurement_cols = measurement_out.columns\n",
    "# import pickle\n",
    "# with open('measurement_cols.pkl', 'wb') as f:\n",
    "#     pickle.dump(measurement_cols, f)\n",
    "\n",
    "#read pickle format columns \n",
    "measurement_cols = pickle.load(open('measurement_cols.pkl', 'rb'))\n",
    "print('checking missing columns are: ', (measurement_cols).difference(measurement_out.columns))\n"
   ]
  },
  {
   "cell_type": "markdown",
   "metadata": {},
   "source": [
    "### Save file\n",
    "- last_measurement in ./data/processed/"
   ]
  },
  {
   "cell_type": "code",
   "execution_count": 47,
   "metadata": {},
   "outputs": [],
   "source": [
    "measurement_out.to_csv('./data/processed/last_measurement.csv',index=False)"
   ]
  },
  {
   "cell_type": "markdown",
   "metadata": {},
   "source": [
    "### Notes\n",
    "- Should we add 1 hour to datetime because of hourly mean ? \n",
    "- cos and sin computed before doing the hourly mean here, should we do it after ? "
   ]
  },
  {
   "cell_type": "code",
   "execution_count": null,
   "metadata": {},
   "outputs": [],
   "source": []
  }
 ],
 "metadata": {
  "kernelspec": {
   "display_name": "Python 3",
   "language": "python",
   "name": "python3"
  },
  "language_info": {
   "codemirror_mode": {
    "name": "ipython",
    "version": 3
   },
   "file_extension": ".py",
   "mimetype": "text/x-python",
   "name": "python",
   "nbconvert_exporter": "python",
   "pygments_lexer": "ipython3",
   "version": "3.7.3"
  }
 },
 "nbformat": 4,
 "nbformat_minor": 2
}
