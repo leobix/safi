{
 "cells": [
  {
   "cell_type": "markdown",
   "metadata": {},
   "source": [
    "### Dependencies"
   ]
  },
  {
   "cell_type": "code",
   "execution_count": 1,
   "metadata": {},
   "outputs": [],
   "source": [
    "import os\n",
    "import pandas as pd\n",
    "import numpy as np"
   ]
  },
  {
   "cell_type": "markdown",
   "metadata": {},
   "source": [
    "### Copy July forecast Files\n",
    "- Reproduce forecast folders tree\n",
    "- Copy input files in ./data/raw/forecast/"
   ]
  },
  {
   "cell_type": "code",
   "execution_count": 2,
   "metadata": {},
   "outputs": [],
   "source": [
    "MAIN_DIR = '//Sa-modat-cs-pr/plumair/SAFI/Sorties/2020/'\n",
    "sub_dir = [x for x in os.listdir(MAIN_DIR) if (x[-8:] == 'se_previ') and (x[5:7] in ('07',))]\n",
    "\n",
    "for s in sub_dir:\n",
    "    # create saving folder\n",
    "    if (os.path.exists('./data/raw/forecast/' + s[0:13]) == False):\n",
    "        os.mkdir('./data/raw/forecast/' + s[0:13])\n",
    "    \n",
    "    # prediction day\n",
    "    dir_day = os.listdir(MAIN_DIR + s)\n",
    "    \n",
    "    for d in dir_day:\n",
    "        if (len(d) == 10):\n",
    "            # create saving sub folder\n",
    "            if (os.path.exists('./data/raw/forecast/' + s[0:13] + '/' + d) == False):\n",
    "                os.mkdir('./data/raw/forecast/' + s[0:13] + '/' + d)\n",
    "            copy_path = MAIN_DIR + s + '/' + d + '/meteo.txt'\n",
    "            save_path = './data/raw/forecast/' + s[0:13] + '/' + d + '/meteo.txt'\n",
    "            t = os.system('copy ' + copy_path.replace('/','''\\\\''') + ' ' + save_path.replace('/','\\\\'))\n",
    "            if t:\n",
    "                print(s[0:13],d,t)"
   ]
  },
  {
   "cell_type": "markdown",
   "metadata": {},
   "source": [
    "### Copy July measurement Files\n",
    "- Copy input files in ./data/raw/measurement/"
   ]
  },
  {
   "cell_type": "code",
   "execution_count": 3,
   "metadata": {},
   "outputs": [],
   "source": [
    "MAIN_DIR = '//Sa-modat-cs-pr/plumair/SAFI/Entrees/2020/'\n",
    "for file_path in os.listdir(MAIN_DIR):\n",
    "    if (file_path[0:3] == 'GP2') & (file_path[7:12] == '07-20'):\n",
    "        copy_path = MAIN_DIR + file_path\n",
    "        save_path = './data/raw/measurement/' + file_path\n",
    "        t = os.system('copy \"' + copy_path.replace('/','''\\\\''') + '\" \"' + save_path.replace('/','\\\\') + '\"')\n",
    "        if t:\n",
    "            print('copy \"' + copy_path.replace('/','''\\\\''') + '\" \"' + save_path.replace('/','\\\\') + '\"')"
   ]
  }
 ],
 "metadata": {
  "kernelspec": {
   "display_name": "Python 3",
   "language": "python",
   "name": "python3"
  },
  "language_info": {
   "codemirror_mode": {
    "name": "ipython",
    "version": 3
   },
   "file_extension": ".py",
   "mimetype": "text/x-python",
   "name": "python",
   "nbconvert_exporter": "python",
   "pygments_lexer": "ipython3",
   "version": "3.6.4"
  }
 },
 "nbformat": 4,
 "nbformat_minor": 4
}
