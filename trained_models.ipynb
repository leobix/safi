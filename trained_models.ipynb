{
 "cells": [
  {
   "cell_type": "code",
   "execution_count": 1,
   "metadata": {},
   "outputs": [],
   "source": [
    "import pandas as pd\n",
    "import numpy as np\n",
    "from sklearn.model_selection import train_test_split\n",
    "from sklearn import metrics\n",
    "from xgboost import XGBRegressor\n",
    "from datetime import timedelta\n",
    "import pickle\n",
    "import warnings\n",
    "warnings.filterwarnings('ignore')\n",
    "\n",
    "#import local functions\n",
    "from utils import utils_scenario as utils, data_preparation as prep, data_process as proc"
   ]
  },
  {
   "cell_type": "code",
   "execution_count": 2,
   "metadata": {},
   "outputs": [],
   "source": [
    "from train_XGB import train_xgb"
   ]
  },
  {
   "cell_type": "code",
   "execution_count": 5,
   "metadata": {},
   "outputs": [
    {
     "name": "stdout",
     "output_type": "stream",
     "text": [
      "read csv semester csv files from 2015s2 to 2020s1\n",
      "smooth wind direction\n",
      "generate seasonality categorical feature\n",
      "generate am/pm categorical feature\n",
      "reading forecast data\n",
      "smooth wind direction\n",
      "measurement features used to construct x_df: ['speed', 'cos_wind_dir', 'sin_wind_dir', 'temp', 'radiation', 'precip', 'season']\n"
     ]
    }
   ],
   "source": [
    "#get data\n",
    "measurement=prep.prepare_measurement()\n",
    "forecast = prep.prepare_forecast()\n",
    "#keep useful columns\n",
    "\n",
    "measurement= measurement[['speed', 'cos_wind_dir', 'sin_wind_dir', 'temp', 'radiation', 'precip','season']]\n",
    "print('measurement features used to construct x_df:', measurement.columns.to_list())\n",
    "\n",
    "#prediction steps\n",
    "t_list= [2] #args.t_list # np.arange(1,49,1)\n",
    "steps_in = 48 #args.steps_in #48\n",
    "# \n",
    "#run three models per prediction step\n",
    "for t in t_list:\n",
    "    #run model and save model\n",
    "    train_xgb(measurement, forecast, steps_in, t)"
   ]
  },
  {
   "cell_type": "code",
   "execution_count": null,
   "metadata": {},
   "outputs": [],
   "source": []
  },
  {
   "cell_type": "code",
   "execution_count": 2,
   "metadata": {},
   "outputs": [],
   "source": [
    "# def run_xgb(steps_in, steps_out):\n",
    "#     #Parameter list:\n",
    "#     param_list =['speed','cos_wind_dir','sin_wind_dir']\n",
    "\n",
    "#     predict = pd.DataFrame(columns={'speed','cos_wind_dir','sin_wind_dir'})\n",
    "#     true = pd.DataFrame(columns={'speed','cos_wind_dir','sin_wind_dir'})\n",
    "#     baseline = pd.DataFrame(columns={'speed','cos_wind_dir','sin_wind_dir'})\n",
    "\n",
    "#     for param in param_list:\n",
    "        \n",
    "#         #train on the entire data \n",
    "#         x_df, y_df, x, y = proc.prepare_x_y(measurement, forecast, steps_in, steps_out, param)\n",
    "#         xgb = XGBRegressor(max_depth = 5)\n",
    "#         xgb.fit(x, y)\n",
    "\n",
    "#         #save model into a pickle file \n",
    "#         pickle.dump(xgb, open('trained_models/'+str(param)+'_t_'+str(steps_out), 'wb')) \n",
    "#     return "
   ]
  },
  {
   "cell_type": "code",
   "execution_count": 6,
   "metadata": {},
   "outputs": [],
   "source": [
    "# #get test data (last 49 time steps of measurement data)\n",
    "\n",
    "# #get the last 49 measurement data \n",
    "# measurement=prep.prepare_measurement()\n",
    "# measurement= measurement[['speed', 'cos_wind_dir', 'sin_wind_dir', 'temp', 'radiation', 'precip','season']]\n",
    "# df = measurement.tail(49)\n",
    "# df.to_csv('data/test_measurement.csv')\n",
    "\n",
    "# forecast = prep.prepare_forecast()\n",
    "# df1 = prep.keep_last_forecast(forecast)\n",
    "# df1 = df1.tail(49)\n",
    "# df1.to_csv('data/test_forecast.csv')"
   ]
  },
  {
   "cell_type": "code",
   "execution_count": 7,
   "metadata": {},
   "outputs": [],
   "source": [
    "#read test data \n",
    "measurement = pd.read_csv(\"data/test_measurement.csv\")\n",
    "forecast = pd.read_csv(\"data/test_forecast.csv\")\n",
    "measurement['datetime'] = pd.to_datetime(measurement['datetime'], format = '%Y-%m-%d %H:%M:%S')#change to datetime format \n",
    "forecast['f_date']= pd.to_datetime(forecast['f_date'], format = '%Y-%m-%d %H:%M:%S')#change to datetime format "
   ]
  },
  {
   "cell_type": "code",
   "execution_count": 8,
   "metadata": {},
   "outputs": [],
   "source": [
    "def prepare_x_test(measurement, forecast, past_n_steps, pred_period):\n",
    "    \n",
    "    #concat past n steps from measurement \n",
    "    df = measurement.set_index('datetime')\n",
    "    df=proc.get_past_n_steps(df, past_n_steps)\n",
    "\n",
    "    #calculate forecast_time\n",
    "    df['forecast_time'] = df['present_time']+timedelta(hours=pred_period)\n",
    "\n",
    "    #join forecast according to forecast time \n",
    "    forecast = forecast.set_index('f_date') \n",
    "    forecast = forecast.add_suffix('_forecast')\n",
    "    df = pd.merge(df, forecast, how = 'left', left_on = 'forecast_time', right_on ='f_date')\n",
    "    #add cos day\n",
    "    df = proc.smooth_day_hour(df)\n",
    "    #fill missing forecasts as 0\n",
    "    df.fillna(value=0, inplace=True) \n",
    "    #keep first row \n",
    "    df = df.head(1)\n",
    "    #drop timestamp columns\n",
    "    df_out = df.drop(['present_time','forecast_time'], axis=1)\n",
    "    return df_out\n",
    "\n",
    "# test_df = prepare_x_test(measurement, forecast, past_steps, predict )\n"
   ]
  },
  {
   "cell_type": "code",
   "execution_count": 184,
   "metadata": {},
   "outputs": [],
   "source": [
    "result  = pd.DataFrame(columns=['past_n_steps','pred_period','speed', 'cos_wind_dir','sin_wind_dir']) \n",
    "pred_list = [2]\n",
    "past_n_steps = 48\n",
    "for pred in pred_list: \n",
    "    #prepare data to be the same format as training data \n",
    "    x_test = prepare_x_test(measurement, forecast, past_n_steps, pred)\n",
    "    x_test= np.array(x_test) #change to array \n",
    "    \n",
    "    #read 3 models for speed, cos_wind, sin_wind\n",
    "    xgb1= pickle.load(open('trained_models/speed_t_'+str(steps_out), 'rb'))\n",
    "    xgb2 = pickle.load(open('trained_models/cos_wind_dir_t_'+str(steps_out), 'rb'))\n",
    "    xgb3 = pickle.load(open('trained_models/sin_wind_dir_t_'+str(steps_out), 'rb'))\n",
    "    \n",
    "    #predict \n",
    "    speed = xgb1.predict(x_test)[0]\n",
    "    cos_wind = xgb2.predict(x_test)[0]\n",
    "    sin_wind = xgb3.predict(x_test)[0]\n",
    "    \n",
    "    #record accuracy\n",
    "    result = result.append({'past_n_steps': str(past_n_steps),\n",
    "                            'pred_period': str(pred),\n",
    "                            'speed':round(speed,3),\n",
    "                            'cos_wind_dir':cos_wind,\n",
    "                            'sin_wind_dir':sin_wind}, ignore_index=True)    \n",
    "    \n",
    "#convert cos and sin to wind_dir:\n",
    "result['wind_dir'] = result.apply(lambda row: utils.get_angle_in_degree(row['cos_wind_dir'],row['sin_wind_dir']),axis = 1)\n",
    "result.to_csv('results/test_prediction.csv') "
   ]
  },
  {
   "cell_type": "code",
   "execution_count": 129,
   "metadata": {},
   "outputs": [],
   "source": [
    "x_test.update(test)"
   ]
  },
  {
   "cell_type": "code",
   "execution_count": 146,
   "metadata": {},
   "outputs": [
    {
     "data": {
      "text/plain": [
       "(42469, 351)"
      ]
     },
     "execution_count": 146,
     "metadata": {},
     "output_type": "execute_result"
    }
   ],
   "source": [
    "# # pd.concat([df1, forecast])\n",
    "# # forecast\n",
    "# df1\n",
    "# x_df\n",
    "x.shape"
   ]
  },
  {
   "cell_type": "code",
   "execution_count": 180,
   "metadata": {},
   "outputs": [
    {
     "data": {
      "text/html": [
       "<div>\n",
       "<style scoped>\n",
       "    .dataframe tbody tr th:only-of-type {\n",
       "        vertical-align: middle;\n",
       "    }\n",
       "\n",
       "    .dataframe tbody tr th {\n",
       "        vertical-align: top;\n",
       "    }\n",
       "\n",
       "    .dataframe thead th {\n",
       "        text-align: right;\n",
       "    }\n",
       "</style>\n",
       "<table border=\"1\" class=\"dataframe\">\n",
       "  <thead>\n",
       "    <tr style=\"text-align: right;\">\n",
       "      <th></th>\n",
       "      <th>speed_t-48</th>\n",
       "      <th>temp_t-48</th>\n",
       "      <th>radiation_t-48</th>\n",
       "      <th>precip_t-48</th>\n",
       "      <th>cos_wind_dir_t-48</th>\n",
       "      <th>sin_wind_dir_t-48</th>\n",
       "      <th>speed_t-47</th>\n",
       "      <th>temp_t-47</th>\n",
       "      <th>radiation_t-47</th>\n",
       "      <th>precip_t-47</th>\n",
       "      <th>...</th>\n",
       "      <th>cos_wind_dir_t-0</th>\n",
       "      <th>sin_wind_dir_t-0</th>\n",
       "      <th>present_time</th>\n",
       "      <th>forecast_time</th>\n",
       "      <th>speed_forecast</th>\n",
       "      <th>temp_forecast</th>\n",
       "      <th>rad_forecast</th>\n",
       "      <th>precip_forecast</th>\n",
       "      <th>cos_wind_dir_forecast</th>\n",
       "      <th>sin_wind_dir_forecast</th>\n",
       "    </tr>\n",
       "  </thead>\n",
       "  <tbody>\n",
       "    <tr>\n",
       "      <th>1970-01-01 00:00:00.000000027</th>\n",
       "      <td>0.000000</td>\n",
       "      <td>0.000000</td>\n",
       "      <td>0.000000</td>\n",
       "      <td>0.0</td>\n",
       "      <td>0.000000</td>\n",
       "      <td>0.000000</td>\n",
       "      <td>0.000000</td>\n",
       "      <td>0.000000</td>\n",
       "      <td>0.000000</td>\n",
       "      <td>0.0</td>\n",
       "      <td>...</td>\n",
       "      <td>0.000000</td>\n",
       "      <td>0.000000</td>\n",
       "      <td>0</td>\n",
       "      <td>0</td>\n",
       "      <td>0.0</td>\n",
       "      <td>0.0</td>\n",
       "      <td>0.0</td>\n",
       "      <td>0.0</td>\n",
       "      <td>0.0</td>\n",
       "      <td>0.0</td>\n",
       "    </tr>\n",
       "    <tr>\n",
       "      <th>2020-05-06 14:00:00.000000000</th>\n",
       "      <td>3.428333</td>\n",
       "      <td>21.831667</td>\n",
       "      <td>764.216667</td>\n",
       "      <td>0.0</td>\n",
       "      <td>0.046986</td>\n",
       "      <td>-0.998896</td>\n",
       "      <td>4.593333</td>\n",
       "      <td>21.888333</td>\n",
       "      <td>632.866667</td>\n",
       "      <td>0.0</td>\n",
       "      <td>...</td>\n",
       "      <td>-0.920888</td>\n",
       "      <td>-0.389828</td>\n",
       "      <td>2020-05-06 14:00:00</td>\n",
       "      <td>2020-05-06 16:00:00</td>\n",
       "      <td>0.0</td>\n",
       "      <td>0.0</td>\n",
       "      <td>0.0</td>\n",
       "      <td>0.0</td>\n",
       "      <td>0.0</td>\n",
       "      <td>0.0</td>\n",
       "    </tr>\n",
       "  </tbody>\n",
       "</table>\n",
       "<p>2 rows × 302 columns</p>\n",
       "</div>"
      ],
      "text/plain": [
       "                               speed_t-48  temp_t-48  radiation_t-48  \\\n",
       "1970-01-01 00:00:00.000000027    0.000000   0.000000        0.000000   \n",
       "2020-05-06 14:00:00.000000000    3.428333  21.831667      764.216667   \n",
       "\n",
       "                               precip_t-48  cos_wind_dir_t-48  \\\n",
       "1970-01-01 00:00:00.000000027          0.0           0.000000   \n",
       "2020-05-06 14:00:00.000000000          0.0           0.046986   \n",
       "\n",
       "                               sin_wind_dir_t-48  speed_t-47  temp_t-47  \\\n",
       "1970-01-01 00:00:00.000000027           0.000000    0.000000   0.000000   \n",
       "2020-05-06 14:00:00.000000000          -0.998896    4.593333  21.888333   \n",
       "\n",
       "                               radiation_t-47  precip_t-47  ...  \\\n",
       "1970-01-01 00:00:00.000000027        0.000000          0.0  ...   \n",
       "2020-05-06 14:00:00.000000000      632.866667          0.0  ...   \n",
       "\n",
       "                               cos_wind_dir_t-0  sin_wind_dir_t-0  \\\n",
       "1970-01-01 00:00:00.000000027          0.000000          0.000000   \n",
       "2020-05-06 14:00:00.000000000         -0.920888         -0.389828   \n",
       "\n",
       "                                      present_time        forecast_time  \\\n",
       "1970-01-01 00:00:00.000000027                    0                    0   \n",
       "2020-05-06 14:00:00.000000000  2020-05-06 14:00:00  2020-05-06 16:00:00   \n",
       "\n",
       "                               speed_forecast  temp_forecast  rad_forecast  \\\n",
       "1970-01-01 00:00:00.000000027             0.0            0.0           0.0   \n",
       "2020-05-06 14:00:00.000000000             0.0            0.0           0.0   \n",
       "\n",
       "                               precip_forecast  cos_wind_dir_forecast  \\\n",
       "1970-01-01 00:00:00.000000027              0.0                    0.0   \n",
       "2020-05-06 14:00:00.000000000              0.0                    0.0   \n",
       "\n",
       "                               sin_wind_dir_forecast  \n",
       "1970-01-01 00:00:00.000000027                    0.0  \n",
       "2020-05-06 14:00:00.000000000                    0.0  \n",
       "\n",
       "[2 rows x 302 columns]"
      ]
     },
     "execution_count": 180,
     "metadata": {},
     "output_type": "execute_result"
    }
   ],
   "source": [
    "# concatenate past_n_steps data\n",
    "past_n_steps = 48\n",
    "df1 = get_past_n_steps(measurement, past_n_steps)\n",
    "df1 = df1.dropna(axis=0, how = 'any') #drop empty rows \n",
    "\n",
    "predict=2\n",
    "#calculate forecast_time\n",
    "df1['forecast_time'] = df1['present_time']+ timedelta(hours=predict)\n",
    "\n",
    "forecast = forecast.loc[forecast['forecast_time']==df1['forecast_time'][0]] #match forecast date \n",
    "forecast.drop_duplicates(subset = 'forecast_time', keep = 'last', inplace=True) #keep last forecast\n",
    "forecast = forecast[['speed','temp','rad','precip','cos_wind_dir','sin_wind_dir']] #keep only useful columns \n",
    "forecast = forecast.add_suffix('_forecast')\n",
    "\n",
    "df_out = pd.concat((df1, forecast), axis=1) \n",
    "df_out.fillna(value=0, inplace=True) #fill missing forecasts as 0\n",
    "df_out"
   ]
  },
  {
   "cell_type": "code",
   "execution_count": 169,
   "metadata": {},
   "outputs": [
    {
     "data": {
      "text/html": [
       "<div>\n",
       "<style scoped>\n",
       "    .dataframe tbody tr th:only-of-type {\n",
       "        vertical-align: middle;\n",
       "    }\n",
       "\n",
       "    .dataframe tbody tr th {\n",
       "        vertical-align: top;\n",
       "    }\n",
       "\n",
       "    .dataframe thead th {\n",
       "        text-align: right;\n",
       "    }\n",
       "</style>\n",
       "<table border=\"1\" class=\"dataframe\">\n",
       "  <thead>\n",
       "    <tr style=\"text-align: right;\">\n",
       "      <th></th>\n",
       "      <th>speed_forecast</th>\n",
       "      <th>temp_forecast</th>\n",
       "      <th>rad_forecast</th>\n",
       "      <th>precip_forecast</th>\n",
       "      <th>cos_wind_dir_forecast</th>\n",
       "      <th>sin_wind_dir_forecast</th>\n",
       "    </tr>\n",
       "  </thead>\n",
       "  <tbody>\n",
       "    <tr>\n",
       "      <th>27</th>\n",
       "      <td>8.374967</td>\n",
       "      <td>27.349969</td>\n",
       "      <td>696.266113</td>\n",
       "      <td>0.0</td>\n",
       "      <td>0.962573</td>\n",
       "      <td>0.271023</td>\n",
       "    </tr>\n",
       "  </tbody>\n",
       "</table>\n",
       "</div>"
      ],
      "text/plain": [
       "    speed_forecast  temp_forecast  rad_forecast  precip_forecast  \\\n",
       "27        8.374967      27.349969    696.266113              0.0   \n",
       "\n",
       "    cos_wind_dir_forecast  sin_wind_dir_forecast  \n",
       "27               0.962573               0.271023  "
      ]
     },
     "execution_count": 169,
     "metadata": {},
     "output_type": "execute_result"
    }
   ],
   "source": [
    "forecast"
   ]
  },
  {
   "cell_type": "code",
   "execution_count": 136,
   "metadata": {},
   "outputs": [
    {
     "data": {
      "text/plain": [
       "Timestamp('2020-05-06 16:00:00')"
      ]
     },
     "execution_count": 136,
     "metadata": {},
     "output_type": "execute_result"
    }
   ],
   "source": [
    "# forecast.loc[forecast['f_date']==df1['forecast_time'][0]]\n",
    "df1['forecast_time'][0]"
   ]
  },
  {
   "cell_type": "code",
   "execution_count": 138,
   "metadata": {},
   "outputs": [
    {
     "data": {
      "text/plain": [
       "dtype('O')"
      ]
     },
     "execution_count": 138,
     "metadata": {},
     "output_type": "execute_result"
    }
   ],
   "source": [
    "forecast['f_date']"
   ]
  },
  {
   "cell_type": "code",
   "execution_count": null,
   "metadata": {},
   "outputs": [],
   "source": [
    "# def prepare_test_df(measurement, forecast, past_n_steps, pred_period, param='speed'):\n",
    "\n",
    "    \n",
    "\n",
    "    # add forecast data\n",
    "    x_df = join_forecast(df1, forecast, pred_period)\n",
    "\n",
    "    #smooth day and hour\n",
    "    x_df = smooth_day_hour(x_df)\n",
    "\n",
    "    # define y accordingly\n",
    "    index = x_df['forecast_time']\n",
    "    df2 = measurement[param]\n",
    "    y_df = pd.merge(df2, index, left_on = 'datetime', right_on='forecast_time' )\n",
    "\n",
    "    #fillna: use last measurements\n",
    "    x_df.fillna(method='ffill', inplace=True)\n",
    "    y_df.fillna(method='ffill', inplace=True)\n",
    "\n",
    "    #dropna\n",
    "    x_df.dropna(axis=1, inplace=True)\n",
    "    y_df.dropna(axis=1, inplace=True)\n",
    "\n",
    "    #select intersection of the forecast times:\n",
    "    index2= y_df['forecast_time']\n",
    "    x_df = pd.merge(x_df, index2, left_on = 'forecast_time', right_on='forecast_time')\n",
    "\n",
    "    #set index:\n",
    "    x_df.reset_index()\n",
    "\n",
    "    #change df to array, drop datetime columns\n",
    "    x, y = df_to_array(x_df, y_df)\n",
    "    return x_df, y_df, x, y\n",
    "\n"
   ]
  },
  {
   "cell_type": "code",
   "execution_count": 52,
   "metadata": {},
   "outputs": [],
   "source": [
    "def smooth_wind_dir(df):\n",
    "    df['cos_wind_dir'] = np.cos(2 * np.pi * df['wind_dir'] / 360)\n",
    "    df['sin_wind_dir'] = np.sin(2 * np.pi * df['wind_dir'] / 360)\n",
    "    print('smooth wind direction')\n",
    "    df.drop(columns=['wind_dir'], inplace=True)\n",
    "    return df\n",
    "\n",
    "# data_merge, data, forecast = prepare_data_with_forecast(data, keep_only_last=False)\n",
    "def get_past_n_steps(df, steps_in):\n",
    "    #rename column to most remote data\n",
    "    df_out = df.copy().add_suffix('_t-'+str(steps_in))\n",
    "    #t-i remote data\n",
    "    for i in range(1, steps_in+1):\n",
    "        df_temp = df.copy().add_suffix('_t-'+str(steps_in-i)) #rename column\n",
    "        df_temp= df_temp.shift(periods=-i, axis=0) #shift down i row\n",
    "        df_out=df_out.join(df_temp, how = 'inner')#join\n",
    "    #shift index to present time (+steps_in)\n",
    "    df_out['present_time']=df_out.index.to_series()+timedelta(hours=steps_in)\n",
    "    df_out.set_index(pd.DatetimeIndex(df_out['present_time']), inplace=True)\n",
    "    return df_out\n",
    "\n",
    "def keep_last_forecast (df):\n",
    "    df.sort_values(by=['f_date','p_date'], inplace=True)\n",
    "    df.drop_duplicates(subset = 'f_date', keep = 'last', inplace=True)\n",
    "    df.set_index('f_date', inplace=True)\n",
    "    df.drop(['p_date','f_period'], axis=1, inplace=True)\n",
    "    return df"
   ]
  },
  {
   "cell_type": "code",
   "execution_count": 110,
   "metadata": {},
   "outputs": [
    {
     "data": {
      "text/plain": [
       "speed_t-48                       3.42833\n",
       "temp_t-48                        21.8317\n",
       "radiation_t-48                   764.217\n",
       "precip_t-48                            0\n",
       "cos_wind_dir_t-48              0.0469857\n",
       "sin_wind_dir_t-48              -0.998896\n",
       "speed_t-47                       4.59333\n",
       "temp_t-47                        21.8883\n",
       "radiation_t-47                   632.867\n",
       "precip_t-47                            0\n",
       "cos_wind_dir_t-47               -0.22559\n",
       "sin_wind_dir_t-47              -0.974222\n",
       "speed_t-46                          5.98\n",
       "temp_t-46                        21.2267\n",
       "radiation_t-46                   468.517\n",
       "precip_t-46                            0\n",
       "cos_wind_dir_t-46              -0.425638\n",
       "sin_wind_dir_t-46              -0.904894\n",
       "speed_t-45                       5.26167\n",
       "temp_t-45                        21.4517\n",
       "radiation_t-45                     278.5\n",
       "precip_t-45                            0\n",
       "cos_wind_dir_t-45              -0.466739\n",
       "sin_wind_dir_t-45              -0.884395\n",
       "speed_t-44                       3.88167\n",
       "temp_t-44                          21.45\n",
       "radiation_t-44                   82.0667\n",
       "precip_t-44                            0\n",
       "cos_wind_dir_t-44              -0.704301\n",
       "sin_wind_dir_t-44              -0.709902\n",
       "                            ...         \n",
       "radiation_t-4                    702.217\n",
       "precip_t-4                             0\n",
       "cos_wind_dir_t-4                0.602632\n",
       "sin_wind_dir_t-4                0.798019\n",
       "speed_t-3                        5.30833\n",
       "temp_t-3                         26.9117\n",
       "radiation_t-3                      840.3\n",
       "precip_t-3                             0\n",
       "cos_wind_dir_t-3                0.698408\n",
       "sin_wind_dir_t-3                0.715699\n",
       "speed_t-2                        5.32667\n",
       "temp_t-2                          28.335\n",
       "radiation_t-2                    725.483\n",
       "precip_t-2                             0\n",
       "cos_wind_dir_t-2                0.847186\n",
       "sin_wind_dir_t-2                0.531296\n",
       "speed_t-1                          6.835\n",
       "temp_t-1                         27.9217\n",
       "radiation_t-1                     808.05\n",
       "precip_t-1                             0\n",
       "cos_wind_dir_t-1               -0.951475\n",
       "sin_wind_dir_t-1               -0.307727\n",
       "speed_t-0                        6.47742\n",
       "temp_t-0                         27.0548\n",
       "radiation_t-0                    551.839\n",
       "precip_t-0                             0\n",
       "cos_wind_dir_t-0               -0.920888\n",
       "sin_wind_dir_t-0               -0.389828\n",
       "present_time         2020-05-06 14:00:00\n",
       "forecast_time        2020-05-06 16:00:00\n",
       "Name: 2020-05-06 14:00:00, Length: 296, dtype: object"
      ]
     },
     "execution_count": 110,
     "metadata": {},
     "output_type": "execute_result"
    }
   ],
   "source": []
  },
  {
   "cell_type": "code",
   "execution_count": null,
   "metadata": {},
   "outputs": [],
   "source": []
  }
 ],
 "metadata": {
  "kernelspec": {
   "display_name": "Python 3",
   "language": "python",
   "name": "python3"
  },
  "language_info": {
   "codemirror_mode": {
    "name": "ipython",
    "version": 3
   },
   "file_extension": ".py",
   "mimetype": "text/x-python",
   "name": "python",
   "nbconvert_exporter": "python",
   "pygments_lexer": "ipython3",
   "version": "3.7.3"
  }
 },
 "nbformat": 4,
 "nbformat_minor": 2
}
